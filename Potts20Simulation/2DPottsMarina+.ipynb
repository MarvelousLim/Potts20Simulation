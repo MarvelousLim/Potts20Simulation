{
 "cells": [
  {
   "cell_type": "code",
   "execution_count": 9,
   "metadata": {},
   "outputs": [],
   "source": [
    "import numpy as np, matplotlib.pyplot as plt\n",
    "from collections import OrderedDict as od\n",
    "#from scipy.special import comb as C\n",
    "#from scipy.stats import linregress\n",
    "from statistics import median\n",
    "from scipy.optimize import fminbound, newton\n",
    "#from scipy.signal import argrelextrema\n",
    "import json\n",
    "import itertools\n",
    "from tqdm.notebook import tqdm\n",
    "#from multiprocess import Pool"
   ]
  },
  {
   "cell_type": "code",
   "execution_count": 198,
   "metadata": {},
   "outputs": [],
   "source": [
    "def pretty_std(x, std):\n",
    "    prec = abs(int(np.log10(abs(std)))) + 1\n",
    "    return '{:.{prec}f} & {:.{prec}f}'.format(x, std, prec=prec)"
   ]
  },
  {
   "cell_type": "code",
   "execution_count": 2,
   "metadata": {},
   "outputs": [],
   "source": [
    "def get_entropy_from_culling_factor_v2(c):\n",
    "    S = od()\n",
    "    sn = 0\n",
    "    for E in c:\n",
    "        S[E] = np.log(c[E])\n",
    "        S[E] += sn\n",
    "        sn += np.log(1 - c[E])\n",
    "    return S\n",
    "\n",
    "def get_entropy_from_culling_factor_with_heat_v2(c):\n",
    "    S = od()\n",
    "    sn = 0\n",
    "    for E in c:\n",
    "        S[E] = np.log(c[E])\n",
    "        S[E] += sn\n",
    "        sn += np.log(1 - c[E])\n",
    "    return S\n",
    "\n",
    "def stitch_S(heat, cool):\n",
    "    #not infinite values\n",
    "    niv = sorted( list({E for E, S in heat[\"S\"].items() if not np.isinf(S)} &\n",
    "                       {E for E, S in cool[\"S\"].items() if not np.isinf(S)}) )\n",
    "    #chosen not infinite values\n",
    "    cniv = niv[len(niv) // 3 : 2 * len(niv) // 3]\n",
    "    #print(cniv)\n",
    "    shift = 0\n",
    "    count = 0\n",
    "    for E in cniv:\n",
    "        shift += heat[\"S\"][E] - cool[\"S\"][E]\n",
    "        count += 1\n",
    "    shift /= count\n",
    "\n",
    "    result = od()\n",
    "    for E in cool[\"S\"]:\n",
    "        if E < median(cniv):\n",
    "            result[E] = cool[\"S\"][E]\n",
    "    for E in heat[\"S\"]:\n",
    "        if E >= median(cniv):\n",
    "            result[E] = heat[\"S\"][E] - shift\n",
    "\n",
    "    result = dict(sorted(result.items(), key=lambda item: item[0]))\n",
    "    return {\"S\": result, \"L\": heat[\"L\"]}\n",
    "\n",
    "def calc_hc(st, T):\n",
    "\n",
    "    E = mp.mpf(0)\n",
    "    E_sq = mp.mpf(0)\n",
    "    E_qr = mp.mpf(0)\n",
    "    Z = mp.mpf(0)\n",
    "    for fe, fS in st['S'].items():\n",
    "        e = mp.mpf(fe)\n",
    "        S = mp.mpf(fS)\n",
    "        w = mp.exp(S - e / T)\n",
    "        Z += w\n",
    "        E += w * e\n",
    "        E_sq += w * e * e\n",
    "        E_qr += w * e * e * e * e\n",
    "    avgE = E / Z;\n",
    "    avgE_sq = E_sq / Z;\n",
    "    avgE_qr = E_qr / Z;\n",
    "    # T, C, average E, BinderCumulant\n",
    "    return T, float( (avgE_sq - avgE * avgE) / (T * T) ), float( avgE ), float(1 - (avgE_qr / (3 * avgE_sq * avgE_sq)))"
   ]
  },
  {
   "cell_type": "code",
   "execution_count": 3,
   "metadata": {},
   "outputs": [],
   "source": [
    "def read_files_v2(parameters):\n",
    "    q=parameters[\"q\"];\n",
    "    L=parameters[\"L\"];\n",
    "    R=parameters[\"R\"];\n",
    "    nSteps=parameters[\"nSteps\"];\n",
    "    seed=parameters[\"seed\"];\n",
    "    heat=parameters[\"heat\"];\n",
    "    N = L * L;\n",
    "    name = \"./datasets/2DPotts/2DPotts{}_q{}_N{}_R{}_nSteps{}_run{}X.txt\".format(\"Heating\" * heat, q, N, R, nSteps, seed)\n",
    "    print(name)\n",
    "    culling_factor = od()\n",
    "    print(N, R, nSteps, heat)\n",
    "    with open(name) as f:\n",
    "        for line in f:\n",
    "            E, c = map(float, line.split())\n",
    "            culling_factor[E] = c\n",
    "    parameters[\"culling_factor\"] = culling_factor\n",
    "    if not heat:\n",
    "        parameters[\"S\"] = get_entropy_from_culling_factor_v2(culling_factor)\n",
    "    else:\n",
    "        parameters[\"S\"] = get_entropy_from_culling_factor_with_heat_v2(culling_factor)\n",
    "    \n",
    "    return parameters\n",
    "\n",
    "def read_tuple_files(tpl):\n",
    "    if tpl[1][\"heat\"]:\n",
    "        return {\n",
    "            \"cool\": read_files_v2(tpl[0]),\n",
    "            \"heat\": read_files_v2(tpl[1])\n",
    "        }\n"
   ]
  },
  {
   "cell_type": "code",
   "execution_count": null,
   "metadata": {},
   "outputs": [],
   "source": []
  },
  {
   "cell_type": "code",
   "execution_count": 405,
   "metadata": {
    "scrolled": false
   },
   "outputs": [
    {
     "name": "stdout",
     "output_type": "stream",
     "text": [
      "./datasets/2DPotts/2DPotts_q20_N4900_R131072_nSteps10_run0X.txt\n",
      "4900 131072 10 False\n"
     ]
    },
    {
     "name": "stderr",
     "output_type": "stream",
     "text": [
      "C:\\ProgramData\\Anaconda3\\lib\\site-packages\\ipykernel_launcher.py:7: RuntimeWarning: divide by zero encountered in log\n",
      "  import sys\n"
     ]
    },
    {
     "name": "stdout",
     "output_type": "stream",
     "text": [
      "./datasets/2DPotts/2DPottsHeating_q20_N4900_R131072_nSteps10_run0X.txt\n",
      "4900 131072 10 True\n"
     ]
    },
    {
     "name": "stderr",
     "output_type": "stream",
     "text": [
      "C:\\ProgramData\\Anaconda3\\lib\\site-packages\\ipykernel_launcher.py:16: RuntimeWarning: divide by zero encountered in log\n",
      "  app.launch_new_instance()\n"
     ]
    },
    {
     "name": "stdout",
     "output_type": "stream",
     "text": [
      "./datasets/2DPotts/2DPotts_q20_N4900_R131072_nSteps10_run1X.txt\n",
      "4900 131072 10 False\n",
      "./datasets/2DPotts/2DPottsHeating_q20_N4900_R131072_nSteps10_run1X.txt\n",
      "4900 131072 10 True\n",
      "./datasets/2DPotts/2DPotts_q20_N4900_R131072_nSteps10_run2X.txt\n",
      "4900 131072 10 False\n",
      "./datasets/2DPotts/2DPottsHeating_q20_N4900_R131072_nSteps10_run2X.txt\n",
      "4900 131072 10 True\n",
      "./datasets/2DPotts/2DPotts_q20_N4900_R131072_nSteps10_run3X.txt\n",
      "4900 131072 10 False\n",
      "./datasets/2DPotts/2DPottsHeating_q20_N4900_R131072_nSteps10_run3X.txt\n",
      "4900 131072 10 True\n",
      "./datasets/2DPotts/2DPotts_q20_N4900_R131072_nSteps10_run4X.txt\n",
      "4900 131072 10 False\n",
      "./datasets/2DPotts/2DPottsHeating_q20_N4900_R131072_nSteps10_run4X.txt\n",
      "4900 131072 10 True\n",
      "./datasets/2DPotts/2DPotts_q20_N4900_R131072_nSteps10_run5X.txt\n",
      "4900 131072 10 False\n",
      "./datasets/2DPotts/2DPottsHeating_q20_N4900_R131072_nSteps10_run5X.txt\n",
      "4900 131072 10 True\n",
      "./datasets/2DPotts/2DPotts_q20_N4900_R131072_nSteps10_run6X.txt\n",
      "4900 131072 10 False\n",
      "./datasets/2DPotts/2DPottsHeating_q20_N4900_R131072_nSteps10_run6X.txt\n",
      "4900 131072 10 True\n",
      "./datasets/2DPotts/2DPotts_q20_N4900_R131072_nSteps10_run7X.txt\n",
      "4900 131072 10 False\n",
      "./datasets/2DPotts/2DPottsHeating_q20_N4900_R131072_nSteps10_run7X.txt\n",
      "4900 131072 10 True\n",
      "./datasets/2DPotts/2DPotts_q20_N4900_R131072_nSteps10_run8X.txt\n",
      "4900 131072 10 False\n",
      "./datasets/2DPotts/2DPottsHeating_q20_N4900_R131072_nSteps10_run8X.txt\n",
      "4900 131072 10 True\n",
      "./datasets/2DPotts/2DPotts_q20_N4900_R131072_nSteps10_run9X.txt\n",
      "4900 131072 10 False\n",
      "./datasets/2DPotts/2DPottsHeating_q20_N4900_R131072_nSteps10_run9X.txt\n",
      "4900 131072 10 True\n"
     ]
    }
   ],
   "source": [
    "q = 20\n",
    ";\n",
    "L = 70\n",
    ";\n",
    "R = 131072;\n",
    "seed_list = [0, 1, 2, 3, 4, 5, 6, 7, 8, 9];\n",
    "heat, cool = [{\n",
    "    \"q\": q,\n",
    "    \"L\": L,\n",
    "    \"R\" : R,\n",
    "    \"nSteps\" : 10,\n",
    "    \"seed\" : seed,\n",
    "    \"heat\": True\n",
    "} for seed in seed_list], [{\n",
    "    \"q\": q,\n",
    "    \"L\": L,\n",
    "    \"R\" : R,\n",
    "    \"nSteps\" : 10,\n",
    "    \"seed\" : seed,\n",
    "    \"heat\": False\n",
    "} for seed in seed_list]\n",
    "\n",
    "parameters = []\n",
    "for x in zip(cool, heat):\n",
    "    parameters.append(read_tuple_files(x))\n",
    "\n",
    "for i, x in enumerate(parameters):\n",
    "    parameters[i][\"stitched\"] = stitch_S(x[\"heat\"], x[\"cool\"])"
   ]
  },
  {
   "cell_type": "code",
   "execution_count": 100,
   "metadata": {},
   "outputs": [
    {
     "data": {
      "text/plain": [
       "[0, 1, 2, 3, 4, 5, 6, 7, 8, 9]"
      ]
     },
     "execution_count": 100,
     "metadata": {},
     "output_type": "execute_result"
    }
   ],
   "source": [
    "[seed for seed in seed_list]"
   ]
  },
  {
   "cell_type": "code",
   "execution_count": null,
   "metadata": {},
   "outputs": [],
   "source": []
  },
  {
   "cell_type": "code",
   "execution_count": null,
   "metadata": {},
   "outputs": [],
   "source": []
  },
  {
   "cell_type": "code",
   "execution_count": 137,
   "metadata": {},
   "outputs": [
    {
     "data": {
      "image/png": "[encoded data removed]",
      "text/plain": [
       "<Figure size 1152x648 with 1 Axes>"
      ]
     },
     "metadata": {
      "needs_background": "light"
     },
     "output_type": "display_data"
    }
   ],
   "source": [
    "i = 0\n",
    "heat, cool, st = parameters[i][\"heat\"], parameters[i][\"cool\"], parameters[i][\"stitched\"]\n",
    "\n",
    "plt.figure(figsize=(16, 9))\n",
    "\n",
    "plt.plot([E for E in heat[\"S\"]],\n",
    "         [S + 100 for E, S in heat[\"S\"].items()]\n",
    "         , 'o', label=\"heat, L={}\".format(cool[\"L\"]), markersize=2)\n",
    "\n",
    "plt.plot([E for E in cool[\"S\"]],\n",
    "         [S + 100 for E, S in cool[\"S\"].items()]\n",
    "         , 'o', label=\"cool, L={}\".format(cool[\"L\"]), markersize=2)\n",
    "\n",
    "plt.plot([E for E in st[\"S\"]],\n",
    "         [S for E, S in st[\"S\"].items()]\n",
    "         , 'o', label=\"stitched, L={}\".format(st[\"L\"]), markersize=2)\n",
    "\n",
    "plt.ylabel(\"$S(E)$\")\n",
    "plt.xlabel(\"E\")\n",
    "\n",
    "plt.title('q={}'.format(q))\n",
    "plt.legend()\n",
    "plt.grid()\n",
    "#plt.savefig(\"./S_stitched(E)_D{}_L{}.png\".format(heat[\"D\"], heat[\"L\"]))"
   ]
  },
  {
   "cell_type": "code",
   "execution_count": null,
   "metadata": {},
   "outputs": [],
   "source": []
  },
  {
   "cell_type": "code",
   "execution_count": 385,
   "metadata": {},
   "outputs": [
    {
     "name": "stdout",
     "output_type": "stream",
     "text": [
      "Mpmath settings:\n",
      "  mp.prec = 169               [default: 53]\n",
      "  mp.dps = 50                 [default: 15]\n",
      "  mp.trap_complex = False     [default: False]\n"
     ]
    }
   ],
   "source": [
    "import mpmath as mp\n",
    "mp.mp.dps = 50\n",
    "mp.mp.pretty = True\n",
    "print(mp.mp)"
   ]
  },
  {
   "cell_type": "code",
   "execution_count": null,
   "metadata": {},
   "outputs": [],
   "source": []
  },
  {
   "cell_type": "code",
   "execution_count": null,
   "metadata": {},
   "outputs": [],
   "source": []
  },
  {
   "cell_type": "code",
   "execution_count": null,
   "metadata": {},
   "outputs": [],
   "source": []
  },
  {
   "cell_type": "code",
   "execution_count": null,
   "metadata": {},
   "outputs": [],
   "source": []
  },
  {
   "cell_type": "code",
   "execution_count": null,
   "metadata": {},
   "outputs": [],
   "source": []
  },
  {
   "cell_type": "code",
   "execution_count": null,
   "metadata": {},
   "outputs": [],
   "source": []
  },
  {
   "cell_type": "code",
   "execution_count": null,
   "metadata": {},
   "outputs": [],
   "source": []
  },
  {
   "cell_type": "code",
   "execution_count": 386,
   "metadata": {},
   "outputs": [
    {
     "data": {
      "text/plain": [
       "(1.6996690255890117, 0.5883498404364079)"
      ]
     },
     "execution_count": 386,
     "metadata": {},
     "output_type": "execute_result"
    }
   ],
   "source": [
    "beta_0 = np.log(1 + np.sqrt(q))\n",
    "beta_0, 1 / beta_0"
   ]
  },
  {
   "cell_type": "code",
   "execution_count": null,
   "metadata": {},
   "outputs": [],
   "source": []
  },
  {
   "cell_type": "code",
   "execution_count": null,
   "metadata": {},
   "outputs": [],
   "source": []
  },
  {
   "cell_type": "markdown",
   "metadata": {},
   "source": []
  },
  {
   "cell_type": "code",
   "execution_count": 387,
   "metadata": {},
   "outputs": [
    {
     "data": {
      "text/plain": [
       "-1.223605"
      ]
     },
     "execution_count": 387,
     "metadata": {},
     "output_type": "execute_result"
    }
   ],
   "source": [
    "if q == 10:\n",
    "    ec = (-1.664253 + -0.968203) / 2\n",
    "elif q == 20:\n",
    "    ec = (-1.82068 + -0.62653) / 2\n",
    "ec"
   ]
  },
  {
   "cell_type": "code",
   "execution_count": null,
   "metadata": {},
   "outputs": [],
   "source": []
  },
  {
   "cell_type": "code",
   "execution_count": null,
   "metadata": {},
   "outputs": [],
   "source": []
  },
  {
   "cell_type": "code",
   "execution_count": null,
   "metadata": {},
   "outputs": [],
   "source": []
  },
  {
   "cell_type": "code",
   "execution_count": 257,
   "metadata": {},
   "outputs": [],
   "source": [
    "#with open('./tmp/2DPotts_Rc_L{}.txt'.format(10, L), 'w') as file:\n",
    "#    file.write('mean={}, std={}'.format(np.mean(R_c), np.std(R_c)))"
   ]
  },
  {
   "cell_type": "code",
   "execution_count": 292,
   "metadata": {},
   "outputs": [
    {
     "data": {
      "image/png": "[encoded data removed]",
      "text/plain": [
       "<Figure size 1152x648 with 1 Axes>"
      ]
     },
     "metadata": {
      "needs_background": "light"
     },
     "output_type": "display_data"
    }
   ],
   "source": [
    "plt.figure(figsize=(16, 9))\n",
    "i = 0\n",
    "beta = beta_0 + 0.00040\n",
    "heat, cool, st = parameters[i][\"heat\"], parameters[i][\"cool\"], parameters[i][\"stitched\"]\n",
    "\n",
    "\n",
    "y = np.array([mp.exp(mp.mpf(S) - mp.mpf(E) * beta) for E, S in st[\"S\"].items()])\n",
    "x = np.array([E / (L * L) for E in st[\"S\"]])\n",
    "\n",
    "plt.plot(x, y / sum(y), 'o', label=\"stitched, T={}, L={}\".format(1/beta, L))\n",
    "\n",
    "plt.ylabel('$e^{S(E) - E / T} / Z$')\n",
    "plt.xlabel(\"E\")\n",
    "mask1 = x < ec;\n",
    "mask2 = x > ec;\n",
    "\n",
    "i1 = np.argmax(y[mask1])\n",
    "i2 = np.argmax(y[mask2])\n",
    "\n",
    "e1 = x[mask1][i1]\n",
    "e2 = x[mask2][i2]\n",
    "\n",
    "s1 = y[mask1][i1]\n",
    "s2 = y[mask2][i2]\n",
    "r = s1 / s2\n",
    "\n",
    "plt.axvline(x = e1, color = 'r')\n",
    "plt.axvline(x = ec, color = 'b')\n",
    "plt.axvline(x = e2, color = 'r')\n",
    "plt.title(\"q={}\".format(q))\n",
    "plt.legend()\n",
    "plt.grid()"
   ]
  },
  {
   "cell_type": "code",
   "execution_count": 259,
   "metadata": {},
   "outputs": [],
   "source": [
    "def f(beta):\n",
    "    y = np.array([mp.exp(mp.mpf(S) - mp.mpf(E) * beta) for E, S in st[\"S\"].items()])\n",
    "    Z = sum(y)\n",
    "    y /= Z;\n",
    "    y = np.array(y, dtype=float)\n",
    "    x = np.array([E / (L * L) for E in st[\"S\"]])\n",
    "\n",
    "    mask1 = x < ec;\n",
    "    mask2 = x > ec;\n",
    "\n",
    "    i1 = np.argmax(y[mask1])\n",
    "    i2 = np.argmax(y[mask2])\n",
    "\n",
    "    e1 = x[mask1][i1]\n",
    "    e2 = x[mask2][i2]\n",
    "    el = (e1 + e2) / 2\n",
    "\n",
    "    s1 = y[mask1][i1]\n",
    "    s2 = y[mask2][i2]\n",
    "    peaks_ratio = s1 / s2\n",
    "\n",
    "    return peaks_ratio, (e1, s1), (e2, s2), ( sum(y[x < el]) / sum(y[x > el]), sum(y[mask1]) / sum(y[mask2]))"
   ]
  },
  {
   "cell_type": "code",
   "execution_count": null,
   "metadata": {},
   "outputs": [],
   "source": []
  },
  {
   "cell_type": "code",
   "execution_count": null,
   "metadata": {},
   "outputs": [],
   "source": []
  },
  {
   "cell_type": "code",
   "execution_count": null,
   "metadata": {},
   "outputs": [],
   "source": []
  },
  {
   "cell_type": "code",
   "execution_count": null,
   "metadata": {},
   "outputs": [],
   "source": []
  },
  {
   "cell_type": "code",
   "execution_count": null,
   "metadata": {},
   "outputs": [],
   "source": []
  },
  {
   "cell_type": "code",
   "execution_count": null,
   "metadata": {},
   "outputs": [],
   "source": []
  },
  {
   "cell_type": "markdown",
   "metadata": {},
   "source": [
    "Таблица 4:"
   ]
  },
  {
   "cell_type": "code",
   "execution_count": null,
   "metadata": {},
   "outputs": [],
   "source": []
  },
  {
   "cell_type": "code",
   "execution_count": 260,
   "metadata": {},
   "outputs": [],
   "source": [
    "results = []\n",
    "\n",
    "for i in range(10):\n",
    "    beta = beta_0\n",
    "    st = parameters[i][\"stitched\"]\n",
    "    \n",
    "    results.append(f(beta_0))"
   ]
  },
  {
   "cell_type": "code",
   "execution_count": 252,
   "metadata": {},
   "outputs": [
    {
     "name": "stdout",
     "output_type": "stream",
     "text": [
      "70 & 1.6996690255890117 & 59.631744843496236 & 104.36716394451994 & -1.8230816326530612 & 0.0018825355308704278 & -0.6253877551020408 & 0.0029393423489614268 & 54.82003045900426 & 94.87941740256709 & 54.820030459240115 & 94.8794174031003\n"
     ]
    }
   ],
   "source": [
    "print(\n",
    "    L,\n",
    "    beta,\n",
    "    np.mean([peak_ratio for peak_ratio, (e1, s1), (e2, s2), (rl, rc) in results]),\n",
    "    np.std([peak_ratio for peak_ratio, (e1, s1), (e2, s2), (rl, rc) in results]),\n",
    "    np.mean([e1 for peak_ratio, (e1, s1), (e2, s2), (rl, rc) in results]),\n",
    "    np.std([e1 for peak_ratio, (e1, s1), (e2, s2), (rl, rc) in results]),\n",
    "    np.mean([e2 for peak_ratio, (e1, s1), (e2, s2), (rl, rc) in results]),\n",
    "    np.std([e2 for peak_ratio, (e1, s1), (e2, s2), (rl, rc) in results]),\n",
    "    np.mean([rl for peak_ratio, (e1, s1), (e2, s2), (rl, rc) in results]),\n",
    "    np.std([rl for peak_ratio, (e1, s1), (e2, s2), (rl, rc) in results]),\n",
    "    np.mean([rc for peak_ratio, (e1, s1), (e2, s2), (rl, rc) in results]),\n",
    "    np.std([rc for peak_ratio, (e1, s1), (e2, s2), (rl, rc) in results]),\n",
    "    sep=' & '\n",
    ")"
   ]
  },
  {
   "cell_type": "code",
   "execution_count": 32,
   "metadata": {},
   "outputs": [
    {
     "data": {
      "text/plain": [
       "[8.030913310323399,\n",
       " 7.462146338183195,\n",
       " 7.599469348560646,\n",
       " 8.88903578833373,\n",
       " 8.638297001503778,\n",
       " 8.193815708151552,\n",
       " 7.947159193395229,\n",
       " 7.338058656023545,\n",
       " 8.753044066225232,\n",
       " 8.025645185745772]"
      ]
     },
     "execution_count": 32,
     "metadata": {},
     "output_type": "execute_result"
    }
   ],
   "source": [
    "[rc for peak_ratio, (e1, s1), (e2, s2), (rl, rc) in results]"
   ]
  },
  {
   "cell_type": "code",
   "execution_count": null,
   "metadata": {},
   "outputs": [],
   "source": []
  },
  {
   "cell_type": "markdown",
   "metadata": {},
   "source": [
    "Таблица 5"
   ]
  },
  {
   "cell_type": "code",
   "execution_count": 293,
   "metadata": {},
   "outputs": [],
   "source": [
    "target = 20\n",
    "results_beta = []\n",
    "results = []\n",
    "#with open('./tmp/2DPottsCritical_q{}_L{}.txt'.format(q, L), 'a') as file:\n",
    "for i in range(10):\n",
    "    st = parameters[i][\"stitched\"]\n",
    "    result_beta = newton(lambda x: f(x)[0] - target, beta_0 + 0.00040, full_output=True, tol=1e-07, disp=False)\n",
    "    #print(result)\n",
    "    #print(f(beta))\n",
    "    #file.write('{} {}\\n'.format(result[0], f(result[0])))\n",
    "    beta = result_beta[0]\n",
    "    results_beta.append(result_beta)\n",
    "    results.append(f(beta))"
   ]
  },
  {
   "cell_type": "code",
   "execution_count": 294,
   "metadata": {},
   "outputs": [
    {
     "data": {
      "text/plain": [
       "[20.000000067506708,\n",
       " 20.00000002667549,\n",
       " 20.000000067652262,\n",
       " 20.000000012440136,\n",
       " 20.000000038293326,\n",
       " 20.00000021618379,\n",
       " 20.000002554939627,\n",
       " 20.00000000146868,\n",
       " 20.000000446090088,\n",
       " 20.00000119354858]"
      ]
     },
     "execution_count": 294,
     "metadata": {},
     "output_type": "execute_result"
    }
   ],
   "source": [
    "[peak_ratio for peak_ratio, (e1, s1), (e2, s2), (rl, rc) in results]"
   ]
  },
  {
   "cell_type": "code",
   "execution_count": 295,
   "metadata": {},
   "outputs": [
    {
     "name": "stdout",
     "output_type": "stream",
     "text": [
      "70 & 20.000000462479868 & 7.791404929510645e-07 & 18.330887168739928 & 0.873237088452249\n",
      "70 & 1.699872634386463 & 0.0003925156091093326 & -1.824734693877551 & 0.002178613248176716 & -0.6258367346938776 & 0.002860348056399494 & 18.33088716875573 & 0.8732370884612064\\\\\n",
      "70 & 1.6999 & 0.0004 & -1.825 & 0.002 & -0.626 & 0.003 & 18.3 & 0.9\\\\\n"
     ]
    }
   ],
   "source": [
    "print(\n",
    "    L,\n",
    "    np.mean([peak_ratio for peak_ratio, (e1, s1), (e2, s2), (rl, rc) in results]),\n",
    "    np.std([peak_ratio for peak_ratio, (e1, s1), (e2, s2), (rl, rc) in results]),\n",
    "    np.mean([rl for peak_ratio, (e1, s1), (e2, s2), (rl, rc) in results]),\n",
    "    np.std([rl for peak_ratio, (e1, s1), (e2, s2), (rl, rc) in results]),\n",
    "    sep=' & '\n",
    ")\n",
    "\n",
    "print(\n",
    "    L,\n",
    "    np.mean([x[0] for x in results_beta]),\n",
    "    np.std([x[0] for x in results_beta]),\n",
    "#    np.mean([peak_ratio for peak_ratio, (e1, s1), (e2, s2), (rl, rc) in results]),\n",
    "#    np.std([peak_ratio for peak_ratio, (e1, s1), (e2, s2), (rl, rc) in results]),\n",
    "    np.mean([e1 for peak_ratio, (e1, s1), (e2, s2), (rl, rc) in results]),\n",
    "    np.std([e1 for peak_ratio, (e1, s1), (e2, s2), (rl, rc) in results]),\n",
    "    np.mean([e2 for peak_ratio, (e1, s1), (e2, s2), (rl, rc) in results]),\n",
    "    np.std([e2 for peak_ratio, (e1, s1), (e2, s2), (rl, rc) in results]),\n",
    "#    np.mean([rl for peak_ratio, (e1, s1), (e2, s2), (rl, rc) in results]),\n",
    "#    np.std([rl for peak_ratio, (e1, s1), (e2, s2), (rl, rc) in results]),\n",
    "    np.mean([rc for peak_ratio, (e1, s1), (e2, s2), (rl, rc) in results]),\n",
    "    np.std([rc for peak_ratio, (e1, s1), (e2, s2), (rl, rc) in results]),\n",
    "    sep=' & ',\n",
    "    end='\\\\\\\\\\n'\n",
    ")\n",
    "\n",
    "print(\n",
    "    L,\n",
    "    pretty_std(\n",
    "        np.mean([x[0] for x in results_beta]),\n",
    "        np.std([x[0] for x in results_beta])\n",
    "    ),\n",
    "#    np.mean([peak_ratio for peak_ratio, (e1, s1), (e2, s2), (rl, rc) in results]),\n",
    "#    np.std([peak_ratio for peak_ratio, (e1, s1), (e2, s2), (rl, rc) in results]),\n",
    "    pretty_std(\n",
    "        np.mean([e1 for peak_ratio, (e1, s1), (e2, s2), (rl, rc) in results]),\n",
    "        np.std([e1 for peak_ratio, (e1, s1), (e2, s2), (rl, rc) in results])\n",
    "    ),\n",
    "    pretty_std(\n",
    "        np.mean([e2 for peak_ratio, (e1, s1), (e2, s2), (rl, rc) in results]),\n",
    "        np.std([e2 for peak_ratio, (e1, s1), (e2, s2), (rl, rc) in results])\n",
    "    ),\n",
    "#    np.mean([rl for peak_ratio, (e1, s1), (e2, s2), (rl, rc) in results]),\n",
    "#    np.std([rl for peak_ratio, (e1, s1), (e2, s2), (rl, rc) in results]),\n",
    "    pretty_std(\n",
    "        np.mean([rc for peak_ratio, (e1, s1), (e2, s2), (rl, rc) in results]),\n",
    "        np.std([rc for peak_ratio, (e1, s1), (e2, s2), (rl, rc) in results])\n",
    "    ),\n",
    "    sep=' & ',\n",
    "    end='\\\\\\\\\\n'\n",
    ")"
   ]
  },
  {
   "cell_type": "code",
   "execution_count": null,
   "metadata": {},
   "outputs": [],
   "source": []
  },
  {
   "cell_type": "code",
   "execution_count": 306,
   "metadata": {},
   "outputs": [],
   "source": [
    "target = 1\n",
    "results_beta = []\n",
    "results = []\n",
    "#with open('./tmp/2DPottsCritical_q{}_L{}.txt'.format(q, L), 'a') as file:\n",
    "for i in range(10):\n",
    "    st = parameters[i][\"stitched\"]\n",
    "    result_beta = newton(lambda x: f(x)[0] - target, beta_0, full_output=True)\n",
    "    #print(result)\n",
    "    beta = result_beta[0]\n",
    "    #print(f(beta))\n",
    "    #file.write('{} {}\\n'.format(result[0], f(result[0])))\n",
    "    results_beta.append(result_beta)\n",
    "    results.append(f(beta))"
   ]
  },
  {
   "cell_type": "code",
   "execution_count": 308,
   "metadata": {},
   "outputs": [
    {
     "data": {
      "text/plain": [
       "[1.000000000288784,\n",
       " 1.0000000000175913,\n",
       " 1.0000000000201041,\n",
       " 1.0000000002973193,\n",
       " 1.0000000561797149,\n",
       " 1.0000000023043896,\n",
       " 1.0000000854859217,\n",
       " 1.0000000000409366,\n",
       " 1.0000000000100717,\n",
       " 1.0000000634378436]"
      ]
     },
     "execution_count": 308,
     "metadata": {},
     "output_type": "execute_result"
    }
   ],
   "source": [
    "[peak_ratio for peak_ratio, (e1, s1), (e2, s2), (rl, rc) in results]"
   ]
  },
  {
   "cell_type": "code",
   "execution_count": 307,
   "metadata": {},
   "outputs": [
    {
     "name": "stdout",
     "output_type": "stream",
     "text": [
      "70 & 1.0000000208082676 & 3.188104080933871e-08 & 0.9262401748477165 & 0.043864080316526666\n",
      "70 & 1.6994 & 0.0004 & -1.822 & 0.002 & -0.625 & 0.002 & 0.93 & 0.04\\\\"
     ]
    }
   ],
   "source": [
    "print(\n",
    "    L,\n",
    "    np.mean([peak_ratio for peak_ratio, (e1, s1), (e2, s2), (rl, rc) in results]),\n",
    "    np.std([peak_ratio for peak_ratio, (e1, s1), (e2, s2), (rl, rc) in results]),\n",
    "    np.mean([rl for peak_ratio, (e1, s1), (e2, s2), (rl, rc) in results]),\n",
    "    np.std([rl for peak_ratio, (e1, s1), (e2, s2), (rl, rc) in results]),\n",
    "    sep=' & '\n",
    ")\n",
    "\n",
    "print(\n",
    "    L,\n",
    "    pretty_std(\n",
    "        np.mean([x[0] for x in results_beta]),\n",
    "        np.std([x[0] for x in results_beta])\n",
    "    ),\n",
    "#    np.mean([peak_ratio for peak_ratio, (e1, s1), (e2, s2), (rl, rc) in results]),\n",
    "#    np.std([peak_ratio for peak_ratio, (e1, s1), (e2, s2), (rl, rc) in results]),\n",
    "    pretty_std(\n",
    "        np.mean([e1 for peak_ratio, (e1, s1), (e2, s2), (rl, rc) in results]),\n",
    "        np.std([e1 for peak_ratio, (e1, s1), (e2, s2), (rl, rc) in results])\n",
    "    ),\n",
    "    pretty_std(\n",
    "        np.mean([e2 for peak_ratio, (e1, s1), (e2, s2), (rl, rc) in results]),\n",
    "        np.std([e2 for peak_ratio, (e1, s1), (e2, s2), (rl, rc) in results])\n",
    "    ),\n",
    "#    np.mean([rl for peak_ratio, (e1, s1), (e2, s2), (rl, rc) in results]),\n",
    "#    np.std([rl for peak_ratio, (e1, s1), (e2, s2), (rl, rc) in results]),\n",
    "    pretty_std(\n",
    "        np.mean([rc for peak_ratio, (e1, s1), (e2, s2), (rl, rc) in results]),\n",
    "        np.std([rc for peak_ratio, (e1, s1), (e2, s2), (rl, rc) in results])\n",
    "    ),\n",
    "    sep=' & ',\n",
    "    end='\\\\\\\\'\n",
    ")"
   ]
  },
  {
   "cell_type": "code",
   "execution_count": null,
   "metadata": {},
   "outputs": [],
   "source": []
  },
  {
   "cell_type": "code",
   "execution_count": 303,
   "metadata": {},
   "outputs": [],
   "source": [
    "#rc = 1\n",
    "target = 20\n",
    "results_beta = []\n",
    "results = []\n",
    "#with open('./tmp/2DPottsCritical_q{}_L{}.txt'.format(q, L), 'a') as file:\n",
    "for i in range(10):\n",
    "    st = parameters[i][\"stitched\"]\n",
    "    result_beta = newton(lambda x: f(x)[3][1] - target, beta_0 + 0.00040, full_output=True)\n",
    "    #print(result)\n",
    "    beta = result_beta[0]\n",
    "    #print(f(beta))\n",
    "    #file.write('{} {}\\n'.format(result[0], f(result[0])))\n",
    "    results_beta.append(result_beta)\n",
    "    results.append(f(beta))"
   ]
  },
  {
   "cell_type": "code",
   "execution_count": 304,
   "metadata": {},
   "outputs": [
    {
     "data": {
      "text/plain": [
       "[20.000000074850544,\n",
       " 20.000000063654902,\n",
       " 20.000000074431124,\n",
       " 20.00000000401548,\n",
       " 20.000000066362446,\n",
       " 19.99999999976823,\n",
       " 20.000001028707295,\n",
       " 20.00000000018419,\n",
       " 20.0000000580341,\n",
       " 20.0000014078922]"
      ]
     },
     "execution_count": 304,
     "metadata": {},
     "output_type": "execute_result"
    }
   ],
   "source": [
    "[rc for peak_ratio, (e1, s1), (e2, s2), (rl, rc) in results]"
   ]
  },
  {
   "cell_type": "code",
   "execution_count": 305,
   "metadata": {},
   "outputs": [
    {
     "name": "stdout",
     "output_type": "stream",
     "text": [
      "70 & 21.9 & 1.0 & 20.0000003 & 0.0000005 & 20.0000003 & 0.0000005\n",
      "70 & 1.6999 & 0.0004 & -1.825 & 0.002 & -0.626 & 0.003 & 21.9 & 1.0\\\\"
     ]
    }
   ],
   "source": [
    "print(\n",
    "    L,\n",
    "    pretty_std(\n",
    "        np.mean([peak_ratio for peak_ratio, (e1, s1), (e2, s2), (rl, rc) in results]),\n",
    "        np.std([peak_ratio for peak_ratio, (e1, s1), (e2, s2), (rl, rc) in results])\n",
    "    ),\n",
    "    pretty_std(\n",
    "        np.mean([rl for peak_ratio, (e1, s1), (e2, s2), (rl, rc) in results]),\n",
    "        np.std([rl for peak_ratio, (e1, s1), (e2, s2), (rl, rc) in results])\n",
    "    ),\n",
    "    pretty_std(\n",
    "        np.mean([rc for peak_ratio, (e1, s1), (e2, s2), (rl, rc) in results]),\n",
    "        np.std([rc for peak_ratio, (e1, s1), (e2, s2), (rl, rc) in results])\n",
    "    ),\n",
    "    sep=' & '\n",
    ")\n",
    "\n",
    "print(\n",
    "    L,\n",
    "    pretty_std(\n",
    "        np.mean([x[0] for x in results_beta]),\n",
    "        np.std([x[0] for x in results_beta])\n",
    "    ),\n",
    "    pretty_std(\n",
    "        np.mean([e1 for peak_ratio, (e1, s1), (e2, s2), (rl, rc) in results]),\n",
    "        np.std([e1 for peak_ratio, (e1, s1), (e2, s2), (rl, rc) in results])\n",
    "    ),\n",
    "    pretty_std(\n",
    "        np.mean([e2 for peak_ratio, (e1, s1), (e2, s2), (rl, rc) in results]),\n",
    "        np.std([e2 for peak_ratio, (e1, s1), (e2, s2), (rl, rc) in results])\n",
    "    ),\n",
    "#    np.mean([rl for peak_ratio, (e1, s1), (e2, s2), (rl, rc) in results]),\n",
    "#    np.std([rl for peak_ratio, (e1, s1), (e2, s2), (rl, rc) in results]),\n",
    "#    np.mean([rc for peak_ratio, (e1, s1), (e2, s2), (rl, rc) in results]),\n",
    "#    np.std([rc for peak_ratio, (e1, s1), (e2, s2), (rl, rc) in results]),\n",
    "    pretty_std(\n",
    "        np.mean([peak_ratio for peak_ratio, (e1, s1), (e2, s2), (rl, rc) in results]),\n",
    "        np.std([peak_ratio for peak_ratio, (e1, s1), (e2, s2), (rl, rc) in results])\n",
    "    ),\n",
    "    sep=' & ',\n",
    "    end='\\\\\\\\'\n",
    ")"
   ]
  },
  {
   "cell_type": "markdown",
   "metadata": {},
   "source": [
    "Таблица 6"
   ]
  },
  {
   "cell_type": "code",
   "execution_count": null,
   "metadata": {},
   "outputs": [],
   "source": []
  },
  {
   "cell_type": "code",
   "execution_count": 388,
   "metadata": {},
   "outputs": [],
   "source": [
    "def calc_hc(st, beta):\n",
    "    E = mp.mpf(0)\n",
    "    E_sq = mp.mpf(0)\n",
    "    E_qr = mp.mpf(0)\n",
    "    Z = mp.mpf(0)\n",
    "    L = st[\"L\"]\n",
    "    for fe, fS in st['S'].items():\n",
    "        e = mp.mpf(fe)\n",
    "        S = mp.mpf(fS)\n",
    "        w = mp.exp(S - e * beta)\n",
    "        Z += w\n",
    "        E += w * e\n",
    "        E_sq += w * e * e\n",
    "        E_qr += w * e * e * e * e\n",
    "    avgE = 1.0 * E / Z;\n",
    "    avgE_sq = E_sq / Z;\n",
    "    avgE_qr = E_qr / Z;\n",
    "    # T, C, average E, BinderCumulant\n",
    "    return beta, float( (avgE_sq - avgE * avgE) * (beta * beta) / (L * L) ), float( avgE ), float(1 - (avgE_qr / (3 * avgE_sq * avgE_sq)))"
   ]
  },
  {
   "cell_type": "code",
   "execution_count": null,
   "metadata": {},
   "outputs": [],
   "source": []
  },
  {
   "cell_type": "code",
   "execution_count": 406,
   "metadata": {},
   "outputs": [
    {
     "data": {
      "application/vnd.jupyter.widget-view+json": {
       "model_id": "e6fe18dc6cbd4f518c65491fa38876ca",
       "version_major": 2,
       "version_minor": 0
      },
      "text/plain": [
       "HBox(children=(IntProgress(value=0, max=10), HTML(value='')))"
      ]
     },
     "metadata": {},
     "output_type": "display_data"
    },
    {
     "name": "stdout",
     "output_type": "stream",
     "text": [
      "\n"
     ]
    }
   ],
   "source": [
    "a = 1.6\n",
    "b = 1.8\n",
    "results_Bmin = []\n",
    "for i, x in tqdm(enumerate(parameters), total=len(parameters)):\n",
    "    st = x[\"stitched\"]\n",
    "    L = st[\"L\"]\n",
    "    beta, c, _, _ = fminbound(lambda beta: calc_hc(st, beta)[3], a, b, maxfun=500, full_output=1, disp=False)\n",
    "    results_Bmin.append( calc_hc(st, beta) )"
   ]
  },
  {
   "cell_type": "code",
   "execution_count": 407,
   "metadata": {},
   "outputs": [
    {
     "data": {
      "application/vnd.jupyter.widget-view+json": {
       "model_id": "b5c99473b2df46b6a1e29807edb2356d",
       "version_major": 2,
       "version_minor": 0
      },
      "text/plain": [
       "HBox(children=(IntProgress(value=0, max=10), HTML(value='')))"
      ]
     },
     "metadata": {},
     "output_type": "display_data"
    },
    {
     "name": "stdout",
     "output_type": "stream",
     "text": [
      "\n"
     ]
    }
   ],
   "source": [
    "results_Cmax = []\n",
    "for i, x in tqdm(enumerate(parameters), total=len(parameters)):\n",
    "    st = x[\"stitched\"]\n",
    "    L = st[\"L\"]\n",
    "    beta, c, _, _ = fminbound(lambda beta: - calc_hc(st, beta)[1], a, b, maxfun=500, full_output=1, disp=False)\n",
    "    results_Cmax.append( calc_hc(st, beta) )\n"
   ]
  },
  {
   "cell_type": "code",
   "execution_count": 408,
   "metadata": {},
   "outputs": [
    {
     "name": "stdout",
     "output_type": "stream",
     "text": [
      "70 & 1.6990 & 0.117 & 1.6994 & 5052.9\\\\\n"
     ]
    }
   ],
   "source": [
    "print(\n",
    "    L,\n",
    "    pretty_std(\n",
    "        np.mean([beta for beta, C, avgE, BC in results_Bmin]),\n",
    "        np.std([beta for beta, C, avgE, BC in results_Bmin])\n",
    "    ).split(' &')[0],\n",
    "    pretty_std(\n",
    "        np.mean([BC for beta, C, avgE, BC in results_Bmin]),\n",
    "        np.std([BC for beta, C, avgE, BC in results_Bmin])\n",
    "    ).split(' &')[0],\n",
    "    pretty_std(\n",
    "        np.mean([beta for beta, C, avgE, BC in results_Cmax]),\n",
    "        np.std([beta for beta, C, avgE, BC in results_Cmax])\n",
    "    ).split(' &')[0],\n",
    "    pretty_std(\n",
    "        np.mean([C for beta, C, avgE, BC in results_Cmax]),\n",
    "        np.std([C for beta, C, avgE, BC in results_Cmax])\n",
    "    ).split(' &')[0],\n",
    "    sep=' & ',\n",
    "    end='\\\\\\\\\\n'\n",
    ")"
   ]
  },
  {
   "cell_type": "code",
   "execution_count": null,
   "metadata": {},
   "outputs": [],
   "source": []
  },
  {
   "cell_type": "code",
   "execution_count": null,
   "metadata": {},
   "outputs": [],
   "source": []
  },
  {
   "cell_type": "code",
   "execution_count": null,
   "metadata": {},
   "outputs": [],
   "source": []
  },
  {
   "cell_type": "code",
   "execution_count": null,
   "metadata": {},
   "outputs": [],
   "source": []
  },
  {
   "cell_type": "code",
   "execution_count": null,
   "metadata": {},
   "outputs": [],
   "source": []
  },
  {
   "cell_type": "code",
   "execution_count": null,
   "metadata": {},
   "outputs": [],
   "source": []
  },
  {
   "cell_type": "code",
   "execution_count": null,
   "metadata": {},
   "outputs": [],
   "source": []
  },
  {
   "cell_type": "code",
   "execution_count": null,
   "metadata": {},
   "outputs": [],
   "source": []
  },
  {
   "cell_type": "code",
   "execution_count": null,
   "metadata": {},
   "outputs": [],
   "source": []
  },
  {
   "cell_type": "code",
   "execution_count": null,
   "metadata": {},
   "outputs": [],
   "source": []
  },
  {
   "cell_type": "code",
   "execution_count": null,
   "metadata": {},
   "outputs": [],
   "source": []
  },
  {
   "cell_type": "code",
   "execution_count": null,
   "metadata": {},
   "outputs": [],
   "source": []
  },
  {
   "cell_type": "code",
   "execution_count": null,
   "metadata": {},
   "outputs": [],
   "source": []
  },
  {
   "cell_type": "code",
   "execution_count": null,
   "metadata": {},
   "outputs": [],
   "source": []
  },
  {
   "cell_type": "code",
   "execution_count": null,
   "metadata": {},
   "outputs": [],
   "source": []
  },
  {
   "cell_type": "code",
   "execution_count": null,
   "metadata": {},
   "outputs": [],
   "source": []
  },
  {
   "cell_type": "code",
   "execution_count": null,
   "metadata": {},
   "outputs": [],
   "source": []
  },
  {
   "cell_type": "code",
   "execution_count": null,
   "metadata": {},
   "outputs": [],
   "source": []
  },
  {
   "cell_type": "code",
   "execution_count": null,
   "metadata": {},
   "outputs": [],
   "source": []
  },
  {
   "cell_type": "code",
   "execution_count": null,
   "metadata": {},
   "outputs": [],
   "source": []
  },
  {
   "cell_type": "code",
   "execution_count": null,
   "metadata": {},
   "outputs": [],
   "source": []
  },
  {
   "cell_type": "code",
   "execution_count": null,
   "metadata": {},
   "outputs": [],
   "source": []
  },
  {
   "cell_type": "code",
   "execution_count": null,
   "metadata": {},
   "outputs": [],
   "source": []
  },
  {
   "cell_type": "code",
   "execution_count": null,
   "metadata": {},
   "outputs": [],
   "source": []
  },
  {
   "cell_type": "code",
   "execution_count": null,
   "metadata": {},
   "outputs": [],
   "source": []
  },
  {
   "cell_type": "code",
   "execution_count": null,
   "metadata": {},
   "outputs": [],
   "source": []
  },
  {
   "cell_type": "code",
   "execution_count": null,
   "metadata": {},
   "outputs": [],
   "source": []
  },
  {
   "cell_type": "code",
   "execution_count": null,
   "metadata": {},
   "outputs": [],
   "source": []
  },
  {
   "cell_type": "code",
   "execution_count": null,
   "metadata": {},
   "outputs": [],
   "source": []
  },
  {
   "cell_type": "code",
   "execution_count": null,
   "metadata": {},
   "outputs": [],
   "source": []
  }
 ],
 "metadata": {
  "kernelspec": {
   "display_name": "Python 3",
   "language": "python",
   "name": "python3"
  },
  "language_info": {
   "codemirror_mode": {
    "name": "ipython",
    "version": 3
   },
   "file_extension": ".py",
   "mimetype": "text/x-python",
   "name": "python",
   "nbconvert_exporter": "python",
   "pygments_lexer": "ipython3",
   "version": "3.7.4"
  }
 },
 "nbformat": 4,
 "nbformat_minor": 2
}
