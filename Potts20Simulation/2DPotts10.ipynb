{
 "cells": [
  {
   "cell_type": "code",
   "execution_count": 1,
   "metadata": {},
   "outputs": [],
   "source": [
    "import numpy as np, matplotlib.pyplot as plt\n",
    "from collections import OrderedDict as od\n",
    "from scipy.special import comb as C\n",
    "from scipy.stats import linregress\n",
    "from statistics import median\n",
    "from scipy.optimize import fminbound\n",
    "import json\n",
    "import itertools\n",
    "from tqdm.notebook import tqdm\n",
    "from multiprocess import Pool"
   ]
  },
  {
   "cell_type": "code",
   "execution_count": null,
   "metadata": {},
   "outputs": [],
   "source": []
  },
  {
   "cell_type": "code",
   "execution_count": 2,
   "metadata": {},
   "outputs": [],
   "source": [
    "def get_entropy_from_culling_factor_v2(c):\n",
    "    S = od()\n",
    "    sn = 0\n",
    "    for E in c:\n",
    "        S[E] = np.log(c[E])\n",
    "        S[E] += sn\n",
    "        sn += np.log(1 - c[E])\n",
    "    return S\n",
    "\n",
    "def get_entropy_from_culling_factor_with_heat_v2(c):\n",
    "    S = od()\n",
    "    sn = 0\n",
    "    for E in c:\n",
    "        S[E] = np.log(c[E])\n",
    "        S[E] += sn\n",
    "        sn += np.log(1 - c[E])\n",
    "    return S\n",
    "\n",
    "def stitch_S(heat, cool):\n",
    "    #not infinite values\n",
    "    niv = sorted( list({E for E, S in heat[\"S\"].items() if not np.isinf(S)} &\n",
    "                       {E for E, S in cool[\"S\"].items() if not np.isinf(S)}) )\n",
    "    #chosen not infinite values\n",
    "    cniv = niv[len(niv) // 3 : 2 * len(niv) // 3]\n",
    "    #print(cniv)\n",
    "    shift = 0\n",
    "    count = 0\n",
    "    for E in cniv:\n",
    "        shift += heat[\"S\"][E] - cool[\"S\"][E]\n",
    "        count += 1\n",
    "    shift /= count\n",
    "\n",
    "    result = od()\n",
    "    for E in cool[\"S\"]:\n",
    "        if E < median(cniv):\n",
    "            result[E] = cool[\"S\"][E]\n",
    "    for E in heat[\"S\"]:\n",
    "        if E >= median(cniv):\n",
    "            result[E] = heat[\"S\"][E] - shift\n",
    "\n",
    "    result = dict(sorted(result.items(), key=lambda item: item[0]))\n",
    "    return {\"S\": result, \"L\": heat[\"L\"]}\n",
    "\n",
    "def calc_hc(st, T):\n",
    "\n",
    "    E = mp.mpf(0)\n",
    "    E_sq = mp.mpf(0)\n",
    "    E_qr = mp.mpf(0)\n",
    "    Z = mp.mpf(0)\n",
    "    for fe, fS in st['S'].items():\n",
    "        e = mp.mpf(fe)\n",
    "        S = mp.mpf(fS)\n",
    "        w = mp.exp(S - e / T)\n",
    "        Z += w\n",
    "        E += w * e\n",
    "        E_sq += w * e * e\n",
    "        E_qr += w * e * e * e * e\n",
    "    avgE = E / Z;\n",
    "    avgE_sq = E_sq / Z;\n",
    "    avgE_qr = E_qr / Z;\n",
    "    # T, C, average E, BinderCumulant\n",
    "    return T, float( (avgE_sq - avgE * avgE) / (T * T) ), float( avgE ), float(1 - (avgE_qr / (3 * avgE_sq * avgE_sq)))"
   ]
  },
  {
   "cell_type": "code",
   "execution_count": 7,
   "metadata": {},
   "outputs": [],
   "source": [
    "def read_files_v2(parameters):\n",
    "    q=parameters[\"q\"];\n",
    "    L=parameters[\"L\"];\n",
    "    R=parameters[\"R\"];\n",
    "    nSteps=parameters[\"nSteps\"];\n",
    "    seed=parameters[\"seed\"];\n",
    "    heat=parameters[\"heat\"];\n",
    "    N = L * L;\n",
    "    name = \"./datasets/2DPotts/2DPotts{}_q{}_N{}_R{}_nSteps{}_run{}X.txt\".format(\"Heating\" * heat, q, N, R, nSteps, seed)\n",
    "    print(name)\n",
    "    culling_factor = od()\n",
    "    print(N, R, nSteps, heat)\n",
    "    with open(name) as f:\n",
    "        for line in f:\n",
    "            E, c = map(float, line.split())\n",
    "            culling_factor[E] = c\n",
    "    parameters[\"culling_factor\"] = culling_factor\n",
    "    if not heat:\n",
    "        parameters[\"S\"] = get_entropy_from_culling_factor_v2(culling_factor)\n",
    "    else:\n",
    "        parameters[\"S\"] = get_entropy_from_culling_factor_with_heat_v2(culling_factor)\n",
    "    \n",
    "    return parameters\n",
    "\n",
    "def read_tuple_files(tpl):\n",
    "    if tpl[1][\"heat\"]:\n",
    "        return {\n",
    "            \"cool\": read_files_v2(tpl[0]),\n",
    "            \"heat\": read_files_v2(tpl[1])\n",
    "        }\n"
   ]
  },
  {
   "cell_type": "code",
   "execution_count": null,
   "metadata": {},
   "outputs": [],
   "source": []
  },
  {
   "cell_type": "code",
   "execution_count": 25,
   "metadata": {
    "scrolled": false
   },
   "outputs": [
    {
     "name": "stdout",
     "output_type": "stream",
     "text": [
      "./datasets/2DPotts/2DPotts_q10_N256_R131072_nSteps10_run0X.txt\n",
      "256 131072 10 False\n"
     ]
    },
    {
     "name": "stderr",
     "output_type": "stream",
     "text": [
      "C:\\ProgramData\\Anaconda3\\lib\\site-packages\\ipykernel_launcher.py:7: RuntimeWarning: divide by zero encountered in log\n",
      "  import sys\n"
     ]
    },
    {
     "name": "stdout",
     "output_type": "stream",
     "text": [
      "./datasets/2DPotts/2DPottsHeating_q10_N256_R131072_nSteps10_run0X.txt\n",
      "256 131072 10 True\n"
     ]
    },
    {
     "name": "stderr",
     "output_type": "stream",
     "text": [
      "C:\\ProgramData\\Anaconda3\\lib\\site-packages\\ipykernel_launcher.py:16: RuntimeWarning: divide by zero encountered in log\n",
      "  app.launch_new_instance()\n"
     ]
    },
    {
     "name": "stdout",
     "output_type": "stream",
     "text": [
      "./datasets/2DPotts/2DPotts_q10_N256_R131072_nSteps10_run1X.txt\n",
      "256 131072 10 False\n",
      "./datasets/2DPotts/2DPottsHeating_q10_N256_R131072_nSteps10_run1X.txt\n",
      "256 131072 10 True\n",
      "./datasets/2DPotts/2DPotts_q10_N256_R131072_nSteps10_run2X.txt\n",
      "256 131072 10 False\n",
      "./datasets/2DPotts/2DPottsHeating_q10_N256_R131072_nSteps10_run2X.txt\n",
      "256 131072 10 True\n",
      "./datasets/2DPotts/2DPotts_q10_N256_R131072_nSteps10_run3X.txt\n",
      "256 131072 10 False\n",
      "./datasets/2DPotts/2DPottsHeating_q10_N256_R131072_nSteps10_run3X.txt\n",
      "256 131072 10 True\n",
      "./datasets/2DPotts/2DPotts_q10_N256_R131072_nSteps10_run4X.txt\n",
      "256 131072 10 False\n",
      "./datasets/2DPotts/2DPottsHeating_q10_N256_R131072_nSteps10_run4X.txt\n",
      "256 131072 10 True\n",
      "./datasets/2DPotts/2DPotts_q10_N256_R131072_nSteps10_run5X.txt\n",
      "256 131072 10 False\n",
      "./datasets/2DPotts/2DPottsHeating_q10_N256_R131072_nSteps10_run5X.txt\n",
      "256 131072 10 True\n",
      "./datasets/2DPotts/2DPotts_q10_N256_R131072_nSteps10_run6X.txt\n",
      "256 131072 10 False\n",
      "./datasets/2DPotts/2DPottsHeating_q10_N256_R131072_nSteps10_run6X.txt\n",
      "256 131072 10 True\n",
      "./datasets/2DPotts/2DPotts_q10_N256_R131072_nSteps10_run7X.txt\n",
      "256 131072 10 False\n",
      "./datasets/2DPotts/2DPottsHeating_q10_N256_R131072_nSteps10_run7X.txt\n",
      "256 131072 10 True\n",
      "./datasets/2DPotts/2DPotts_q10_N256_R131072_nSteps10_run8X.txt\n",
      "256 131072 10 False\n",
      "./datasets/2DPotts/2DPottsHeating_q10_N256_R131072_nSteps10_run8X.txt\n",
      "256 131072 10 True\n",
      "./datasets/2DPotts/2DPotts_q10_N256_R131072_nSteps10_run9X.txt\n",
      "256 131072 10 False\n",
      "./datasets/2DPotts/2DPottsHeating_q10_N256_R131072_nSteps10_run9X.txt\n",
      "256 131072 10 True\n"
     ]
    }
   ],
   "source": [
    "q = 10;\n",
    "L = 16;\n",
    "R = 131072;\n",
    "seed_list = [0, 1, 2, 3, 4, 5, 6, 7, 8, 9];\n",
    "heat, cool = [{\n",
    "    \"q\": q,\n",
    "    \"L\": L,\n",
    "    \"R\" : R,\n",
    "    \"nSteps\" : 10,\n",
    "    \"seed\" : seed,\n",
    "    \"heat\": True\n",
    "} for seed in seed_list], [{\n",
    "    \"q\": q,\n",
    "    \"L\": L,\n",
    "    \"R\" : R,\n",
    "    \"nSteps\" : 10,\n",
    "    \"seed\" : seed,\n",
    "    \"heat\": False\n",
    "} for seed in seed_list]\n",
    "\n",
    "parameters = []\n",
    "for x in zip(cool, heat):\n",
    "    parameters.append(read_tuple_files(x))\n"
   ]
  },
  {
   "cell_type": "code",
   "execution_count": 27,
   "metadata": {},
   "outputs": [
    {
     "data": {
      "text/plain": [
       "[0, 1, 2, 3, 4, 5, 6, 7, 8, 9]"
      ]
     },
     "execution_count": 27,
     "metadata": {},
     "output_type": "execute_result"
    }
   ],
   "source": [
    "[seed for seed in seed_list]"
   ]
  },
  {
   "cell_type": "code",
   "execution_count": 28,
   "metadata": {},
   "outputs": [],
   "source": [
    "for i, x in enumerate(parameters):\n",
    "    parameters[i][\"stitched\"] = stitch_S(x[\"heat\"], x[\"cool\"])"
   ]
  },
  {
   "cell_type": "code",
   "execution_count": null,
   "metadata": {},
   "outputs": [],
   "source": []
  },
  {
   "cell_type": "code",
   "execution_count": 30,
   "metadata": {},
   "outputs": [
    {
     "data": {
      "image/png": "[encoded data removed]",
      "text/plain": [
       "<Figure size 1152x648 with 1 Axes>"
      ]
     },
     "metadata": {
      "needs_background": "light"
     },
     "output_type": "display_data"
    }
   ],
   "source": [
    "i = 0\n",
    "heat, cool, st = parameters[i][\"heat\"], parameters[i][\"cool\"], parameters[i][\"stitched\"]\n",
    "\n",
    "plt.figure(figsize=(16, 9))\n",
    "\n",
    "plt.plot([E for E in heat[\"S\"]],\n",
    "         [S + 100 for E, S in heat[\"S\"].items()]\n",
    "         , 'o', label=\"heat, L={}\".format(cool[\"L\"]), markersize=2)\n",
    "\n",
    "plt.plot([E for E in cool[\"S\"]],\n",
    "         [S + 100 for E, S in cool[\"S\"].items()]\n",
    "         , 'o', label=\"cool, L={}\".format(cool[\"L\"]), markersize=2)\n",
    "\n",
    "plt.plot([E for E in st[\"S\"]],\n",
    "         [S for E, S in st[\"S\"].items()]\n",
    "         , 'o', label=\"stitched, L={}\".format(st[\"L\"]), markersize=2)\n",
    "\n",
    "plt.ylabel(\"$S(E)$\")\n",
    "plt.xlabel(\"E\")\n",
    "\n",
    "plt.title('q={}'.format(q))\n",
    "plt.legend()\n",
    "plt.grid()\n",
    "#plt.savefig(\"./S_stitched(E)_D{}_L{}.png\".format(heat[\"D\"], heat[\"L\"]))"
   ]
  },
  {
   "cell_type": "code",
   "execution_count": null,
   "metadata": {},
   "outputs": [],
   "source": []
  },
  {
   "cell_type": "code",
   "execution_count": 31,
   "metadata": {},
   "outputs": [
    {
     "name": "stdout",
     "output_type": "stream",
     "text": [
      "Mpmath settings:\n",
      "  mp.prec = 169               [default: 53]\n",
      "  mp.dps = 50                 [default: 15]\n",
      "  mp.trap_complex = False     [default: False]\n"
     ]
    }
   ],
   "source": [
    "import mpmath as mp\n",
    "mp.mp.dps = 50\n",
    "mp.mp.pretty = True\n",
    "print(mp.mp)"
   ]
  },
  {
   "cell_type": "code",
   "execution_count": 32,
   "metadata": {},
   "outputs": [
    {
     "data": {
      "text/plain": [
       "(1.4260624389053682, 0.7012315679302166)"
      ]
     },
     "execution_count": 32,
     "metadata": {},
     "output_type": "execute_result"
    }
   ],
   "source": [
    "beta_0 = np.log(1 + np.sqrt(q))\n",
    "beta_0, 1 / beta_0"
   ]
  },
  {
   "cell_type": "code",
   "execution_count": 57,
   "metadata": {},
   "outputs": [
    {
     "data": {
      "application/vnd.jupyter.widget-view+json": {
       "model_id": "73d05add136b4415b2b9c965310c8199",
       "version_major": 2,
       "version_minor": 0
      },
      "text/plain": [
       "HBox(children=(IntProgress(value=0, max=2), HTML(value='')))"
      ]
     },
     "metadata": {},
     "output_type": "display_data"
    },
    {
     "data": {
      "application/vnd.jupyter.widget-view+json": {
       "model_id": "3dd1c0ce890c427791ef373b02a0e3d8",
       "version_major": 2,
       "version_minor": 0
      },
      "text/plain": [
       "HBox(children=(IntProgress(value=0, max=1000), HTML(value='')))"
      ]
     },
     "metadata": {},
     "output_type": "display_data"
    },
    {
     "name": "stdout",
     "output_type": "stream",
     "text": [
      "\n"
     ]
    },
    {
     "data": {
      "application/vnd.jupyter.widget-view+json": {
       "model_id": "971f91856a6f43c095762f2397a2a540",
       "version_major": 2,
       "version_minor": 0
      },
      "text/plain": [
       "HBox(children=(IntProgress(value=0, max=1000), HTML(value='')))"
      ]
     },
     "metadata": {},
     "output_type": "display_data"
    },
    {
     "name": "stdout",
     "output_type": "stream",
     "text": [
      "\n",
      "\n"
     ]
    }
   ],
   "source": [
    "hc = {}\n",
    "E = {}\n",
    "BC = {}\n",
    "\n",
    "for parameter in tqdm(parameters[:1]):\n",
    "    heat, cool, st = parameter[\"heat\"], parameter[\"cool\"], parameter[\"stitched\"]\n",
    "    L = st['L']\n",
    "    N = L * L\n",
    "\n",
    "    hc[L] = {}\n",
    "    E[L] = {}\n",
    "    BC[L] = {}\n",
    "    for T in tqdm(np.linspace(0.4, 2.0, 1000)):\n",
    "        _, hc[L][T], E[L][T], BC[L][T] = calc_hc(st, T)\n"
   ]
  },
  {
   "cell_type": "code",
   "execution_count": 60,
   "metadata": {},
   "outputs": [
    {
     "data": {
      "image/png": "[encoded data removed]",
      "text/plain": [
       "<Figure size 1152x648 with 1 Axes>"
      ]
     },
     "metadata": {
      "needs_background": "light"
     },
     "output_type": "display_data"
    },
    {
     "data": {
      "image/png": "[encoded data removed]",
      "text/plain": [
       "<Figure size 1152x648 with 1 Axes>"
      ]
     },
     "metadata": {
      "needs_background": "light"
     },
     "output_type": "display_data"
    }
   ],
   "source": [
    "for L in L_list:\n",
    "    plt.figure(figsize=(16, 9))\n",
    "\n",
    "    plt.plot([float(T) for T in E[L]], [float(E) / (L * L) for T, E in E[L].items()], 'o', markerSize = 4)\n",
    "    plt.grid()\n",
    "    plt.title(\"$q={}$\".format(q), fontsize=16)\n",
    "    plt.ylabel('$E_{avg} / L^2$', fontsize=16)\n",
    "    plt.xlabel('$T$', fontsize=16)\n",
    "    plt.savefig(\"./E_avg(T)_Potts_q{}_L{}.png\".format(q, L))\n",
    "\n",
    "    with open(\"./tmp/E_avg(T)_Potts_q{}_L{}.txt\".format(q, L), 'w') as fp:\n",
    "        json.dump(E, fp);"
   ]
  },
  {
   "cell_type": "code",
   "execution_count": 61,
   "metadata": {},
   "outputs": [
    {
     "data": {
      "image/png": "[encoded data removed]",
      "text/plain": [
       "<Figure size 1152x648 with 1 Axes>"
      ]
     },
     "metadata": {
      "needs_background": "light"
     },
     "output_type": "display_data"
    },
    {
     "data": {
      "image/png": "[encoded data removed]",
      "text/plain": [
       "<Figure size 1152x648 with 1 Axes>"
      ]
     },
     "metadata": {
      "needs_background": "light"
     },
     "output_type": "display_data"
    }
   ],
   "source": [
    "for L in L_list:\n",
    "    plt.figure(figsize=(16, 9))\n",
    "\n",
    "    plt.plot([float(T) for T in hc[L]], [float(C) / (L * L) for T, C in hc[L].items()], 'o', markerSize = 4)\n",
    "    plt.grid()\n",
    "    plt.title(\"$q={}$\".format(q), fontsize=16)\n",
    "    plt.ylabel('$C / L^2$', fontsize=16)\n",
    "    plt.xlabel('$T$', fontsize=16)\n",
    "    plt.savefig(\"./C(T)_Potts_q{}_L{}.png\".format(q, L))\n",
    "\n",
    "    with open(\"./tmp/hc(T)_Potts_q{}_L{}.txt\".format(q, L), 'w') as fp:\n",
    "        json.dump(hc, fp);"
   ]
  },
  {
   "cell_type": "code",
   "execution_count": 66,
   "metadata": {},
   "outputs": [],
   "source": [
    "a, b = 0.6, 0.8"
   ]
  },
  {
   "cell_type": "code",
   "execution_count": 68,
   "metadata": {},
   "outputs": [
    {
     "data": {
      "application/vnd.jupyter.widget-view+json": {
       "model_id": "ca4de9a6869944ed94e93c4ee8b55c77",
       "version_major": 2,
       "version_minor": 0
      },
      "text/plain": [
       "HBox(children=(IntProgress(value=0, max=2), HTML(value='')))"
      ]
     },
     "metadata": {},
     "output_type": "display_data"
    },
    {
     "name": "stdout",
     "output_type": "stream",
     "text": [
      "\n",
      "Optimization terminated successfully;\n",
      "The returned value satisfies the termination criteria\n",
      "(using xtol =  1e-05 )\n",
      "\n",
      "Optimization terminated successfully;\n",
      "The returned value satisfies the termination criteria\n",
      "(using xtol =  1e-05 )\n",
      "\n"
     ]
    },
    {
     "data": {
      "text/plain": [
       "{30: {'T_crit': 0.7029166718806295, 'C_crit': 235.10827594606167},\n",
       " 40: {'T_crit': 0.7021337263930344, 'C_crit': 402.540508914299}}"
      ]
     },
     "execution_count": 68,
     "metadata": {},
     "output_type": "execute_result"
    }
   ],
   "source": [
    "T_crit = {}\n",
    "for x in tqdm(parameters):\n",
    "    st = x[\"stitched\"]\n",
    "    L = st[\"L\"]\n",
    "    t, c, _, _ = fminbound(lambda T: - calc_hc(st, T)[1], a, b, maxfun=500, full_output=1, disp=2)\n",
    "    T_crit[L] = {\n",
    "        \"T_crit\": float(t),\n",
    "        \"C_crit\": float(-c / (L * L))\n",
    "    }\n",
    "T_crit"
   ]
  },
  {
   "cell_type": "code",
   "execution_count": 70,
   "metadata": {},
   "outputs": [],
   "source": [
    "with open(\"./tmp/T_crit_Potts_q{}.txt\".format(q), 'w') as fp:\n",
    "    for L in T_crit:\n",
    "        fp.write('{}\\t{}\\t{}\\n'.format(L, T_crit[L]['T_crit'], T_crit[L]['C_crit']))"
   ]
  },
  {
   "cell_type": "code",
   "execution_count": null,
   "metadata": {},
   "outputs": [],
   "source": []
  },
  {
   "cell_type": "code",
   "execution_count": 72,
   "metadata": {},
   "outputs": [],
   "source": [
    "d = {L: {} for L in L_list}"
   ]
  },
  {
   "cell_type": "code",
   "execution_count": null,
   "metadata": {},
   "outputs": [],
   "source": []
  },
  {
   "cell_type": "code",
   "execution_count": null,
   "metadata": {},
   "outputs": [],
   "source": []
  },
  {
   "cell_type": "code",
   "execution_count": 97,
   "metadata": {},
   "outputs": [
    {
     "data": {
      "image/png": "[encoded data removed]",
      "text/plain": [
       "<Figure size 1152x648 with 1 Axes>"
      ]
     },
     "metadata": {
      "needs_background": "light"
     },
     "output_type": "display_data"
    }
   ],
   "source": [
    "plt.figure(figsize=(16, 9))\n",
    "i = 0\n",
    "s = [\"1/log(1 + sqrt(q))\", \"1/log(1 + sqrt(q)) + 0.00085\"]\n",
    "for j, T in enumerate([1 / beta, 1 / beta + 0.00085]):\n",
    "    heat, cool, st = parameters[i][\"heat\"], parameters[i][\"cool\"], parameters[i][\"stitched\"]\n",
    "    L = st['L']\n",
    "    if (T in d[L]):\n",
    "        y = d[L][T]\n",
    "    else:\n",
    "        y = np.array([mp.exp(mp.mpf(S) - mp.mpf(E) / T) for E, S in st[\"S\"].items()])\n",
    "        Z = sum(y)\n",
    "        y /= Z\n",
    "        d[L][T] = y\n",
    "    x = np.array([E / (L * L) for E in st[\"S\"]])\n",
    "\n",
    "    plt.plot(x, y, 'o', label=\"stitched, T={}, L={}\".format(s[j], L))\n",
    "\n",
    "plt.ylabel('$P(E) = e^{S(E) - E / T} / Z$')\n",
    "plt.xlabel(\"E\")\n",
    "#plt.xlim([0, 0.01])\n",
    "#plt.ylim([0, 0.01])\n",
    "#plt.yscale('log')\n",
    "plt.title(\"q={}\".format(q))\n",
    "plt.legend()\n",
    "plt.grid()\n",
    "plt.savefig(\"./P(E)_Potts_q{}_L{}.png\".format(q, st[\"L\"]))\n",
    "\n",
    "with open(\"./tmp/P(E)_Potts_q{}_L{}.txt\".format(q, st[\"L\"]), 'w') as fp:\n",
    "    for E, P in zip(x, y):\n",
    "        fp.write('{}\\t{}\\n'.format(E, P))"
   ]
  },
  {
   "cell_type": "code",
   "execution_count": null,
   "metadata": {},
   "outputs": [],
   "source": []
  },
  {
   "cell_type": "code",
   "execution_count": null,
   "metadata": {},
   "outputs": [],
   "source": []
  },
  {
   "cell_type": "code",
   "execution_count": null,
   "metadata": {},
   "outputs": [],
   "source": []
  },
  {
   "cell_type": "code",
   "execution_count": 212,
   "metadata": {},
   "outputs": [],
   "source": [
    "def gauss(x, mu, sigma, A):\n",
    "    return A * np.exp(-( x - mu ) ** 2 / 2 / sigma ** 2)\n",
    "\n",
    "def bimodal(x, mu1, sigma1, A1, mu2, sigma2, A2):\n",
    "    return gauss(x, mu1, sigma1, A1) + gauss(x, mu2, sigma2, A2)"
   ]
  },
  {
   "cell_type": "code",
   "execution_count": null,
   "metadata": {},
   "outputs": [],
   "source": []
  },
  {
   "cell_type": "code",
   "execution_count": 213,
   "metadata": {},
   "outputs": [],
   "source": [
    "for T in [1 / beta]:\n",
    "        heat, cool, st = parameters[i][\"heat\"], parameters[i][\"cool\"], parameters[i][\"stitched\"]\n",
    "        L = st['L']\n",
    "        if (T in d[L]):\n",
    "            y = d[L][T]\n",
    "        else:\n",
    "            y = np.array([mp.exp(mp.mpf(S) - mp.mpf(E) / T) for E, S in st[\"S\"].items()])\n",
    "            Z = sum(y)\n",
    "            y /= Z\n",
    "            d[L][T] = y\n",
    "        x = np.array([E / (L * L) for E in st[\"S\"]])\n",
    "\n",
    "x, y = list( zip(*sorted(zip(x, y), key=lambda x: x[0])) )\n",
    "x = np.array(x)\n",
    "y = np.array(y)"
   ]
  },
  {
   "cell_type": "code",
   "execution_count": null,
   "metadata": {},
   "outputs": [],
   "source": []
  },
  {
   "cell_type": "code",
   "execution_count": null,
   "metadata": {},
   "outputs": [],
   "source": []
  },
  {
   "cell_type": "code",
   "execution_count": null,
   "metadata": {},
   "outputs": [],
   "source": []
  },
  {
   "cell_type": "code",
   "execution_count": null,
   "metadata": {},
   "outputs": [],
   "source": []
  },
  {
   "cell_type": "code",
   "execution_count": null,
   "metadata": {},
   "outputs": [],
   "source": []
  },
  {
   "cell_type": "code",
   "execution_count": 152,
   "metadata": {},
   "outputs": [],
   "source": [
    "for T in [1 / beta]:\n",
    "        heat, cool, st = parameters[i][\"heat\"], parameters[i][\"cool\"], parameters[i][\"stitched\"]\n",
    "        L = st['L']\n",
    "        if (T in d[L]):\n",
    "            y = d[L][T]\n",
    "        else:\n",
    "            y = np.array([mp.exp(mp.mpf(S) - mp.mpf(E) / T) for E, S in st[\"S\"].items()])\n",
    "            Z = sum(y)\n",
    "            y /= Z\n",
    "            d[L][T] = y\n",
    "        x = np.array([E / (L * L) for E in st[\"S\"]])\n",
    "\n",
    "x, y = list( zip(*sorted(zip(x, y), key=lambda x: x[0])) )\n",
    "x = np.array(x[10:11000])\n",
    "y = np.array([mp.log(z) for z in y[10:11000]])"
   ]
  },
  {
   "cell_type": "code",
   "execution_count": 153,
   "metadata": {},
   "outputs": [],
   "source": [
    "def gauss(x, mu, sigma, A):\n",
    "    return np.log(A) + (-( x - mu ) ** 2 / 2 / sigma ** 2)\n",
    "\n",
    "def bimodal(x, mu1, sigma1, A1, mu2, sigma2, A2):\n",
    "    return gauss(x, mu1, sigma1, A1) + gauss(x, mu2, sigma2, A2)"
   ]
  },
  {
   "cell_type": "code",
   "execution_count": null,
   "metadata": {},
   "outputs": [],
   "source": []
  },
  {
   "cell_type": "code",
   "execution_count": 202,
   "metadata": {},
   "outputs": [
    {
     "data": {
      "image/png": "[encoded data removed]",
      "text/plain": [
       "<Figure size 1152x648 with 1 Axes>"
      ]
     },
     "metadata": {
      "needs_background": "light"
     },
     "output_type": "display_data"
    },
    {
     "name": "stdout",
     "output_type": "stream",
     "text": [
      "              params         sigma\n",
      "mu1    -1.720000e+00  1.123605e-04\n",
      "sigma1 -9.000000e-03  9.359639e-05\n",
      "A1      1.928750e-22  2.348527e-06\n",
      "mu2    -1.200000e+00  8.075276e-04\n",
      "sigma2 -9.000000e-03  5.638156e-04\n",
      "A2      1.928750e-22  7.814593e-07\n"
     ]
    }
   ],
   "source": [
    "plt.figure(figsize=(16, 9))\n",
    "\n",
    "\n",
    "\n",
    "plt.plot(x, y, 'o', label=\"stitched, T={}, L={}\".format(T, L))\n",
    "\n",
    "plt.ylabel('$P(E) = e^{S(E) - E / T} / Z$')\n",
    "plt.xlabel(\"E\")\n",
    "#plt.xlim([0, 0.01])\n",
    "#plt.ylim([0, 0.01])\n",
    "#plt.yscale('log')\n",
    "plt.title(\"q={}\".format(q))\n",
    "\n",
    "\n",
    "#                   (mu1, sigma1, A1, mu2, sigma2, A2)\n",
    "params = expected = (-1.72, -0.009, np.exp(-50), -1.2, -0.009, np.exp(-50))\n",
    "#params, cov = curve_fit(bimodal, x, y, expected)\n",
    "#sigma=np.sqrt(np.diag(cov))\n",
    "x_fit = np.linspace(x.min(), x.max(), 500)\n",
    "#plot combined...\n",
    "#plt.plot(x_fit, bimodal(x_fit, *params), color='red', lw=3, label='model')\n",
    "#...and individual Gauss curves\n",
    "plt.plot(x_fit[0:250], gauss(x_fit[0:250], *params[:3]), color='red', lw=3, ls=\"--\", label='main distribution')\n",
    "\n",
    "#plt.plot(x, y - gauss(x, *params[:3]), lw=1, ls=\":\", label='experimental - main distribution')\n",
    "plt.plot(x_fit[250:], gauss(x_fit[250:], *params[3:]), color='red', lw=1, ls=\":\", label='distribution 2')\n",
    "#and the original data points if no histogram has been created before\n",
    "#plt.scatter(x, y, marker=\"X\", color=\"black\", label=\"original data\")\n",
    "#plt.xlim([-1.8, -1.1])\n",
    "#plt.yscale('log')\n",
    "plt.legend()\n",
    "plt.grid()\n",
    "plt.show() \n",
    "print(pd.DataFrame(data={'params': params, 'sigma': sigma}, index=bimodal.__code__.co_varnames[1:]))\n"
   ]
  },
  {
   "cell_type": "code",
   "execution_count": null,
   "metadata": {},
   "outputs": [],
   "source": [
    "beta_0 = np.log(1 + np.sqrt(q))\n",
    "beta_0, 1 / beta_0"
   ]
  },
  {
   "cell_type": "code",
   "execution_count": null,
   "metadata": {},
   "outputs": [],
   "source": [
    "plt.figure(figsize=(16, 9))\n",
    "i = 0\n",
    "s = [\"1/log(1 + sqrt(q))\", \"1/log(1 + sqrt(q)) + 0.00085\"]\n",
    "for j, T in enumerate([1 / beta, 1 / beta + 0.00085]):\n",
    "    heat, cool, st = parameters[i][\"heat\"], parameters[i][\"cool\"], parameters[i][\"stitched\"]\n",
    "    L = st['L']\n",
    "    if (T in d[L]):\n",
    "        y = d[L][T]\n",
    "    else:\n",
    "        y = np.array([mp.exp(mp.mpf(S) - mp.mpf(E) / T) for E, S in st[\"S\"].items()])\n",
    "        Z = sum(y)\n",
    "        y /= Z\n",
    "        d[L][T] = y\n",
    "    x = np.array([E / (L * L) for E in st[\"S\"]])\n",
    "\n",
    "    plt.plot(x, y, 'o', label=\"stitched, T={}, L={}\".format(s[j], L))\n",
    "\n",
    "plt.ylabel('$P(E) = e^{S(E) - E / T} / Z$')\n",
    "plt.xlabel(\"E\")\n",
    "#plt.xlim([0, 0.01])\n",
    "#plt.ylim([0, 0.01])\n",
    "#plt.yscale('log')\n",
    "plt.title(\"q={}\".format(q))\n",
    "plt.legend()\n",
    "plt.grid()\n",
    "plt.savefig(\"./P(E)_Potts_q{}_L{}.png\".format(q, st[\"L\"]))\n",
    "\n",
    "with open(\"./tmp/P(E)_Potts_q{}_L{}.txt\".format(q, st[\"L\"]), 'w') as fp:\n",
    "    for E, P in zip(x, y):\n",
    "        fp.write('{}\\t{}\\n'.format(E, P))"
   ]
  },
  {
   "cell_type": "code",
   "execution_count": null,
   "metadata": {},
   "outputs": [],
   "source": []
  },
  {
   "cell_type": "code",
   "execution_count": null,
   "metadata": {},
   "outputs": [],
   "source": []
  },
  {
   "cell_type": "code",
   "execution_count": null,
   "metadata": {},
   "outputs": [],
   "source": []
  },
  {
   "cell_type": "code",
   "execution_count": null,
   "metadata": {},
   "outputs": [],
   "source": []
  },
  {
   "cell_type": "code",
   "execution_count": null,
   "metadata": {},
   "outputs": [],
   "source": []
  },
  {
   "cell_type": "code",
   "execution_count": null,
   "metadata": {},
   "outputs": [],
   "source": []
  },
  {
   "cell_type": "code",
   "execution_count": null,
   "metadata": {},
   "outputs": [],
   "source": []
  },
  {
   "cell_type": "code",
   "execution_count": null,
   "metadata": {},
   "outputs": [],
   "source": []
  },
  {
   "cell_type": "code",
   "execution_count": null,
   "metadata": {},
   "outputs": [],
   "source": []
  },
  {
   "cell_type": "code",
   "execution_count": null,
   "metadata": {},
   "outputs": [],
   "source": []
  },
  {
   "cell_type": "code",
   "execution_count": null,
   "metadata": {},
   "outputs": [],
   "source": []
  },
  {
   "cell_type": "code",
   "execution_count": null,
   "metadata": {},
   "outputs": [],
   "source": []
  },
  {
   "cell_type": "code",
   "execution_count": null,
   "metadata": {},
   "outputs": [],
   "source": []
  },
  {
   "cell_type": "code",
   "execution_count": null,
   "metadata": {},
   "outputs": [],
   "source": []
  },
  {
   "cell_type": "code",
   "execution_count": null,
   "metadata": {},
   "outputs": [],
   "source": []
  },
  {
   "cell_type": "code",
   "execution_count": null,
   "metadata": {},
   "outputs": [],
   "source": []
  },
  {
   "cell_type": "code",
   "execution_count": null,
   "metadata": {},
   "outputs": [],
   "source": []
  },
  {
   "cell_type": "code",
   "execution_count": null,
   "metadata": {},
   "outputs": [],
   "source": []
  },
  {
   "cell_type": "code",
   "execution_count": null,
   "metadata": {},
   "outputs": [],
   "source": []
  },
  {
   "cell_type": "code",
   "execution_count": null,
   "metadata": {},
   "outputs": [],
   "source": []
  },
  {
   "cell_type": "code",
   "execution_count": null,
   "metadata": {},
   "outputs": [],
   "source": []
  },
  {
   "cell_type": "code",
   "execution_count": null,
   "metadata": {},
   "outputs": [],
   "source": []
  },
  {
   "cell_type": "code",
   "execution_count": null,
   "metadata": {},
   "outputs": [],
   "source": []
  },
  {
   "cell_type": "code",
   "execution_count": null,
   "metadata": {},
   "outputs": [],
   "source": []
  },
  {
   "cell_type": "code",
   "execution_count": null,
   "metadata": {},
   "outputs": [],
   "source": []
  }
 ],
 "metadata": {
  "kernelspec": {
   "display_name": "Python 3",
   "language": "python",
   "name": "python3"
  },
  "language_info": {
   "codemirror_mode": {
    "name": "ipython",
    "version": 3
   },
   "file_extension": ".py",
   "mimetype": "text/x-python",
   "name": "python",
   "nbconvert_exporter": "python",
   "pygments_lexer": "ipython3",
   "version": "3.7.4"
  }
 },
 "nbformat": 4,
 "nbformat_minor": 2
}
