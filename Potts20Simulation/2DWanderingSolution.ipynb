{
 "cells": [
  {
   "cell_type": "code",
   "execution_count": null,
   "metadata": {},
   "outputs": [],
   "source": [
    "import numpy as np, matplotlib.pyplot as plt, itertools\n",
    "from tqdm.notebook import tqdm as log_progress"
   ]
  },
  {
   "cell_type": "code",
   "execution_count": 2,
   "metadata": {},
   "outputs": [
    {
     "data": {
      "text/plain": [
       "4722366482869645213696"
      ]
     },
     "execution_count": 2,
     "metadata": {},
     "output_type": "execute_result"
    }
   ],
   "source": [
    "L, q = 6, 4\n",
    "N = L * L\n",
    "q ** N"
   ]
  },
  {
   "cell_type": "markdown",
   "metadata": {},
   "source": [
    "Фиксируем GS как нулевой. Относительно него,  для каждого из небольшого списка количества перевернутых спинов, считаем энергии. "
   ]
  },
  {
   "cell_type": "code",
   "execution_count": 3,
   "metadata": {},
   "outputs": [],
   "source": [
    "def calc_energy(state, N, L):\n",
    "    E = 0\n",
    "    for j in range(N):\n",
    "        column = j % L\n",
    "        row = j // L\n",
    "        down = (j + L) % N\n",
    "        E -= (state[j] == state[down])\n",
    "        if (row + column) % 2 == 0:\n",
    "            right = (j + 1) % L + L * row\n",
    "            E -= (state[j] == state[right])\n",
    "\n",
    "    return E"
   ]
  },
  {
   "cell_type": "code",
   "execution_count": 4,
   "metadata": {},
   "outputs": [],
   "source": [
    "d = {}"
   ]
  },
  {
   "cell_type": "markdown",
   "metadata": {},
   "source": [
    "GS"
   ]
  },
  {
   "cell_type": "code",
   "execution_count": 5,
   "metadata": {},
   "outputs": [],
   "source": [
    "state = [0 for _ in range(N)]\n",
    "d[0] = {calc_energy(state, N, L): 1}"
   ]
  },
  {
   "cell_type": "markdown",
   "metadata": {},
   "source": [
    "One Pin"
   ]
  },
  {
   "cell_type": "code",
   "execution_count": 6,
   "metadata": {},
   "outputs": [
    {
     "data": {
      "text/plain": [
       "{-51: 108}"
      ]
     },
     "execution_count": 6,
     "metadata": {},
     "output_type": "execute_result"
    }
   ],
   "source": [
    "k = 1\n",
    "d[k] = {}\n",
    "for k1, color1 in itertools.product(range(N), [1, 2, 3]):\n",
    "    state = [0 for _ in range(N)]\n",
    "    state[k1] = color1\n",
    "    E = calc_energy(state, N, L)\n",
    "    try:\n",
    "        d[k][E] += 1\n",
    "    except: \n",
    "        d[k][E] = 1\n",
    "d[k]"
   ]
  },
  {
   "cell_type": "code",
   "execution_count": 7,
   "metadata": {},
   "outputs": [
    {
     "data": {
      "text/plain": [
       "108"
      ]
     },
     "execution_count": 7,
     "metadata": {},
     "output_type": "execute_result"
    }
   ],
   "source": [
    "N * (q - 1)"
   ]
  },
  {
   "cell_type": "code",
   "execution_count": null,
   "metadata": {},
   "outputs": [],
   "source": []
  },
  {
   "cell_type": "markdown",
   "metadata": {},
   "source": [
    "Two Pins"
   ]
  },
  {
   "cell_type": "code",
   "execution_count": 8,
   "metadata": {},
   "outputs": [
    {
     "data": {
      "text/plain": [
       "{-50: 162, -49: 324, -48: 5184}"
      ]
     },
     "execution_count": 8,
     "metadata": {},
     "output_type": "execute_result"
    }
   ],
   "source": [
    "k = 2\n",
    "d[k] = {}\n",
    "for k1, color1 in itertools.product(range(N), [1, 2, 3]):\n",
    "    for k2, color2 in itertools.product(range(k1 + 1, N), [1, 2, 3]):\n",
    "        state = [0 for _ in range(N)]\n",
    "        state[k1] = color1\n",
    "        state[k2] = color2\n",
    "\n",
    "        E = calc_energy(state, N, L)\n",
    "        try:\n",
    "            d[k][E] += 1\n",
    "        except: \n",
    "            d[k][E] = 1\n",
    "d[k]"
   ]
  },
  {
   "cell_type": "markdown",
   "metadata": {},
   "source": [
    "Third Pins"
   ]
  },
  {
   "cell_type": "code",
   "execution_count": 66,
   "metadata": {},
   "outputs": [
    {
     "data": {
      "text/plain": [
       "{-47: 15876, -49: 324, -48: 1296, -46: 29160, -45: 146124}"
      ]
     },
     "execution_count": 66,
     "metadata": {},
     "output_type": "execute_result"
    }
   ],
   "source": [
    "k = 3\n",
    "d[k] = {}\n",
    "for k1, color1 in itertools.product(range(N), [1, 2, 3]):\n",
    "    for k2, color2 in itertools.product(range(k1 + 1, N), [1, 2, 3]):\n",
    "        for k3, color3 in itertools.product(range(k2 + 1, N), [1, 2, 3]):\n",
    "            state = [0 for _ in range(N)]\n",
    "            state[k1] = color1\n",
    "            state[k2] = color2\n",
    "            state[k3] = color3\n",
    "\n",
    "            E = calc_energy(state, N, L)\n",
    "            try:\n",
    "                d[k][E] += 1\n",
    "            except: \n",
    "                d[k][E] = 1\n",
    "d[k]"
   ]
  },
  {
   "cell_type": "markdown",
   "metadata": {},
   "source": [
    "Four Pins"
   ]
  },
  {
   "cell_type": "code",
   "execution_count": 10,
   "metadata": {},
   "outputs": [
    {
     "data": {
      "text/plain": [
       "{-46: 46251,\n",
       " -45: 154764,\n",
       " -44: 723168,\n",
       " -48: 756,\n",
       " -47: 4536,\n",
       " -43: 1148904,\n",
       " -42: 2692926}"
      ]
     },
     "execution_count": 10,
     "metadata": {},
     "output_type": "execute_result"
    }
   ],
   "source": [
    "k = 4\n",
    "d[k] = {}\n",
    "for k1, color1 in itertools.product(range(N), [1, 2, 3]):\n",
    "    for k2, color2 in itertools.product(range(k1 + 1, N), [1, 2, 3]):\n",
    "        for k3, color3 in itertools.product(range(k2 + 1, N), [1, 2, 3]):\n",
    "            for k4, color4 in itertools.product(range(k3 + 1, N), [1, 2, 3]):\n",
    "                state = [0 for _ in range(N)]\n",
    "                state[k1] = color1\n",
    "                state[k2] = color2\n",
    "                state[k3] = color3\n",
    "                state[k4] = color4\n",
    "\n",
    "                E = calc_energy(state, N, L)\n",
    "                try:\n",
    "                    d[k][E] += 1\n",
    "                except: \n",
    "                    d[k][E] = 1\n",
    "d[k]"
   ]
  },
  {
   "cell_type": "code",
   "execution_count": 11,
   "metadata": {},
   "outputs": [
    {
     "data": {
      "image/png": "[encoded data removed]",
      "text/plain": [
       "<Figure size 432x288 with 1 Axes>"
      ]
     },
     "metadata": {
      "needs_background": "light"
     },
     "output_type": "display_data"
    }
   ],
   "source": [
    "for k in d:\n",
    "    plt.plot([E for E, G in d[k].items()], [np.log(G) for E, G in d[k].items()], 'o', label = \"number of pins = {}\".format(k))\n",
    "plt.legend()\n",
    "plt.show()"
   ]
  },
  {
   "cell_type": "code",
   "execution_count": null,
   "metadata": {},
   "outputs": [],
   "source": []
  },
  {
   "cell_type": "code",
   "execution_count": 12,
   "metadata": {},
   "outputs": [],
   "source": [
    "df = {}\n",
    "for k in d:\n",
    "    for E in d[k]:\n",
    "        try:\n",
    "            df[E] += d[k][E]\n",
    "        except:\n",
    "            df[E] = d[k][E]\n"
   ]
  },
  {
   "cell_type": "code",
   "execution_count": 13,
   "metadata": {},
   "outputs": [
    {
     "data": {
      "image/png": "[encoded data removed]",
      "text/plain": [
       "<Figure size 432x288 with 1 Axes>"
      ]
     },
     "metadata": {
      "needs_background": "light"
     },
     "output_type": "display_data"
    }
   ],
   "source": [
    "plt.plot([E for E, G in df.items()], [np.log(G) for E, G in df.items()], 'o')\n",
    "plt.show()"
   ]
  },
  {
   "cell_type": "code",
   "execution_count": null,
   "metadata": {},
   "outputs": [],
   "source": []
  },
  {
   "cell_type": "code",
   "execution_count": 14,
   "metadata": {},
   "outputs": [
    {
     "data": {
      "text/plain": [
       "{-54: 1, -51: 108, -50: 162, -49: 648, -48: 7236}"
      ]
     },
     "execution_count": 14,
     "metadata": {},
     "output_type": "execute_result"
    }
   ],
   "source": [
    "{E: S for E, S in df.items() if E + 3*N//2 <= 6}"
   ]
  },
  {
   "cell_type": "code",
   "execution_count": 15,
   "metadata": {},
   "outputs": [],
   "source": [
    "def analytical_S(q, L):\n",
    "    N = L * L\n",
    "    E0 = - 3 * N // 2\n",
    "    result = {\n",
    "        E0: np.log(q),\n",
    "        E0 + 3: np.log(q) + np.log(N) + np.log(q - 1),\n",
    "        E0 + 4: np.log(q) + np.log(N) + np.log(q - 1) + np.log(3 / 2),\n",
    "        E0 + 5: np.log(6 * N * (q - 1) + N * q * (q - 1) * (N - 3)),\n",
    "        E0 + 6: np.log(6 * N * (q - 1) * (q - 2) * q + N * q * (q - 1) * (N - 3))\n",
    "    }\n",
    "    return result"
   ]
  },
  {
   "cell_type": "code",
   "execution_count": 16,
   "metadata": {},
   "outputs": [
    {
     "data": {
      "text/plain": [
       "{0: 4, 3: 432, 4: 648, 5: 14904, 6: 19440}"
      ]
     },
     "execution_count": 16,
     "metadata": {},
     "output_type": "execute_result"
    }
   ],
   "source": [
    "{E + 3*N//2: int(np.exp(S) + 0.5) for E, S in analytical_S(q, L).items()}"
   ]
  },
  {
   "cell_type": "code",
   "execution_count": 17,
   "metadata": {},
   "outputs": [
    {
     "data": {
      "image/png": "[encoded data removed]",
      "text/plain": [
       "<Figure size 432x288 with 1 Axes>"
      ]
     },
     "metadata": {
      "needs_background": "light"
     },
     "output_type": "display_data"
    }
   ],
   "source": [
    "plt.plot([E for E, G in df.items()], [np.log(G) for E, G in df.items()], 'o')\n",
    "plt.plot([E for E, G in analytical_S(q, L).items()], [G - 2 for E, G in analytical_S(q, L).items()], 'o')\n",
    "plt.show()"
   ]
  },
  {
   "cell_type": "code",
   "execution_count": 86,
   "metadata": {},
   "outputs": [
    {
     "name": "stdout",
     "output_type": "stream",
     "text": [
      "0 1 7 -49\n",
      "0 7 1 -49\n",
      "1 0 7 -49\n",
      "1 7 0 -49\n",
      "7 0 1 -49\n",
      "7 1 0 -49\n"
     ]
    },
    {
     "data": {
      "text/plain": [
       "({-47: 9720, -49: 648, -45: 32472}, 0)"
      ]
     },
     "execution_count": 86,
     "metadata": {},
     "output_type": "execute_result"
    }
   ],
   "source": [
    "k = 3\n",
    "d[k] = {}\n",
    "count = 0\n",
    "for k1, color1 in itertools.product(range(N), [1]):\n",
    "    for k2, color2 in itertools.product(range(N), [1]):\n",
    "        for k3, color3 in itertools.product(range(N), [1]):\n",
    "            if (k1 == k2 or k2 == k3 or k1 == k3):\n",
    "                continue\n",
    "            state = [0 for _ in range(N)]\n",
    "            state[k1] = color1\n",
    "            state[k2] = color2\n",
    "            state[k3] = color3\n",
    "            E = calc_energy(state, N, L)\n",
    "            if (set([k1, k2, k3]) == set([0, 1, 7])):\n",
    "                print(k1, k2, k3, E)\n",
    "            try:\n",
    "                d[k][E] += 1\n",
    "            except: \n",
    "                d[k][E] = 1\n",
    "d[k], count"
   ]
  },
  {
   "cell_type": "code",
   "execution_count": null,
   "metadata": {},
   "outputs": [],
   "source": []
  },
  {
   "cell_type": "code",
   "execution_count": 92,
   "metadata": {},
   "outputs": [
    {
     "name": "stdout",
     "output_type": "stream",
     "text": [
      "[0, 1, 6] -49\n",
      "[0, 1, 7] -49\n",
      "[0, 1, 30] -49\n",
      "[0, 1, 31] -49\n",
      "[0, 6, 11] -49\n",
      "[0, 6, 12] -49\n",
      "[0, 6, 30] -49\n",
      "[0, 24, 30] -49\n",
      "[0, 30, 35] -49\n",
      "[1, 7, 8] -49\n",
      "[1, 7, 13] -49\n",
      "[1, 7, 31] -49\n",
      "[1, 25, 31] -49\n",
      "[1, 31, 32] -49\n",
      "[2, 3, 8] -49\n",
      "[2, 3, 9] -49\n",
      "[2, 3, 32] -49\n",
      "[2, 3, 33] -49\n",
      "[2, 7, 8] -49\n",
      "[2, 8, 14] -49\n",
      "[2, 8, 32] -49\n",
      "[2, 26, 32] -49\n",
      "[2, 31, 32] -49\n",
      "[3, 9, 10] -49\n",
      "[3, 9, 15] -49\n",
      "[3, 9, 33] -49\n",
      "[3, 27, 33] -49\n",
      "[3, 33, 34] -49\n",
      "[4, 5, 10] -49\n",
      "[4, 5, 11] -49\n",
      "[4, 5, 34] -49\n",
      "[4, 5, 35] -49\n",
      "[4, 9, 10] -49\n",
      "[4, 10, 16] -49\n",
      "[4, 10, 34] -49\n",
      "[4, 28, 34] -49\n",
      "[4, 33, 34] -49\n",
      "[5, 6, 11] -49\n",
      "[5, 11, 17] -49\n",
      "[5, 11, 35] -49\n",
      "[5, 29, 35] -49\n",
      "[5, 30, 35] -49\n",
      "[6, 11, 12] -49\n",
      "[6, 11, 17] -49\n",
      "[6, 12, 13] -49\n",
      "[6, 12, 18] -49\n",
      "[7, 8, 13] -49\n",
      "[7, 8, 14] -49\n",
      "[7, 12, 13] -49\n",
      "[7, 13, 19] -49\n",
      "[8, 14, 15] -49\n",
      "[8, 14, 20] -49\n",
      "[9, 10, 15] -49\n",
      "[9, 10, 16] -49\n",
      "[9, 14, 15] -49\n",
      "[9, 15, 21] -49\n",
      "[10, 16, 17] -49\n",
      "[10, 16, 22] -49\n",
      "[11, 16, 17] -49\n",
      "[11, 17, 23] -49\n",
      "[12, 13, 18] -49\n",
      "[12, 13, 19] -49\n",
      "[12, 18, 23] -49\n",
      "[12, 18, 24] -49\n",
      "[13, 19, 20] -49\n",
      "[13, 19, 25] -49\n",
      "[14, 15, 20] -49\n",
      "[14, 15, 21] -49\n",
      "[14, 19, 20] -49\n",
      "[14, 20, 26] -49\n",
      "[15, 21, 22] -49\n",
      "[15, 21, 27] -49\n",
      "[16, 17, 22] -49\n",
      "[16, 17, 23] -49\n",
      "[16, 21, 22] -49\n",
      "[16, 22, 28] -49\n",
      "[17, 18, 23] -49\n",
      "[17, 23, 29] -49\n",
      "[18, 23, 24] -49\n",
      "[18, 23, 29] -49\n",
      "[18, 24, 25] -49\n",
      "[18, 24, 30] -49\n",
      "[19, 20, 25] -49\n",
      "[19, 20, 26] -49\n",
      "[19, 24, 25] -49\n",
      "[19, 25, 31] -49\n",
      "[20, 26, 27] -49\n",
      "[20, 26, 32] -49\n",
      "[21, 22, 27] -49\n",
      "[21, 22, 28] -49\n",
      "[21, 26, 27] -49\n",
      "[21, 27, 33] -49\n",
      "[22, 28, 29] -49\n",
      "[22, 28, 34] -49\n",
      "[23, 28, 29] -49\n",
      "[23, 29, 35] -49\n",
      "[24, 25, 30] -49\n",
      "[24, 25, 31] -49\n",
      "[24, 30, 35] -49\n",
      "[25, 31, 32] -49\n",
      "[26, 27, 32] -49\n",
      "[26, 27, 33] -49\n",
      "[26, 31, 32] -49\n",
      "[27, 33, 34] -49\n",
      "[28, 29, 34] -49\n",
      "[28, 29, 35] -49\n",
      "[28, 33, 34] -49\n",
      "[29, 30, 35] -49\n"
     ]
    },
    {
     "data": {
      "text/plain": [
       "{-47: 1620, -49: 108, -45: 5412}"
      ]
     },
     "execution_count": 92,
     "metadata": {},
     "output_type": "execute_result"
    }
   ],
   "source": [
    "k = 3\n",
    "d[k] = {}\n",
    "for k1, color1 in itertools.product(range(N), [1]):\n",
    "    for k2, color2 in itertools.product(range(k1 + 1, N), [1]):\n",
    "        for k3, color3 in itertools.product(range(k2 + 1, N), [1]):\n",
    "            state = [0 for _ in range(N)]\n",
    "            state[k1] = color1\n",
    "            state[k2] = color2\n",
    "            state[k3] = color3\n",
    "            E = calc_energy(state, N, L)\n",
    "            #if (set([k1, k2, k3]) == set([0, 1, 7])):\n",
    "            #    print(k1, k2, k3, E)\n",
    "            if (E == -49):\n",
    "                print([k1, k2, k3], E)\n",
    "\n",
    "            try:\n",
    "                d[k][E] += 1\n",
    "            except: \n",
    "                d[k][E] = 1\n",
    "d[k]"
   ]
  },
  {
   "cell_type": "code",
   "execution_count": null,
   "metadata": {},
   "outputs": [],
   "source": []
  },
  {
   "cell_type": "code",
   "execution_count": null,
   "metadata": {},
   "outputs": [],
   "source": []
  },
  {
   "cell_type": "code",
   "execution_count": 93,
   "metadata": {},
   "outputs": [
    {
     "data": {
      "image/png": "[encoded data removed]",
      "text/plain": [
       "<Figure size 648x648 with 1 Axes>"
      ]
     },
     "metadata": {
      "needs_background": "light"
     },
     "output_type": "display_data"
    }
   ],
   "source": [
    "def get_data(L):\n",
    "    data = []\n",
    "    N = L * L\n",
    "    for j in range(N):\n",
    "        column = j % L\n",
    "        row = j // L\n",
    "        down = (j + L) % N\n",
    "        data.append((j, down))\n",
    "        if (row + column) % 2 == 0:\n",
    "            right = (j + 1) % L + L * row\n",
    "            data.append((j, right))\n",
    "    return data\n",
    "def get_coords(i, L):\n",
    "    return i % L, i // L\n",
    "def sign(x):\n",
    "    if x > 0:\n",
    "        return 1\n",
    "    else:\n",
    "        return -1\n",
    "def plot_line(pair, L):\n",
    "    i, j = pair\n",
    "    ix, iy = get_coords(i, L)\n",
    "    jx, jy = get_coords(j, L)\n",
    "    if ix in (0, L - 1) and jx in (0, L - 1) and ix != jx:\n",
    "        dx = ix - jx\n",
    "        plt.plot([ix, ix+sign(dx)/2], [iy, iy], c='r')\n",
    "        plt.plot([jx, jx-sign(dx)/2], [jy, jy], c='r')\n",
    "    elif iy in (0, L - 1) and jy in (0, L - 1) and iy != jy:\n",
    "        dy = iy - jy\n",
    "        plt.plot([ix, ix], [iy, iy+sign(dy)/2], c='r')\n",
    "        plt.plot([jx, jx], [jy, jy-sign(dy)/2], c='r')\n",
    "    else:\n",
    "        plt.plot([ix, jx], [iy, jy], c='g')\n",
    "\n",
    "data = get_data(L)\n",
    "plt.figure(figsize=(9, 9))\n",
    "plt.plot([i for i in range(0, L) for j in range(0, L)], [j for i in range(0, L) for j in range(0, L)], 'o')\n",
    "for pair in data:\n",
    "    plot_line(pair, L)\n",
    "points = [0, 1, 7]\n",
    "plt.scatter([get_coords(i, L)[0] for i in points], [get_coords(i, L)[1] for i in points], marker='x', s=100, c='r')\n",
    "plt.grid()\n",
    "plt.show()"
   ]
  },
  {
   "cell_type": "code",
   "execution_count": null,
   "metadata": {},
   "outputs": [],
   "source": []
  },
  {
   "cell_type": "code",
   "execution_count": null,
   "metadata": {},
   "outputs": [],
   "source": []
  },
  {
   "cell_type": "code",
   "execution_count": null,
   "metadata": {},
   "outputs": [],
   "source": []
  },
  {
   "cell_type": "code",
   "execution_count": null,
   "metadata": {},
   "outputs": [],
   "source": []
  }
 ],
 "metadata": {
  "kernelspec": {
   "display_name": "Python 3",
   "language": "python",
   "name": "python3"
  },
  "language_info": {
   "codemirror_mode": {
    "name": "ipython",
    "version": 3
   },
   "file_extension": ".py",
   "mimetype": "text/x-python",
   "name": "python",
   "nbconvert_exporter": "python",
   "pygments_lexer": "ipython3",
   "version": "3.7.4"
  }
 },
 "nbformat": 4,
 "nbformat_minor": 2
}
