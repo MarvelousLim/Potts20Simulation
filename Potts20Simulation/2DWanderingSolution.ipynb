{
 "cells": [
  {
   "cell_type": "code",
   "execution_count": 1,
   "metadata": {},
   "outputs": [],
   "source": [
    "import numpy as np, matplotlib.pyplot as plt, itertools\n",
    "from tqdm.notebook import tqdm as log_progress"
   ]
  },
  {
   "cell_type": "code",
   "execution_count": 2,
   "metadata": {},
   "outputs": [
    {
     "data": {
      "text/plain": [
       "4722366482869645213696"
      ]
     },
     "execution_count": 2,
     "metadata": {},
     "output_type": "execute_result"
    }
   ],
   "source": [
    "L, q = 6, 4\n",
    "N = L * L\n",
    "q ** N"
   ]
  },
  {
   "cell_type": "markdown",
   "metadata": {},
   "source": [
    "Фиксируем GS как нулевой. Относительно него,  для каждого из небольшого списка количества перевернутых спинов, считаем энергии. "
   ]
  },
  {
   "cell_type": "code",
   "execution_count": 3,
   "metadata": {},
   "outputs": [],
   "source": [
    "def calc_energy(state, N, L):\n",
    "    E = 0\n",
    "    for j in range(N):\n",
    "        column = j // L\n",
    "        row = j % L\n",
    "        down = (j + L) % N\n",
    "        E -= (state[j] == state[down])\n",
    "        if (row + column) % 2 == 0:\n",
    "            right = (j + 1) % L + L * column\n",
    "            E -= (state[j] == state[right])\n",
    "    return E"
   ]
  },
  {
   "cell_type": "code",
   "execution_count": 4,
   "metadata": {},
   "outputs": [],
   "source": [
    "d = {}"
   ]
  },
  {
   "cell_type": "markdown",
   "metadata": {},
   "source": [
    "GS"
   ]
  },
  {
   "cell_type": "code",
   "execution_count": 5,
   "metadata": {},
   "outputs": [],
   "source": [
    "state = [0 for _ in range(N)]\n",
    "d[0] = {calc_energy(state, N, L): 1}"
   ]
  },
  {
   "cell_type": "markdown",
   "metadata": {},
   "source": [
    "One Pin"
   ]
  },
  {
   "cell_type": "code",
   "execution_count": 6,
   "metadata": {},
   "outputs": [
    {
     "data": {
      "text/plain": [
       "{-51: 108}"
      ]
     },
     "execution_count": 6,
     "metadata": {},
     "output_type": "execute_result"
    }
   ],
   "source": [
    "k = 1\n",
    "d[k] = {}\n",
    "for k1, color1 in itertools.product(range(N), [1, 2, 3]):\n",
    "    state = [0 for _ in range(N)]\n",
    "    state[k1] = color1\n",
    "    E = calc_energy(state, N, L)\n",
    "    try:\n",
    "        d[k][E] += 1\n",
    "    except: \n",
    "        d[k][E] = 1\n",
    "d[k]"
   ]
  },
  {
   "cell_type": "code",
   "execution_count": 7,
   "metadata": {},
   "outputs": [
    {
     "data": {
      "text/plain": [
       "108"
      ]
     },
     "execution_count": 7,
     "metadata": {},
     "output_type": "execute_result"
    }
   ],
   "source": [
    "N * (q - 1)"
   ]
  },
  {
   "cell_type": "code",
   "execution_count": null,
   "metadata": {},
   "outputs": [],
   "source": []
  },
  {
   "cell_type": "markdown",
   "metadata": {},
   "source": [
    "Two Pins"
   ]
  },
  {
   "cell_type": "code",
   "execution_count": 8,
   "metadata": {},
   "outputs": [
    {
     "data": {
      "text/plain": [
       "{-50: 162, -49: 324, -48: 5184}"
      ]
     },
     "execution_count": 8,
     "metadata": {},
     "output_type": "execute_result"
    }
   ],
   "source": [
    "k = 2\n",
    "d[k] = {}\n",
    "for k1, color1 in itertools.product(range(N), [1, 2, 3]):\n",
    "    for k2, color2 in itertools.product(range(k1 + 1, N), [1, 2, 3]):\n",
    "        state = [0 for _ in range(N)]\n",
    "        state[k1] = color1\n",
    "        state[k2] = color2\n",
    "\n",
    "        E = calc_energy(state, N, L)\n",
    "        try:\n",
    "            d[k][E] += 1\n",
    "        except: \n",
    "            d[k][E] = 1\n",
    "d[k]"
   ]
  },
  {
   "cell_type": "markdown",
   "metadata": {},
   "source": [
    "Third Pins"
   ]
  },
  {
   "cell_type": "code",
   "execution_count": 9,
   "metadata": {},
   "outputs": [
    {
     "data": {
      "text/plain": [
       "{-47: 15876, -49: 324, -48: 1296, -46: 29160, -45: 146124}"
      ]
     },
     "execution_count": 9,
     "metadata": {},
     "output_type": "execute_result"
    }
   ],
   "source": [
    "k = 3\n",
    "d[k] = {}\n",
    "for k1, color1 in itertools.product(range(N), [1, 2, 3]):\n",
    "    for k2, color2 in itertools.product(range(k1 + 1, N), [1, 2, 3]):\n",
    "        for k3, color3 in itertools.product(range(k2 + 1, N), [1, 2, 3]):\n",
    "            state = [0 for _ in range(N)]\n",
    "            state[k1] = color1\n",
    "            state[k2] = color2\n",
    "            state[k3] = color3\n",
    "\n",
    "            E = calc_energy(state, N, L)\n",
    "            try:\n",
    "                d[k][E] += 1\n",
    "            except: \n",
    "                d[k][E] = 1\n",
    "d[k]"
   ]
  },
  {
   "cell_type": "markdown",
   "metadata": {},
   "source": [
    "Four Pins"
   ]
  },
  {
   "cell_type": "code",
   "execution_count": 10,
   "metadata": {},
   "outputs": [
    {
     "data": {
      "text/plain": [
       "{-46: 46251,\n",
       " -45: 154764,\n",
       " -44: 723168,\n",
       " -48: 756,\n",
       " -47: 4536,\n",
       " -43: 1148904,\n",
       " -42: 2692926}"
      ]
     },
     "execution_count": 10,
     "metadata": {},
     "output_type": "execute_result"
    }
   ],
   "source": [
    "k = 4\n",
    "d[k] = {}\n",
    "for k1, color1 in itertools.product(range(N), [1, 2, 3]):\n",
    "    for k2, color2 in itertools.product(range(k1 + 1, N), [1, 2, 3]):\n",
    "        for k3, color3 in itertools.product(range(k2 + 1, N), [1, 2, 3]):\n",
    "            for k4, color4 in itertools.product(range(k3 + 1, N), [1, 2, 3]):\n",
    "                state = [0 for _ in range(N)]\n",
    "                state[k1] = color1\n",
    "                state[k2] = color2\n",
    "                state[k3] = color3\n",
    "                state[k4] = color4\n",
    "\n",
    "                E = calc_energy(state, N, L)\n",
    "                try:\n",
    "                    d[k][E] += 1\n",
    "                except: \n",
    "                    d[k][E] = 1\n",
    "d[k]"
   ]
  },
  {
   "cell_type": "code",
   "execution_count": 11,
   "metadata": {},
   "outputs": [
    {
     "data": {
      "image/png": "[encoded data removed]",
      "text/plain": [
       "<Figure size 432x288 with 1 Axes>"
      ]
     },
     "metadata": {
      "needs_background": "light"
     },
     "output_type": "display_data"
    }
   ],
   "source": [
    "for k in d:\n",
    "    plt.plot([E for E, G in d[k].items()], [np.log(G) for E, G in d[k].items()], 'o', label = \"number of pins = {}\".format(k))\n",
    "plt.legend()\n",
    "plt.show()"
   ]
  },
  {
   "cell_type": "code",
   "execution_count": null,
   "metadata": {},
   "outputs": [],
   "source": []
  },
  {
   "cell_type": "code",
   "execution_count": 15,
   "metadata": {},
   "outputs": [
    {
     "data": {
      "text/plain": [
       "{-54: 1,\n",
       " -51: 108,\n",
       " -50: 162,\n",
       " -49: 648,\n",
       " -48: 7236,\n",
       " -47: 20412,\n",
       " -46: 75411,\n",
       " -45: 300888,\n",
       " -44: 723168,\n",
       " -43: 1148904,\n",
       " -42: 2692926}"
      ]
     },
     "execution_count": 15,
     "metadata": {},
     "output_type": "execute_result"
    }
   ],
   "source": [
    "df = {}\n",
    "for k in d:\n",
    "    for E in d[k]:\n",
    "        try:\n",
    "            df[E] += d[k][E]\n",
    "        except:\n",
    "            df[E] = d[k][E]\n",
    "df"
   ]
  },
  {
   "cell_type": "code",
   "execution_count": 16,
   "metadata": {},
   "outputs": [
    {
     "data": {
      "image/png": "[encoded data removed]",
      "text/plain": [
       "<Figure size 432x288 with 1 Axes>"
      ]
     },
     "metadata": {
      "needs_background": "light"
     },
     "output_type": "display_data"
    }
   ],
   "source": [
    "plt.plot([E for E, G in df.items()], [np.log(G) for E, G in df.items()], 'o')\n",
    "plt.show()"
   ]
  },
  {
   "cell_type": "code",
   "execution_count": 21,
   "metadata": {},
   "outputs": [
    {
     "data": {
      "text/plain": [
       "{-54.0: 1, -51.0: 108, -50.0: 162.0}"
      ]
     },
     "execution_count": 21,
     "metadata": {},
     "output_type": "execute_result"
    }
   ],
   "source": [
    "{\n",
    "    -3 * N / 2: 1,\n",
    "    -3 * N / 2 + 3: N * (q - 1),\n",
    "    -3 * N / 2 + 4: 3 * N * (q - 1) / 2\n",
    "}"
   ]
  },
  {
   "cell_type": "code",
   "execution_count": 23,
   "metadata": {},
   "outputs": [
    {
     "data": {
      "text/plain": [
       "32.0"
      ]
     },
     "execution_count": 23,
     "metadata": {},
     "output_type": "execute_result"
    }
   ],
   "source": [
    "np.log(1.0 * 4**16) / np.log(2)"
   ]
  },
  {
   "cell_type": "code",
   "execution_count": null,
   "metadata": {},
   "outputs": [],
   "source": []
  }
 ],
 "metadata": {
  "kernelspec": {
   "display_name": "Python 3",
   "language": "python",
   "name": "python3"
  },
  "language_info": {
   "codemirror_mode": {
    "name": "ipython",
    "version": 3
   },
   "file_extension": ".py",
   "mimetype": "text/x-python",
   "name": "python",
   "nbconvert_exporter": "python",
   "pygments_lexer": "ipython3",
   "version": "3.7.4"
  }
 },
 "nbformat": 4,
 "nbformat_minor": 2
}
