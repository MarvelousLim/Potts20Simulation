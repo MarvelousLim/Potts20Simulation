{
 "cells": [
  {
   "cell_type": "code",
   "execution_count": 3,
   "metadata": {},
   "outputs": [
    {
     "name": "stdout",
     "output_type": "stream",
     "text": [
      "Overwriting magic_functions.py\n"
     ]
    }
   ],
   "source": [
    "%%writefile magic_functions.py\n",
    "\n",
    "def magic_function(f):\n",
    "    return f+10\n",
    "\n",
    "def process_frame(f):\n",
    "    # changed your logic here as I couldn't repro it\n",
    "    return f, magic_function(f)\n"
   ]
  },
  {
   "cell_type": "code",
   "execution_count": 4,
   "metadata": {},
   "outputs": [
    {
     "name": "stderr",
     "output_type": "stream",
     "text": [
      "100%|████████████████████████████████████████████████████████████████████████████████████| 7/7 [00:00<00:00, 38.28it/s]\n"
     ]
    },
    {
     "name": "stdout",
     "output_type": "stream",
     "text": [
      "[(0, 10), (1, 11), (2, 12), (3, 13), (4, 14), (5, 15), (6, 16)]\n",
      "dict: {0: 10, 1: 11, 2: 12, 3: 13, 4: 14, 5: 15, 6: 16}\n"
     ]
    }
   ],
   "source": [
    "from tqdm import tqdm\n",
    "\n",
    "from multiprocess import Pool\n",
    "from magic_functions import process_frame\n",
    "\n",
    "frames_list = [0, 1, 2, 3, 4, 5, 6]\n",
    "\n",
    "max_pool = 5\n",
    "\n",
    "with Pool(max_pool) as p:\n",
    "    pool_outputs = list(\n",
    "        tqdm(\n",
    "            p.imap(process_frame,\n",
    "                   frames_list),\n",
    "            total=len(frames_list)\n",
    "        )\n",
    "    )    \n",
    "\n",
    "print(pool_outputs)\n",
    "new_dict = dict(pool_outputs)\n",
    "\n",
    "print(\"dict:\", new_dict)\n"
   ]
  },
  {
   "cell_type": "code",
   "execution_count": 6,
   "metadata": {},
   "outputs": [
    {
     "ename": "NameError",
     "evalue": "name 'multiprocess' is not defined",
     "output_type": "error",
     "traceback": [
      "\u001b[1;31m---------------------------------------------------------------------------\u001b[0m",
      "\u001b[1;31mNameError\u001b[0m                                 Traceback (most recent call last)",
      "\u001b[1;32m<ipython-input-6-69fdc87cbc67>\u001b[0m in \u001b[0;36m<module>\u001b[1;34m\u001b[0m\n\u001b[1;32m----> 1\u001b[1;33m \u001b[0mmultiprocess\u001b[0m\u001b[1;33m.\u001b[0m\u001b[0mcpu_count\u001b[0m\u001b[1;33m(\u001b[0m\u001b[1;33m)\u001b[0m\u001b[1;33m\u001b[0m\u001b[1;33m\u001b[0m\u001b[0m\n\u001b[0m",
      "\u001b[1;31mNameError\u001b[0m: name 'multiprocess' is not defined"
     ]
    }
   ],
   "source": [
    "multiprocess.cpu_count()"
   ]
  },
  {
   "cell_type": "code",
   "execution_count": 30,
   "metadata": {},
   "outputs": [
    {
     "name": "stdout",
     "output_type": "stream",
     "text": [
      "1.0&\t8&\t1.4088&\t1.6331\\\\\n",
      "1.0&\t12&\t1.4113&\t1.9268\\\\\n",
      "1.0&\t16&\t1.4129&\t2.1357\\\\\n",
      "1.0&\t20&\t1.4100&\t2.2557\\\\\n",
      "1.0&\t24&\t1.4109&\t2.4303\\\\\n",
      "1.0&\t32&\t1.4054&\t2.6167\\\\\n",
      "1.0&\t48&\t1.4049&\t2.8835\\\\\n",
      "1.0&\t64&\t1.4032&\t3.0809\\\\\n",
      "1.0&\t96&\t1.4028&\t3.1738\\\\\n"
     ]
    }
   ],
   "source": [
    "D = 1.0\n",
    "with open(\"./tmp/T_crit_D{}.txt\".format(D), 'r') as f:\n",
    "    for line in f:\n",
    "        #print(l)\n",
    "        print('&\\t'.join([str(D)] + [l[:6] for l in line.split()]) + '\\\\\\\\')"
   ]
  },
  {
   "cell_type": "code",
   "execution_count": 36,
   "metadata": {},
   "outputs": [
    {
     "name": "stdout",
     "output_type": "stream",
     "text": [
      "l|l|l|l|l|l|l|l|l|l\n",
      "D=0.0&&&&&&&&&\n",
      "$L$&\t8&\t12&\t16&\t20&\t24&\t32&\t48&\t64&\t96\\\\\n",
      "$T_{crit}$&\t1.724&\t1.717&\t1.713&\t1.714&\t1.710&\t1.706&\t1.701&\t1.701&\t1.696\\\\\n",
      "$C_{crit}$&\t1.911&\t2.233&\t2.477&\t2.600&\t2.750&\t2.998&\t3.338&\t3.559&\t3.775\\\\\n"
     ]
    }
   ],
   "source": [
    "D = 0.0\n",
    "L = ['$L$']\n",
    "T = ['$T_{crit}$']\n",
    "C = ['$C_{crit}$']\n",
    "with open(\"./tmp/T_crit_D{}.txt\".format(D), 'r') as f:\n",
    "    for line in f:\n",
    "        l, t, c = line.split()\n",
    "        L.append(l[:5])\n",
    "        T.append(t[:5])\n",
    "        C.append(c[:5])\n",
    "print('|'.join(['l' for _ in range(10)]))\n",
    "print('&'.join(['D='+str(D)] + ['' for _ in range(len(L) - 1)]))\n",
    "print('&\\t'.join(L) + '\\\\\\\\')\n",
    "print('&\\t'.join(T) + '\\\\\\\\')\n",
    "print('&\\t'.join(C) + '\\\\\\\\')"
   ]
  },
  {
   "cell_type": "code",
   "execution_count": 77,
   "metadata": {},
   "outputs": [
    {
     "name": "stdout",
     "output_type": "stream",
     "text": [
      "\\begin{table}[h!]\n",
      "\\centering\n",
      "\\begin{tabular}{l|l|l|l|l|l|l|l|l}\n",
      "L&\t8&\t12&\t16&\t20&\t24&\t32&\t64\\\\\n",
      "$T_{crit}$&\t0.609&\t0.614&\t0.618&\t0.619&\t0.620&\t0.621&\t0.621\\\\\n",
      "$C_{crit}$&\t1.628&\t2.222&\t2.852&\t3.547&\t4.277&\t5.617&\t11.57\\\\\n",
      "\\end{tabular}\n",
      "\\caption{\n",
      "D = 1.962\n",
      "}\n",
      "\\label{}\n",
      "\\end{table}\n",
      "\n"
     ]
    }
   ],
   "source": [
    "D = 1.962\n",
    "#L = [8, 12, 16, 20, 24, 32, 48, 64, 96]\n",
    "L = []\n",
    "#T = ['$T_{crit}$']\n",
    "#C = ['$C_{crit}$']\n",
    "T, C = {}, {}\n",
    "with open(\"./tmp/T_crit_D{}.txt\".format(D), 'r') as f:\n",
    "    for line in f:\n",
    "        l, t, c = line.split()\n",
    "        L.append(int(l))\n",
    "        T[int(l)] = t[:5]\n",
    "        C[int(l)] = c[:5]\n",
    "print('''\\\\begin{table}[h!]\n",
    "\\\\centering\n",
    "\\\\begin{tabular}{''' + '|'.join(['l' for _ in range(len(L) + 2)]) + '}' )\n",
    "\n",
    "#print('&'.join(['D&'+str(D)] + ['' for _ in range(len(L) - 1)])  + '\\\\\\\\')\n",
    "print('&\\t'.join(['L'] + [str(l) for l in L]) + '\\\\\\\\')\n",
    "print('&\\t'.join(['$T_{crit}$'] + [T[l] if l in T else '' for l in L ]) + '\\\\\\\\')\n",
    "print('&\\t'.join(['$C_{crit}$'] + [C[l] if l in T else '' for l in L ]) + '\\\\\\\\')\n",
    "\n",
    "print('''\\\\end{tabular}\n",
    "\\\\caption{\n",
    "D = ''' + str(D) + '''\n",
    "}\n",
    "\\\\label{}\n",
    "\\\\end{table}\n",
    "''')"
   ]
  },
  {
   "cell_type": "code",
   "execution_count": 55,
   "metadata": {},
   "outputs": [
    {
     "data": {
      "text/plain": [
       "['$T_{crit}$',\n",
       " '1.724',\n",
       " '1.717',\n",
       " '1.713',\n",
       " '1.714',\n",
       " '1.710',\n",
       " '1.706',\n",
       " '1.701',\n",
       " '1.701',\n",
       " '1.696']"
      ]
     },
     "execution_count": 55,
     "metadata": {},
     "output_type": "execute_result"
    }
   ],
   "source": [
    "\n",
    "\\begin{table}[h!]\n",
    "\\centering\n",
    "\\begin{tabular}{l|l|l|l|l|l|l|l|l|l|l}\n",
    "\n",
    "\\end{tabular}\n",
    "\\caption{\n",
    "D = 0.5\n",
    "}\n",
    "\\label{}\n",
    "\\end{table}\n"
   ]
  },
  {
   "cell_type": "code",
   "execution_count": 3,
   "metadata": {},
   "outputs": [],
   "source": [
    "import matplotlib.pyplot as plt"
   ]
  },
  {
   "cell_type": "code",
   "execution_count": 9,
   "metadata": {},
   "outputs": [],
   "source": [
    "heat_list = [0, 1]\n",
    "L_list = [8, 12, 16, 20, 24, 32] + [48]#, 64, 80, 96]\n",
    "#D_div_list, D_base_list = [0, 5, 16, 17, 1964, 1965, 1966, 1967], [1, 10, 10, 10, 1000, 1000, 1000, 1000]\n",
    "D = [\n",
    "#    (1967, 1000),\n",
    "    (1968, 1000),\n",
    "    (1969, 1000),\n",
    "    (198, 100)\n",
    "]\n"
   ]
  },
  {
   "cell_type": "code",
   "execution_count": null,
   "metadata": {},
   "outputs": [],
   "source": []
  },
  {
   "cell_type": "code",
   "execution_count": 10,
   "metadata": {},
   "outputs": [
    {
     "name": "stdout",
     "output_type": "stream",
     "text": [
      "0) heat=0; L=8; D_div=1968; D_base=1000;;\n",
      "1) heat=1; L=8; D_div=1968; D_base=1000;;\n",
      "2) heat=0; L=12; D_div=1968; D_base=1000;;\n",
      "3) heat=1; L=12; D_div=1968; D_base=1000;;\n",
      "4) heat=0; L=16; D_div=1968; D_base=1000;;\n",
      "5) heat=1; L=16; D_div=1968; D_base=1000;;\n",
      "6) heat=0; L=20; D_div=1968; D_base=1000;;\n",
      "7) heat=1; L=20; D_div=1968; D_base=1000;;\n",
      "8) heat=0; L=24; D_div=1968; D_base=1000;;\n",
      "9) heat=1; L=24; D_div=1968; D_base=1000;;\n",
      "10) heat=0; L=32; D_div=1968; D_base=1000;;\n",
      "11) heat=1; L=32; D_div=1968; D_base=1000;;\n",
      "12) heat=0; L=48; D_div=1968; D_base=1000;;\n",
      "13) heat=1; L=48; D_div=1968; D_base=1000;;\n",
      "14) heat=0; L=8; D_div=1969; D_base=1000;;\n",
      "15) heat=1; L=8; D_div=1969; D_base=1000;;\n",
      "16) heat=0; L=12; D_div=1969; D_base=1000;;\n",
      "17) heat=1; L=12; D_div=1969; D_base=1000;;\n",
      "18) heat=0; L=16; D_div=1969; D_base=1000;;\n",
      "19) heat=1; L=16; D_div=1969; D_base=1000;;\n",
      "20) heat=0; L=20; D_div=1969; D_base=1000;;\n",
      "21) heat=1; L=20; D_div=1969; D_base=1000;;\n",
      "22) heat=0; L=24; D_div=1969; D_base=1000;;\n",
      "23) heat=1; L=24; D_div=1969; D_base=1000;;\n",
      "24) heat=0; L=32; D_div=1969; D_base=1000;;\n",
      "25) heat=1; L=32; D_div=1969; D_base=1000;;\n",
      "26) heat=0; L=48; D_div=1969; D_base=1000;;\n",
      "27) heat=1; L=48; D_div=1969; D_base=1000;;\n",
      "28) heat=0; L=8; D_div=198; D_base=100;;\n",
      "29) heat=1; L=8; D_div=198; D_base=100;;\n",
      "30) heat=0; L=12; D_div=198; D_base=100;;\n",
      "31) heat=1; L=12; D_div=198; D_base=100;;\n",
      "32) heat=0; L=16; D_div=198; D_base=100;;\n",
      "33) heat=1; L=16; D_div=198; D_base=100;;\n",
      "34) heat=0; L=20; D_div=198; D_base=100;;\n",
      "35) heat=1; L=20; D_div=198; D_base=100;;\n",
      "36) heat=0; L=24; D_div=198; D_base=100;;\n",
      "37) heat=1; L=24; D_div=198; D_base=100;;\n",
      "38) heat=0; L=32; D_div=198; D_base=100;;\n",
      "39) heat=1; L=32; D_div=198; D_base=100;;\n",
      "40) heat=0; L=48; D_div=198; D_base=100;;\n",
      "41) heat=1; L=48; D_div=198; D_base=100;;\n"
     ]
    }
   ],
   "source": [
    "i = 0\n",
    "for D_div, D_base in D:\n",
    "    for L in L_list:\n",
    "        for heat in heat_list:\n",
    "            print(\"{}) heat={}; L={}; D_div={}; D_base={};;\".format(i, heat, L, D_div, D_base))\n",
    "            i += 1"
   ]
  },
  {
   "cell_type": "code",
   "execution_count": 8,
   "metadata": {},
   "outputs": [
    {
     "data": {
      "text/plain": [
       "512"
      ]
     },
     "execution_count": 8,
     "metadata": {},
     "output_type": "execute_result"
    }
   ],
   "source": [
    "128*4"
   ]
  },
  {
   "cell_type": "code",
   "execution_count": 1,
   "metadata": {},
   "outputs": [
    {
     "name": "stdout",
     "output_type": "stream",
     "text": [
      "0) D=0.0;;\n",
      "1) D=0.5;;\n",
      "2) D=1.0;;\n",
      "3) D=1.5;;\n",
      "4) D=1.6;;\n",
      "5) D=1.7;;\n",
      "6) D=1.75;;\n",
      "7) D=1.87;;\n",
      "8) D=1.9;;\n",
      "9) D=1.92;;\n",
      "10) D=1.94;;\n",
      "11) D=1.95;;\n",
      "12) D=1.96;;\n",
      "13) D=1.962;;\n",
      "14) D=1.964;;\n",
      "15) D=1.965;;\n",
      "16) D=1.966;;\n",
      "17) D=1.967;;\n",
      "18) D=1.97;;\n",
      "19) D=1.98;;\n",
      "20) D=1.99;;\n"
     ]
    }
   ],
   "source": [
    "i = 0\n",
    "for D in [0.0, 0.5, 1.0, 1.5, 1.6, 1.7, 1.75, 1.87, 1.9, 1.92, 1.94, 1.95, 1.96, 1.962, 1.964, 1.965, 1.966, 1.967, 1.97, 1.98, 1.99]:\n",
    "    print(\"{}) D={};;\".format(i, D))\n",
    "    i += 1"
   ]
  },
  {
   "cell_type": "code",
   "execution_count": null,
   "metadata": {},
   "outputs": [],
   "source": []
  },
  {
   "cell_type": "code",
   "execution_count": null,
   "metadata": {},
   "outputs": [],
   "source": []
  },
  {
   "cell_type": "code",
   "execution_count": null,
   "metadata": {},
   "outputs": [],
   "source": [
    "\n",
    "\\begin{table}[h!]\n",
    "\\centering\n",
    "\\begin{tabular}{l|l|l|l|l|l|l}\n",
    " $D/J$  &  Ref.18    &  Ref.19   &  Wang-Landau  & Machta-Rose   & Order of transition  \\\\\n",
    " -0.5   &            &  1.794(7) &  1.816(2)     &               & Second               \\\\\n",
    " 0      &  1.695     &  1.681(5) &  1.714(2)     &  1.706        & Second               \\\\\n",
    " 0.5    &  1.567     &           &  1.584(1)     &  1.576        & Second               \\\\\n",
    " 1.0    &  1.398     &           &  1.413(1)     &  1.405        & Second               \\\\\n",
    " 1.5    &  1.150     &           &  1.155(1)     &  1.155        & Second               \\\\\n",
    " 1.87   &  0.800     &           &  0.800(1)     &  0.809        & Second               \\\\\n",
    " 1.9    &            &  0.764(7) &  0.755(3)     &  0.7585       & Second               \\\\\n",
    " 1.92   &  0.700     &           &  0.713(2)     &  0.7215       & Second               \\\\\n",
    " 1.95   &  0.650     &           &  0.651(2)     &  0.6546       & Second               \\\\\n",
    " 1.962  &  0.620     &           &  0.619(1)     &  0.6218       & Second               \\\\\n",
    " 1.99   &  0.550     &           &  0.555(2)     &  0.5612       & First                \\\\\n",
    "\\end{tabular}\n",
    "\\caption{Outdated}\n",
    "\\label{table:1}\n",
    "\\end{table}"
   ]
  }
 ],
 "metadata": {
  "kernelspec": {
   "display_name": "Python 3",
   "language": "python",
   "name": "python3"
  },
  "language_info": {
   "codemirror_mode": {
    "name": "ipython",
    "version": 3
   },
   "file_extension": ".py",
   "mimetype": "text/x-python",
   "name": "python",
   "nbconvert_exporter": "python",
   "pygments_lexer": "ipython3",
   "version": "3.7.4"
  }
 },
 "nbformat": 4,
 "nbformat_minor": 2
}
