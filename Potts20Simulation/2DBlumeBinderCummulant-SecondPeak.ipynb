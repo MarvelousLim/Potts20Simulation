{
 "cells": [
  {
   "cell_type": "code",
   "execution_count": null,
   "metadata": {},
   "outputs": [],
   "source": [
    "import numpy as np, matplotlib.pyplot as plt\n",
    "from collections import OrderedDict as od\n",
    "from scipy.special import comb as C\n",
    "from scipy.stats import linregress\n",
    "from statistics import median\n",
    "from scipy.optimize import fminbound\n",
    "import json\n",
    "import itertools\n",
    "from tqdm.notebook import tqdm\n",
    "#from os import walk\n",
    "#import re\n",
    "\n",
    "import mpmath as mp\n",
    "mp.mp.dps = 50\n",
    "mp.mp.pretty = True\n",
    "print(mp.mp)\n",
    "\n",
    "from math import sqrt\n",
    "from joblib import Parallel, delayed"
   ]
  },
  {
   "cell_type": "code",
   "execution_count": null,
   "metadata": {},
   "outputs": [],
   "source": []
  },
  {
   "cell_type": "code",
   "execution_count": null,
   "metadata": {},
   "outputs": [],
   "source": []
  },
  {
   "cell_type": "code",
   "execution_count": null,
   "metadata": {},
   "outputs": [],
   "source": []
  },
  {
   "cell_type": "code",
   "execution_count": null,
   "metadata": {},
   "outputs": [],
   "source": [
    "def get_entropy_from_culling_factor_v2(c):\n",
    "    S = od()\n",
    "    sn = 0\n",
    "    for E in c:\n",
    "        S[E] = np.log(c[E])\n",
    "        S[E] += sn\n",
    "        sn += np.log(1 - c[E])\n",
    "    return S\n",
    "\n",
    "def get_entropy_from_culling_factor_with_heat_v2(c):\n",
    "    S = od()\n",
    "    sn = 0\n",
    "    for E in c:\n",
    "        S[E] = np.log(c[E])\n",
    "        S[E] += sn\n",
    "        sn += np.log(1 - c[E])\n",
    "    return S"
   ]
  },
  {
   "cell_type": "code",
   "execution_count": null,
   "metadata": {},
   "outputs": [],
   "source": [
    "def read_files_v2(parameters):\n",
    "    q=parameters[\"q\"];\n",
    "    L=parameters[\"L\"];\n",
    "    R=parameters[\"R\"];\n",
    "    D=parameters[\"D\"];\n",
    "    nSteps=parameters[\"nSteps\"];\n",
    "    seed=parameters[\"seed\"];\n",
    "    heat=parameters[\"heat\"];\n",
    "    N = L * L;\n",
    "    #name = \"./datasets/2DBlume{}_q{}_D{}_N{}_R{}_nSteps{}_run{}X.txt\".format(\"Heating\" * heat, q, \"{0:07.6f}\".format(D), N, R, nSteps, seed)\n",
    "    name = \"./datasets/2DBlumeOld(FloatEnergy)/2DBlume{}_q{}_D{}_N{}_R{}_nSteps{}_run{}X.txt\".format(\"Heating\" * heat, q, \"{0:07.6f}\".format(D), N, R, nSteps, seed)\n",
    "    #print(name)\n",
    "    culling_factor = od()\n",
    "    #print(N, R, nSteps, heat)\n",
    "    with open(name) as f:\n",
    "        for line in f:\n",
    "            E, c = map(float, line.split())\n",
    "            culling_factor[E] = c\n",
    "    parameters[\"culling_factor\"] = culling_factor\n",
    "    if not heat:\n",
    "        parameters[\"S\"] = get_entropy_from_culling_factor_v2(culling_factor)\n",
    "    else:\n",
    "        parameters[\"S\"] = get_entropy_from_culling_factor_with_heat_v2(culling_factor)\n",
    "    \n",
    "    return parameters\n",
    "\n",
    "def read_tuple_files(tpl):\n",
    "    if tpl[1][\"heat\"]:\n",
    "        return {\n",
    "            \"cool\": read_files_v2(tpl[0]),\n",
    "            \"heat\": read_files_v2(tpl[1])\n",
    "        }\n",
    "\n",
    "def stitch_S(heat, cool):\n",
    "    #not infinite values\n",
    "    niv = sorted( list({E for E, S in heat[\"S\"].items() if not np.isinf(S)} &\n",
    "                       {E for E, S in cool[\"S\"].items() if not np.isinf(S)}) )\n",
    "    #chosen not infinite values\n",
    "    cniv = niv[len(niv) // 3 : 2 * len(niv) // 3]\n",
    "    #print(cniv)\n",
    "    shift = 0\n",
    "    count = 0\n",
    "    for E in cniv:\n",
    "        shift += heat[\"S\"][E] - cool[\"S\"][E]\n",
    "        count += 1\n",
    "    shift /= count\n",
    "\n",
    "    result = od()\n",
    "    for E in cool[\"S\"]:\n",
    "        if E < median(cniv):\n",
    "            result[E] = cool[\"S\"][E]\n",
    "    for E in heat[\"S\"]:\n",
    "        if E >= median(cniv):\n",
    "            result[E] = heat[\"S\"][E] - shift\n",
    "    return {\"S\": result, \"L\": heat[\"L\"], \"D\": heat[\"D\"], \"R\": heat[\"R\"]}\n",
    "\n",
    "def calc_hc(st, T):\n",
    "\n",
    "    fe = mp.mpf(1.0) * np.array([e for e, S in st['S'].items()])\n",
    "    fS = mp.mpf(1.0) * np.array([S for e, S in st['S'].items()])\n",
    "\n",
    "    exp = np.frompyfunc(mp.exp, 1, 1)\n",
    "    w = exp(fS - fe / T)\n",
    "\n",
    "    Z = w.sum()\n",
    "    E = (w * fe).sum()\n",
    "    E_sq = (w * fe * fe).sum()\n",
    "    E_qr = (w * fe * fe * fe * fe).sum()\n",
    "    avgE = E / Z;\n",
    "    avgE_sq = E_sq / Z;\n",
    "    avgE_qr = E_qr / Z;\n",
    "    # T, C, average E, BinderCumulant\n",
    "    return T, float( (avgE_sq - avgE * avgE) / (T * T) ), float( avgE ), float(1 - (avgE_qr / (3 * avgE_sq * avgE_sq)))\n"
   ]
  },
  {
   "cell_type": "code",
   "execution_count": null,
   "metadata": {},
   "outputs": [],
   "source": []
  },
  {
   "cell_type": "code",
   "execution_count": null,
   "metadata": {
    "scrolled": true
   },
   "outputs": [],
   "source": [
    "T_crit = {}"
   ]
  },
  {
   "cell_type": "code",
   "execution_count": null,
   "metadata": {},
   "outputs": [],
   "source": [
    "D = 1.967\n",
    "L = [x for x in [8, 12, 16, 20, 24, 32, 48, 64, 80, 96] if x >= 0]\n",
    "\n",
    "\n",
    "R = [32768, 131072]\n",
    "\n",
    "cool, heat = [{\n",
    "    \"q\": 3,\n",
    "    \"D\": D,\n",
    "    \"L\": l,\n",
    "    #\"R\" : R,\n",
    "    \"nSteps\" : 10,\n",
    "    \"seed\" : 0,\n",
    "    \"heat\": False\n",
    "} for l in L], [{\n",
    "    \"q\": 3,\n",
    "    \"D\": D,\n",
    "    \"L\": l,\n",
    "    #\"R\" : R,\n",
    "    \"nSteps\" : 10,\n",
    "    \"seed\" : 0,\n",
    "    \"heat\": True\n",
    "} for l in L]\n",
    "print('D={}'.format(D))\n",
    "\n",
    "parameters = []\n",
    "for c, h in zip(cool, heat):\n",
    "    try:\n",
    "        c['R'] = R[1]\n",
    "        h['R'] = R[1]\n",
    "        parameters.append(read_tuple_files((c, h)))\n",
    "    except:\n",
    "        try:\n",
    "            c['R'] = R[0]\n",
    "            h['R'] = R[0]\n",
    "            parameters.append(read_tuple_files((c, h)))\n",
    "        except:\n",
    "            pass\n",
    "        \n",
    "for i, x in enumerate(tqdm(parameters)):\n",
    "    parameters[i][\"stitched\"] = stitch_S(x[\"heat\"], x[\"cool\"])\n",
    "print('L in {}'.format(\", \".join([str(x[\"stitched\"][\"L\"]) for x in parameters]) ))\n"
   ]
  },
  {
   "cell_type": "code",
   "execution_count": null,
   "metadata": {},
   "outputs": [],
   "source": [
    "D"
   ]
  },
  {
   "cell_type": "code",
   "execution_count": null,
   "metadata": {},
   "outputs": [],
   "source": [
    "BC_crit = {} #{\"T1\": , \"BC1\": }"
   ]
  },
  {
   "cell_type": "code",
   "execution_count": null,
   "metadata": {},
   "outputs": [],
   "source": []
  },
  {
   "cell_type": "code",
   "execution_count": null,
   "metadata": {},
   "outputs": [],
   "source": [
    "0.4 + 1.8/10.15"
   ]
  },
  {
   "cell_type": "code",
   "execution_count": null,
   "metadata": {},
   "outputs": [],
   "source": [
    "for p in tqdm(parameters):\n",
    "    st = p[\"stitched\"]\n",
    "    L = st[\"L\"]\n",
    "    if L < 20:\n",
    "        continue\n",
    "    BC_crit[L] = {}\n",
    "    a = 0.57\n",
    "    b = 0.65\n",
    "    #T_list = np.linspace(0.3, 4, 100)\n",
    "    #for T in tqdm(T_list):\n",
    "        # T, C, average E, BinderCumulant\n",
    "    t, bc, _, _ = fminbound(lambda T: calc_hc(st, T)[3], a, b, maxfun=500, full_output=1, disp=False)\n",
    "        #t, c, _, bc = calc_hc(st, T)\n",
    "    BC_crit[L][\"T\"] = float(t)\n",
    "    BC_crit[L][\"BC\"]= float(bc)\n",
    "    print(BC_crit[L])\n"
   ]
  },
  {
   "cell_type": "code",
   "execution_count": null,
   "metadata": {},
   "outputs": [],
   "source": []
  },
  {
   "cell_type": "code",
   "execution_count": null,
   "metadata": {},
   "outputs": [],
   "source": [
    "with open(\"./old_tmp/BC_crit_D{}_second_peak.txt\".format(D), 'w') as fp:\n",
    "    json.dump(BC_crit, fp)\n",
    "    #for L in T_crit:\n",
    "    #    fp.write('{}\\t{}\\t{}\\n'.format(L, T_crit[L]['T_crit'], T_crit[L]['BC_crit']))\n",
    "with open('./old_tmp/BC_crit_D{}_second_peak.tsv'.format(D), 'w') as f:\n",
    "    f.write('L\\tT_crit\\tBC_crit\\n');\n",
    "    for L in BC_crit:\n",
    "        f.write('\\t'.join([str(L), str(BC_crit[L]['T']), str(BC_crit[L]['BC'])]) + '\\n')\n"
   ]
  },
  {
   "cell_type": "code",
   "execution_count": null,
   "metadata": {},
   "outputs": [],
   "source": []
  },
  {
   "cell_type": "code",
   "execution_count": null,
   "metadata": {},
   "outputs": [],
   "source": [
    "with open(\"./old_tmp/BC_crit_D{}_second_peak.txt\".format(D), 'r') as fp:\n",
    "    BC_crit = json.load(fp)\n"
   ]
  },
  {
   "cell_type": "code",
   "execution_count": null,
   "metadata": {},
   "outputs": [],
   "source": [
    "del BC_crit[12]\n",
    "BC_crit"
   ]
  },
  {
   "cell_type": "code",
   "execution_count": null,
   "metadata": {},
   "outputs": [],
   "source": [
    "for D in [1.0, 1.5, 1.6, 1.7, 1.75, 1.87, 1.9, 1.92, 1.94, 1.95, 1.96, 1.962, 1.964, 1.965, 1.965, 1.966, 1.967, 1.97, 1.98, 1.99]:\n",
    "    try:\n",
    "        with open('./old_tmp/BC_crit_D{}_second_peak.txt'.format(D), 'r') as f:\n",
    "            BC_crit = json.load(f)\n",
    "\n",
    "        with open('./old_tmp/BC_crit_D{}_second_peak.tsv'.format(D), 'w') as f:\n",
    "            f.write('L\\tT_crit\\tBC_crit\\n');\n",
    "            for L in BC_crit:\n",
    "                f.write('\\t'.join([L, str(BC_crit[L]['T']), str(BC_crit[L]['BC'])]) + '\\n')\n",
    "    except:\n",
    "        print(D)"
   ]
  },
  {
   "cell_type": "code",
   "execution_count": null,
   "metadata": {},
   "outputs": [],
   "source": []
  }
 ],
 "metadata": {
  "kernelspec": {
   "display_name": "Python 3",
   "language": "python",
   "name": "python3"
  },
  "language_info": {
   "codemirror_mode": {
    "name": "ipython",
    "version": 3
   },
   "file_extension": ".py",
   "mimetype": "text/x-python",
   "name": "python",
   "nbconvert_exporter": "python",
   "pygments_lexer": "ipython3",
   "version": "3.7.4"
  }
 },
 "nbformat": 4,
 "nbformat_minor": 4
}
