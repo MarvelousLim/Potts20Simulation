{
 "cells": [
  {
   "cell_type": "code",
   "execution_count": 1,
   "metadata": {},
   "outputs": [],
   "source": [
    "import numpy as np, matplotlib.pyplot as plt\n",
    "from collections import OrderedDict as od\n",
    "from scipy.special import comb as C\n",
    "import json\n",
    "acc_score = od()"
   ]
  },
  {
   "cell_type": "code",
   "execution_count": 2,
   "metadata": {},
   "outputs": [],
   "source": [
    "def get_entropy_from_culling_factor(c):\n",
    "    S = od()\n",
    "    for E in range(-len(c), 1):\n",
    "        if E in c:\n",
    "            S[E] = np.log(c[E])\n",
    "        for E1 in c:\n",
    "            if (E1 > E):\n",
    "                S[E] += np.log(1 - c[E1])\n",
    "    return S\n",
    "\n",
    "def get_entropy_from_culling_factor_with_heat(c):\n",
    "    S = od()\n",
    "    for E in range(-len(c) + 1, 1):\n",
    "        if E in c:\n",
    "            S[E + 2] = np.log(c[E])\n",
    "        for E1 in c:\n",
    "            if (E1 < E):\n",
    "                S[E + 2] += np.log(1 - c[E1])\n",
    "    return S"
   ]
  },
  {
   "cell_type": "code",
   "execution_count": 3,
   "metadata": {
    "scrolled": false
   },
   "outputs": [
    {
     "name": "stdout",
     "output_type": "stream",
     "text": [
      "36 262144 50 False\n",
      "36 16384 10 True\n",
      "64 262144 50 False\n",
      "144 262144 50 False\n",
      "256 262144 50 False\n",
      "324 262144 50 False\n"
     ]
    },
    {
     "name": "stderr",
     "output_type": "stream",
     "text": [
      "C:\\ProgramData\\Anaconda3\\lib\\site-packages\\ipykernel_launcher.py:5: RuntimeWarning: divide by zero encountered in log\n",
      "  \"\"\"\n",
      "C:\\ProgramData\\Anaconda3\\lib\\site-packages\\ipykernel_launcher.py:8: RuntimeWarning: divide by zero encountered in log\n",
      "  \n",
      "C:\\ProgramData\\Anaconda3\\lib\\site-packages\\ipykernel_launcher.py:15: RuntimeWarning: divide by zero encountered in log\n",
      "  from ipykernel import kernelapp as app\n",
      "C:\\ProgramData\\Anaconda3\\lib\\site-packages\\ipykernel_launcher.py:18: RuntimeWarning: divide by zero encountered in log\n"
     ]
    },
    {
     "name": "stdout",
     "output_type": "stream",
     "text": [
      "576 262144 50 False\n"
     ]
    }
   ],
   "source": [
    "d = [\n",
    "    {\n",
    "        \"q\": 4,\n",
    "        \"L\": 6,\n",
    "        \"R\" : 262144,\n",
    "        \"nSteps\" : 50,\n",
    "        \"seed\" : 0,\n",
    "        \"heat\": False\n",
    "    },\n",
    "    {\n",
    "        \"q\": 4,\n",
    "        \"L\": 6,\n",
    "        \"R\" : 16384,\n",
    "        \"nSteps\" : 10,\n",
    "        \"seed\" : 0,\n",
    "        \"heat\": True\n",
    "    },\n",
    "    {\n",
    "        \"q\": 4,\n",
    "        \"L\": 8,\n",
    "        \"R\" : 262144,\n",
    "        \"nSteps\" : 50,\n",
    "        \"seed\" : 0,\n",
    "        \"heat\": False\n",
    "    },\n",
    "    {\n",
    "        \"q\": 4,\n",
    "        \"L\": 12,\n",
    "        \"R\" : 262144,\n",
    "        \"nSteps\" : 50,\n",
    "        \"seed\" : 0,\n",
    "        \"heat\": False\n",
    "    },\n",
    "    {\n",
    "        \"q\": 4,\n",
    "        \"L\": 16,\n",
    "        \"R\" : 262144,\n",
    "        \"nSteps\" : 50,\n",
    "        \"seed\" : 0,\n",
    "        \"heat\": False\n",
    "    },\n",
    "    {\n",
    "        \"q\": 4,\n",
    "        \"L\": 18,\n",
    "        \"R\" : 262144,\n",
    "        \"nSteps\" : 50,\n",
    "        \"seed\" : 0,\n",
    "        \"heat\": False\n",
    "    },\n",
    "    {\n",
    "        \"q\": 4,\n",
    "        \"L\": 24,\n",
    "        \"R\" : 262144,\n",
    "        \"nSteps\" : 50,\n",
    "        \"seed\" : 0,\n",
    "        \"heat\": False\n",
    "    }\n",
    "]\n",
    "for i, parameters in enumerate(d):\n",
    "    \n",
    "    q=parameters[\"q\"];\n",
    "    L=parameters[\"L\"];\n",
    "    R=parameters[\"R\"];\n",
    "    nSteps=parameters[\"nSteps\"];\n",
    "    seed=parameters[\"seed\"];\n",
    "    heat=parameters[\"heat\"];\n",
    "    N=L*L;\n",
    "    name = \"./datasets/2DHexPotts{}_q{}_N{}_R{}_nSteps{}_run{}X.txt\".format(\"Heating\" * heat, q, N, R, nSteps, seed)\n",
    "    culling_factor = od()\n",
    "    print(N, R, nSteps, heat)\n",
    "    with open(name) as f:\n",
    "        for line in f:\n",
    "            E, c = map(float, line.split())\n",
    "            culling_factor[E] = c\n",
    "    d[i][\"culling_factor\"] = culling_factor\n",
    "    if not heat:\n",
    "        d[i][\"S\"] = get_entropy_from_culling_factor(culling_factor)\n",
    "    else:\n",
    "        d[i][\"S\"] = get_entropy_from_culling_factor_with_heat(culling_factor)"
   ]
  },
  {
   "cell_type": "code",
   "execution_count": 4,
   "metadata": {},
   "outputs": [
    {
     "data": {
      "text/plain": [
       "(dict_keys([6, 8, 12, 16, 18, 24]), dict_keys([6]))"
      ]
     },
     "execution_count": 4,
     "metadata": {},
     "output_type": "execute_result"
    }
   ],
   "source": [
    "second_d = {parameters[\"L\"]: parameters[\"S\"] for parameters in d if not parameters[\"heat\"]}\n",
    "second_d_heat = {parameters[\"L\"]: parameters[\"S\"] for parameters in d if parameters[\"heat\"]}\n",
    "\n",
    "second_d.keys(), second_d_heat.keys()"
   ]
  },
  {
   "cell_type": "code",
   "execution_count": 18,
   "metadata": {},
   "outputs": [],
   "source": [
    "def analytical_levels(L, q=4):\n",
    "    N = L * L\n",
    "    return {\n",
    "        -54: np.log(1),\n",
    "        -51: np.log(108),\n",
    "        -50: np.log(162),\n",
    "        -49: np.log(648),\n",
    "        -48: np.log(7236)\n",
    "    }\n",
    "\n",
    "    return od({\n",
    "        -3 * N / 2: np.log(q),\n",
    "        -3 * N / 2 + 3: np.log(q * N),\n",
    "        -3 * N / 2 + 4: np.log(q * N * 3),\n",
    "        -3 * N / 2 + 5: np.log(q * N * 3 * 4),\n",
    "        -3 * N / 2 + 6: np.log(q * N * 3 * 4 * 5 + q * N * (N - 3))\n",
    "    })"
   ]
  },
  {
   "cell_type": "code",
   "execution_count": null,
   "metadata": {},
   "outputs": [],
   "source": []
  },
  {
   "cell_type": "code",
   "execution_count": 19,
   "metadata": {},
   "outputs": [],
   "source": [
    "analytical_shift = {}\n",
    "for L in second_d:\n",
    "    analytical_shift[L] = 0\n",
    "    count = 0\n",
    "    for E, S in analytical_levels(L).items():\n",
    "        analytical_shift[L] += S - second_d[L][E]\n",
    "        count += 1\n",
    "    analytical_shift[L] /= count"
   ]
  },
  {
   "cell_type": "code",
   "execution_count": 20,
   "metadata": {},
   "outputs": [
    {
     "data": {
      "text/plain": [
       "{6: 48.506410962469126,\n",
       " 8: 24.040826054068315,\n",
       " 12: 7.99141054198156,\n",
       " 16: inf,\n",
       " 18: inf,\n",
       " 24: inf}"
      ]
     },
     "execution_count": 20,
     "metadata": {},
     "output_type": "execute_result"
    }
   ],
   "source": [
    "analytical_shift"
   ]
  },
  {
   "cell_type": "code",
   "execution_count": 21,
   "metadata": {},
   "outputs": [
    {
     "data": {
      "image/png": "[encoded data removed]",
      "text/plain": [
       "<Figure size 1152x648 with 1 Axes>"
      ]
     },
     "metadata": {
      "needs_background": "light"
     },
     "output_type": "display_data"
    }
   ],
   "source": [
    "plt.figure(figsize=(16, 9))\n",
    "lst = [6]\n",
    "for L in lst:\n",
    "    plt.plot([E for E in second_d[L]], [S for E, S in second_d[L].items()], 'o', label=\"L={}, heat={}\".format(L, False))\n",
    "    if L in second_d_heat:\n",
    "        plt.plot([E for E in second_d_heat[L]], [S for E, S in second_d_heat[L].items()], 'o', label=\"L={}, heat={}\".format(L, True))\n",
    "    plt.plot([E for E in analytical_levels(L)], [S - analytical_shift[L] for E, S in analytical_levels(L).items()],\n",
    "             'o', label=\"analytical L={}, heat={}\".format(L, False), marker=\"x\")\n",
    "\n",
    "plt.ylabel(\"$S(E)$\")\n",
    "plt.xlabel(\"E\")\n",
    "plt.legend()\n",
    "plt.grid()"
   ]
  },
  {
   "cell_type": "code",
   "execution_count": null,
   "metadata": {},
   "outputs": [],
   "source": []
  },
  {
   "cell_type": "code",
   "execution_count": 25,
   "metadata": {},
   "outputs": [
    {
     "data": {
      "image/png": "[encoded data removed]",
      "text/plain": [
       "<Figure size 1152x648 with 1 Axes>"
      ]
     },
     "metadata": {
      "needs_background": "light"
     },
     "output_type": "display_data"
    }
   ],
   "source": [
    "plt.figure(figsize=(16, 9))\n",
    "for L in [6]:\n",
    "    plt.plot([E for E in analytical_levels(L)], [S - analytical_shift[L] for E, S in analytical_levels(L).items()],\n",
    "             'o', label=\"analytical L={}, heat={}\".format(L, False), marker=\"x\")\n",
    "    plt.plot([E for E in analytical_levels(L)], [second_d[L][E] for E in analytical_levels(L)], 'o', label=\"L={}, heat={}\".format(L, False))\n",
    "\n",
    "plt.ylabel(\"$S(E)$\")\n",
    "plt.xlabel(\"E\")\n",
    "plt.legend()\n",
    "plt.grid()"
   ]
  },
  {
   "cell_type": "code",
   "execution_count": null,
   "metadata": {},
   "outputs": [],
   "source": []
  },
  {
   "cell_type": "code",
   "execution_count": null,
   "metadata": {},
   "outputs": [],
   "source": []
  },
  {
   "cell_type": "code",
   "execution_count": null,
   "metadata": {},
   "outputs": [],
   "source": []
  },
  {
   "cell_type": "code",
   "execution_count": null,
   "metadata": {},
   "outputs": [],
   "source": []
  },
  {
   "cell_type": "code",
   "execution_count": null,
   "metadata": {},
   "outputs": [],
   "source": []
  },
  {
   "cell_type": "code",
   "execution_count": null,
   "metadata": {},
   "outputs": [],
   "source": []
  },
  {
   "cell_type": "code",
   "execution_count": null,
   "metadata": {},
   "outputs": [],
   "source": []
  },
  {
   "cell_type": "code",
   "execution_count": null,
   "metadata": {},
   "outputs": [],
   "source": []
  },
  {
   "cell_type": "code",
   "execution_count": null,
   "metadata": {},
   "outputs": [],
   "source": []
  },
  {
   "cell_type": "markdown",
   "metadata": {},
   "source": [
    "R movement"
   ]
  },
  {
   "cell_type": "code",
   "execution_count": null,
   "metadata": {},
   "outputs": [],
   "source": []
  },
  {
   "cell_type": "code",
   "execution_count": null,
   "metadata": {},
   "outputs": [],
   "source": []
  },
  {
   "cell_type": "code",
   "execution_count": null,
   "metadata": {},
   "outputs": [],
   "source": []
  },
  {
   "cell_type": "code",
   "execution_count": null,
   "metadata": {},
   "outputs": [],
   "source": []
  },
  {
   "cell_type": "code",
   "execution_count": null,
   "metadata": {},
   "outputs": [],
   "source": []
  },
  {
   "cell_type": "code",
   "execution_count": null,
   "metadata": {},
   "outputs": [],
   "source": []
  },
  {
   "cell_type": "code",
   "execution_count": null,
   "metadata": {},
   "outputs": [],
   "source": []
  },
  {
   "cell_type": "code",
   "execution_count": null,
   "metadata": {},
   "outputs": [],
   "source": []
  },
  {
   "cell_type": "code",
   "execution_count": null,
   "metadata": {},
   "outputs": [],
   "source": []
  },
  {
   "cell_type": "code",
   "execution_count": null,
   "metadata": {},
   "outputs": [],
   "source": []
  },
  {
   "cell_type": "code",
   "execution_count": null,
   "metadata": {},
   "outputs": [],
   "source": []
  },
  {
   "cell_type": "code",
   "execution_count": null,
   "metadata": {},
   "outputs": [],
   "source": []
  },
  {
   "cell_type": "code",
   "execution_count": null,
   "metadata": {},
   "outputs": [],
   "source": []
  },
  {
   "cell_type": "code",
   "execution_count": null,
   "metadata": {},
   "outputs": [],
   "source": []
  },
  {
   "cell_type": "code",
   "execution_count": null,
   "metadata": {},
   "outputs": [],
   "source": []
  },
  {
   "cell_type": "code",
   "execution_count": null,
   "metadata": {},
   "outputs": [],
   "source": []
  },
  {
   "cell_type": "code",
   "execution_count": null,
   "metadata": {},
   "outputs": [],
   "source": []
  },
  {
   "cell_type": "code",
   "execution_count": null,
   "metadata": {},
   "outputs": [],
   "source": []
  }
 ],
 "metadata": {
  "kernelspec": {
   "display_name": "Python 3",
   "language": "python",
   "name": "python3"
  },
  "language_info": {
   "codemirror_mode": {
    "name": "ipython",
    "version": 3
   },
   "file_extension": ".py",
   "mimetype": "text/x-python",
   "name": "python",
   "nbconvert_exporter": "python",
   "pygments_lexer": "ipython3",
   "version": "3.7.4"
  }
 },
 "nbformat": 4,
 "nbformat_minor": 2
}
