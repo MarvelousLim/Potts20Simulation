{
 "cells": [
  {
   "cell_type": "code",
   "execution_count": 4,
   "metadata": {},
   "outputs": [
    {
     "name": "stdout",
     "output_type": "stream",
     "text": [
      "Mpmath settings:\n",
      "  mp.prec = 169               [default: 53]\n",
      "  mp.dps = 50                 [default: 15]\n",
      "  mp.trap_complex = False     [default: False]\n"
     ]
    }
   ],
   "source": [
    "import numpy as np, matplotlib.pyplot as plt\n",
    "from collections import OrderedDict as od\n",
    "from scipy.special import comb as C\n",
    "from scipy.stats import linregress\n",
    "from statistics import median\n",
    "from scipy.optimize import fminbound\n",
    "import json\n",
    "import itertools\n",
    "from tqdm.notebook import tqdm\n",
    "from multiprocess import Pool\n",
    "\n",
    "\n",
    "import mpmath as mp\n",
    "mp.mp.dps = 50\n",
    "mp.mp.pretty = True\n",
    "print(mp.mp)"
   ]
  },
  {
   "cell_type": "code",
   "execution_count": null,
   "metadata": {},
   "outputs": [],
   "source": []
  },
  {
   "cell_type": "code",
   "execution_count": null,
   "metadata": {},
   "outputs": [],
   "source": []
  },
  {
   "cell_type": "code",
   "execution_count": null,
   "metadata": {},
   "outputs": [],
   "source": []
  },
  {
   "cell_type": "code",
   "execution_count": 5,
   "metadata": {},
   "outputs": [],
   "source": [
    "def get_entropy_from_culling_factor_v2(c):\n",
    "    S = od()\n",
    "    sn = 0\n",
    "    for E in c:\n",
    "        S[E] = np.log(c[E])\n",
    "        S[E] += sn\n",
    "        sn += np.log(1 - c[E])\n",
    "    return S\n",
    "\n",
    "def get_entropy_from_culling_factor_with_heat_v2(c):\n",
    "    S = od()\n",
    "    sn = 0\n",
    "    for E in c:\n",
    "        S[E] = np.log(c[E])\n",
    "        S[E] += sn\n",
    "        sn += np.log(1 - c[E])\n",
    "    return S"
   ]
  },
  {
   "cell_type": "code",
   "execution_count": 6,
   "metadata": {},
   "outputs": [],
   "source": [
    "def read_files_v2(parameters):\n",
    "    q=parameters[\"q\"];\n",
    "    L=parameters[\"L\"];\n",
    "    R=parameters[\"R\"];\n",
    "    D=parameters[\"D\"];\n",
    "    nSteps=parameters[\"nSteps\"];\n",
    "    seed=parameters[\"seed\"];\n",
    "    heat=parameters[\"heat\"];\n",
    "    N = L * L;\n",
    "    name = \"./datasets/2DBlume{}_q{}_D{}_N{}_R{}_nSteps{}_run{}X.txt\".format(\"Heating\" * heat, q, \"{0:07.6f}\".format(D), N, R, nSteps, seed)\n",
    "    #print(name)\n",
    "    culling_factor = od()\n",
    "    #print(N, R, nSteps, heat)\n",
    "    with open(name) as f:\n",
    "        for line in f:\n",
    "            E, c = map(float, line.split())\n",
    "            culling_factor[E] = c\n",
    "    parameters[\"culling_factor\"] = culling_factor\n",
    "    if not heat:\n",
    "        parameters[\"S\"] = get_entropy_from_culling_factor_v2(culling_factor)\n",
    "    else:\n",
    "        parameters[\"S\"] = get_entropy_from_culling_factor_with_heat_v2(culling_factor)\n",
    "    \n",
    "    return parameters\n",
    "\n",
    "def read_tuple_files(tpl):\n",
    "    if tpl[1][\"heat\"]:\n",
    "        return {\n",
    "            \"cool\": read_files_v2(tpl[0]),\n",
    "            \"heat\": read_files_v2(tpl[1])\n",
    "        }\n",
    "\n",
    "def stitch_S(heat, cool):\n",
    "    #not infinite values\n",
    "    niv = sorted( list({E for E, S in heat[\"S\"].items() if not np.isinf(S)} &\n",
    "                       {E for E, S in cool[\"S\"].items() if not np.isinf(S)}) )\n",
    "    #chosen not infinite values\n",
    "    cniv = niv[len(niv) // 3 : 2 * len(niv) // 3]\n",
    "    #print(cniv)\n",
    "    shift = 0\n",
    "    count = 0\n",
    "    for E in cniv:\n",
    "        shift += heat[\"S\"][E] - cool[\"S\"][E]\n",
    "        count += 1\n",
    "    shift /= count\n",
    "\n",
    "    result = od()\n",
    "    for E in cool[\"S\"]:\n",
    "        if E < median(cniv):\n",
    "            result[E] = cool[\"S\"][E]\n",
    "    for E in heat[\"S\"]:\n",
    "        if E >= median(cniv):\n",
    "            result[E] = heat[\"S\"][E] - shift\n",
    "    return {\"S\": result, \"L\": heat[\"L\"], \"D\": heat[\"D\"]}\n",
    "\n",
    "def calc_hc(st, T):\n",
    "\n",
    "    E = mp.mpf(0)\n",
    "    E_sq = mp.mpf(0)\n",
    "    E_qr = mp.mpf(0)\n",
    "    Z = mp.mpf(0)\n",
    "    for fe, fS in st['S'].items():\n",
    "        e = mp.mpf(fe)\n",
    "        S = mp.mpf(fS)\n",
    "        w = mp.exp(S - e / T)\n",
    "        Z += w\n",
    "        E += w * e\n",
    "        E_sq += w * e * e\n",
    "        E_qr += w * e * e * e * e\n",
    "    avgE = E / Z;\n",
    "    avgE_sq = E_sq / Z;\n",
    "    avgE_qr = E_qr / Z;\n",
    "    # T, C, average E, BinderCumulant\n",
    "    return T, float( (avgE_sq - avgE * avgE) / (T * T) ), float( avgE ), float(1 - (avgE_qr / (3 * avgE_sq * avgE_sq)))"
   ]
  },
  {
   "cell_type": "code",
   "execution_count": 7,
   "metadata": {
    "scrolled": true
   },
   "outputs": [
    {
     "name": "stdout",
     "output_type": "stream",
     "text": [
      "D=0.0\n"
     ]
    },
    {
     "name": "stderr",
     "output_type": "stream",
     "text": [
      "C:\\ProgramData\\Anaconda3\\lib\\site-packages\\ipykernel_launcher.py:7: RuntimeWarning: divide by zero encountered in log\n",
      "  import sys\n",
      "C:\\ProgramData\\Anaconda3\\lib\\site-packages\\ipykernel_launcher.py:16: RuntimeWarning: divide by zero encountered in log\n",
      "  app.launch_new_instance()\n"
     ]
    },
    {
     "name": "stdout",
     "output_type": "stream",
     "text": [
      "L in 64\n"
     ]
    },
    {
     "ename": "KeyboardInterrupt",
     "evalue": "",
     "output_type": "error",
     "traceback": [
      "\u001b[1;31m---------------------------------------------------------------------------\u001b[0m",
      "\u001b[1;31mKeyboardInterrupt\u001b[0m                         Traceback (most recent call last)",
      "\u001b[1;32m<ipython-input-7-f1081c1dd4de>\u001b[0m in \u001b[0;36m<module>\u001b[1;34m\u001b[0m\n\u001b[0;32m     47\u001b[0m     \u001b[0mst\u001b[0m \u001b[1;33m=\u001b[0m \u001b[0mx\u001b[0m\u001b[1;33m[\u001b[0m\u001b[1;34m\"stitched\"\u001b[0m\u001b[1;33m]\u001b[0m\u001b[1;33m\u001b[0m\u001b[1;33m\u001b[0m\u001b[0m\n\u001b[0;32m     48\u001b[0m     \u001b[0mL\u001b[0m \u001b[1;33m=\u001b[0m \u001b[0mst\u001b[0m\u001b[1;33m[\u001b[0m\u001b[1;34m\"L\"\u001b[0m\u001b[1;33m]\u001b[0m\u001b[1;33m\u001b[0m\u001b[1;33m\u001b[0m\u001b[0m\n\u001b[1;32m---> 49\u001b[1;33m     \u001b[0mt\u001b[0m\u001b[1;33m,\u001b[0m \u001b[0mc\u001b[0m\u001b[1;33m,\u001b[0m \u001b[0m_\u001b[0m\u001b[1;33m,\u001b[0m \u001b[0m_\u001b[0m \u001b[1;33m=\u001b[0m \u001b[0mfminbound\u001b[0m\u001b[1;33m(\u001b[0m\u001b[1;32mlambda\u001b[0m \u001b[0mT\u001b[0m\u001b[1;33m:\u001b[0m \u001b[1;33m-\u001b[0m \u001b[0mcalc_hc\u001b[0m\u001b[1;33m(\u001b[0m\u001b[0mst\u001b[0m\u001b[1;33m,\u001b[0m \u001b[0mT\u001b[0m\u001b[1;33m)\u001b[0m\u001b[1;33m[\u001b[0m\u001b[1;36m1\u001b[0m\u001b[1;33m]\u001b[0m\u001b[1;33m,\u001b[0m \u001b[0ma\u001b[0m\u001b[1;33m,\u001b[0m \u001b[0mb\u001b[0m\u001b[1;33m,\u001b[0m \u001b[0mmaxfun\u001b[0m\u001b[1;33m=\u001b[0m\u001b[1;36m500\u001b[0m\u001b[1;33m,\u001b[0m \u001b[0mfull_output\u001b[0m\u001b[1;33m=\u001b[0m\u001b[1;36m1\u001b[0m\u001b[1;33m,\u001b[0m \u001b[0mdisp\u001b[0m\u001b[1;33m=\u001b[0m\u001b[1;32mFalse\u001b[0m\u001b[1;33m)\u001b[0m\u001b[1;33m\u001b[0m\u001b[1;33m\u001b[0m\u001b[0m\n\u001b[0m\u001b[0;32m     50\u001b[0m     T_crit[L] = {\n\u001b[0;32m     51\u001b[0m         \u001b[1;34m\"T_crit\"\u001b[0m\u001b[1;33m:\u001b[0m \u001b[0mfloat\u001b[0m\u001b[1;33m(\u001b[0m\u001b[0mt\u001b[0m\u001b[1;33m)\u001b[0m\u001b[1;33m,\u001b[0m\u001b[1;33m\u001b[0m\u001b[1;33m\u001b[0m\u001b[0m\n",
      "\u001b[1;32m~\\AppData\\Roaming\\Python\\Python37\\site-packages\\scipy\\optimize\\optimize.py\u001b[0m in \u001b[0;36mfminbound\u001b[1;34m(func, x1, x2, args, xtol, maxfun, full_output, disp)\u001b[0m\n\u001b[0;32m   1723\u001b[0m                'disp': disp}\n\u001b[0;32m   1724\u001b[0m \u001b[1;33m\u001b[0m\u001b[0m\n\u001b[1;32m-> 1725\u001b[1;33m     \u001b[0mres\u001b[0m \u001b[1;33m=\u001b[0m \u001b[0m_minimize_scalar_bounded\u001b[0m\u001b[1;33m(\u001b[0m\u001b[0mfunc\u001b[0m\u001b[1;33m,\u001b[0m \u001b[1;33m(\u001b[0m\u001b[0mx1\u001b[0m\u001b[1;33m,\u001b[0m \u001b[0mx2\u001b[0m\u001b[1;33m)\u001b[0m\u001b[1;33m,\u001b[0m \u001b[0margs\u001b[0m\u001b[1;33m,\u001b[0m \u001b[1;33m**\u001b[0m\u001b[0moptions\u001b[0m\u001b[1;33m)\u001b[0m\u001b[1;33m\u001b[0m\u001b[1;33m\u001b[0m\u001b[0m\n\u001b[0m\u001b[0;32m   1726\u001b[0m     \u001b[1;32mif\u001b[0m \u001b[0mfull_output\u001b[0m\u001b[1;33m:\u001b[0m\u001b[1;33m\u001b[0m\u001b[1;33m\u001b[0m\u001b[0m\n\u001b[0;32m   1727\u001b[0m         \u001b[1;32mreturn\u001b[0m \u001b[0mres\u001b[0m\u001b[1;33m[\u001b[0m\u001b[1;34m'x'\u001b[0m\u001b[1;33m]\u001b[0m\u001b[1;33m,\u001b[0m \u001b[0mres\u001b[0m\u001b[1;33m[\u001b[0m\u001b[1;34m'fun'\u001b[0m\u001b[1;33m]\u001b[0m\u001b[1;33m,\u001b[0m \u001b[0mres\u001b[0m\u001b[1;33m[\u001b[0m\u001b[1;34m'status'\u001b[0m\u001b[1;33m]\u001b[0m\u001b[1;33m,\u001b[0m \u001b[0mres\u001b[0m\u001b[1;33m[\u001b[0m\u001b[1;34m'nfev'\u001b[0m\u001b[1;33m]\u001b[0m\u001b[1;33m\u001b[0m\u001b[1;33m\u001b[0m\u001b[0m\n",
      "\u001b[1;32m~\\AppData\\Roaming\\Python\\Python37\\site-packages\\scipy\\optimize\\optimize.py\u001b[0m in \u001b[0;36m_minimize_scalar_bounded\u001b[1;34m(func, bounds, args, xatol, maxiter, disp, **unknown_options)\u001b[0m\n\u001b[0;32m   1824\u001b[0m         \u001b[0msi\u001b[0m \u001b[1;33m=\u001b[0m \u001b[0mnumpy\u001b[0m\u001b[1;33m.\u001b[0m\u001b[0msign\u001b[0m\u001b[1;33m(\u001b[0m\u001b[0mrat\u001b[0m\u001b[1;33m)\u001b[0m \u001b[1;33m+\u001b[0m \u001b[1;33m(\u001b[0m\u001b[0mrat\u001b[0m \u001b[1;33m==\u001b[0m \u001b[1;36m0\u001b[0m\u001b[1;33m)\u001b[0m\u001b[1;33m\u001b[0m\u001b[1;33m\u001b[0m\u001b[0m\n\u001b[0;32m   1825\u001b[0m         \u001b[0mx\u001b[0m \u001b[1;33m=\u001b[0m \u001b[0mxf\u001b[0m \u001b[1;33m+\u001b[0m \u001b[0msi\u001b[0m \u001b[1;33m*\u001b[0m \u001b[0mnumpy\u001b[0m\u001b[1;33m.\u001b[0m\u001b[0mmax\u001b[0m\u001b[1;33m(\u001b[0m\u001b[1;33m[\u001b[0m\u001b[0mnumpy\u001b[0m\u001b[1;33m.\u001b[0m\u001b[0mabs\u001b[0m\u001b[1;33m(\u001b[0m\u001b[0mrat\u001b[0m\u001b[1;33m)\u001b[0m\u001b[1;33m,\u001b[0m \u001b[0mtol1\u001b[0m\u001b[1;33m]\u001b[0m\u001b[1;33m)\u001b[0m\u001b[1;33m\u001b[0m\u001b[1;33m\u001b[0m\u001b[0m\n\u001b[1;32m-> 1826\u001b[1;33m         \u001b[0mfu\u001b[0m \u001b[1;33m=\u001b[0m \u001b[0mfunc\u001b[0m\u001b[1;33m(\u001b[0m\u001b[0mx\u001b[0m\u001b[1;33m,\u001b[0m \u001b[1;33m*\u001b[0m\u001b[0margs\u001b[0m\u001b[1;33m)\u001b[0m\u001b[1;33m\u001b[0m\u001b[1;33m\u001b[0m\u001b[0m\n\u001b[0m\u001b[0;32m   1827\u001b[0m         \u001b[0mnum\u001b[0m \u001b[1;33m+=\u001b[0m \u001b[1;36m1\u001b[0m\u001b[1;33m\u001b[0m\u001b[1;33m\u001b[0m\u001b[0m\n\u001b[0;32m   1828\u001b[0m         \u001b[0mfmin_data\u001b[0m \u001b[1;33m=\u001b[0m \u001b[1;33m(\u001b[0m\u001b[0mnum\u001b[0m\u001b[1;33m,\u001b[0m \u001b[0mx\u001b[0m\u001b[1;33m,\u001b[0m \u001b[0mfu\u001b[0m\u001b[1;33m)\u001b[0m\u001b[1;33m\u001b[0m\u001b[1;33m\u001b[0m\u001b[0m\n",
      "\u001b[1;32m<ipython-input-7-f1081c1dd4de>\u001b[0m in \u001b[0;36m<lambda>\u001b[1;34m(T)\u001b[0m\n\u001b[0;32m     47\u001b[0m     \u001b[0mst\u001b[0m \u001b[1;33m=\u001b[0m \u001b[0mx\u001b[0m\u001b[1;33m[\u001b[0m\u001b[1;34m\"stitched\"\u001b[0m\u001b[1;33m]\u001b[0m\u001b[1;33m\u001b[0m\u001b[1;33m\u001b[0m\u001b[0m\n\u001b[0;32m     48\u001b[0m     \u001b[0mL\u001b[0m \u001b[1;33m=\u001b[0m \u001b[0mst\u001b[0m\u001b[1;33m[\u001b[0m\u001b[1;34m\"L\"\u001b[0m\u001b[1;33m]\u001b[0m\u001b[1;33m\u001b[0m\u001b[1;33m\u001b[0m\u001b[0m\n\u001b[1;32m---> 49\u001b[1;33m     \u001b[0mt\u001b[0m\u001b[1;33m,\u001b[0m \u001b[0mc\u001b[0m\u001b[1;33m,\u001b[0m \u001b[0m_\u001b[0m\u001b[1;33m,\u001b[0m \u001b[0m_\u001b[0m \u001b[1;33m=\u001b[0m \u001b[0mfminbound\u001b[0m\u001b[1;33m(\u001b[0m\u001b[1;32mlambda\u001b[0m \u001b[0mT\u001b[0m\u001b[1;33m:\u001b[0m \u001b[1;33m-\u001b[0m \u001b[0mcalc_hc\u001b[0m\u001b[1;33m(\u001b[0m\u001b[0mst\u001b[0m\u001b[1;33m,\u001b[0m \u001b[0mT\u001b[0m\u001b[1;33m)\u001b[0m\u001b[1;33m[\u001b[0m\u001b[1;36m1\u001b[0m\u001b[1;33m]\u001b[0m\u001b[1;33m,\u001b[0m \u001b[0ma\u001b[0m\u001b[1;33m,\u001b[0m \u001b[0mb\u001b[0m\u001b[1;33m,\u001b[0m \u001b[0mmaxfun\u001b[0m\u001b[1;33m=\u001b[0m\u001b[1;36m500\u001b[0m\u001b[1;33m,\u001b[0m \u001b[0mfull_output\u001b[0m\u001b[1;33m=\u001b[0m\u001b[1;36m1\u001b[0m\u001b[1;33m,\u001b[0m \u001b[0mdisp\u001b[0m\u001b[1;33m=\u001b[0m\u001b[1;32mFalse\u001b[0m\u001b[1;33m)\u001b[0m\u001b[1;33m\u001b[0m\u001b[1;33m\u001b[0m\u001b[0m\n\u001b[0m\u001b[0;32m     50\u001b[0m     T_crit[L] = {\n\u001b[0;32m     51\u001b[0m         \u001b[1;34m\"T_crit\"\u001b[0m\u001b[1;33m:\u001b[0m \u001b[0mfloat\u001b[0m\u001b[1;33m(\u001b[0m\u001b[0mt\u001b[0m\u001b[1;33m)\u001b[0m\u001b[1;33m,\u001b[0m\u001b[1;33m\u001b[0m\u001b[1;33m\u001b[0m\u001b[0m\n",
      "\u001b[1;32m<ipython-input-6-b28fd823c349>\u001b[0m in \u001b[0;36mcalc_hc\u001b[1;34m(st, T)\u001b[0m\n\u001b[0;32m     63\u001b[0m         \u001b[0me\u001b[0m \u001b[1;33m=\u001b[0m \u001b[0mmp\u001b[0m\u001b[1;33m.\u001b[0m\u001b[0mmpf\u001b[0m\u001b[1;33m(\u001b[0m\u001b[0mfe\u001b[0m\u001b[1;33m)\u001b[0m\u001b[1;33m\u001b[0m\u001b[1;33m\u001b[0m\u001b[0m\n\u001b[0;32m     64\u001b[0m         \u001b[0mS\u001b[0m \u001b[1;33m=\u001b[0m \u001b[0mmp\u001b[0m\u001b[1;33m.\u001b[0m\u001b[0mmpf\u001b[0m\u001b[1;33m(\u001b[0m\u001b[0mfS\u001b[0m\u001b[1;33m)\u001b[0m\u001b[1;33m\u001b[0m\u001b[1;33m\u001b[0m\u001b[0m\n\u001b[1;32m---> 65\u001b[1;33m         \u001b[0mw\u001b[0m \u001b[1;33m=\u001b[0m \u001b[0mmp\u001b[0m\u001b[1;33m.\u001b[0m\u001b[0mexp\u001b[0m\u001b[1;33m(\u001b[0m\u001b[0mS\u001b[0m \u001b[1;33m-\u001b[0m \u001b[0me\u001b[0m \u001b[1;33m/\u001b[0m \u001b[0mT\u001b[0m\u001b[1;33m)\u001b[0m\u001b[1;33m\u001b[0m\u001b[1;33m\u001b[0m\u001b[0m\n\u001b[0m\u001b[0;32m     66\u001b[0m         \u001b[0mZ\u001b[0m \u001b[1;33m+=\u001b[0m \u001b[0mw\u001b[0m\u001b[1;33m\u001b[0m\u001b[1;33m\u001b[0m\u001b[0m\n\u001b[0;32m     67\u001b[0m         \u001b[0mE\u001b[0m \u001b[1;33m+=\u001b[0m \u001b[0mw\u001b[0m \u001b[1;33m*\u001b[0m \u001b[0me\u001b[0m\u001b[1;33m\u001b[0m\u001b[1;33m\u001b[0m\u001b[0m\n",
      "\u001b[1;32m~\\AppData\\Roaming\\Python\\Python37\\site-packages\\mpmath\\ctx_mp_python.py\u001b[0m in \u001b[0;36m__sub__\u001b[1;34m(self, other)\u001b[0m\n",
      "\u001b[1;32m~\\AppData\\Roaming\\Python\\Python37\\site-packages\\mpmath\\libmp\\libmpf.py\u001b[0m in \u001b[0;36mmpf_sub\u001b[1;34m(s, t, prec, rnd)\u001b[0m\n\u001b[0;32m    798\u001b[0m     \"\"\"Return the difference of two raw mpfs, s-t. This function is\n\u001b[0;32m    799\u001b[0m     simply a wrapper of mpf_add that changes the sign of t.\"\"\"\n\u001b[1;32m--> 800\u001b[1;33m     \u001b[1;32mreturn\u001b[0m \u001b[0mmpf_add\u001b[0m\u001b[1;33m(\u001b[0m\u001b[0ms\u001b[0m\u001b[1;33m,\u001b[0m \u001b[0mt\u001b[0m\u001b[1;33m,\u001b[0m \u001b[0mprec\u001b[0m\u001b[1;33m,\u001b[0m \u001b[0mrnd\u001b[0m\u001b[1;33m,\u001b[0m \u001b[1;36m1\u001b[0m\u001b[1;33m)\u001b[0m\u001b[1;33m\u001b[0m\u001b[1;33m\u001b[0m\u001b[0m\n\u001b[0m\u001b[0;32m    801\u001b[0m \u001b[1;33m\u001b[0m\u001b[0m\n\u001b[0;32m    802\u001b[0m \u001b[1;32mdef\u001b[0m \u001b[0mmpf_sum\u001b[0m\u001b[1;33m(\u001b[0m\u001b[0mxs\u001b[0m\u001b[1;33m,\u001b[0m \u001b[0mprec\u001b[0m\u001b[1;33m=\u001b[0m\u001b[1;36m0\u001b[0m\u001b[1;33m,\u001b[0m \u001b[0mrnd\u001b[0m\u001b[1;33m=\u001b[0m\u001b[0mround_fast\u001b[0m\u001b[1;33m,\u001b[0m \u001b[0mabsolute\u001b[0m\u001b[1;33m=\u001b[0m\u001b[1;32mFalse\u001b[0m\u001b[1;33m)\u001b[0m\u001b[1;33m:\u001b[0m\u001b[1;33m\u001b[0m\u001b[1;33m\u001b[0m\u001b[0m\n",
      "\u001b[1;32m~\\AppData\\Roaming\\Python\\Python37\\site-packages\\mpmath\\libmp\\libmpf.py\u001b[0m in \u001b[0;36mmpf_add\u001b[1;34m(s, t, prec, rnd, _sub)\u001b[0m\n\u001b[0;32m    708\u001b[0m     in memory) if exponents are far apart.\n\u001b[0;32m    709\u001b[0m     \"\"\"\n\u001b[1;32m--> 710\u001b[1;33m     \u001b[0mssign\u001b[0m\u001b[1;33m,\u001b[0m \u001b[0msman\u001b[0m\u001b[1;33m,\u001b[0m \u001b[0msexp\u001b[0m\u001b[1;33m,\u001b[0m \u001b[0msbc\u001b[0m \u001b[1;33m=\u001b[0m \u001b[0ms\u001b[0m\u001b[1;33m\u001b[0m\u001b[1;33m\u001b[0m\u001b[0m\n\u001b[0m\u001b[0;32m    711\u001b[0m     \u001b[0mtsign\u001b[0m\u001b[1;33m,\u001b[0m \u001b[0mtman\u001b[0m\u001b[1;33m,\u001b[0m \u001b[0mtexp\u001b[0m\u001b[1;33m,\u001b[0m \u001b[0mtbc\u001b[0m \u001b[1;33m=\u001b[0m \u001b[0mt\u001b[0m\u001b[1;33m\u001b[0m\u001b[1;33m\u001b[0m\u001b[0m\n\u001b[0;32m    712\u001b[0m     \u001b[0mtsign\u001b[0m \u001b[1;33m^=\u001b[0m \u001b[0m_sub\u001b[0m\u001b[1;33m\u001b[0m\u001b[1;33m\u001b[0m\u001b[0m\n",
      "\u001b[1;31mKeyboardInterrupt\u001b[0m: "
     ]
    }
   ],
   "source": [
    "#for D in tqdm([0.0, 0.5, 1.0, 1.5, 1.75, 1.8, 1.87,\n",
    "#                        1.875, 1.9, 1.92, 1.9375, 1.95, 1.96,\n",
    "#                        1.962, 1.963, 1.964, 1.965, 1.966, 1.967, 1.968, 1.96875, 1.969,\n",
    "#                        1.97, 1.99,\n",
    "#                        1.992]):\n",
    "D = 0.0\n",
    "#    L_list = [8, 12, 16, 20, 24, 30, 32, 40, 48, 50, 60, 64, 96]\n",
    "L_list = [64]\n",
    "#x = [32]\n",
    "cool, heat = [{\n",
    "    \"q\": 3,\n",
    "    \"D\": D,\n",
    "    \"L\": L,\n",
    "    \"R\" : 131072,\n",
    "    \"nSteps\" : 10,\n",
    "    \"seed\" : 0,\n",
    "    \"heat\": False\n",
    "} for L in L_list], [{\n",
    "    \"q\": 3,\n",
    "    \"D\": D,\n",
    "    \"L\": L,\n",
    "    \"R\" : 131072,\n",
    "    \"nSteps\" : 10,\n",
    "    \"seed\" : 0,\n",
    "    \"heat\": True\n",
    "} for L in L_list]\n",
    "print('D={}'.format(D))\n",
    "\n",
    "parameters = []\n",
    "for x in zip(cool, heat):\n",
    "    try:\n",
    "        parameters.append(read_tuple_files(x))\n",
    "    except:\n",
    "        pass\n",
    "for i, x in enumerate(parameters):\n",
    "    parameters[i][\"stitched\"] = stitch_S(x[\"heat\"], x[\"cool\"])\n",
    "print('L in {}'.format(\", \".join([str(x[\"stitched\"][\"L\"]) for x in parameters]) ))\n",
    "\n",
    "\n",
    "\n",
    "\n",
    "a = 0.4\n",
    "b = 2.0\n",
    "\n",
    "T_crit = {}\n",
    "for x in parameters:\n",
    "    st = x[\"stitched\"]\n",
    "    L = st[\"L\"]\n",
    "    t, c, _, _ = fminbound(lambda T: - calc_hc(st, T)[1], a, b, maxfun=500, full_output=1, disp=False)\n",
    "    T_crit[L] = {\n",
    "        \"T_crit\": float(t),\n",
    "        \"C_crit\": float(-c / (L * L))\n",
    "    }\n",
    "\n",
    "print(T_crit)\n",
    "\n",
    "#    with open(\"./tmp/T_crit_D{}.txt\".format(D), 'w') as fp:\n",
    "#        for L in T_crit:\n",
    "#            fp.write('{}\\t{}\\t{}\\n'.format(L, T_crit[L]['T_crit'], T_crit[L]['C_crit']))"
   ]
  },
  {
   "cell_type": "code",
   "execution_count": 24,
   "metadata": {},
   "outputs": [
    {
     "data": {
      "image/png": "[encoded data removed]",
      "text/plain": [
       "<Figure size 1152x648 with 1 Axes>"
      ]
     },
     "metadata": {
      "needs_background": "light"
     },
     "output_type": "display_data"
    }
   ],
   "source": [
    "X = [T for T in np.linspace(1.7, 1.703, 100)]\n",
    "\n",
    "plt.figure(figsize=(16, 9))\n",
    "plt.scatter(T_crit[L]['T_crit'], T_crit[L]['C_crit'], c='r', label='crit')\n",
    "\n",
    "plt.plot(X, [calc_hc(st, T)[1] / L**2 for T in X])\n",
    "plt.title('D={}, L={}'.format(st[\"D\"], st[\"L\"]))\n",
    "plt.grid()\n",
    "plt.legend()\n",
    "plt.show()"
   ]
  },
  {
   "cell_type": "markdown",
   "metadata": {},
   "source": []
  },
  {
   "cell_type": "code",
   "execution_count": null,
   "metadata": {},
   "outputs": [],
   "source": []
  },
  {
   "cell_type": "code",
   "execution_count": null,
   "metadata": {},
   "outputs": [],
   "source": []
  },
  {
   "cell_type": "code",
   "execution_count": 48,
   "metadata": {},
   "outputs": [
    {
     "data": {
      "application/vnd.jupyter.widget-view+json": {
       "model_id": "c504ab8d4fab42c79530b0d2c2191e39",
       "version_major": 2,
       "version_minor": 0
      },
      "text/plain": [
       "HBox(children=(IntProgress(value=0, max=1), HTML(value='')))"
      ]
     },
     "metadata": {},
     "output_type": "display_data"
    },
    {
     "name": "stdout",
     "output_type": "stream",
     "text": [
      "D=1.7\n"
     ]
    },
    {
     "name": "stderr",
     "output_type": "stream",
     "text": [
      "C:\\ProgramData\\Anaconda3\\lib\\site-packages\\ipykernel_launcher.py:7: RuntimeWarning: divide by zero encountered in log\n",
      "  import sys\n",
      "C:\\ProgramData\\Anaconda3\\lib\\site-packages\\ipykernel_launcher.py:16: RuntimeWarning: divide by zero encountered in log\n",
      "  app.launch_new_instance()\n"
     ]
    },
    {
     "data": {
      "application/vnd.jupyter.widget-view+json": {
       "model_id": "4503a94961f3419180166e44561711b3",
       "version_major": 2,
       "version_minor": 0
      },
      "text/plain": [
       "HBox(children=(IntProgress(value=0, max=8), HTML(value='')))"
      ]
     },
     "metadata": {},
     "output_type": "display_data"
    },
    {
     "name": "stdout",
     "output_type": "stream",
     "text": [
      "\n",
      "L in 8, 12, 16, 20, 24, 32, 48, 64\n"
     ]
    },
    {
     "data": {
      "application/vnd.jupyter.widget-view+json": {
       "model_id": "258916b0b7cb4e5a8790a390d766d3d3",
       "version_major": 2,
       "version_minor": 0
      },
      "text/plain": [
       "HBox(children=(IntProgress(value=0, max=8), HTML(value='')))"
      ]
     },
     "metadata": {},
     "output_type": "display_data"
    },
    {
     "name": "stdout",
     "output_type": "stream",
     "text": [
      "\n",
      "{8: {'T_crit': 0.8997000102968241, 'BC_crit': 0.001913845218095724}, 12: {'T_crit': 0.8945233494957207, 'BC_crit': 0.001024117261859618}, 16: {'T_crit': 0.8884446877668327, 'BC_crit': 0.00042617770142913854}, 20: {'T_crit': 0.8835937786506569, 'BC_crit': 0.00017874417777519614}, 24: {'T_crit': 0.8808014829277236, 'BC_crit': 0.0001012119981161728}, 32: {'T_crit': 0.8771318677982, 'BC_crit': 3.498610487813337e-05}, 48: {'T_crit': 0.8735246758421892, 'BC_crit': 1.2284986003110051e-05}, 64: {'T_crit': 0.8720304594384745, 'BC_crit': 3.1847576382048514e-06}}\n",
      "\n"
     ]
    }
   ],
   "source": [
    "for D in tqdm([#0.0, 0.5, 1.0, 1.5, 1.75, 1.8, 1.87,\n",
    "               #         1.6, 1.7\n",
    "               #         1.875, 1.9, 1.92, 1.9375, 1.95, 1.96,\n",
    "               #         1.962, 1.963, 1.964, 1.965, 1.966, 1.967, 1.968, 1.96875, 1.969,\n",
    "               #         1.97, 1.99,\n",
    "               #         1.992\n",
    "]):\n",
    "#D = 1.992\n",
    "    L_list = [8, 12, 16, 20, 24, 30, 32, 40, 48, 50, 60, 64, 96]\n",
    "    #L_list = [32]\n",
    "    #x = [32]\n",
    "    cool, heat = [{\n",
    "        \"q\": 3,\n",
    "        \"D\": D,\n",
    "        \"L\": L,\n",
    "        \"R\" : 131072,\n",
    "        \"nSteps\" : 10,\n",
    "        \"seed\" : 0,\n",
    "        \"heat\": False\n",
    "    } for L in L_list], [{\n",
    "        \"q\": 3,\n",
    "        \"D\": D,\n",
    "        \"L\": L,\n",
    "        \"R\" : 131072,\n",
    "        \"nSteps\" : 10,\n",
    "        \"seed\" : 0,\n",
    "        \"heat\": True\n",
    "    } for L in L_list]\n",
    "    print('D={}'.format(D))\n",
    "\n",
    "    parameters = []\n",
    "    for x in zip(cool, heat):\n",
    "        try:\n",
    "            parameters.append(read_tuple_files(x))\n",
    "        except:\n",
    "            pass\n",
    "    for i, x in enumerate(tqdm(parameters)):\n",
    "        parameters[i][\"stitched\"] = stitch_S(x[\"heat\"], x[\"cool\"])\n",
    "    print('L in {}'.format(\", \".join([str(x[\"stitched\"][\"L\"]) for x in parameters]) ))\n",
    "\n",
    "\n",
    "\n",
    "\n",
    "    a = 0.8\n",
    "    b = 1.0\n",
    "\n",
    "    T_crit = {}\n",
    "    for x in tqdm(parameters):\n",
    "        st = x[\"stitched\"]\n",
    "        L = st[\"L\"]\n",
    "        t, c, _, _ = fminbound(lambda T: calc_hc(st, T)[3], a, b, maxfun=500, full_output=1, disp=False)\n",
    "        T_crit[L] = {\n",
    "            \"T_crit\": float(t),\n",
    "            \"BC_crit\": float(-c / (L * L))\n",
    "        }\n",
    "\n",
    "    print(T_crit)\n",
    "\n",
    "    with open(\"./tmp/BC_crit_D{}.txt\".format(D), 'w') as fp:\n",
    "        for L in T_crit:\n",
    "            fp.write('{}\\t{}\\t{}\\n'.format(L, T_crit[L]['T_crit'], T_crit[L]['BC_crit']))"
   ]
  },
  {
   "cell_type": "code",
   "execution_count": 3,
   "metadata": {},
   "outputs": [],
   "source": [
    "T_crit = {}"
   ]
  },
  {
   "cell_type": "code",
   "execution_count": 10,
   "metadata": {},
   "outputs": [
    {
     "name": "stderr",
     "output_type": "stream",
     "text": [
      "/var/folders/0v/2xxng9410rl0ldw3shz9xrzw3cbqpn/T/ipykernel_21118/167725292.py:7: RuntimeWarning: divide by zero encountered in log\n",
      "  sn += np.log(1 - c[E])\n",
      "/var/folders/0v/2xxng9410rl0ldw3shz9xrzw3cbqpn/T/ipykernel_21118/167725292.py:16: RuntimeWarning: divide by zero encountered in log\n",
      "  sn += np.log(1 - c[E])\n"
     ]
    },
    {
     "name": "stdout",
     "output_type": "stream",
     "text": [
      "L in 8\n",
      "{8: {'T_crit': 1.999994105576493, 'BC_crit': 0.5130703383817576}}\n",
      "8\t1.999994105576493\t0.5130703383817576\n",
      "\n"
     ]
    }
   ],
   "source": [
    "\n",
    "D = 0.0\n",
    "L = 8\n",
    "\n",
    "cool, heat = [{\n",
    "    \"q\": 3,\n",
    "    \"D\": D,\n",
    "    \"L\": L,\n",
    "    \"R\" : 131072,\n",
    "    \"nSteps\" : 10,\n",
    "    \"seed\" : 0,\n",
    "    \"heat\": False\n",
    "}], [{\n",
    "    \"q\": 3,\n",
    "    \"D\": D,\n",
    "    \"L\": L,\n",
    "    \"R\" : 131072,\n",
    "    \"nSteps\" : 10,\n",
    "    \"seed\" : 0,\n",
    "    \"heat\": True\n",
    "}]\n",
    "\n",
    "parameters = []\n",
    "for x in zip(cool, heat):\n",
    "    try:\n",
    "        parameters.append(read_tuple_files(x))\n",
    "    except:\n",
    "        pass\n",
    "for i, x in enumerate(parameters):\n",
    "    parameters[i][\"stitched\"] = stitch_S(x[\"heat\"], x[\"cool\"])\n",
    "print('L in {}'.format(\", \".join([str(x[\"stitched\"][\"L\"]) for x in parameters]) ))\n",
    "T_crit[L] = {}\n",
    "\n",
    "a = 0.4\n",
    "b = 2.0\n",
    "c = 0.7\n",
    "\n",
    "for x in parameters:\n",
    "    st = x[\"stitched\"]\n",
    "    L = st[\"L\"]\n",
    "    t, bc, _, _ = fminbound(lambda T: - calc_hc(st, T)[3], a, b, maxfun=500, full_output=1, disp=False)\n",
    "    T_crit[L] = {\n",
    "        \"T_crit\": float(t),\n",
    "        \"BC_crit\": float(bc)\n",
    "    }\n",
    "\n",
    "#for x in tqdm(parameters):\n",
    "#    st = x[\"stitched\"]\n",
    "#    L = st[\"L\"]\n",
    "#    t, bc, _, _ = fminbound(lambda T: calc_hc(st, T)[3], b, c, maxfun=500, full_output=1, disp=False)\n",
    "#    T_crit[L].update({\n",
    "#        \"T_crit_2\": float(t),\n",
    "#        \"BC_crit_2\": float(bc)\n",
    "#    })\n",
    "\n",
    "print(T_crit)\n",
    "print('{}\\t{}\\t{}\\n'.format(L, T_crit[L]['T_crit'], T_crit[L]['BC_crit']))\n",
    "#print('{}\\t{}\\t{}\\n'.format(L, T_crit[L]['T_crit_2'], T_crit[L]['BC_crit_2']))\n",
    "\n"
   ]
  },
  {
   "cell_type": "code",
   "execution_count": null,
   "metadata": {},
   "outputs": [],
   "source": []
  },
  {
   "cell_type": "code",
   "execution_count": 47,
   "metadata": {},
   "outputs": [],
   "source": [
    "with open(\"./tmp/BC_crit_D{}.txt\".format(D), 'w') as fp:\n",
    "    for L in T_crit:\n",
    "        fp.write('{}\\t{}\\t{}\\n'.format(L, T_crit[L]['T_crit'], T_crit[L]['BC_crit']))"
   ]
  },
  {
   "cell_type": "code",
   "execution_count": 31,
   "metadata": {},
   "outputs": [],
   "source": [
    "from magic_functions import calc_hc_tpl"
   ]
  },
  {
   "cell_type": "code",
   "execution_count": 43,
   "metadata": {},
   "outputs": [
    {
     "data": {
      "application/vnd.jupyter.widget-view+json": {
       "model_id": "32afb60d7425464a8958a37e8fcb631f",
       "version_major": 2,
       "version_minor": 0
      },
      "text/plain": [
       "HBox(children=(IntProgress(value=0), HTML(value='')))"
      ]
     },
     "metadata": {},
     "output_type": "display_data"
    },
    {
     "name": "stdout",
     "output_type": "stream",
     "text": [
      "\n"
     ]
    },
    {
     "data": {
      "image/png": "[encoded data removed]",
      "text/plain": [
       "<Figure size 1152x648 with 1 Axes>"
      ]
     },
     "metadata": {
      "needs_background": "light"
     },
     "output_type": "display_data"
    },
    {
     "data": {
      "application/vnd.jupyter.widget-view+json": {
       "model_id": "96f2d00933ec49ba93c75222cbe94180",
       "version_major": 2,
       "version_minor": 0
      },
      "text/plain": [
       "HBox(children=(IntProgress(value=0), HTML(value='')))"
      ]
     },
     "metadata": {},
     "output_type": "display_data"
    },
    {
     "name": "stdout",
     "output_type": "stream",
     "text": [
      "\n"
     ]
    },
    {
     "ename": "KeyboardInterrupt",
     "evalue": "",
     "output_type": "error",
     "traceback": [
      "\u001b[1;31m---------------------------------------------------------------------------\u001b[0m",
      "\u001b[1;31mKeyboardInterrupt\u001b[0m                         Traceback (most recent call last)",
      "\u001b[1;32m<ipython-input-43-87fe6c11a22f>\u001b[0m in \u001b[0;36m<module>\u001b[1;34m\u001b[0m\n\u001b[0;32m     17\u001b[0m     \u001b[1;32mwith\u001b[0m \u001b[0mPool\u001b[0m\u001b[1;33m(\u001b[0m\u001b[1;36m6\u001b[0m\u001b[1;33m)\u001b[0m \u001b[1;32mas\u001b[0m \u001b[0mp\u001b[0m\u001b[1;33m:\u001b[0m\u001b[1;33m\u001b[0m\u001b[1;33m\u001b[0m\u001b[0m\n\u001b[0;32m     18\u001b[0m         pool_outputs = list(\n\u001b[1;32m---> 19\u001b[1;33m                 \u001b[0mp\u001b[0m\u001b[1;33m.\u001b[0m\u001b[0mmap\u001b[0m\u001b[1;33m(\u001b[0m\u001b[0mcalc_hc_tpl\u001b[0m\u001b[1;33m,\u001b[0m \u001b[0mtqdm\u001b[0m\u001b[1;33m(\u001b[0m\u001b[0mframes_list\u001b[0m\u001b[1;33m,\u001b[0m \u001b[0mtotal\u001b[0m\u001b[1;33m=\u001b[0m\u001b[0mlen\u001b[0m\u001b[1;33m(\u001b[0m\u001b[0mframes_list\u001b[0m\u001b[1;33m)\u001b[0m\u001b[1;33m)\u001b[0m\u001b[1;33m)\u001b[0m\u001b[1;33m\u001b[0m\u001b[1;33m\u001b[0m\u001b[0m\n\u001b[0m\u001b[0;32m     20\u001b[0m         )\n\u001b[0;32m     21\u001b[0m \u001b[1;33m\u001b[0m\u001b[0m\n",
      "\u001b[1;32mC:\\ProgramData\\Anaconda3\\lib\\site-packages\\multiprocess\\pool.py\u001b[0m in \u001b[0;36mmap\u001b[1;34m(self, func, iterable, chunksize)\u001b[0m\n\u001b[0;32m    266\u001b[0m         \u001b[1;32min\u001b[0m \u001b[0ma\u001b[0m \u001b[0mlist\u001b[0m \u001b[0mthat\u001b[0m \u001b[1;32mis\u001b[0m \u001b[0mreturned\u001b[0m\u001b[1;33m.\u001b[0m\u001b[1;33m\u001b[0m\u001b[1;33m\u001b[0m\u001b[0m\n\u001b[0;32m    267\u001b[0m         '''\n\u001b[1;32m--> 268\u001b[1;33m         \u001b[1;32mreturn\u001b[0m \u001b[0mself\u001b[0m\u001b[1;33m.\u001b[0m\u001b[0m_map_async\u001b[0m\u001b[1;33m(\u001b[0m\u001b[0mfunc\u001b[0m\u001b[1;33m,\u001b[0m \u001b[0miterable\u001b[0m\u001b[1;33m,\u001b[0m \u001b[0mmapstar\u001b[0m\u001b[1;33m,\u001b[0m \u001b[0mchunksize\u001b[0m\u001b[1;33m)\u001b[0m\u001b[1;33m.\u001b[0m\u001b[0mget\u001b[0m\u001b[1;33m(\u001b[0m\u001b[1;33m)\u001b[0m\u001b[1;33m\u001b[0m\u001b[1;33m\u001b[0m\u001b[0m\n\u001b[0m\u001b[0;32m    269\u001b[0m \u001b[1;33m\u001b[0m\u001b[0m\n\u001b[0;32m    270\u001b[0m     \u001b[1;32mdef\u001b[0m \u001b[0mstarmap\u001b[0m\u001b[1;33m(\u001b[0m\u001b[0mself\u001b[0m\u001b[1;33m,\u001b[0m \u001b[0mfunc\u001b[0m\u001b[1;33m,\u001b[0m \u001b[0miterable\u001b[0m\u001b[1;33m,\u001b[0m \u001b[0mchunksize\u001b[0m\u001b[1;33m=\u001b[0m\u001b[1;32mNone\u001b[0m\u001b[1;33m)\u001b[0m\u001b[1;33m:\u001b[0m\u001b[1;33m\u001b[0m\u001b[1;33m\u001b[0m\u001b[0m\n",
      "\u001b[1;32mC:\\ProgramData\\Anaconda3\\lib\\site-packages\\multiprocess\\pool.py\u001b[0m in \u001b[0;36mget\u001b[1;34m(self, timeout)\u001b[0m\n\u001b[0;32m    649\u001b[0m \u001b[1;33m\u001b[0m\u001b[0m\n\u001b[0;32m    650\u001b[0m     \u001b[1;32mdef\u001b[0m \u001b[0mget\u001b[0m\u001b[1;33m(\u001b[0m\u001b[0mself\u001b[0m\u001b[1;33m,\u001b[0m \u001b[0mtimeout\u001b[0m\u001b[1;33m=\u001b[0m\u001b[1;32mNone\u001b[0m\u001b[1;33m)\u001b[0m\u001b[1;33m:\u001b[0m\u001b[1;33m\u001b[0m\u001b[1;33m\u001b[0m\u001b[0m\n\u001b[1;32m--> 651\u001b[1;33m         \u001b[0mself\u001b[0m\u001b[1;33m.\u001b[0m\u001b[0mwait\u001b[0m\u001b[1;33m(\u001b[0m\u001b[0mtimeout\u001b[0m\u001b[1;33m)\u001b[0m\u001b[1;33m\u001b[0m\u001b[1;33m\u001b[0m\u001b[0m\n\u001b[0m\u001b[0;32m    652\u001b[0m         \u001b[1;32mif\u001b[0m \u001b[1;32mnot\u001b[0m \u001b[0mself\u001b[0m\u001b[1;33m.\u001b[0m\u001b[0mready\u001b[0m\u001b[1;33m(\u001b[0m\u001b[1;33m)\u001b[0m\u001b[1;33m:\u001b[0m\u001b[1;33m\u001b[0m\u001b[1;33m\u001b[0m\u001b[0m\n\u001b[0;32m    653\u001b[0m             \u001b[1;32mraise\u001b[0m \u001b[0mTimeoutError\u001b[0m\u001b[1;33m\u001b[0m\u001b[1;33m\u001b[0m\u001b[0m\n",
      "\u001b[1;32mC:\\ProgramData\\Anaconda3\\lib\\site-packages\\multiprocess\\pool.py\u001b[0m in \u001b[0;36mwait\u001b[1;34m(self, timeout)\u001b[0m\n\u001b[0;32m    646\u001b[0m \u001b[1;33m\u001b[0m\u001b[0m\n\u001b[0;32m    647\u001b[0m     \u001b[1;32mdef\u001b[0m \u001b[0mwait\u001b[0m\u001b[1;33m(\u001b[0m\u001b[0mself\u001b[0m\u001b[1;33m,\u001b[0m \u001b[0mtimeout\u001b[0m\u001b[1;33m=\u001b[0m\u001b[1;32mNone\u001b[0m\u001b[1;33m)\u001b[0m\u001b[1;33m:\u001b[0m\u001b[1;33m\u001b[0m\u001b[1;33m\u001b[0m\u001b[0m\n\u001b[1;32m--> 648\u001b[1;33m         \u001b[0mself\u001b[0m\u001b[1;33m.\u001b[0m\u001b[0m_event\u001b[0m\u001b[1;33m.\u001b[0m\u001b[0mwait\u001b[0m\u001b[1;33m(\u001b[0m\u001b[0mtimeout\u001b[0m\u001b[1;33m)\u001b[0m\u001b[1;33m\u001b[0m\u001b[1;33m\u001b[0m\u001b[0m\n\u001b[0m\u001b[0;32m    649\u001b[0m \u001b[1;33m\u001b[0m\u001b[0m\n\u001b[0;32m    650\u001b[0m     \u001b[1;32mdef\u001b[0m \u001b[0mget\u001b[0m\u001b[1;33m(\u001b[0m\u001b[0mself\u001b[0m\u001b[1;33m,\u001b[0m \u001b[0mtimeout\u001b[0m\u001b[1;33m=\u001b[0m\u001b[1;32mNone\u001b[0m\u001b[1;33m)\u001b[0m\u001b[1;33m:\u001b[0m\u001b[1;33m\u001b[0m\u001b[1;33m\u001b[0m\u001b[0m\n",
      "\u001b[1;32mC:\\ProgramData\\Anaconda3\\lib\\threading.py\u001b[0m in \u001b[0;36mwait\u001b[1;34m(self, timeout)\u001b[0m\n\u001b[0;32m    550\u001b[0m             \u001b[0msignaled\u001b[0m \u001b[1;33m=\u001b[0m \u001b[0mself\u001b[0m\u001b[1;33m.\u001b[0m\u001b[0m_flag\u001b[0m\u001b[1;33m\u001b[0m\u001b[1;33m\u001b[0m\u001b[0m\n\u001b[0;32m    551\u001b[0m             \u001b[1;32mif\u001b[0m \u001b[1;32mnot\u001b[0m \u001b[0msignaled\u001b[0m\u001b[1;33m:\u001b[0m\u001b[1;33m\u001b[0m\u001b[1;33m\u001b[0m\u001b[0m\n\u001b[1;32m--> 552\u001b[1;33m                 \u001b[0msignaled\u001b[0m \u001b[1;33m=\u001b[0m \u001b[0mself\u001b[0m\u001b[1;33m.\u001b[0m\u001b[0m_cond\u001b[0m\u001b[1;33m.\u001b[0m\u001b[0mwait\u001b[0m\u001b[1;33m(\u001b[0m\u001b[0mtimeout\u001b[0m\u001b[1;33m)\u001b[0m\u001b[1;33m\u001b[0m\u001b[1;33m\u001b[0m\u001b[0m\n\u001b[0m\u001b[0;32m    553\u001b[0m             \u001b[1;32mreturn\u001b[0m \u001b[0msignaled\u001b[0m\u001b[1;33m\u001b[0m\u001b[1;33m\u001b[0m\u001b[0m\n\u001b[0;32m    554\u001b[0m \u001b[1;33m\u001b[0m\u001b[0m\n",
      "\u001b[1;32mC:\\ProgramData\\Anaconda3\\lib\\threading.py\u001b[0m in \u001b[0;36mwait\u001b[1;34m(self, timeout)\u001b[0m\n\u001b[0;32m    294\u001b[0m         \u001b[1;32mtry\u001b[0m\u001b[1;33m:\u001b[0m    \u001b[1;31m# restore state no matter what (e.g., KeyboardInterrupt)\u001b[0m\u001b[1;33m\u001b[0m\u001b[1;33m\u001b[0m\u001b[0m\n\u001b[0;32m    295\u001b[0m             \u001b[1;32mif\u001b[0m \u001b[0mtimeout\u001b[0m \u001b[1;32mis\u001b[0m \u001b[1;32mNone\u001b[0m\u001b[1;33m:\u001b[0m\u001b[1;33m\u001b[0m\u001b[1;33m\u001b[0m\u001b[0m\n\u001b[1;32m--> 296\u001b[1;33m                 \u001b[0mwaiter\u001b[0m\u001b[1;33m.\u001b[0m\u001b[0macquire\u001b[0m\u001b[1;33m(\u001b[0m\u001b[1;33m)\u001b[0m\u001b[1;33m\u001b[0m\u001b[1;33m\u001b[0m\u001b[0m\n\u001b[0m\u001b[0;32m    297\u001b[0m                 \u001b[0mgotit\u001b[0m \u001b[1;33m=\u001b[0m \u001b[1;32mTrue\u001b[0m\u001b[1;33m\u001b[0m\u001b[1;33m\u001b[0m\u001b[0m\n\u001b[0;32m    298\u001b[0m             \u001b[1;32melse\u001b[0m\u001b[1;33m:\u001b[0m\u001b[1;33m\u001b[0m\u001b[1;33m\u001b[0m\u001b[0m\n",
      "\u001b[1;31mKeyboardInterrupt\u001b[0m: "
     ]
    }
   ],
   "source": [
    "hc = {}\n",
    "E = {}\n",
    "BC = {}\n",
    "\n",
    "for i, x in enumerate(parameters):\n",
    "    heat, cool, st = parameters[i][\"heat\"], parameters[i][\"cool\"], parameters[i][\"stitched\"]\n",
    "    L = st['L']\n",
    "    N = L * L\n",
    "\n",
    "    hc[L] = {}\n",
    "    E[L] = {}\n",
    "    BC[L] = {}\n",
    "\n",
    "\n",
    "    frames_list = list(zip(itertools.repeat(st), np.linspace(0.4, 10.0, 100)))\n",
    "\n",
    "    with Pool(6) as p:\n",
    "        pool_outputs = list(\n",
    "                p.map(calc_hc_tpl, tqdm(frames_list, total=len(frames_list)))\n",
    "        )\n",
    "\n",
    "    # T, C, average E, BinderCumulant\n",
    "    for tpl in pool_outputs:\n",
    "        T, x, y, z = tpl\n",
    "        hc[L][T], E[L][T], BC[L][T] = x, y, z\n",
    "\n",
    "\n",
    "\n",
    "    plt.figure(figsize=(16, 9))\n",
    "\n",
    "\n",
    "    plt.plot([float(T) for T in BC[st[\"L\"]]], [bc for T, bc in BC[st[\"L\"]].items()], 'o', markerSize = 4)\n",
    "    plt.grid()\n",
    "    plt.title(\"$D={}$\".format(st[\"D\"]), fontsize=16)\n",
    "    plt.ylabel('$BC$', fontsize=16)\n",
    "    plt.xlabel('$T$', fontsize=16)\n",
    "    plt.show()\n",
    "    #plt.savefig(\"./images/BC(T)_D{}_L{}.png\".format(st[\"D\"], st[\"L\"]))\n"
   ]
  },
  {
   "cell_type": "code",
   "execution_count": 46,
   "metadata": {},
   "outputs": [
    {
     "data": {
      "application/vnd.jupyter.widget-view+json": {
       "model_id": "70a4cb44b3b74cccbe18344edabe1d2b",
       "version_major": 2,
       "version_minor": 0
      },
      "text/plain": [
       "HBox(children=(IntProgress(value=0, max=25), HTML(value='')))"
      ]
     },
     "metadata": {},
     "output_type": "display_data"
    },
    {
     "name": "stdout",
     "output_type": "stream",
     "text": [
      "\n"
     ]
    }
   ],
   "source": [
    "T_crit = {}\n",
    "C_crit = {}\n",
    "for D in tqdm([0.0, 0.5, 1.0, 1.5, 1.75, 1.8, 1.87,\n",
    "                        1.875, 1.9, 1.92, 1.9375, 1.95, 1.96,\n",
    "                        1.962, 1.963, 1.964, 1.965, 1.966, 1.967, 1.968, 1.96875, 1.969,\n",
    "                        1.97, 1.99,\n",
    "                        1.992]):\n",
    "#D = 0.0\n",
    "    T_crit[D] = {}\n",
    "    C_crit[D] = {}\n",
    "    with open(\"./tmp/T_crit_D{}.txt\".format(D), 'r') as fp:\n",
    "        for line in fp:\n",
    "            L, T, C = line.split()\n",
    "            T_crit[D][int(L)] = float(T)\n",
    "            C_crit[D][int(L)] = float(C)"
   ]
  },
  {
   "cell_type": "code",
   "execution_count": null,
   "metadata": {},
   "outputs": [],
   "source": []
  },
  {
   "cell_type": "code",
   "execution_count": 110,
   "metadata": {},
   "outputs": [
    {
     "data": {
      "image/png": "[encoded data removed]",
      "text/plain": [
       "<Figure size 1152x648 with 1 Axes>"
      ]
     },
     "metadata": {
      "needs_background": "light"
     },
     "output_type": "display_data"
    }
   ],
   "source": [
    "plt.figure(figsize=(16, 9))\n",
    "\n",
    "D = 0.0\n",
    "plt.plot([1/L for L in T_crit[D]], [T for L, T in T_crit[D].items()], 'o', label=\"$D={}$\".format(D))\n",
    "#plt.yscale('log')\n",
    "#plt.xscale('log')\n",
    "#plt.title(\"$D={}$\".format(D), fontsize=16)\n",
    "plt.xlabel(r'$1/L$', fontsize=16)\n",
    "plt.ylabel(r\"$T_{crit}$\", fontsize=16)\n",
    "plt.legend()\n",
    "plt.grid(True, which=\"both\")\n",
    "plt.show()"
   ]
  },
  {
   "cell_type": "code",
   "execution_count": 102,
   "metadata": {},
   "outputs": [
    {
     "data": {
      "text/plain": [
       "(array([0.015625  , 0.00694444, 0.00390625, 0.0025    , 0.00173611,\n",
       "        0.00097656, 0.00043403, 0.00024414, 0.00010851]),\n",
       " array([1.4088887 , 1.41137802, 1.41297188, 1.41008664, 1.41097004,\n",
       "        1.40549362, 1.40495908, 1.40321056, 1.40282392]))"
      ]
     },
     "execution_count": 102,
     "metadata": {},
     "output_type": "execute_result"
    }
   ],
   "source": [
    "D = 1.0\n",
    "x = np.array([1/L**2 for L in T_crit[D].keys()])\n",
    "y = np.array([T for L, T in T_crit[D].items()])\n",
    "x, y"
   ]
  },
  {
   "cell_type": "code",
   "execution_count": 103,
   "metadata": {},
   "outputs": [
    {
     "name": "stdout",
     "output_type": "stream",
     "text": [
      "slope: \t0.0013787754518271463 +/-\n",
      "\t0.00035435014982953834\n",
      "shift: \t0.35113130287279426 +/-\n",
      "\t0.0023903698739815155\n"
     ]
    },
    {
     "data": {
      "image/png": "[encoded data removed]",
      "text/plain": [
       "<Figure size 1152x648 with 1 Axes>"
      ]
     },
     "metadata": {
      "needs_background": "light"
     },
     "output_type": "display_data"
    }
   ],
   "source": [
    "l = 0\n",
    "fit = np.polyfit(np.log(x[l:]), np.log(y[l:]), 1, full=False)\n",
    "\n",
    "plt.figure(figsize=(16, 9))\n",
    "\n",
    "plt.scatter(x, y, label=\"$D={}$\".format(D))\n",
    "\n",
    "sample = np.linspace(-2, -10, 100)\n",
    "plt.plot(np.exp(sample), np.exp(fit[0] * sample + fit[1]), 'r', label=\"$D={}$\".format(D))\n",
    "\n",
    "plt.xlabel(r'$L^{-2}$', fontsize=16)\n",
    "plt.ylabel(r\"$T_{crit}$\", fontsize=16)\n",
    "plt.yscale(\"log\")\n",
    "plt.xscale(\"log\")\n",
    "plt.grid(True, which=\"both\")\n",
    "plt.legend()\n",
    "#plt.savefig(\"./finite_size_D{}.png\".format(D))\n",
    "\n",
    "p, V = np.polyfit(np.log(x[l:]), np.log(y[l:]), 1, cov=True)\n",
    "\n",
    "print(\"slope: \\t{} +/-\\n\\t{}\".format(p[0], np.sqrt(V[0][0])))\n",
    "print(\"shift: \\t{} +/-\\n\\t{}\".format(p[1], np.sqrt(V[1][1])))\n"
   ]
  },
  {
   "cell_type": "code",
   "execution_count": null,
   "metadata": {},
   "outputs": [],
   "source": []
  },
  {
   "cell_type": "code",
   "execution_count": null,
   "metadata": {},
   "outputs": [],
   "source": []
  },
  {
   "cell_type": "code",
   "execution_count": null,
   "metadata": {},
   "outputs": [],
   "source": []
  },
  {
   "cell_type": "code",
   "execution_count": null,
   "metadata": {},
   "outputs": [],
   "source": []
  },
  {
   "cell_type": "code",
   "execution_count": null,
   "metadata": {},
   "outputs": [],
   "source": []
  },
  {
   "cell_type": "code",
   "execution_count": null,
   "metadata": {},
   "outputs": [],
   "source": []
  },
  {
   "cell_type": "code",
   "execution_count": null,
   "metadata": {},
   "outputs": [],
   "source": []
  },
  {
   "cell_type": "code",
   "execution_count": null,
   "metadata": {},
   "outputs": [],
   "source": []
  },
  {
   "cell_type": "code",
   "execution_count": null,
   "metadata": {},
   "outputs": [],
   "source": []
  },
  {
   "cell_type": "code",
   "execution_count": null,
   "metadata": {},
   "outputs": [],
   "source": []
  },
  {
   "cell_type": "code",
   "execution_count": null,
   "metadata": {},
   "outputs": [],
   "source": []
  },
  {
   "cell_type": "code",
   "execution_count": null,
   "metadata": {},
   "outputs": [],
   "source": []
  },
  {
   "cell_type": "code",
   "execution_count": null,
   "metadata": {},
   "outputs": [],
   "source": []
  },
  {
   "cell_type": "code",
   "execution_count": null,
   "metadata": {},
   "outputs": [],
   "source": []
  },
  {
   "cell_type": "code",
   "execution_count": null,
   "metadata": {},
   "outputs": [],
   "source": []
  },
  {
   "cell_type": "code",
   "execution_count": null,
   "metadata": {},
   "outputs": [],
   "source": []
  },
  {
   "cell_type": "code",
   "execution_count": null,
   "metadata": {},
   "outputs": [],
   "source": []
  },
  {
   "cell_type": "code",
   "execution_count": null,
   "metadata": {},
   "outputs": [],
   "source": []
  },
  {
   "cell_type": "code",
   "execution_count": null,
   "metadata": {},
   "outputs": [],
   "source": []
  },
  {
   "cell_type": "code",
   "execution_count": null,
   "metadata": {},
   "outputs": [],
   "source": []
  },
  {
   "cell_type": "code",
   "execution_count": null,
   "metadata": {},
   "outputs": [],
   "source": []
  },
  {
   "cell_type": "code",
   "execution_count": null,
   "metadata": {},
   "outputs": [],
   "source": []
  },
  {
   "cell_type": "code",
   "execution_count": null,
   "metadata": {},
   "outputs": [],
   "source": []
  },
  {
   "cell_type": "code",
   "execution_count": null,
   "metadata": {},
   "outputs": [],
   "source": []
  },
  {
   "cell_type": "code",
   "execution_count": null,
   "metadata": {},
   "outputs": [],
   "source": []
  },
  {
   "cell_type": "code",
   "execution_count": null,
   "metadata": {},
   "outputs": [],
   "source": []
  },
  {
   "cell_type": "code",
   "execution_count": null,
   "metadata": {},
   "outputs": [],
   "source": []
  },
  {
   "cell_type": "code",
   "execution_count": null,
   "metadata": {},
   "outputs": [],
   "source": []
  },
  {
   "cell_type": "code",
   "execution_count": null,
   "metadata": {},
   "outputs": [],
   "source": []
  },
  {
   "cell_type": "code",
   "execution_count": null,
   "metadata": {},
   "outputs": [],
   "source": []
  },
  {
   "cell_type": "code",
   "execution_count": null,
   "metadata": {},
   "outputs": [],
   "source": []
  },
  {
   "cell_type": "code",
   "execution_count": null,
   "metadata": {},
   "outputs": [],
   "source": []
  },
  {
   "cell_type": "code",
   "execution_count": null,
   "metadata": {},
   "outputs": [],
   "source": []
  },
  {
   "cell_type": "code",
   "execution_count": null,
   "metadata": {},
   "outputs": [],
   "source": []
  },
  {
   "cell_type": "code",
   "execution_count": null,
   "metadata": {},
   "outputs": [],
   "source": []
  },
  {
   "cell_type": "code",
   "execution_count": null,
   "metadata": {},
   "outputs": [],
   "source": []
  },
  {
   "cell_type": "code",
   "execution_count": null,
   "metadata": {},
   "outputs": [],
   "source": []
  },
  {
   "cell_type": "code",
   "execution_count": null,
   "metadata": {},
   "outputs": [],
   "source": []
  },
  {
   "cell_type": "code",
   "execution_count": null,
   "metadata": {},
   "outputs": [],
   "source": []
  },
  {
   "cell_type": "code",
   "execution_count": null,
   "metadata": {},
   "outputs": [],
   "source": []
  },
  {
   "cell_type": "code",
   "execution_count": null,
   "metadata": {},
   "outputs": [],
   "source": []
  },
  {
   "cell_type": "code",
   "execution_count": null,
   "metadata": {},
   "outputs": [],
   "source": []
  },
  {
   "cell_type": "code",
   "execution_count": null,
   "metadata": {},
   "outputs": [],
   "source": []
  },
  {
   "cell_type": "code",
   "execution_count": null,
   "metadata": {},
   "outputs": [],
   "source": []
  },
  {
   "cell_type": "code",
   "execution_count": null,
   "metadata": {},
   "outputs": [],
   "source": []
  },
  {
   "cell_type": "code",
   "execution_count": null,
   "metadata": {},
   "outputs": [],
   "source": []
  },
  {
   "cell_type": "code",
   "execution_count": null,
   "metadata": {},
   "outputs": [],
   "source": []
  },
  {
   "cell_type": "code",
   "execution_count": null,
   "metadata": {},
   "outputs": [],
   "source": []
  },
  {
   "cell_type": "code",
   "execution_count": null,
   "metadata": {},
   "outputs": [],
   "source": []
  },
  {
   "cell_type": "code",
   "execution_count": null,
   "metadata": {},
   "outputs": [],
   "source": []
  },
  {
   "cell_type": "code",
   "execution_count": null,
   "metadata": {},
   "outputs": [],
   "source": []
  },
  {
   "cell_type": "code",
   "execution_count": null,
   "metadata": {},
   "outputs": [],
   "source": []
  },
  {
   "cell_type": "code",
   "execution_count": null,
   "metadata": {},
   "outputs": [],
   "source": []
  },
  {
   "cell_type": "code",
   "execution_count": null,
   "metadata": {},
   "outputs": [],
   "source": []
  },
  {
   "cell_type": "code",
   "execution_count": null,
   "metadata": {},
   "outputs": [],
   "source": []
  },
  {
   "cell_type": "code",
   "execution_count": null,
   "metadata": {},
   "outputs": [],
   "source": []
  },
  {
   "cell_type": "code",
   "execution_count": null,
   "metadata": {},
   "outputs": [],
   "source": []
  },
  {
   "cell_type": "code",
   "execution_count": null,
   "metadata": {},
   "outputs": [],
   "source": []
  },
  {
   "cell_type": "code",
   "execution_count": null,
   "metadata": {},
   "outputs": [],
   "source": []
  },
  {
   "cell_type": "code",
   "execution_count": null,
   "metadata": {},
   "outputs": [],
   "source": []
  },
  {
   "cell_type": "code",
   "execution_count": null,
   "metadata": {},
   "outputs": [],
   "source": []
  },
  {
   "cell_type": "code",
   "execution_count": null,
   "metadata": {},
   "outputs": [],
   "source": []
  },
  {
   "cell_type": "code",
   "execution_count": null,
   "metadata": {},
   "outputs": [],
   "source": []
  },
  {
   "cell_type": "code",
   "execution_count": null,
   "metadata": {},
   "outputs": [],
   "source": []
  },
  {
   "cell_type": "code",
   "execution_count": null,
   "metadata": {},
   "outputs": [],
   "source": []
  },
  {
   "cell_type": "code",
   "execution_count": null,
   "metadata": {},
   "outputs": [],
   "source": []
  },
  {
   "cell_type": "code",
   "execution_count": null,
   "metadata": {},
   "outputs": [],
   "source": []
  },
  {
   "cell_type": "code",
   "execution_count": null,
   "metadata": {},
   "outputs": [],
   "source": []
  }
 ],
 "metadata": {
  "kernelspec": {
   "display_name": "Python 3",
   "language": "python",
   "name": "python3"
  },
  "language_info": {
   "codemirror_mode": {
    "name": "ipython",
    "version": 3
   },
   "file_extension": ".py",
   "mimetype": "text/x-python",
   "name": "python",
   "nbconvert_exporter": "python",
   "pygments_lexer": "ipython3",
   "version": "3.7.4"
  }
 },
 "nbformat": 4,
 "nbformat_minor": 4
}
