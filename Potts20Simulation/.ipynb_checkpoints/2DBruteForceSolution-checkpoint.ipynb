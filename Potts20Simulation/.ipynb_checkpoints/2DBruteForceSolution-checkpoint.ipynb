{
 "cells": [
  {
   "cell_type": "code",
   "execution_count": 6,
   "metadata": {},
   "outputs": [],
   "source": [
    "import numpy as np, matplotlib.pyplot as plt\n",
    "from tqdm.notebook import tqdm as log_progress"
   ]
  },
  {
   "cell_type": "code",
   "execution_count": 17,
   "metadata": {},
   "outputs": [
    {
     "data": {
      "text/plain": [
       "262144"
      ]
     },
     "execution_count": 17,
     "metadata": {},
     "output_type": "execute_result"
    }
   ],
   "source": [
    "L, q = 3, 4\n",
    "N = L * L\n",
    "q ** N"
   ]
  },
  {
   "cell_type": "code",
   "execution_count": 18,
   "metadata": {},
   "outputs": [],
   "source": [
    "class State:\n",
    "    def __init__(self, L, q):\n",
    "        self.L, self.N, self.q = L, L * L, q\n",
    "        self.state = [0 for _ in range (self.N + 1)]\n",
    "    def inc(self):\n",
    "        \"\"\"incriment by one\"\"\"\n",
    "        self.state[0] += 1\n",
    "        i = 0\n",
    "        while self.state[i] >= self.q and i < len(self.state):\n",
    "            self.state[i] -= self.q\n",
    "            i += 1\n",
    "            self.state[i] += 1"
   ]
  },
  {
   "cell_type": "code",
   "execution_count": 19,
   "metadata": {},
   "outputs": [
    {
     "data": {
      "text/plain": [
       "10"
      ]
     },
     "execution_count": 19,
     "metadata": {},
     "output_type": "execute_result"
    }
   ],
   "source": [
    "state = State(L, q)\n",
    "len(state.state)"
   ]
  },
  {
   "cell_type": "code",
   "execution_count": 20,
   "metadata": {},
   "outputs": [
    {
     "name": "stdout",
     "output_type": "stream",
     "text": [
      "Done:  0.3814697265625\n",
      "Done:  0.762939453125\n"
     ]
    }
   ],
   "source": [
    "d = {}\n",
    "count = 0\n",
    "while state.state[-1] < 1:\n",
    "    E = 0\n",
    "    count += 1\n",
    "    for j in range(N):\n",
    "        column = j // L\n",
    "        row = j % L\n",
    "        down = (j + L) % N\n",
    "        E -= (state.state[j] == state.state[down])\n",
    "        if (row + column) % 2 == 0:\n",
    "            right = (j + 1) % L + L * column\n",
    "            E -= (state.state[j] == state.state[right])\n",
    "    try:\n",
    "        d[E] += 1\n",
    "    except:\n",
    "        d[E] = 1\n",
    "    if (count % 100000 == 0):\n",
    "        print(\"Done: \", count / q ** N)\n",
    "    state.inc()"
   ]
  },
  {
   "cell_type": "code",
   "execution_count": 22,
   "metadata": {},
   "outputs": [
    {
     "data": {
      "image/png": "[encoded data removed]",
      "text/plain": [
       "<Figure size 432x288 with 1 Axes>"
      ]
     },
     "metadata": {
      "needs_background": "light"
     },
     "output_type": "display_data"
    }
   ],
   "source": [
    "plt.plot([E for E, G in d.items()], [G for E, G in d.items()], 'o')\n",
    "plt.yscale(\"log\")\n",
    "plt.show()"
   ]
  },
  {
   "cell_type": "code",
   "execution_count": null,
   "metadata": {},
   "outputs": [],
   "source": []
  },
  {
   "cell_type": "code",
   "execution_count": null,
   "metadata": {},
   "outputs": [],
   "source": []
  },
  {
   "cell_type": "code",
   "execution_count": null,
   "metadata": {},
   "outputs": [],
   "source": []
  },
  {
   "cell_type": "code",
   "execution_count": null,
   "metadata": {},
   "outputs": [],
   "source": []
  },
  {
   "cell_type": "code",
   "execution_count": null,
   "metadata": {},
   "outputs": [],
   "source": []
  },
  {
   "cell_type": "code",
   "execution_count": null,
   "metadata": {},
   "outputs": [],
   "source": []
  },
  {
   "cell_type": "code",
   "execution_count": null,
   "metadata": {},
   "outputs": [],
   "source": []
  }
 ],
 "metadata": {
  "kernelspec": {
   "display_name": "Python 3",
   "language": "python",
   "name": "python3"
  },
  "language_info": {
   "codemirror_mode": {
    "name": "ipython",
    "version": 3
   },
   "file_extension": ".py",
   "mimetype": "text/x-python",
   "name": "python",
   "nbconvert_exporter": "python",
   "pygments_lexer": "ipython3",
   "version": "3.7.4"
  }
 },
 "nbformat": 4,
 "nbformat_minor": 2
}
