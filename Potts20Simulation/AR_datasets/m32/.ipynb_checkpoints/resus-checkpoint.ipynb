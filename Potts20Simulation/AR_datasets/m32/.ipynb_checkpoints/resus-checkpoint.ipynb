{
 "cells": [
  {
   "cell_type": "code",
   "execution_count": 2,
   "metadata": {},
   "outputs": [],
   "source": [
    "import re, sys"
   ]
  },
  {
   "cell_type": "code",
   "execution_count": null,
   "metadata": {},
   "outputs": [],
   "source": []
  },
  {
   "cell_type": "code",
   "execution_count": null,
   "metadata": {},
   "outputs": [],
   "source": [
    "with open('X.txt', 'w') as o:\n",
    "    with open('mpirun_openmpi415_cuda122_8xNode_32xGPU_typeA_numa1', 'r') as f:\n",
    "        lines = f.readlines()\n",
    "        U = [];\n",
    "        Cull = [];\n",
    "        for line in lines:\n",
    "            un=re.search('U_new=(.*)',line)\n",
    "            if un:\n",
    "                U.append(un.group(1).strip())\n",
    "            cu=re.search('Culling fraction:(.*)',line)\n",
    "            if cu:\n",
    "                Cull.append(cu.group(1).strip())\n",
    "        for i in range(len(Cull)):\n",
    "            print('{} {}'.format(U[i],Cull[i]), file=o)\n"
   ]
  },
  {
   "cell_type": "code",
   "execution_count": null,
   "metadata": {},
   "outputs": [],
   "source": []
  }
 ],
 "metadata": {
  "kernelspec": {
   "display_name": "Python 3",
   "language": "python",
   "name": "python3"
  },
  "language_info": {
   "codemirror_mode": {
    "name": "ipython",
    "version": 3
   },
   "file_extension": ".py",
   "mimetype": "text/x-python",
   "name": "python",
   "nbconvert_exporter": "python",
   "pygments_lexer": "ipython3",
   "version": "3.7.4"
  }
 },
 "nbformat": 4,
 "nbformat_minor": 2
}
