{
 "cells": [
  {
   "cell_type": "code",
   "execution_count": 1,
   "metadata": {},
   "outputs": [],
   "source": [
    "import numpy as np, matplotlib.pyplot as plt\n",
    "from collections import OrderedDict as od\n",
    "from scipy.special import comb as C\n",
    "from scipy.stats import linregress\n",
    "from statistics import median\n",
    "from scipy.optimize import fminbound\n",
    "import json"
   ]
  },
  {
   "cell_type": "code",
   "execution_count": null,
   "metadata": {},
   "outputs": [],
   "source": []
  },
  {
   "cell_type": "code",
   "execution_count": null,
   "metadata": {},
   "outputs": [],
   "source": []
  },
  {
   "cell_type": "code",
   "execution_count": 2,
   "metadata": {},
   "outputs": [],
   "source": [
    "def log_progress(sequence, every=None, size=None, name='Items'):\n",
    "    from ipywidgets import IntProgress, HTML, VBox\n",
    "    from IPython.display import display\n",
    "\n",
    "    is_iterator = False\n",
    "    if size is None:\n",
    "        try:\n",
    "            size = len(sequence)\n",
    "        except TypeError:\n",
    "            is_iterator = True\n",
    "    if size is not None:\n",
    "        if every is None:\n",
    "            if size <= 200:\n",
    "                every = 1\n",
    "            else:\n",
    "                every = int(size / 200)     # every 0.5%\n",
    "    else:\n",
    "        assert every is not None, 'sequence is iterator, set every'\n",
    "\n",
    "    if is_iterator:\n",
    "        progress = IntProgress(min=0, max=1, value=1)\n",
    "        progress.bar_style = 'info'\n",
    "    else:\n",
    "        progress = IntProgress(min=0, max=size, value=0)\n",
    "    label = HTML()\n",
    "    box = VBox(children=[label, progress])\n",
    "    display(box)\n",
    "\n",
    "    index = 0\n",
    "    try:\n",
    "        for index, record in enumerate(sequence, 1):\n",
    "            if index == 1 or index % every == 0:\n",
    "                if is_iterator:\n",
    "                    label.value = '{name}: {index} / ?'.format(\n",
    "                        name=name,\n",
    "                        index=index\n",
    "                    )\n",
    "                else:\n",
    "                    progress.value = index\n",
    "                    label.value = u'{name}: {index} / {size}'.format(\n",
    "                        name=name,\n",
    "                        index=index,\n",
    "                        size=size\n",
    "                    )\n",
    "            yield record\n",
    "    except:\n",
    "        progress.bar_style = 'danger'\n",
    "        raise\n",
    "    else:\n",
    "        progress.bar_style = 'success'\n",
    "        progress.value = index\n",
    "        label.value = \"{name}: {index}\".format(\n",
    "            name=name,\n",
    "            index=str(index or '?')\n",
    "        )\n"
   ]
  },
  {
   "cell_type": "code",
   "execution_count": 21,
   "metadata": {},
   "outputs": [],
   "source": [
    "def get_entropy_from_culling_factor_v2(c):\n",
    "    S = od()\n",
    "    sn = 0\n",
    "    for E in c:\n",
    "        S[E] = np.log(c[E])\n",
    "        S[E] += sn\n",
    "        sn += np.log(1 - c[E])\n",
    "    return S\n",
    "\n",
    "def get_entropy_from_culling_factor_with_heat_v2(c):\n",
    "    S = od()\n",
    "    sn = 0\n",
    "    for E in c:\n",
    "        S[E] = np.log(c[E])\n",
    "        S[E] += sn\n",
    "        sn += np.log(1 - c[E])\n",
    "    return S\n",
    "\n",
    "def stitch_S(heat, cool):\n",
    "    #not infinite values\n",
    "    niv = sorted( list({E for E, S in heat[\"S\"].items() if not np.isinf(S)} &\n",
    "                       {E for E, S in cool[\"S\"].items() if not np.isinf(S)}) )\n",
    "    #chosen not infinite values\n",
    "    cniv = niv[len(niv) // 3 : 2 * len(niv) // 3]\n",
    "    #print(cniv)\n",
    "    shift = 0\n",
    "    count = 0\n",
    "    for E in cniv:\n",
    "        shift += heat[\"S\"][E] - cool[\"S\"][E]\n",
    "        count += 1\n",
    "    shift /= count\n",
    "\n",
    "    result = od()\n",
    "    for E in cool[\"S\"]:\n",
    "        if E < median(cniv):\n",
    "            result[E] = cool[\"S\"][E]\n",
    "    for E in heat[\"S\"]:\n",
    "        if E >= median(cniv):\n",
    "            result[E] = heat[\"S\"][E] - shift\n",
    "    return {\"S\": result, \"L\": heat[\"L\"], \"D\": heat[\"D\"]}\n",
    "\n"
   ]
  },
  {
   "cell_type": "code",
   "execution_count": 4,
   "metadata": {},
   "outputs": [],
   "source": [
    "def read_files_v2(parameters):\n",
    "    q=parameters[\"q\"];\n",
    "    L=parameters[\"L\"];\n",
    "    R=parameters[\"R\"];\n",
    "    D=parameters[\"D\"];\n",
    "    nSteps=parameters[\"nSteps\"];\n",
    "    seed=parameters[\"seed\"];\n",
    "    heat=parameters[\"heat\"];\n",
    "    N = L * L;\n",
    "    name = \"./datasets/2DBlume{}_q{}_D{}_N{}_R{}_nSteps{}_run{}X.txt\".format(\"Heating\" * heat, q, \"{0:07.6f}\".format(D), N, R, nSteps, seed)\n",
    "    print(name)\n",
    "    culling_factor = od()\n",
    "    print(N, R, nSteps, heat)\n",
    "    with open(name) as f:\n",
    "        for line in f:\n",
    "            E, c = map(float, line.split())\n",
    "            culling_factor[E] = c\n",
    "    parameters[\"culling_factor\"] = culling_factor\n",
    "    if not heat:\n",
    "        parameters[\"S\"] = get_entropy_from_culling_factor_v2(culling_factor)\n",
    "    else:\n",
    "        parameters[\"S\"] = get_entropy_from_culling_factor_with_heat_v2(culling_factor)\n",
    "    \n",
    "    return parameters\n",
    "\n",
    "def read_tuple_files(tpl):\n",
    "    if tpl[1][\"heat\"]:\n",
    "        return {\n",
    "            \"cool\": read_files_v2(tpl[0]),\n",
    "            \"heat\": read_files_v2(tpl[1])\n",
    "        }"
   ]
  },
  {
   "cell_type": "code",
   "execution_count": 18,
   "metadata": {
    "scrolled": true
   },
   "outputs": [
    {
     "name": "stdout",
     "output_type": "stream",
     "text": [
      "./datasets/2DBlume_q3_D1.000000_N1024_R131072_nSteps10_run0X.txt\n",
      "1024 131072 10 False\n",
      "./datasets/2DBlumeHeating_q3_D1.000000_N1024_R131072_nSteps10_run0X.txt\n",
      "1024 131072 10 True\n"
     ]
    },
    {
     "name": "stderr",
     "output_type": "stream",
     "text": [
      "C:\\ProgramData\\Anaconda3\\lib\\site-packages\\ipykernel_launcher.py:7: RuntimeWarning: divide by zero encountered in log\n",
      "  import sys\n",
      "C:\\ProgramData\\Anaconda3\\lib\\site-packages\\ipykernel_launcher.py:16: RuntimeWarning: divide by zero encountered in log\n",
      "  app.launch_new_instance()\n"
     ]
    }
   ],
   "source": [
    "L_list = [8, 12, 16, 20, 24, 32, 48, 64, 96]\n",
    "L_list = [32]\n",
    "#x = [32]\n",
    "cool, heat = [{\n",
    "    \"q\": 3,\n",
    "    \"D\": 1.0,\n",
    "    \"L\": L,\n",
    "    \"R\" : 131072,\n",
    "    \"nSteps\" : 10,\n",
    "    \"seed\" : 0,\n",
    "    \"heat\": False\n",
    "} for L in L_list], [{\n",
    "    \"q\": 3,\n",
    "    \"D\": 1.0,\n",
    "    \"L\": L,\n",
    "    \"R\" : 131072,\n",
    "    \"nSteps\" : 10,\n",
    "    \"seed\" : 0,\n",
    "    \"heat\": True\n",
    "} for L in L_list]\n",
    "\n",
    "parameters = []\n",
    "for x in zip(cool, heat):\n",
    "    parameters.append(read_tuple_files(x))"
   ]
  },
  {
   "cell_type": "code",
   "execution_count": 58,
   "metadata": {},
   "outputs": [
    {
     "data": {
      "text/plain": [
       "[64, 144, 256, 400, 576, 1024, 2304, 4096, 9216]"
      ]
     },
     "execution_count": 58,
     "metadata": {},
     "output_type": "execute_result"
    }
   ],
   "source": [
    "L_list = [8, 12, 16, 20, 24, 32, 48, 64, 96]\n",
    "[x * x for x in L_list]"
   ]
  },
  {
   "cell_type": "code",
   "execution_count": null,
   "metadata": {},
   "outputs": [],
   "source": []
  },
  {
   "cell_type": "code",
   "execution_count": null,
   "metadata": {},
   "outputs": [],
   "source": []
  },
  {
   "cell_type": "code",
   "execution_count": 20,
   "metadata": {},
   "outputs": [],
   "source": [
    "for i, x in enumerate(parameters):\n",
    "    parameters[i][\"stitched\"] = stitch_S(x[\"heat\"], x[\"cool\"])"
   ]
  },
  {
   "cell_type": "code",
   "execution_count": null,
   "metadata": {},
   "outputs": [],
   "source": []
  },
  {
   "cell_type": "code",
   "execution_count": null,
   "metadata": {},
   "outputs": [],
   "source": []
  },
  {
   "cell_type": "code",
   "execution_count": 8,
   "metadata": {},
   "outputs": [
    {
     "data": {
      "image/png": "[encoded data removed]",
      "text/plain": [
       "<Figure size 1152x648 with 1 Axes>"
      ]
     },
     "metadata": {
      "needs_background": "light"
     },
     "output_type": "display_data"
    }
   ],
   "source": [
    "plt.figure(figsize=(16, 9))\n",
    "\n",
    "i = 0\n",
    "heat, cool = parameters[i][\"heat\"], parameters[i][\"cool\"]\n",
    "\n",
    "plt.plot([E for E in cool[\"culling_factor\"]], [S for E, S in cool[\"culling_factor\"].items()]\n",
    "         , 'o', label=\"L={}; cool\".format(cool[\"L\"]))\n",
    "plt.plot([E for E in heat[\"culling_factor\"]], [S for E, S in heat[\"culling_factor\"].items()]\n",
    "         , 'o', label=\"L={}; heat\".format(heat[\"L\"]))\n",
    "\n",
    "plt.ylabel(\"$culling_factor(E)$\")\n",
    "plt.xlabel(\"E\")\n",
    "#plt.ylim([-200, -175])\n",
    "#plt.xlim([-216, -175])\n",
    "#plt.xlim([-800, -500])\n",
    "plt.legend()\n",
    "plt.grid()\n",
    "#plt.savefig(\"./culling_factor_D{}_L{}.png\".format(heat[\"D\"], heat[\"L\"]))"
   ]
  },
  {
   "cell_type": "code",
   "execution_count": null,
   "metadata": {},
   "outputs": [],
   "source": []
  },
  {
   "cell_type": "code",
   "execution_count": null,
   "metadata": {},
   "outputs": [],
   "source": []
  },
  {
   "cell_type": "code",
   "execution_count": null,
   "metadata": {},
   "outputs": [],
   "source": []
  },
  {
   "cell_type": "code",
   "execution_count": null,
   "metadata": {},
   "outputs": [],
   "source": []
  },
  {
   "cell_type": "code",
   "execution_count": null,
   "metadata": {},
   "outputs": [],
   "source": []
  },
  {
   "cell_type": "code",
   "execution_count": null,
   "metadata": {},
   "outputs": [],
   "source": []
  },
  {
   "cell_type": "code",
   "execution_count": 22,
   "metadata": {},
   "outputs": [
    {
     "data": {
      "image/png": "[encoded data removed]",
      "text/plain": [
       "<Figure size 1152x648 with 1 Axes>"
      ]
     },
     "metadata": {
      "needs_background": "light"
     },
     "output_type": "display_data"
    }
   ],
   "source": [
    "i = 0\n",
    "heat, cool, st = parameters[i][\"heat\"], parameters[i][\"cool\"], parameters[i][\"stitched\"]\n",
    "\n",
    "plt.figure(figsize=(16, 9))\n",
    "\n",
    "plt.plot([E for E in heat[\"S\"]],\n",
    "         [S + 100 for E, S in heat[\"S\"].items()]\n",
    "         , 'o', label=\"heat, L={}\".format(cool[\"L\"]), markersize=2)\n",
    "\n",
    "plt.plot([E for E in cool[\"S\"]],\n",
    "         [S + 100 for E, S in cool[\"S\"].items()]\n",
    "         , 'o', label=\"cool, L={}\".format(cool[\"L\"]), markersize=2)\n",
    "\n",
    "plt.plot([E for E in st[\"S\"]],\n",
    "         [S for E, S in st[\"S\"].items()]\n",
    "         , 'o', label=\"stitched, L={}\".format(st[\"L\"]), markersize=2)\n",
    "\n",
    "plt.ylabel(\"$S(E)$\")\n",
    "plt.xlabel(\"E\")\n",
    "\n",
    "plt.title('D={}'.format(st[\"D\"]))\n",
    "plt.legend()\n",
    "plt.grid()\n",
    "#plt.savefig(\"./S_stitched(E)_D{}_L{}.png\".format(heat[\"D\"], heat[\"L\"]))"
   ]
  },
  {
   "cell_type": "code",
   "execution_count": 23,
   "metadata": {},
   "outputs": [
    {
     "data": {
      "image/png": "[encoded data removed]",
      "text/plain": [
       "<Figure size 1152x648 with 1 Axes>"
      ]
     },
     "metadata": {
      "needs_background": "light"
     },
     "output_type": "display_data"
    }
   ],
   "source": [
    "plt.figure(figsize=(16, 9))\n",
    "\n",
    "plt.plot([E for E in heat[\"S\"]],\n",
    "         [S + 10 for E, S in heat[\"S\"].items()]\n",
    "         , 'o', label=\"heat, L={}\".format(cool[\"L\"]), markersize=2)\n",
    "\n",
    "plt.plot([E for E in cool[\"S\"]],\n",
    "         [S + 10 for E, S in cool[\"S\"].items()]\n",
    "         , 'o', label=\"cool, L={}\".format(cool[\"L\"]), markersize=2)\n",
    "\n",
    "plt.plot([E for E in st[\"S\"]],\n",
    "         [S for E, S in st[\"S\"].items()]\n",
    "         , 'o', label=\"stitched, L={}\".format(st[\"L\"]), markersize=2)\n",
    "\n",
    "#plt.ylabel(\"$g = e^{S(E)}$\")\n",
    "plt.ylabel(\"$S(E)$\")\n",
    "plt.xlabel(\"E\")\n",
    "\n",
    "#middle\n",
    "plt.ylim([-25, 10])\n",
    "#plt.xlim([1000, 1700])\n",
    "\n",
    "plt.title('D={}'.format(st[\"D\"]))\n",
    "plt.legend()\n",
    "plt.grid()\n",
    "#plt.savefig(\"./S_stitched_zoom(E)_D{}_L{}.png\".format(heat[\"D\"], heat[\"L\"]))"
   ]
  },
  {
   "cell_type": "code",
   "execution_count": null,
   "metadata": {},
   "outputs": [],
   "source": []
  },
  {
   "cell_type": "code",
   "execution_count": null,
   "metadata": {},
   "outputs": [],
   "source": []
  },
  {
   "cell_type": "code",
   "execution_count": null,
   "metadata": {},
   "outputs": [],
   "source": []
  },
  {
   "cell_type": "code",
   "execution_count": null,
   "metadata": {},
   "outputs": [],
   "source": []
  },
  {
   "cell_type": "code",
   "execution_count": null,
   "metadata": {},
   "outputs": [],
   "source": []
  },
  {
   "cell_type": "code",
   "execution_count": null,
   "metadata": {},
   "outputs": [],
   "source": []
  },
  {
   "cell_type": "code",
   "execution_count": null,
   "metadata": {},
   "outputs": [],
   "source": []
  },
  {
   "cell_type": "code",
   "execution_count": null,
   "metadata": {},
   "outputs": [],
   "source": []
  },
  {
   "cell_type": "code",
   "execution_count": null,
   "metadata": {},
   "outputs": [],
   "source": []
  },
  {
   "cell_type": "code",
   "execution_count": null,
   "metadata": {},
   "outputs": [],
   "source": []
  },
  {
   "cell_type": "code",
   "execution_count": 17,
   "metadata": {},
   "outputs": [
    {
     "data": {
      "text/plain": [
       "12"
      ]
     },
     "execution_count": 17,
     "metadata": {},
     "output_type": "execute_result"
    }
   ],
   "source": [
    "L"
   ]
  },
  {
   "cell_type": "code",
   "execution_count": 14,
   "metadata": {},
   "outputs": [
    {
     "name": "stdout",
     "output_type": "stream",
     "text": [
      "Mpmath settings:\n",
      "  mp.prec = 169               [default: 53]\n",
      "  mp.dps = 50                 [default: 15]\n",
      "  mp.trap_complex = False     [default: False]\n"
     ]
    }
   ],
   "source": [
    "import mpmath as mp\n",
    "mp.mp.dps = 50\n",
    "mp.mp.pretty = True\n",
    "print(mp.mp)"
   ]
  },
  {
   "cell_type": "code",
   "execution_count": 29,
   "metadata": {},
   "outputs": [],
   "source": [
    "d = {}"
   ]
  },
  {
   "cell_type": "code",
   "execution_count": 38,
   "metadata": {},
   "outputs": [
    {
     "data": {
      "application/vnd.jupyter.widget-view+json": {
       "model_id": "62e7aef9a65c47c294bfb67699eec771",
       "version_major": 2,
       "version_minor": 0
      },
      "text/plain": [
       "VBox(children=(HTML(value=''), IntProgress(value=0, max=2)))"
      ]
     },
     "metadata": {},
     "output_type": "display_data"
    },
    {
     "data": {
      "image/png": "[encoded data removed]",
      "text/plain": [
       "<Figure size 1152x648 with 1 Axes>"
      ]
     },
     "metadata": {
      "needs_background": "light"
     },
     "output_type": "display_data"
    }
   ],
   "source": [
    "plt.figure(figsize=(16, 9))\n",
    "\n",
    "for T in log_progress([0.4, 2.0]):\n",
    "    for i, x in enumerate(parameters):\n",
    "        heat, cool, st = parameters[i][\"heat\"], parameters[i][\"cool\"], parameters[i][\"stitched\"]\n",
    "        D = st['D']\n",
    "        L = st['L']\n",
    "        if L != 32:\n",
    "            continue\n",
    "        if (T in d):\n",
    "            lst = d[T]\n",
    "        else:\n",
    "            lst = np.array([mp.exp(mp.mpf(S) - mp.mpf(E) / T) for E, S in st[\"S\"].items()])\n",
    "            Z = sum(lst)\n",
    "            lst /= Z\n",
    "            d[T] = lst\n",
    "        \n",
    "        plt.plot([E / (L * L) for E in st[\"S\"]],\n",
    "                 lst, 'o', label=\"stitched, T={}, L={}\".format(T, L))\n",
    "\n",
    "plt.ylabel('$P(E) = e^{S(E) - E / T} / Z$')\n",
    "plt.xlabel(\"E\")\n",
    "#plt.xlim([0, 0.01])\n",
    "#plt.ylim([0, 0.01])\n",
    "plt.yscale('log')\n",
    "plt.title(\"D={}\".format(D))\n",
    "plt.legend()\n",
    "plt.grid()\n",
    "#plt.savefig(\"./P(E)_D{}_L{}.png\".format(heat[\"D\"], heat[\"L\"]))\n"
   ]
  },
  {
   "cell_type": "code",
   "execution_count": 32,
   "metadata": {},
   "outputs": [],
   "source": [
    "def calc_hc(st, T):\n",
    "    E = mp.mpf(0)\n",
    "    E_sq = mp.mpf(0)\n",
    "    Z = mp.mpf(0)\n",
    "    for fe, fS in st['S'].items():\n",
    "        e = mp.mpf(fe)\n",
    "        S = mp.mpf(fS)\n",
    "        w = mp.exp(S - e / T)\n",
    "        Z += w\n",
    "        E += w * e\n",
    "        E_sq += w * e * e\n",
    "    avgE = E / Z;\n",
    "    avgE_sq = E_sq / Z;\n",
    "    return (avgE_sq - avgE * avgE) / (T * T)"
   ]
  },
  {
   "cell_type": "code",
   "execution_count": 47,
   "metadata": {},
   "outputs": [
    {
     "data": {
      "application/vnd.jupyter.widget-view+json": {
       "model_id": "bb8c96db3d154a718b765676afe7ca41",
       "version_major": 2,
       "version_minor": 0
      },
      "text/plain": [
       "VBox(children=(HTML(value=''), IntProgress(value=0, max=20)))"
      ]
     },
     "metadata": {},
     "output_type": "display_data"
    },
    {
     "data": {
      "application/vnd.jupyter.widget-view+json": {
       "model_id": "6f5f99beed904c3e9e281c6973f9b56e",
       "version_major": 2,
       "version_minor": 0
      },
      "text/plain": [
       "VBox(children=(HTML(value=''), IntProgress(value=0, max=20)))"
      ]
     },
     "metadata": {},
     "output_type": "display_data"
    },
    {
     "data": {
      "application/vnd.jupyter.widget-view+json": {
       "model_id": "a85ed87b4495432d926242bdbfa1f7b1",
       "version_major": 2,
       "version_minor": 0
      },
      "text/plain": [
       "VBox(children=(HTML(value=''), IntProgress(value=0, max=20)))"
      ]
     },
     "metadata": {},
     "output_type": "display_data"
    },
    {
     "data": {
      "application/vnd.jupyter.widget-view+json": {
       "model_id": "aeac607c5e834b0d9e713387751e8f14",
       "version_major": 2,
       "version_minor": 0
      },
      "text/plain": [
       "VBox(children=(HTML(value=''), IntProgress(value=0, max=20)))"
      ]
     },
     "metadata": {},
     "output_type": "display_data"
    }
   ],
   "source": [
    "hc = {}\n",
    "\n",
    "for i, x in enumerate(parameters):\n",
    "    heat, cool, st = parameters[i][\"heat\"], parameters[i][\"cool\"], parameters[i][\"stitched\"]\n",
    "    L = st['L']\n",
    "    N = L * L\n",
    "    hc[L] = {}\n",
    "    for T in log_progress(np.linspace(0.4, 2.0, 20)):\n",
    "        hc[L][T] = calc_hc(st, T)"
   ]
  },
  {
   "cell_type": "code",
   "execution_count": null,
   "metadata": {},
   "outputs": [],
   "source": []
  },
  {
   "cell_type": "code",
   "execution_count": null,
   "metadata": {},
   "outputs": [],
   "source": []
  },
  {
   "cell_type": "code",
   "execution_count": null,
   "metadata": {},
   "outputs": [],
   "source": []
  },
  {
   "cell_type": "code",
   "execution_count": null,
   "metadata": {},
   "outputs": [],
   "source": []
  },
  {
   "cell_type": "code",
   "execution_count": null,
   "metadata": {},
   "outputs": [],
   "source": []
  },
  {
   "cell_type": "code",
   "execution_count": 30,
   "metadata": {},
   "outputs": [],
   "source": [
    "a = 1.3\n",
    "b = 1.5"
   ]
  },
  {
   "cell_type": "code",
   "execution_count": 123,
   "metadata": {},
   "outputs": [
    {
     "data": {
      "application/vnd.jupyter.widget-view+json": {
       "model_id": "fc4ef72f7e004d0995b8d372d6aaddc3",
       "version_major": 2,
       "version_minor": 0
      },
      "text/plain": [
       "VBox(children=(HTML(value=''), IntProgress(value=0, max=20)))"
      ]
     },
     "metadata": {},
     "output_type": "display_data"
    },
    {
     "data": {
      "application/vnd.jupyter.widget-view+json": {
       "model_id": "3994c9c44ca546f18fca242d1970f027",
       "version_major": 2,
       "version_minor": 0
      },
      "text/plain": [
       "VBox(children=(HTML(value=''), IntProgress(value=0, max=20)))"
      ]
     },
     "metadata": {},
     "output_type": "display_data"
    },
    {
     "data": {
      "application/vnd.jupyter.widget-view+json": {
       "model_id": "8d43471d442649229955d501b77f072f",
       "version_major": 2,
       "version_minor": 0
      },
      "text/plain": [
       "VBox(children=(HTML(value=''), IntProgress(value=0, max=20)))"
      ]
     },
     "metadata": {},
     "output_type": "display_data"
    },
    {
     "data": {
      "application/vnd.jupyter.widget-view+json": {
       "model_id": "5dce96b11b464eb99aee624020703d3b",
       "version_major": 2,
       "version_minor": 0
      },
      "text/plain": [
       "VBox(children=(HTML(value=''), IntProgress(value=0, max=20)))"
      ]
     },
     "metadata": {},
     "output_type": "display_data"
    }
   ],
   "source": [
    "for i, x in enumerate(parameters):\n",
    "    heat, cool, st = parameters[i][\"heat\"], parameters[i][\"cool\"], parameters[i][\"stitched\"]\n",
    "    L = st['L']\n",
    "    N = L * L\n",
    "    for T in log_progress(np.linspace(a, b, 20)):\n",
    "        hc[L][T] = calc_hc(st, T)"
   ]
  },
  {
   "cell_type": "code",
   "execution_count": 62,
   "metadata": {},
   "outputs": [
    {
     "name": "stdout",
     "output_type": "stream",
     "text": [
      "\n",
      "Optimization terminated successfully;\n",
      "The returned value satisfies the termination criteria\n",
      "(using xtol =  1e-05 )\n",
      "\n",
      "Optimization terminated successfully;\n",
      "The returned value satisfies the termination criteria\n",
      "(using xtol =  1e-05 )\n",
      "\n",
      "Optimization terminated successfully;\n",
      "The returned value satisfies the termination criteria\n",
      "(using xtol =  1e-05 )\n",
      "\n",
      "Optimization terminated successfully;\n",
      "The returned value satisfies the termination criteria\n",
      "(using xtol =  1e-05 )\n",
      "\n",
      "Optimization terminated successfully;\n",
      "The returned value satisfies the termination criteria\n",
      "(using xtol =  1e-05 )\n",
      "\n",
      "Optimization terminated successfully;\n",
      "The returned value satisfies the termination criteria\n",
      "(using xtol =  1e-05 )\n",
      "\n",
      "Optimization terminated successfully;\n",
      "The returned value satisfies the termination criteria\n",
      "(using xtol =  1e-05 )\n",
      "\n",
      "Optimization terminated successfully;\n",
      "The returned value satisfies the termination criteria\n",
      "(using xtol =  1e-05 )\n",
      "\n",
      "Optimization terminated successfully;\n",
      "The returned value satisfies the termination criteria\n",
      "(using xtol =  1e-05 )\n"
     ]
    },
    {
     "data": {
      "text/plain": [
       "{8: {'T_crit': 1.408886439826873, 'C_crit': 1.6331038758533998},\n",
       " 12: {'T_crit': 1.4113768651540324, 'C_crit': 1.9268869910544335},\n",
       " 16: {'T_crit': 1.4129721370000532, 'C_crit': 2.1357059680190886},\n",
       " 20: {'T_crit': 1.4100867545658666, 'C_crit': 2.2557377417559192},\n",
       " 24: {'T_crit': 1.410969903559314, 'C_crit': 2.430379060536852},\n",
       " 32: {'T_crit': 1.405494820536911, 'C_crit': 2.616704543964983},\n",
       " 48: {'T_crit': 1.4049578359542516, 'C_crit': 2.8835503130994518},\n",
       " 64: {'T_crit': 1.4032110234045785, 'C_crit': 3.0809204623957327},\n",
       " 96: {'T_crit': 1.4028258445631603, 'C_crit': 3.1738524875134217}}"
      ]
     },
     "execution_count": 62,
     "metadata": {},
     "output_type": "execute_result"
    }
   ],
   "source": [
    "T_crit = {}\n",
    "for i, x in enumerate(parameters):\n",
    "    st = x[\"stitched\"]\n",
    "    L = st[\"L\"]\n",
    "    t, c, _, _ = fminbound(lambda T: - calc_hc(st, T), a, b, maxfun=500, full_output=1, disp=2)\n",
    "    T_crit[L] = {\n",
    "        \"T_crit\": float(t),\n",
    "        \"C_crit\": float(-c / (L * L))\n",
    "    }\n",
    "T_crit"
   ]
  },
  {
   "cell_type": "code",
   "execution_count": 69,
   "metadata": {},
   "outputs": [],
   "source": [
    "D = 1.0"
   ]
  },
  {
   "cell_type": "code",
   "execution_count": 71,
   "metadata": {},
   "outputs": [
    {
     "data": {
      "text/plain": [
       "{8: {'T_crit': 1.408886439826873, 'C_crit': 1.6331038758533998},\n",
       " 12: {'T_crit': 1.4113768651540324, 'C_crit': 1.9268869910544335},\n",
       " 16: {'T_crit': 1.4129721370000532, 'C_crit': 2.1357059680190886},\n",
       " 20: {'T_crit': 1.4100867545658666, 'C_crit': 2.2557377417559192},\n",
       " 24: {'T_crit': 1.410969903559314, 'C_crit': 2.430379060536852},\n",
       " 32: {'T_crit': 1.405494820536911, 'C_crit': 2.616704543964983},\n",
       " 48: {'T_crit': 1.4049578359542516, 'C_crit': 2.8835503130994518},\n",
       " 64: {'T_crit': 1.4032110234045785, 'C_crit': 3.0809204623957327},\n",
       " 96: {'T_crit': 1.4028258445631603, 'C_crit': 3.1738524875134217}}"
      ]
     },
     "execution_count": 71,
     "metadata": {},
     "output_type": "execute_result"
    }
   ],
   "source": [
    "T_crit"
   ]
  },
  {
   "cell_type": "code",
   "execution_count": 74,
   "metadata": {},
   "outputs": [],
   "source": [
    "with open(\"./tmp/T_crit_D{}.txt\".format(D), 'w') as fp:\n",
    "    json.dump(T_crit, fp)"
   ]
  },
  {
   "cell_type": "code",
   "execution_count": 75,
   "metadata": {},
   "outputs": [],
   "source": [
    "#D = heat[\"D\"]\n"
   ]
  },
  {
   "cell_type": "code",
   "execution_count": 76,
   "metadata": {},
   "outputs": [
    {
     "data": {
      "text/plain": [
       "{'8': {'T_crit': 1.408886439826873, 'C_crit': 1.6331038758533998},\n",
       " '12': {'T_crit': 1.4113768651540324, 'C_crit': 1.9268869910544335},\n",
       " '16': {'T_crit': 1.4129721370000532, 'C_crit': 2.1357059680190886},\n",
       " '20': {'T_crit': 1.4100867545658666, 'C_crit': 2.2557377417559192},\n",
       " '24': {'T_crit': 1.410969903559314, 'C_crit': 2.430379060536852},\n",
       " '32': {'T_crit': 1.405494820536911, 'C_crit': 2.616704543964983},\n",
       " '48': {'T_crit': 1.4049578359542516, 'C_crit': 2.8835503130994518},\n",
       " '64': {'T_crit': 1.4032110234045785, 'C_crit': 3.0809204623957327},\n",
       " '96': {'T_crit': 1.4028258445631603, 'C_crit': 3.1738524875134217}}"
      ]
     },
     "execution_count": 76,
     "metadata": {},
     "output_type": "execute_result"
    }
   ],
   "source": [
    "with open(\"./tmp/T_crit_D{}.txt\".format(D), 'r') as fp:\n",
    "    T_crit = json.load(fp)\n",
    "T_crit"
   ]
  },
  {
   "cell_type": "code",
   "execution_count": null,
   "metadata": {},
   "outputs": [],
   "source": []
  },
  {
   "cell_type": "code",
   "execution_count": 77,
   "metadata": {},
   "outputs": [
    {
     "data": {
      "image/png": "[encoded data removed]",
      "text/plain": [
       "<Figure size 1152x648 with 1 Axes>"
      ]
     },
     "metadata": {
      "needs_background": "light"
     },
     "output_type": "display_data"
    }
   ],
   "source": [
    "plt.figure(figsize=(16, 9))\n",
    "\n",
    "for L in T_crit:\n",
    "    plt.scatter(T_crit[L]['T_crit'], T_crit[L]['C_crit'] / (int(L) * int(L)), label='L={};'.format(L))\n",
    "\n",
    "    \n",
    "#plt.plot([Tc, Tc], [0, 3300], label='Tc_their={}'.format(Tc), c='r')\n",
    "#for L, data in T_crit.items():\n",
    "#    plt.plot([data['T_crit'], data['T_crit']], [0, 5], label='T_crit_our={:.4f}'.format(float(data['T_crit'])), c='r')\n",
    "\n",
    "#plt.yscale(\"log\")\n",
    "plt.title(\"D={}\".format(D))\n",
    "plt.ylabel('$C(T) / N$')\n",
    "plt.xlabel(\"T\")\n",
    "plt.legend()\n",
    "plt.grid()\n",
    "#plt.savefig(\"./C(T)_D{}_L{}.png\".format(heat[\"D\"], heat[\"L\"]))\n",
    "plt.savefig(\"./C(T)_D{}.png\".format(D))"
   ]
  },
  {
   "cell_type": "code",
   "execution_count": null,
   "metadata": {},
   "outputs": [],
   "source": []
  },
  {
   "cell_type": "code",
   "execution_count": null,
   "metadata": {},
   "outputs": [],
   "source": []
  },
  {
   "cell_type": "code",
   "execution_count": 78,
   "metadata": {},
   "outputs": [],
   "source": [
    "x = np.array([int(L) for L in T_crit.keys()])\n",
    "y = np.array([T_crit[L]['T_crit'] for L in T_crit.keys()])\n",
    "z = np.array([T_crit[L]['C_crit'] / (int(L) * int(L)) for L in T_crit.keys()])"
   ]
  },
  {
   "cell_type": "code",
   "execution_count": null,
   "metadata": {},
   "outputs": [],
   "source": []
  },
  {
   "cell_type": "code",
   "execution_count": 82,
   "metadata": {},
   "outputs": [
    {
     "name": "stderr",
     "output_type": "stream",
     "text": [
      "No handles with labels found to put in legend.\n"
     ]
    },
    {
     "name": "stdout",
     "output_type": "stream",
     "text": [
      "slope: \t0.21224432874811744 +/-\n",
      "\t0.03656898818017278\n",
      "shift: \t1.4002514773775654 +/-\n",
      "\t0.0011563502026516886\n"
     ]
    },
    {
     "data": {
      "image/png": "[encoded data removed]",
      "text/plain": [
       "<Figure size 1152x648 with 1 Axes>"
      ]
     },
     "metadata": {
      "needs_background": "light"
     },
     "output_type": "display_data"
    }
   ],
   "source": [
    "l = 3\n",
    "fit = np.polyfit(1 / x[l:], list(map(float, y[l:])), 1, full=False)\n",
    "\n",
    "plt.figure(figsize=(16, 9))\n",
    "\n",
    "plt.scatter(1 / x, y)\n",
    "\n",
    "sample = np.array([0, 0.2])\n",
    "plt.plot(sample, fit[0] * sample + fit[1], 'r')\n",
    "\n",
    "plt.title(\"D={}\".format(D))\n",
    "plt.ylabel('$T_{crit}$')\n",
    "plt.xlabel(\"1/L\")\n",
    "#plt.yscale(\"log\")\n",
    "plt.grid()\n",
    "plt.legend()\n",
    "plt.savefig(\"./finite_size_D{}.png\".format(D))\n",
    "\n",
    "p, V = np.polyfit(1 / x[l:], list(map(float, y[l:])), 1, cov=True)\n",
    "\n",
    "print(\"slope: \\t{} +/-\\n\\t{}\".format(p[0], np.sqrt(V[0][0])))\n",
    "print(\"shift: \\t{} +/-\\n\\t{}\".format(p[1], np.sqrt(V[1][1])))\n"
   ]
  },
  {
   "cell_type": "code",
   "execution_count": 27,
   "metadata": {},
   "outputs": [],
   "source": [
    "#np.polyfit(x[1:], list(map(float, y[1:])), 1, full=True)"
   ]
  },
  {
   "cell_type": "code",
   "execution_count": null,
   "metadata": {},
   "outputs": [],
   "source": []
  },
  {
   "cell_type": "code",
   "execution_count": 38,
   "metadata": {},
   "outputs": [
    {
     "name": "stderr",
     "output_type": "stream",
     "text": [
      "No handles with labels found to put in legend.\n"
     ]
    },
    {
     "data": {
      "image/png": "[encoded data removed]",
      "text/plain": [
       "<Figure size 432x288 with 1 Axes>"
      ]
     },
     "metadata": {
      "needs_background": "light"
     },
     "output_type": "display_data"
    }
   ],
   "source": [
    "plt.scatter(np.log(x), z)\n",
    "\n",
    "sample = np.array([0, 0.2])\n",
    "#plt.plot(sample, fit[0] * sample + fit[1], 'r')\n",
    "\n",
    "plt.title(\"D={}\".format(cool[\"D\"]))\n",
    "plt.ylabel('$С_{crit} / N$')\n",
    "plt.xlabel(\"ln L\")\n",
    "#plt.yscale(\"log\")\n",
    "plt.legend()\n",
    "plt.grid()"
   ]
  },
  {
   "cell_type": "code",
   "execution_count": null,
   "metadata": {},
   "outputs": [],
   "source": []
  },
  {
   "cell_type": "code",
   "execution_count": null,
   "metadata": {},
   "outputs": [],
   "source": []
  },
  {
   "cell_type": "code",
   "execution_count": null,
   "metadata": {},
   "outputs": [],
   "source": []
  },
  {
   "cell_type": "code",
   "execution_count": null,
   "metadata": {},
   "outputs": [],
   "source": []
  },
  {
   "cell_type": "code",
   "execution_count": null,
   "metadata": {},
   "outputs": [],
   "source": []
  },
  {
   "cell_type": "code",
   "execution_count": null,
   "metadata": {},
   "outputs": [],
   "source": []
  },
  {
   "cell_type": "code",
   "execution_count": null,
   "metadata": {},
   "outputs": [],
   "source": []
  },
  {
   "cell_type": "code",
   "execution_count": null,
   "metadata": {},
   "outputs": [],
   "source": []
  },
  {
   "cell_type": "code",
   "execution_count": null,
   "metadata": {},
   "outputs": [],
   "source": []
  },
  {
   "cell_type": "code",
   "execution_count": null,
   "metadata": {},
   "outputs": [],
   "source": []
  },
  {
   "cell_type": "code",
   "execution_count": null,
   "metadata": {},
   "outputs": [],
   "source": []
  },
  {
   "cell_type": "code",
   "execution_count": null,
   "metadata": {},
   "outputs": [],
   "source": []
  },
  {
   "cell_type": "code",
   "execution_count": null,
   "metadata": {},
   "outputs": [],
   "source": []
  },
  {
   "cell_type": "code",
   "execution_count": null,
   "metadata": {},
   "outputs": [],
   "source": []
  },
  {
   "cell_type": "code",
   "execution_count": null,
   "metadata": {},
   "outputs": [],
   "source": []
  },
  {
   "cell_type": "code",
   "execution_count": null,
   "metadata": {},
   "outputs": [],
   "source": []
  },
  {
   "cell_type": "code",
   "execution_count": null,
   "metadata": {},
   "outputs": [],
   "source": []
  },
  {
   "cell_type": "code",
   "execution_count": null,
   "metadata": {},
   "outputs": [],
   "source": []
  },
  {
   "cell_type": "code",
   "execution_count": null,
   "metadata": {},
   "outputs": [],
   "source": []
  },
  {
   "cell_type": "code",
   "execution_count": null,
   "metadata": {},
   "outputs": [],
   "source": []
  },
  {
   "cell_type": "code",
   "execution_count": null,
   "metadata": {},
   "outputs": [],
   "source": []
  },
  {
   "cell_type": "code",
   "execution_count": null,
   "metadata": {},
   "outputs": [],
   "source": []
  },
  {
   "cell_type": "code",
   "execution_count": null,
   "metadata": {},
   "outputs": [],
   "source": []
  },
  {
   "cell_type": "code",
   "execution_count": null,
   "metadata": {},
   "outputs": [],
   "source": []
  }
 ],
 "metadata": {
  "kernelspec": {
   "display_name": "Python 3",
   "language": "python",
   "name": "python3"
  },
  "language_info": {
   "codemirror_mode": {
    "name": "ipython",
    "version": 3
   },
   "file_extension": ".py",
   "mimetype": "text/x-python",
   "name": "python",
   "nbconvert_exporter": "python",
   "pygments_lexer": "ipython3",
   "version": "3.7.4"
  }
 },
 "nbformat": 4,
 "nbformat_minor": 4
}
