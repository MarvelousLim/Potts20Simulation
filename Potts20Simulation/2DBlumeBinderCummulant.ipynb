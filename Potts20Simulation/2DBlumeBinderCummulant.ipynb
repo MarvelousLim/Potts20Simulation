{
 "cells": [
  {
   "cell_type": "code",
   "execution_count": 1,
   "metadata": {},
   "outputs": [
    {
     "name": "stdout",
     "output_type": "stream",
     "text": [
      "Mpmath settings:\n",
      "  mp.prec = 169               [default: 53]\n",
      "  mp.dps = 50                 [default: 15]\n",
      "  mp.trap_complex = False     [default: False]\n"
     ]
    }
   ],
   "source": [
    "import numpy as np, matplotlib.pyplot as plt\n",
    "from collections import OrderedDict as od\n",
    "from scipy.special import comb as C\n",
    "from scipy.stats import linregress\n",
    "from statistics import median\n",
    "from scipy.optimize import fminbound\n",
    "import json\n",
    "import itertools\n",
    "from tqdm.notebook import tqdm\n",
    "#from os import walk\n",
    "#import re\n",
    "\n",
    "import mpmath as mp\n",
    "mp.mp.dps = 50\n",
    "mp.mp.pretty = True\n",
    "print(mp.mp)\n",
    "\n",
    "from math import sqrt\n",
    "from joblib import Parallel, delayed"
   ]
  },
  {
   "cell_type": "code",
   "execution_count": null,
   "metadata": {},
   "outputs": [],
   "source": []
  },
  {
   "cell_type": "code",
   "execution_count": null,
   "metadata": {},
   "outputs": [],
   "source": []
  },
  {
   "cell_type": "code",
   "execution_count": null,
   "metadata": {},
   "outputs": [],
   "source": []
  },
  {
   "cell_type": "code",
   "execution_count": 2,
   "metadata": {},
   "outputs": [],
   "source": [
    "def get_entropy_from_culling_factor_v2(c):\n",
    "    S = od()\n",
    "    sn = 0\n",
    "    for E in c:\n",
    "        S[E] = np.log(c[E])\n",
    "        S[E] += sn\n",
    "        sn += np.log(1 - c[E])\n",
    "    return S\n",
    "\n",
    "def get_entropy_from_culling_factor_with_heat_v2(c):\n",
    "    S = od()\n",
    "    sn = 0\n",
    "    for E in c:\n",
    "        S[E] = np.log(c[E])\n",
    "        S[E] += sn\n",
    "        sn += np.log(1 - c[E])\n",
    "    return S"
   ]
  },
  {
   "cell_type": "code",
   "execution_count": 11,
   "metadata": {},
   "outputs": [],
   "source": [
    "def read_files_v2(parameters):\n",
    "    q=parameters[\"q\"];\n",
    "    L=parameters[\"L\"];\n",
    "    R=parameters[\"R\"];\n",
    "    D=parameters[\"D\"];\n",
    "    nSteps=parameters[\"nSteps\"];\n",
    "    seed=parameters[\"seed\"];\n",
    "    heat=parameters[\"heat\"];\n",
    "    N = L * L;\n",
    "    name = \"./datasets/2DBlume{}_q{}_D{}_N{}_R{}_nSteps{}_run{}X.txt\".format(\"Heating\" * heat, q, \"{0:07.6f}\".format(D), N, R, nSteps, seed)\n",
    "    #name = \"./datasets/2DBlumeOld(FloatEnergy)/2DBlume{}_q{}_D{}_N{}_R{}_nSteps{}_run{}X.txt\".format(\"Heating\" * heat, q, \"{0:07.6f}\".format(D), N, R, nSteps, seed)\n",
    "    #print(name)\n",
    "    culling_factor = od()\n",
    "    #print(N, R, nSteps, heat)\n",
    "    with open(name) as f:\n",
    "        for line in f:\n",
    "            E, c = map(float, line.split())\n",
    "            culling_factor[E] = c\n",
    "    parameters[\"culling_factor\"] = culling_factor\n",
    "    if not heat:\n",
    "        parameters[\"S\"] = get_entropy_from_culling_factor_v2(culling_factor)\n",
    "    else:\n",
    "        parameters[\"S\"] = get_entropy_from_culling_factor_with_heat_v2(culling_factor)\n",
    "    \n",
    "    return parameters\n",
    "\n",
    "def read_tuple_files(tpl):\n",
    "    if tpl[1][\"heat\"]:\n",
    "        return {\n",
    "            \"cool\": read_files_v2(tpl[0]),\n",
    "            \"heat\": read_files_v2(tpl[1])\n",
    "        }\n",
    "\n",
    "def stitch_S(heat, cool):\n",
    "    #not infinite values\n",
    "    niv = sorted( list({E for E, S in heat[\"S\"].items() if not np.isinf(S)} &\n",
    "                       {E for E, S in cool[\"S\"].items() if not np.isinf(S)}) )\n",
    "    #chosen not infinite values\n",
    "    cniv = niv[len(niv) // 3 : 2 * len(niv) // 3]\n",
    "    #print(cniv)\n",
    "    shift = 0\n",
    "    count = 0\n",
    "    for E in cniv:\n",
    "        shift += heat[\"S\"][E] - cool[\"S\"][E]\n",
    "        count += 1\n",
    "    shift /= count\n",
    "\n",
    "    result = od()\n",
    "    for E in cool[\"S\"]:\n",
    "        if E < median(cniv):\n",
    "            result[E] = cool[\"S\"][E]\n",
    "    for E in heat[\"S\"]:\n",
    "        if E >= median(cniv):\n",
    "            result[E] = heat[\"S\"][E] - shift\n",
    "    return {\"S\": result, \"L\": heat[\"L\"], \"D\": heat[\"D\"], \"R\": heat[\"R\"]}\n",
    "\n",
    "def calc_hc(st, T):\n",
    "\n",
    "    fe = mp.mpf(1.0) * np.array([e for e, S in st['S'].items()])\n",
    "    fS = mp.mpf(1.0) * np.array([S for e, S in st['S'].items()])\n",
    "\n",
    "    exp = np.frompyfunc(mp.exp, 1, 1)\n",
    "    w = exp(fS - fe / T)\n",
    "\n",
    "    Z = w.sum()\n",
    "    E = (w * fe).sum()\n",
    "    E_sq = (w * fe * fe).sum()\n",
    "    E_qr = (w * fe * fe * fe * fe).sum()\n",
    "    avgE = E / Z;\n",
    "    avgE_sq = E_sq / Z;\n",
    "    avgE_qr = E_qr / Z;\n",
    "    # T, C, average E, BinderCumulant\n",
    "    return T, float( (avgE_sq - avgE * avgE) / (T * T) ), float( avgE ), float(1 - (avgE_qr / (3 * avgE_sq * avgE_sq)))\n"
   ]
  },
  {
   "cell_type": "code",
   "execution_count": null,
   "metadata": {},
   "outputs": [],
   "source": []
  },
  {
   "cell_type": "code",
   "execution_count": 12,
   "metadata": {
    "scrolled": true
   },
   "outputs": [],
   "source": [
    "T_crit = {}"
   ]
  },
  {
   "cell_type": "code",
   "execution_count": 13,
   "metadata": {},
   "outputs": [
    {
     "name": "stdout",
     "output_type": "stream",
     "text": [
      "D=1.967\n"
     ]
    },
    {
     "name": "stderr",
     "output_type": "stream",
     "text": [
      "C:\\ProgramData\\Anaconda3\\lib\\site-packages\\ipykernel_launcher.py:7: RuntimeWarning: divide by zero encountered in log\n",
      "  import sys\n",
      "C:\\ProgramData\\Anaconda3\\lib\\site-packages\\ipykernel_launcher.py:16: RuntimeWarning: divide by zero encountered in log\n",
      "  app.launch_new_instance()\n"
     ]
    },
    {
     "data": {
      "application/vnd.jupyter.widget-view+json": {
       "model_id": "d1023ab09429440da342e1b8f86a2fea",
       "version_major": 2,
       "version_minor": 0
      },
      "text/plain": [
       "HBox(children=(IntProgress(value=0, max=6), HTML(value='')))"
      ]
     },
     "metadata": {},
     "output_type": "display_data"
    },
    {
     "name": "stdout",
     "output_type": "stream",
     "text": [
      "\n",
      "L in 8, 12, 16, 20, 24, 32\n",
      "R in 131072, 131072, 131072, 131072, 131072, 131072\n"
     ]
    }
   ],
   "source": [
    "D = 1.967\n",
    "L = [x for x in [8, 12, 16, 20, 24, 32, 48, 64, 80, 96] if x >=0]\n",
    "\n",
    "R = [32768, 131072]\n",
    "\n",
    "cool, heat = [{\n",
    "    \"q\": 3,\n",
    "    \"D\": D,\n",
    "    \"L\": l,\n",
    "    #\"R\" : R,\n",
    "    \"nSteps\" : 10,\n",
    "    \"seed\" : 0,\n",
    "    \"heat\": False\n",
    "} for l in L], [{\n",
    "    \"q\": 3,\n",
    "    \"D\": D,\n",
    "    \"L\": l,\n",
    "    #\"R\" : R,\n",
    "    \"nSteps\" : 10,\n",
    "    \"seed\" : 0,\n",
    "    \"heat\": True\n",
    "} for l in L]\n",
    "print('D={}'.format(D))\n",
    "\n",
    "parameters = []\n",
    "for c, h in zip(cool, heat):\n",
    "    try:\n",
    "        c['R'] = R[1]\n",
    "        h['R'] = R[1]\n",
    "        parameters.append(read_tuple_files((c, h)))\n",
    "    except:\n",
    "        pass\n",
    "#        try:\n",
    "#            c['R'] = R[1]\n",
    "#            h['R'] = R[1]\n",
    "#            parameters.append(read_tuple_files((c, h)))\n",
    "#        except:\n",
    "#            pass\n",
    "        \n",
    "for i, x in enumerate(tqdm(parameters)):\n",
    "    parameters[i][\"stitched\"] = stitch_S(x[\"heat\"], x[\"cool\"])\n",
    "print('L in {}'.format(\", \".join([str(x[\"stitched\"][\"L\"]) for x in parameters]) ))\n",
    "print('R in {}'.format(\", \".join([str(x[\"heat\"][\"R\"]) for x in parameters]) ))\n"
   ]
  },
  {
   "cell_type": "code",
   "execution_count": null,
   "metadata": {},
   "outputs": [],
   "source": []
  },
  {
   "cell_type": "code",
   "execution_count": null,
   "metadata": {},
   "outputs": [],
   "source": [
    "for p in parameters:\n",
    "    cool, heat, st = p['cool'], p['heat'], p['stitched']\n",
    "\n",
    "    plt.figure(figsize=(16, 9))\n",
    "\n",
    "    plt.plot([x for x in cool['culling_factor']], [y for x, y in cool['culling_factor'].items()], 'o')\n",
    "    plt.plot([x for x in heat['culling_factor']], [y for x, y in heat['culling_factor'].items()], 'o')\n",
    "    plt.grid()\n",
    "\n",
    "    plt.title(\"$D={}; L={}; R={}$\".format(st[\"D\"], st[\"L\"], st[\"R\"]), fontsize=16)\n",
    "    plt.ylabel('$culling\\_factor(E)$', fontsize=16)\n",
    "    plt.xlabel('$E$', fontsize=16)\n",
    "    plt.show()\n",
    "    #plt.savefig(\"./images/BC(T)_D{}_L{}.png\".format(st[\"D\"], st[\"L\"]))\n"
   ]
  },
  {
   "cell_type": "code",
   "execution_count": null,
   "metadata": {},
   "outputs": [],
   "source": [
    "for p in parameters:\n",
    "\n",
    "    plt.figure(figsize=(16, 9))\n",
    "\n",
    "    cool, heat, st = p['cool'], p['heat'], p['stitched']\n",
    "\n",
    "    plt.plot([x for x in st['S']], [y for x, y in st['S'].items()], 'o')\n",
    "    plt.grid()\n",
    "    plt.title(\"$D={}; L={}$\".format(st[\"D\"], st[\"L\"], st[\"R\"]), fontsize=16)\n",
    "    plt.ylabel('$S(E)$', fontsize=16)\n",
    "    plt.xlabel('$E$', fontsize=16)\n",
    "    #savefig(\"./images/S(E)_D{}_L{}.png\".format(st[\"D\"], st[\"L\"]))\n",
    "    plt.show()"
   ]
  },
  {
   "cell_type": "code",
   "execution_count": null,
   "metadata": {},
   "outputs": [],
   "source": [
    "D"
   ]
  },
  {
   "cell_type": "code",
   "execution_count": null,
   "metadata": {},
   "outputs": [],
   "source": [
    "hc = {}\n",
    "E = {}\n",
    "BC = {}"
   ]
  },
  {
   "cell_type": "code",
   "execution_count": null,
   "metadata": {},
   "outputs": [],
   "source": [
    "for i, x in enumerate(tqdm(parameters)):\n",
    "    heat, cool, st = parameters[i][\"heat\"], parameters[i][\"cool\"], parameters[i][\"stitched\"]\n",
    "    L = st['L']\n",
    "    N = L * L\n",
    "\n",
    "    hc[L] = {}\n",
    "    E[L] = {}\n",
    "    BC[L] = {}\n",
    "\n",
    "\n",
    "    T_list = np.linspace(0.2, 0.75, 20)\n",
    "    \n",
    "\n",
    "    # T, C, average E, BinderCumulant\n",
    "    for z in Parallel(n_jobs=4)(delayed(calc_hc)(st, T) for T in tqdm(T_list, desc='L={}'.format(L))):\n",
    "        t, a, b, c = z\n",
    "        hc[L][t], E[L][t], BC[L][t] = a, b, c\n",
    "\n",
    "    #for T in tqdm(T_list):\n",
    "    #    T, hc[L][T], E[L][T], BC[L][T] = calc_hc(st, T)\n"
   ]
  },
  {
   "cell_type": "code",
   "execution_count": null,
   "metadata": {},
   "outputs": [],
   "source": []
  },
  {
   "cell_type": "code",
   "execution_count": null,
   "metadata": {},
   "outputs": [],
   "source": []
  },
  {
   "cell_type": "code",
   "execution_count": null,
   "metadata": {},
   "outputs": [],
   "source": []
  },
  {
   "cell_type": "code",
   "execution_count": null,
   "metadata": {},
   "outputs": [],
   "source": [
    "#BC pictures\n",
    "for i, x in enumerate(tqdm(parameters)):\n",
    "    plt.figure(figsize=(16, 9))\n",
    "    heat, cool, st = parameters[i][\"heat\"], parameters[i][\"cool\"], parameters[i][\"stitched\"]\n",
    "    L = st['L']\n",
    "    N = L * L\n",
    "    \n",
    "\n",
    "    plt.plot([T for T in BC[L] if T >= 0.0], [c / N for T, c in BC[L].items() if T >= 0.0], 'o')\n",
    "    plt.grid()\n",
    "    plt.title(\"$D={}; L={}$\".format(st[\"D\"], st[\"L\"]), fontsize=16)\n",
    "    plt.ylabel('$BC$', fontsize=16)\n",
    "    plt.xlabel('$T$', fontsize=16)\n",
    "    plt.show()\n",
    "    #plt.savefig(\"./images/BC(T)_D{}_L{}.png\".format(st[\"D\"], st[\"L\"]))\n"
   ]
  },
  {
   "cell_type": "code",
   "execution_count": null,
   "metadata": {},
   "outputs": [],
   "source": [
    "plt.figure(figsize=(16, 9))\n",
    "for i, x in enumerate(tqdm(parameters)):\n",
    "    heat, cool, st = parameters[i][\"heat\"], parameters[i][\"cool\"], parameters[i][\"stitched\"]\n",
    "    L = st['L']\n",
    "    N = L * L\n",
    "    plt.plot([T for T in BC[L]], [c for T, c in BC[L].items()], 'o', label=\"L={}\".format(L))\n",
    "plt.grid()\n",
    "plt.title(\"$D={}$\".format(st[\"D\"]), fontsize=16)\n",
    "plt.ylabel('$BC$', fontsize=16)\n",
    "plt.xlabel('$T$', fontsize=16)\n",
    "plt.legend()\n",
    "#plt.show()\n",
    "plt.savefig(\"./images/BC(T)_D{}.png\".format(st[\"D\"]))"
   ]
  },
  {
   "cell_type": "code",
   "execution_count": null,
   "metadata": {},
   "outputs": [],
   "source": [
    "#E_avg pictures\n",
    "for i, x in enumerate(tqdm(parameters)):\n",
    "    plt.figure(figsize=(16, 9))\n",
    "    heat, cool, st = parameters[i][\"heat\"], parameters[i][\"cool\"], parameters[i][\"stitched\"]\n",
    "    L = st['L']\n",
    "    N = L * L\n",
    "\n",
    "\n",
    "    plt.plot([T for T in E[L]], [e / N for T, e in E[L].items()], 'o')\n",
    "    plt.grid()\n",
    "    plt.title(\"$D={}; L={}$\".format(st[\"D\"], st[\"L\"]), fontsize=16)\n",
    "    plt.ylabel('$E_{avg}$', fontsize=16)\n",
    "    plt.xlabel('$T$', fontsize=16)\n",
    "    #plt.show()\n",
    "    plt.savefig(\"./images/E_avg(T)_D{}_L{}.png\".format(st[\"D\"], st[\"L\"]))\n"
   ]
  },
  {
   "cell_type": "code",
   "execution_count": null,
   "metadata": {},
   "outputs": [],
   "source": [
    "plt.figure(figsize=(16, 9))\n",
    "for i, x in enumerate(tqdm(parameters)):\n",
    "    heat, cool, st = parameters[i][\"heat\"], parameters[i][\"cool\"], parameters[i][\"stitched\"]\n",
    "    L = st['L']\n",
    "    N = L * L\n",
    "    plt.plot([T for T in E[L]], [e / N for T, e in E[L].items()], 'o')\n",
    "plt.grid()\n",
    "plt.title(\"$D={}$\".format(st[\"D\"]), fontsize=16)\n",
    "plt.ylabel('$E_{avg}$', fontsize=16)\n",
    "plt.xlabel('$T$', fontsize=16)\n",
    "#plt.show()\n",
    "plt.savefig(\"./images/E_avg(T)_D{}.png\".format(st[\"D\"]))\n"
   ]
  },
  {
   "cell_type": "code",
   "execution_count": null,
   "metadata": {},
   "outputs": [],
   "source": [
    "#C pictures\n",
    "for i, x in enumerate(tqdm(parameters)):\n",
    "    plt.figure(figsize=(16, 9))\n",
    "    heat, cool, st = parameters[i][\"heat\"], parameters[i][\"cool\"], parameters[i][\"stitched\"]\n",
    "    L = st['L']\n",
    "    N = L * L\n",
    "\n",
    "\n",
    "    plt.plot([T for T in hc[L]], [c / N for T, c in hc[L].items()], 'o')\n",
    "    plt.grid()\n",
    "    plt.title(\"$D={}; L={}$\".format(st[\"D\"], st[\"L\"]), fontsize=16)\n",
    "    plt.ylabel('$C$', fontsize=16)\n",
    "    plt.xlabel('$T$', fontsize=16)\n",
    "    #plt.show()\n",
    "    plt.savefig(\"./images/C(T)_D{}_L{}.png\".format(st[\"D\"], st[\"L\"]))\n"
   ]
  },
  {
   "cell_type": "code",
   "execution_count": null,
   "metadata": {},
   "outputs": [],
   "source": [
    "plt.figure(figsize=(16, 9))\n",
    "for i, x in enumerate(tqdm(parameters)):\n",
    "    heat, cool, st = parameters[i][\"heat\"], parameters[i][\"cool\"], parameters[i][\"stitched\"]\n",
    "    L = st['L']\n",
    "    N = L * L\n",
    "    plt.plot([T for T in hc[L]], [c / N for T, c in hc[L].items()], 'o')\n",
    "plt.grid()\n",
    "plt.title(\"$D={}; L={}$\".format(st[\"D\"], st[\"L\"]), fontsize=16)\n",
    "plt.ylabel('$C$', fontsize=16)\n",
    "plt.xlabel('$T$', fontsize=16)\n",
    "#plt.show()\n",
    "plt.savefig(\"./images/C(T)_D{}.png\".format(st[\"D\"]))\n"
   ]
  },
  {
   "cell_type": "code",
   "execution_count": null,
   "metadata": {},
   "outputs": [],
   "source": [
    "D"
   ]
  },
  {
   "cell_type": "code",
   "execution_count": null,
   "metadata": {},
   "outputs": [],
   "source": [
    "parameters"
   ]
  },
  {
   "cell_type": "code",
   "execution_count": 7,
   "metadata": {},
   "outputs": [],
   "source": [
    "BC_crit = {} #{\"T1\": , \"BC1\": }"
   ]
  },
  {
   "cell_type": "code",
   "execution_count": 14,
   "metadata": {
    "scrolled": true
   },
   "outputs": [
    {
     "data": {
      "application/vnd.jupyter.widget-view+json": {
       "model_id": "f3c64864241947ae92785a5cb97d0ae7",
       "version_major": 2,
       "version_minor": 0
      },
      "text/plain": [
       "HBox(children=(IntProgress(value=0, max=6), HTML(value='')))"
      ]
     },
     "metadata": {},
     "output_type": "display_data"
    },
    {
     "name": "stdout",
     "output_type": "stream",
     "text": [
      "8\n",
      "{'T': 0.47485371979759544, 'BC': -0.9426490864517812}\n",
      "12\n",
      "{'T': 0.47688548073952525, 'BC': -0.4649564994494558}\n",
      "16\n",
      "{'T': 0.4711049114112405, 'BC': -0.30851703496315996}\n",
      "20\n",
      "{'T': 0.46707517187092096, 'BC': -0.23399567493226783}\n",
      "24\n",
      "{'T': 0.4651414169066059, 'BC': -0.17843610605671217}\n",
      "32\n",
      "{'T': 0.46177366609592957, 'BC': -0.13363554223514634}\n",
      "\n"
     ]
    }
   ],
   "source": [
    "for p in tqdm(parameters):\n",
    "    st = p[\"stitched\"]\n",
    "    L = st[\"L\"]\n",
    "    print(L)\n",
    "    BC_crit[L] = {}\n",
    "    a = 0.4\n",
    "    b = 0.6\n",
    "    #T_list = np.linspace(0.3, 4, 100)\n",
    "    #for T in tqdm(T_list):\n",
    "        # T, C, average E, BinderCumulant\n",
    "    t, bc, _, _ = fminbound(lambda T: calc_hc(st, T)[3], a, b, maxfun=500, full_output=1, disp=False)\n",
    "        #t, c, _, bc = calc_hc(st, T)\n",
    "    BC_crit[L][\"T\"] = float(t)\n",
    "    BC_crit[L][\"BC\"]= float(bc)\n",
    "    print(BC_crit[L])"
   ]
  },
  {
   "cell_type": "code",
   "execution_count": 17,
   "metadata": {},
   "outputs": [
    {
     "data": {
      "text/plain": [
       "1.967"
      ]
     },
     "execution_count": 17,
     "metadata": {},
     "output_type": "execute_result"
    }
   ],
   "source": [
    "D"
   ]
  },
  {
   "cell_type": "code",
   "execution_count": 19,
   "metadata": {},
   "outputs": [],
   "source": [
    "with open(\"./cluster_tmp/BC_crit_D{}.txt\".format(D), 'w') as fp:\n",
    "    json.dump(BC_crit, fp)\n",
    "    #for L in T_crit:\n",
    "    #    fp.write('{}\\t{}\\t{}\\n'.format(L, T_crit[L]['T_crit'], T_crit[L]['BC_crit']))\n",
    "\n",
    "with open('./cluster_tmp/BC_crit_D{}.tsv'.format(D), 'w') as f:\n",
    "    f.write('L\\tT_crit\\tBC_crit\\n');\n",
    "    for L in BC_crit:\n",
    "        f.write('\\t'.join([str(L), str(BC_crit[L]['T']), str(BC_crit[L]['BC'])]) + '\\n')\n"
   ]
  },
  {
   "cell_type": "code",
   "execution_count": null,
   "metadata": {},
   "outputs": [],
   "source": [
    "#with open(\"./cluster_tmp/BC_crit_D{}.txt\".format(D), 'r') as fp:\n",
    "#    BC_crit = json.load(fp)\n"
   ]
  },
  {
   "cell_type": "code",
   "execution_count": null,
   "metadata": {},
   "outputs": [],
   "source": [
    "BC_crit"
   ]
  },
  {
   "cell_type": "code",
   "execution_count": null,
   "metadata": {},
   "outputs": [],
   "source": [
    "for D in [1.0, 1.5, 1.6, 1.7, 1.75, 1.87, 1.9, 1.92, 1.94, 1.95, 1.96, 1.962, 1.964, 1.965, 1.965, 1.966, 1.967, 1.97, 1.98, 1.99]:\n",
    "    try:\n",
    "        with open('./cluster_tmp/BC_crit_D{}.txt'.format(D), 'r') as f:\n",
    "            BC_crit = json.load(f)\n",
    "\n",
    "        with open('./cluster_tmp/BC_crit_D{}.tsv'.format(D), 'w') as f:\n",
    "            f.write('L\\tT_crit\\tBC_crit\\n');\n",
    "            for L in BC_crit:\n",
    "                f.write('\\t'.join([L, str(BC_crit[L]['T']), str(BC_crit[L]['BC'])]) + '\\n')\n",
    "    except:\n",
    "        pass"
   ]
  },
  {
   "cell_type": "code",
   "execution_count": null,
   "metadata": {},
   "outputs": [],
   "source": [
    "BC_crit, BC_crit_second_peak = {}, {}"
   ]
  },
  {
   "cell_type": "code",
   "execution_count": null,
   "metadata": {},
   "outputs": [],
   "source": [
    "for D in [1.964, 1.965, 1.966, 1.968, 1.969]:#1.967, \n",
    "    with open('./old_tmp/BC_crit_D{}.txt'.format(D), 'r') as f:\n",
    "        for line in f:\n",
    "            arr = line[:-1].split('\\t')\n",
    "            L = int(arr[0])\n",
    "            BC_crit[L] = {'T': float(arr[1]), 'BC': float(arr[2])}\n",
    "            if len(arr) > 3:\n",
    "                BC_crit_second_peak[L] = {'T': float(arr[3]), 'BC': float(arr[4])}\n",
    "        \n",
    "        with open('./old_tmp/BC_crit_D{}.tsv'.format(D), 'w') as f:\n",
    "            f.write('L\\tT_crit\\tBC_crit\\n');\n",
    "            for L in BC_crit:\n",
    "                f.write('\\t'.join([str(L), str(BC_crit[L]['T']), str(BC_crit[L]['BC'])]) + '\\n')\n",
    "        \n",
    "        with open('./old_tmp/BC_crit_D{}_second_peak.tsv'.format(D), 'w') as f:\n",
    "            f.write('L\\tT_crit\\tBC_crit\\n');\n",
    "            for L in BC_crit_second_peak:\n",
    "                f.write('\\t'.join([str(L), str(BC_crit_second_peak[L]['T']), str(BC_crit_second_peak[L]['BC'])]) + '\\n')\n"
   ]
  },
  {
   "cell_type": "code",
   "execution_count": null,
   "metadata": {},
   "outputs": [],
   "source": []
  }
 ],
 "metadata": {
  "kernelspec": {
   "display_name": "Python 3",
   "language": "python",
   "name": "python3"
  },
  "language_info": {
   "codemirror_mode": {
    "name": "ipython",
    "version": 3
   },
   "file_extension": ".py",
   "mimetype": "text/x-python",
   "name": "python",
   "nbconvert_exporter": "python",
   "pygments_lexer": "ipython3",
   "version": "3.7.4"
  }
 },
 "nbformat": 4,
 "nbformat_minor": 4
}
