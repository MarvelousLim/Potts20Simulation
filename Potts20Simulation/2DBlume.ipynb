{
 "cells": [
  {
   "cell_type": "code",
   "execution_count": 1,
   "metadata": {},
   "outputs": [],
   "source": [
    "import numpy as np, matplotlib.pyplot as plt\n",
    "from collections import OrderedDict as od\n",
    "from scipy.special import comb as C\n",
    "from scipy.stats import linregress\n",
    "from statistics import median\n",
    "from scipy.optimize import fminbound\n",
    "import json\n",
    "import itertools\n",
    "from tqdm.notebook import tqdm\n",
    "from multiprocess import Pool\n",
    "from magic_functions import calc_hc_tpl"
   ]
  },
  {
   "cell_type": "code",
   "execution_count": null,
   "metadata": {},
   "outputs": [],
   "source": []
  },
  {
   "cell_type": "code",
   "execution_count": null,
   "metadata": {},
   "outputs": [],
   "source": []
  },
  {
   "cell_type": "code",
   "execution_count": null,
   "metadata": {},
   "outputs": [],
   "source": []
  },
  {
   "cell_type": "code",
   "execution_count": 2,
   "metadata": {},
   "outputs": [],
   "source": [
    "def get_entropy_from_culling_factor_v2(c):\n",
    "    S = od()\n",
    "    sn = 0\n",
    "    for E in c:\n",
    "        S[E] = np.log(c[E])\n",
    "        S[E] += sn\n",
    "        sn += np.log(1 - c[E])\n",
    "    return S\n",
    "\n",
    "def get_entropy_from_culling_factor_with_heat_v2(c):\n",
    "    S = od()\n",
    "    sn = 0\n",
    "    for E in c:\n",
    "        S[E] = np.log(c[E])\n",
    "        S[E] += sn\n",
    "        sn += np.log(1 - c[E])\n",
    "    return S\n"
   ]
  },
  {
   "cell_type": "code",
   "execution_count": 40,
   "metadata": {},
   "outputs": [],
   "source": [
    "def read_files_v2(parameters, prefix = None):\n",
    "    q=parameters[\"q\"];\n",
    "    L=parameters[\"L\"];\n",
    "    R=parameters[\"R\"];\n",
    "    D=parameters[\"D\"];\n",
    "    nSteps=parameters[\"nSteps\"];\n",
    "    seed=parameters[\"seed\"];\n",
    "    heat=parameters[\"heat\"];\n",
    "    N = L * L;\n",
    "    name = \".{}/2DBlume{}_q{}_D{}_N{}_R{}_nSteps{}_run{}X.txt\".format(prefix,\"Heating\" * heat, q, \"{0:07.6f}\".format(D), N, R, nSteps, seed)\n",
    "    print(name)\n",
    "    culling_factor = od()\n",
    "    print(N, R, nSteps, heat)\n",
    "    with open(name) as f:\n",
    "        for line in f:\n",
    "            E, c = map(float, line.split())\n",
    "            culling_factor[E] = c\n",
    "    parameters[\"culling_factor\"] = culling_factor\n",
    "    if not heat:\n",
    "        parameters[\"S\"] = get_entropy_from_culling_factor_v2(culling_factor)\n",
    "    else:\n",
    "        parameters[\"S\"] = get_entropy_from_culling_factor_with_heat_v2(culling_factor)\n",
    "    \n",
    "    return parameters\n",
    "\n",
    "\n",
    "def stitch_S(heat, cool):\n",
    "    #not infinite values\n",
    "    niv = sorted( list({E for E, S in heat[\"S\"].items() if not np.isinf(S)} &\n",
    "                       {E for E, S in cool[\"S\"].items() if not np.isinf(S)}) )\n",
    "    #chosen not infinite values\n",
    "    cniv = niv[len(niv) // 3 : 2 * len(niv) // 3]\n",
    "    #print(cniv)\n",
    "    shift = 0\n",
    "    count = 0\n",
    "    for E in cniv:\n",
    "        shift += heat[\"S\"][E] - cool[\"S\"][E]\n",
    "        count += 1\n",
    "    shift /= count\n",
    "\n",
    "    result = od()\n",
    "    for E in cool[\"S\"]:\n",
    "        if E < median(cniv):\n",
    "            result[E] = cool[\"S\"][E]\n",
    "    for E in heat[\"S\"]:\n",
    "        if E >= median(cniv):\n",
    "            result[E] = heat[\"S\"][E] - shift\n",
    "    return {\"S\": result, \"L\": heat[\"L\"], \"D\": heat[\"D\"]}\n",
    "\n",
    "\n",
    "def read_tuple_files(tpl, prefix=None):\n",
    "    if tpl[1][\"heat\"]:\n",
    "        cool = read_files_v2(tpl[0], prefix)\n",
    "        heat = read_files_v2(tpl[1], prefix)\n",
    "        return {\n",
    "            \"cool\": cool,\n",
    "            \"heat\": heat,\n",
    "            \"stitched\": stitch_S(heat, cool)\n",
    "        }\n"
   ]
  },
  {
   "cell_type": "code",
   "execution_count": 69,
   "metadata": {
    "scrolled": true
   },
   "outputs": [
    {
     "name": "stdout",
     "output_type": "stream",
     "text": [
      "./datasets/2DBlume_q3_D1.950000_N1024_R131072_nSteps10_run0X.txt\n",
      "1024 131072 10 False\n"
     ]
    },
    {
     "name": "stderr",
     "output_type": "stream",
     "text": [
      "C:\\ProgramData\\Anaconda3\\lib\\site-packages\\ipykernel_launcher.py:7: RuntimeWarning: divide by zero encountered in log\n",
      "  import sys\n"
     ]
    },
    {
     "name": "stdout",
     "output_type": "stream",
     "text": [
      "./datasets/2DBlumeHeating_q3_D1.950000_N1024_R131072_nSteps10_run0X.txt\n",
      "1024 131072 10 True\n"
     ]
    },
    {
     "name": "stderr",
     "output_type": "stream",
     "text": [
      "C:\\ProgramData\\Anaconda3\\lib\\site-packages\\ipykernel_launcher.py:16: RuntimeWarning: divide by zero encountered in log\n",
      "  app.launch_new_instance()\n"
     ]
    }
   ],
   "source": [
    "#L_list = [8, 12, 16, 20, 24, 32, 48, 64, 96]\n",
    "D = 1.95\n",
    "L = 32\n",
    "cool, heat = [{\n",
    "    \"q\": 3,\n",
    "    \"D\": D,\n",
    "    \"L\": L,\n",
    "    \"R\" : 131072,\n",
    "    \"nSteps\" : 10,\n",
    "    \"seed\" : 0,\n",
    "    \"heat\": False\n",
    "}], [{\n",
    "    \"q\": 3,\n",
    "    \"D\": D,\n",
    "    \"L\": L,\n",
    "    \"R\" : 131072,\n",
    "    \"nSteps\" : 10,\n",
    "    \"seed\" : 0,\n",
    "    \"heat\": True\n",
    "}]\n",
    "\n",
    "parameters = []\n",
    "for x in zip(cool, heat):\n",
    "    parameters.append(read_tuple_files(x, '/datasets'))\n"
   ]
  },
  {
   "cell_type": "code",
   "execution_count": 65,
   "metadata": {},
   "outputs": [
    {
     "name": "stdout",
     "output_type": "stream",
     "text": [
      "./datasets/test/2DBlume_q3_D1.962000_N1024_R131072_nSteps10_run0X.txt\n",
      "1024 131072 10 False\n"
     ]
    },
    {
     "name": "stderr",
     "output_type": "stream",
     "text": [
      "C:\\ProgramData\\Anaconda3\\lib\\site-packages\\ipykernel_launcher.py:7: RuntimeWarning: divide by zero encountered in log\n",
      "  import sys\n"
     ]
    },
    {
     "name": "stdout",
     "output_type": "stream",
     "text": [
      "./datasets/test/2DBlumeHeating_q3_D1.962000_N1024_R131072_nSteps10_run0X.txt\n",
      "1024 131072 10 True\n"
     ]
    },
    {
     "name": "stderr",
     "output_type": "stream",
     "text": [
      "C:\\ProgramData\\Anaconda3\\lib\\site-packages\\ipykernel_launcher.py:16: RuntimeWarning: divide by zero encountered in log\n",
      "  app.launch_new_instance()\n"
     ]
    }
   ],
   "source": [
    "parametersAR = []\n",
    "for x in zip(cool, heat):\n",
    "    parametersAR.append(read_tuple_files(x, '/datasets/test'))"
   ]
  },
  {
   "cell_type": "code",
   "execution_count": 9,
   "metadata": {},
   "outputs": [
    {
     "name": "stdout",
     "output_type": "stream",
     "text": [
      "./AR_datasets/datasets/2DBlume_q3_D1.966000_N1024_R131072_nSteps10_run0X.txt\n",
      "1024 131072 10 False\n"
     ]
    },
    {
     "name": "stderr",
     "output_type": "stream",
     "text": [
      "C:\\ProgramData\\Anaconda3\\lib\\site-packages\\ipykernel_launcher.py:5: RuntimeWarning: divide by zero encountered in log\n",
      "  \"\"\"\n"
     ]
    }
   ],
   "source": [
    "#coolAR = read_files_v2(cool[0], '/AR_datasets/datasets')"
   ]
  },
  {
   "cell_type": "code",
   "execution_count": 9,
   "metadata": {},
   "outputs": [
    {
     "data": {
      "text/plain": [
       "[64, 144, 256, 400, 576, 1024, 2304, 4096, 9216]"
      ]
     },
     "execution_count": 9,
     "metadata": {},
     "output_type": "execute_result"
    }
   ],
   "source": [
    "L_list = [8, 12, 16, 20, 24, 32, 48, 64, 96]\n",
    "[x * x for x in L_list]"
   ]
  },
  {
   "cell_type": "code",
   "execution_count": null,
   "metadata": {},
   "outputs": [],
   "source": []
  },
  {
   "cell_type": "code",
   "execution_count": null,
   "metadata": {},
   "outputs": [],
   "source": []
  },
  {
   "cell_type": "code",
   "execution_count": null,
   "metadata": {},
   "outputs": [],
   "source": []
  },
  {
   "cell_type": "code",
   "execution_count": null,
   "metadata": {},
   "outputs": [],
   "source": []
  },
  {
   "cell_type": "code",
   "execution_count": null,
   "metadata": {},
   "outputs": [],
   "source": []
  },
  {
   "cell_type": "code",
   "execution_count": 70,
   "metadata": {},
   "outputs": [
    {
     "data": {
      "image/png": "[encoded data removed]",
      "text/plain": [
       "<Figure size 1152x648 with 1 Axes>"
      ]
     },
     "metadata": {
      "needs_background": "light"
     },
     "output_type": "display_data"
    }
   ],
   "source": [
    "plt.figure(figsize=(16, 9))\n",
    "\n",
    "i = 0\n",
    "heat, cool = parameters[i][\"heat\"], parameters[i][\"cool\"]\n",
    "\n",
    "plt.plot([E for E in cool[\"culling_factor\"]], [S for E, S in cool[\"culling_factor\"].items()]\n",
    "         , 'o', label=\"L={}; cool\".format(cool[\"L\"]))\n",
    "plt.plot([E for E in heat[\"culling_factor\"]], [S for E, S in heat[\"culling_factor\"].items()]\n",
    "         , 'o', label=\"L={}; heat\".format(heat[\"L\"]))\n",
    "\n",
    "plt.ylabel(\"$culling_factor(E)$\")\n",
    "plt.xlabel(\"E\")\n",
    "#plt.ylim([-200, -175])\n",
    "#plt.xlim([-216, -175])\n",
    "#plt.xlim([-2000, 2000])\n",
    "plt.legend()\n",
    "plt.grid()\n",
    "#plt.savefig(\"./culling_factor_D{}_L{}.png\".format(heat[\"D\"], heat[\"L\"]))"
   ]
  },
  {
   "cell_type": "code",
   "execution_count": 71,
   "metadata": {},
   "outputs": [
    {
     "data": {
      "image/png": "[encoded data removed]",
      "text/plain": [
       "<Figure size 1152x648 with 1 Axes>"
      ]
     },
     "metadata": {
      "needs_background": "light"
     },
     "output_type": "display_data"
    }
   ],
   "source": [
    "plt.figure(figsize=(16, 9))\n",
    "\n",
    "i = 0\n",
    "heat, cool, st = parameters[i][\"heat\"], parameters[i][\"cool\"], parameters[i][\"stitched\"]\n",
    "\n",
    "plt.plot([E for E in cool[\"S\"]], [S for E, S in cool[\"S\"].items()]\n",
    "         , 'o', label=\"L={}; cool\".format(cool[\"L\"]))\n",
    "plt.plot([E for E in heat[\"S\"]], [S for E, S in heat[\"S\"].items()]\n",
    "         , 'o', label=\"L={}; heat\".format(heat[\"L\"]))\n",
    "plt.plot([E for E in st[\"S\"]], [S - 50 for E, S in st[\"S\"].items()]\n",
    "         , 'o', label=\"L={}; heat\".format(heat[\"L\"]))\n",
    "\n",
    "plt.ylabel(\"$S(E)$\")\n",
    "plt.xlabel(\"E\")\n",
    "plt.ylim([-100, 0])\n",
    "plt.xlim([750, 2000])\n",
    "#plt.xlim([-2000, 2000])\n",
    "plt.legend()\n",
    "plt.grid()\n",
    "#plt.savefig(\"./culling_factor_D{}_L{}.png\".format(heat[\"D\"], heat[\"L\"]))"
   ]
  },
  {
   "cell_type": "code",
   "execution_count": null,
   "metadata": {},
   "outputs": [],
   "source": []
  },
  {
   "cell_type": "code",
   "execution_count": null,
   "metadata": {},
   "outputs": [],
   "source": []
  },
  {
   "cell_type": "code",
   "execution_count": null,
   "metadata": {},
   "outputs": [],
   "source": []
  },
  {
   "cell_type": "code",
   "execution_count": null,
   "metadata": {},
   "outputs": [],
   "source": []
  },
  {
   "cell_type": "code",
   "execution_count": null,
   "metadata": {},
   "outputs": [],
   "source": []
  },
  {
   "cell_type": "code",
   "execution_count": 68,
   "metadata": {},
   "outputs": [
    {
     "data": {
      "image/png": "[encoded data removed]",
      "text/plain": [
       "<Figure size 1152x648 with 1 Axes>"
      ]
     },
     "metadata": {
      "needs_background": "light"
     },
     "output_type": "display_data"
    }
   ],
   "source": [
    "i = 0\n",
    "heat, cool, st = parameters[i][\"heat\"], parameters[i][\"cool\"], parameters[i][\"stitched\"]\n",
    "\n",
    "plt.figure(figsize=(16, 9))\n",
    "\n",
    "plt.plot([E for E in heat[\"S\"]],\n",
    "         [S + 100 for E, S in heat[\"S\"].items()]\n",
    "         , 'o', label=\"heat, L={}\".format(cool[\"L\"]), markersize=2)\n",
    "\n",
    "plt.plot([E for E in cool[\"S\"]],\n",
    "         [S + 100 for E, S in cool[\"S\"].items()]\n",
    "         , 'o', label=\"cool, L={}\".format(cool[\"L\"]), markersize=2)\n",
    "\n",
    "plt.plot([E for E in st[\"S\"]],\n",
    "         [S for E, S in st[\"S\"].items()]\n",
    "         , 'o', label=\"stitched, L={}\".format(st[\"L\"]), markersize=2)\n",
    "\n",
    "plt.ylabel(\"$S(E)$\")\n",
    "plt.xlabel(\"E\")\n",
    "\n",
    "plt.title('D={}'.format(st[\"D\"]))\n",
    "plt.legend()\n",
    "plt.grid()\n",
    "#plt.savefig(\"./S_stitched(E)_D{}_L{}.png\".format(heat[\"D\"], heat[\"L\"]))"
   ]
  },
  {
   "cell_type": "code",
   "execution_count": null,
   "metadata": {},
   "outputs": [],
   "source": []
  },
  {
   "cell_type": "code",
   "execution_count": null,
   "metadata": {},
   "outputs": [],
   "source": []
  },
  {
   "cell_type": "code",
   "execution_count": null,
   "metadata": {},
   "outputs": [],
   "source": []
  },
  {
   "cell_type": "code",
   "execution_count": null,
   "metadata": {},
   "outputs": [],
   "source": []
  },
  {
   "cell_type": "code",
   "execution_count": null,
   "metadata": {},
   "outputs": [],
   "source": []
  },
  {
   "cell_type": "code",
   "execution_count": null,
   "metadata": {},
   "outputs": [],
   "source": []
  },
  {
   "cell_type": "code",
   "execution_count": 72,
   "metadata": {},
   "outputs": [],
   "source": [
    "i = 0\n",
    "tmp = sorted([(x, parameters[i]['stitched']['S'][x]) for x in parameters[i]['stitched']['S']], key=lambda x: x[0])\n",
    "tmp_bin = {}\n",
    "for i in range(0, len(tmp) - 1):\n",
    "    x = (tmp[i + 1][0] - tmp[i][0])\n",
    "    #if (x < 0.0001):\n",
    "    #    print(tmp[i + 1][0], tmp[i][0], tmp[i + 1][0] - tmp[i][0])\n",
    "    #tmp_bin.append(x)\n",
    "    if x in tmp_bin:\n",
    "        tmp_bin[x] += 1\n",
    "    else:\n",
    "        tmp_bin[x] = 1"
   ]
  },
  {
   "cell_type": "code",
   "execution_count": 73,
   "metadata": {},
   "outputs": [],
   "source": [
    "#tmp_bin"
   ]
  },
  {
   "cell_type": "code",
   "execution_count": 74,
   "metadata": {},
   "outputs": [
    {
     "data": {
      "image/png": "[encoded data removed]",
      "text/plain": [
       "<Figure size 1152x648 with 1 Axes>"
      ]
     },
     "metadata": {
      "needs_background": "light"
     },
     "output_type": "display_data"
    }
   ],
   "source": [
    "plt.figure(figsize=(16, 9))\n",
    "\n",
    "plt.plot([x for x in tmp_bin], [tmp_bin[x] for x in tmp_bin], 'o')\n",
    "#plt.hist(tmp_bin, bins=100)\n",
    "\n",
    "plt.ylabel(\"$n$\")\n",
    "plt.yscale('log')\n",
    "plt.xscale('log')\n",
    "plt.xlabel(\"$E_{i+1} - E_i$\")\n",
    "plt.grid()\n",
    "#plt.savefig(\"./bin_D{}_L{}.png\".format(heat[\"D\"], heat[\"L\"]))"
   ]
  },
  {
   "cell_type": "code",
   "execution_count": 33,
   "metadata": {},
   "outputs": [
    {
     "data": {
      "image/png": "[encoded data removed]",
      "text/plain": [
       "<Figure size 1152x648 with 1 Axes>"
      ]
     },
     "metadata": {
      "needs_background": "light"
     },
     "output_type": "display_data"
    }
   ],
   "source": [
    "i = 0\n",
    "tmp = sorted([(x, coolAR['culling_factor'][x]) for x in coolAR['culling_factor']], key=lambda x: x[0])\n",
    "tmp_bin = {}\n",
    "for i in range(0, len(tmp) - 1):\n",
    "    x = (tmp[i + 1][0] - tmp[i][0])\n",
    "    #if (x < 0.0001):\n",
    "    #    print(tmp[i + 1][0], tmp[i][0], tmp[i + 1][0] - tmp[i][0])\n",
    "    #tmp_bin.append(x)\n",
    "    if x in tmp_bin:\n",
    "        tmp_bin[x] += 1\n",
    "    else:\n",
    "        tmp_bin[x] = 1\n",
    "\n",
    "plt.figure(figsize=(16, 9))\n",
    "\n",
    "plt.plot([x for x in tmp_bin], [tmp_bin[x] for x in tmp_bin], 'o')\n",
    "#plt.hist(tmp_bin, bins=100)\n",
    "\n",
    "plt.ylabel(\"$n$\")\n",
    "plt.yscale('log')\n",
    "plt.xscale('log')\n",
    "plt.xlabel(\"$E_{i+1} - E_i$\")\n",
    "plt.grid()\n"
   ]
  },
  {
   "cell_type": "code",
   "execution_count": 30,
   "metadata": {},
   "outputs": [
    {
     "data": {
      "image/png": "[encoded data removed]",
      "text/plain": [
       "<Figure size 1152x648 with 1 Axes>"
      ]
     },
     "metadata": {
      "needs_background": "light"
     },
     "output_type": "display_data"
    }
   ],
   "source": [
    "plt.figure(figsize=(16, 9))\n",
    "\n",
    "plt.scatter([tmp[i][0] for i in range(0, len(tmp) - 1)],\n",
    "         [tmp[i+1][1]-tmp[i][1] for i in range(0, len(tmp) - 1)],\n",
    "         label=\"D={}, L={}\".format(st[\"D\"], st[\"L\"]), s=10)\n",
    "\n",
    "plt.ylabel(\"$dS(E)$\")\n",
    "plt.xlabel(\"E\")\n",
    "\n",
    "plt.legend()\n",
    "plt.grid()\n",
    "#plt.savefig(\"./dS(E)_D{}_L{}.png\".format(heat[\"D\"], heat[\"L\"]))"
   ]
  },
  {
   "cell_type": "code",
   "execution_count": null,
   "metadata": {},
   "outputs": [],
   "source": [
    "plt.figure(figsize=(16, 9))\n",
    "\n",
    "plt.scatter([tmp[i][0] for i in range(0, len(tmp) - 1)],\n",
    "            [tmp[i+1][0]-tmp[i][0] for i in range(0, len(tmp) - 1)]\n",
    "            , label=\"D={}, L={}\".format(st[\"D\"], st[\"L\"]), s=50)\n",
    "\n",
    "plt.ylabel(\"$dE(E)$\")\n",
    "plt.xlabel(\"E\")\n",
    "#plt.yscale(\"log\")\n",
    "plt.ylim([-0.01, 4.0])\n",
    "\n",
    "plt.legend()\n",
    "plt.grid()\n",
    "#plt.savefig(\"./dE(E)_D{}_L{}.png\".format(heat[\"D\"], heat[\"L\"]))\n",
    "#plt.savefig(\"./dE(E)_D{}_L{}_scale.png\".format(heat[\"D\"], heat[\"L\"]))"
   ]
  },
  {
   "cell_type": "code",
   "execution_count": null,
   "metadata": {},
   "outputs": [],
   "source": [
    "plt.figure(figsize=(16, 9))\n",
    "\n",
    "plt.scatter([tmp[i][0] for i in range(0, len(tmp) - 1)],\n",
    "            [tmp[i+1][0]-tmp[i][0] for i in range(0, len(tmp) - 1)]\n",
    "            , label=\"D={}, L={}\".format(st[\"D\"], st[\"L\"]), s=5)\n",
    "\n",
    "plt.ylabel(\"$dE(E)$\")\n",
    "plt.xlabel(\"E\")\n",
    "plt.ylim([-0.05, 1])\n",
    "\n",
    "plt.legend()\n",
    "plt.grid()\n",
    "#plt.savefig(\"./dE(E)_D{}_L{}_zoom.png\".format(heat[\"D\"], heat[\"L\"]))"
   ]
  },
  {
   "cell_type": "code",
   "execution_count": 13,
   "metadata": {},
   "outputs": [
    {
     "name": "stdout",
     "output_type": "stream",
     "text": [
      "Mpmath settings:\n",
      "  mp.prec = 169               [default: 53]\n",
      "  mp.dps = 50                 [default: 15]\n",
      "  mp.trap_complex = False     [default: False]\n"
     ]
    }
   ],
   "source": [
    "import mpmath as mp\n",
    "mp.mp.dps = 50\n",
    "mp.mp.pretty = True\n",
    "print(mp.mp)"
   ]
  },
  {
   "cell_type": "code",
   "execution_count": null,
   "metadata": {},
   "outputs": [],
   "source": [
    "plt.figure(figsize=(16, 9))\n",
    "\n",
    "for T in log_progress([0.4, 0.5, 0.55, 0.6, 0.65, 0.7]):\n",
    "    for i, x in enumerate(parameters):\n",
    "        heat, cool, st = parameters[i][\"heat\"], parameters[i][\"cool\"], parameters[i][\"stitched\"]\n",
    "        D = st['D']\n",
    "        L = st['L']\n",
    "        if L != 32:\n",
    "            continue\n",
    "        lst = np.array([mp.exp(mp.mpf(S) - mp.mpf(E) / T) / Z for E, S in st[\"S\"].items()])\n",
    "        Z = sum(lst)\n",
    "        plt.plot([E / (L * L) for E in st[\"S\"]],\n",
    "                 lst / Z\n",
    "                 , 'o', label=\"stitched, T={}, L={}\".format(T, L))\n",
    "\n",
    "plt.ylabel('$P(E) = e^{S(E) - E / T} / Z$')\n",
    "plt.xlabel(\"E\")\n",
    "plt.xlim([0, 0.5])\n",
    "plt.title(\"D={}\".format(D))\n",
    "plt.legend()\n",
    "plt.grid()\n",
    "plt.savefig(\"./P(E)_D{}_L{}.png\".format(heat[\"D\"], heat[\"L\"]))"
   ]
  },
  {
   "cell_type": "code",
   "execution_count": null,
   "metadata": {},
   "outputs": [],
   "source": [
    "def calc_hc(st, T):\n",
    "    E = mp.mpf(0)\n",
    "    E_sq = mp.mpf(0)\n",
    "    Z = mp.mpf(0)\n",
    "    for fe, fS in st['S'].items():\n",
    "        e = mp.mpf(fe)\n",
    "        S = mp.mpf(fS)\n",
    "        w = mp.exp(S - e / T)\n",
    "        Z += w\n",
    "        E += w * e\n",
    "        E_sq += w * e * e\n",
    "    avgE = E / Z;\n",
    "    avgE_sq = E_sq / Z;\n",
    "    return (avgE_sq - avgE * avgE) / (T * T)"
   ]
  },
  {
   "cell_type": "code",
   "execution_count": null,
   "metadata": {},
   "outputs": [],
   "source": [
    "hc = {}\n",
    "\n",
    "for i, x in enumerate(parameters):\n",
    "    heat, cool, st = parameters[i][\"heat\"], parameters[i][\"cool\"], parameters[i][\"stitched\"]\n",
    "    L = st['L']\n",
    "    N = L * L\n",
    "    hc[L] = {}\n",
    "    for T in log_progress(np.linspace(0.4, 2.0, 20)):\n",
    "        hc[L][T] = calc_hc(st, T)"
   ]
  },
  {
   "cell_type": "code",
   "execution_count": null,
   "metadata": {},
   "outputs": [],
   "source": []
  },
  {
   "cell_type": "code",
   "execution_count": null,
   "metadata": {},
   "outputs": [],
   "source": []
  },
  {
   "cell_type": "code",
   "execution_count": null,
   "metadata": {},
   "outputs": [],
   "source": []
  },
  {
   "cell_type": "code",
   "execution_count": null,
   "metadata": {},
   "outputs": [],
   "source": []
  },
  {
   "cell_type": "code",
   "execution_count": null,
   "metadata": {},
   "outputs": [],
   "source": []
  },
  {
   "cell_type": "code",
   "execution_count": null,
   "metadata": {},
   "outputs": [],
   "source": [
    "a = 0.4\n",
    "b = 4.0"
   ]
  },
  {
   "cell_type": "code",
   "execution_count": null,
   "metadata": {},
   "outputs": [],
   "source": [
    "for i, x in enumerate(parameters):\n",
    "    heat, cool, st = parameters[i][\"heat\"], parameters[i][\"cool\"], parameters[i][\"stitched\"]\n",
    "    L = st['L']\n",
    "    N = L * L\n",
    "    for T in log_progress(np.linspace(a, b, 20)):\n",
    "        hc[L][T] = calc_hc(st, T)"
   ]
  },
  {
   "cell_type": "code",
   "execution_count": null,
   "metadata": {},
   "outputs": [],
   "source": [
    "T_crit = {}\n",
    "for i, x in enumerate(parameters):\n",
    "    st = x[\"stitched\"]\n",
    "    L = st[\"L\"]\n",
    "    t, c, _, _ = fminbound(lambda T: - calc_hc(st, T), a, b, maxfun=500, full_output=1, disp=2)\n",
    "    T_crit[L] = {\n",
    "        \"T_crit\": float(t),\n",
    "        \"C_crit\": float(-c / (L * L))\n",
    "    }\n",
    "T_crit"
   ]
  },
  {
   "cell_type": "code",
   "execution_count": null,
   "metadata": {},
   "outputs": [],
   "source": [
    "D = 1.0"
   ]
  },
  {
   "cell_type": "code",
   "execution_count": null,
   "metadata": {},
   "outputs": [],
   "source": [
    "T_crit"
   ]
  },
  {
   "cell_type": "code",
   "execution_count": null,
   "metadata": {},
   "outputs": [],
   "source": [
    "with open(\"./tmp/T_crit_D{}.txt\".format(D), 'w') as fp:\n",
    "    json.dump(T_crit, fp)"
   ]
  },
  {
   "cell_type": "code",
   "execution_count": null,
   "metadata": {},
   "outputs": [],
   "source": [
    "#D = heat[\"D\"]\n"
   ]
  },
  {
   "cell_type": "code",
   "execution_count": null,
   "metadata": {},
   "outputs": [],
   "source": [
    "with open(\"./tmp/T_crit_D{}.txt\".format(D), 'r') as fp:\n",
    "    T_crit = json.load(fp)\n",
    "T_crit"
   ]
  },
  {
   "cell_type": "code",
   "execution_count": null,
   "metadata": {},
   "outputs": [],
   "source": []
  },
  {
   "cell_type": "code",
   "execution_count": null,
   "metadata": {},
   "outputs": [],
   "source": [
    "plt.figure(figsize=(16, 9))\n",
    "\n",
    "for L in T_crit:\n",
    "    plt.scatter(T_crit[L]['T_crit'], T_crit[L]['C_crit'] / (int(L) * int(L)), label='L={};'.format(L))\n",
    "\n",
    "    \n",
    "#plt.plot([Tc, Tc], [0, 3300], label='Tc_their={}'.format(Tc), c='r')\n",
    "#for L, data in T_crit.items():\n",
    "#    plt.plot([data['T_crit'], data['T_crit']], [0, 5], label='T_crit_our={:.4f}'.format(float(data['T_crit'])), c='r')\n",
    "\n",
    "#plt.yscale(\"log\")\n",
    "plt.title(\"D={}\".format(D))\n",
    "plt.ylabel('$C(T) / N$')\n",
    "plt.xlabel(\"T\")\n",
    "plt.legend()\n",
    "plt.grid()\n",
    "#plt.savefig(\"./C(T)_D{}_L{}.png\".format(heat[\"D\"], heat[\"L\"]))\n",
    "plt.savefig(\"./C(T)_D{}.png\".format(D))"
   ]
  },
  {
   "cell_type": "code",
   "execution_count": null,
   "metadata": {},
   "outputs": [],
   "source": []
  },
  {
   "cell_type": "code",
   "execution_count": null,
   "metadata": {},
   "outputs": [],
   "source": []
  },
  {
   "cell_type": "code",
   "execution_count": null,
   "metadata": {},
   "outputs": [],
   "source": [
    "x = np.array([int(L) for L in T_crit.keys()])\n",
    "y = np.array([T_crit[L]['T_crit'] for L in T_crit.keys()])\n",
    "z = np.array([T_crit[L]['C_crit'] / (int(L) * int(L)) for L in T_crit.keys()])"
   ]
  },
  {
   "cell_type": "code",
   "execution_count": null,
   "metadata": {},
   "outputs": [],
   "source": []
  },
  {
   "cell_type": "code",
   "execution_count": null,
   "metadata": {},
   "outputs": [],
   "source": [
    "l = 3\n",
    "fit = np.polyfit(1 / x[l:], list(map(float, y[l:])), 1, full=False)\n",
    "\n",
    "plt.figure(figsize=(16, 9))\n",
    "\n",
    "plt.scatter(1 / x, y)\n",
    "\n",
    "sample = np.array([0, 0.2])\n",
    "plt.plot(sample, fit[0] * sample + fit[1], 'r')\n",
    "\n",
    "plt.title(\"D={}\".format(D))\n",
    "plt.ylabel('$T_{crit}$')\n",
    "plt.xlabel(\"1/L\")\n",
    "#plt.yscale(\"log\")\n",
    "plt.grid()\n",
    "plt.legend()\n",
    "plt.savefig(\"./finite_size_D{}.png\".format(D))\n",
    "\n",
    "p, V = np.polyfit(1 / x[l:], list(map(float, y[l:])), 1, cov=True)\n",
    "\n",
    "print(\"slope: \\t{} +/-\\n\\t{}\".format(p[0], np.sqrt(V[0][0])))\n",
    "print(\"shift: \\t{} +/-\\n\\t{}\".format(p[1], np.sqrt(V[1][1])))\n"
   ]
  },
  {
   "cell_type": "code",
   "execution_count": null,
   "metadata": {},
   "outputs": [],
   "source": [
    "#np.polyfit(x[1:], list(map(float, y[1:])), 1, full=True)"
   ]
  },
  {
   "cell_type": "code",
   "execution_count": null,
   "metadata": {},
   "outputs": [],
   "source": []
  },
  {
   "cell_type": "code",
   "execution_count": null,
   "metadata": {},
   "outputs": [],
   "source": [
    "plt.scatter(np.log(x), z)\n",
    "\n",
    "sample = np.array([0, 0.2])\n",
    "#plt.plot(sample, fit[0] * sample + fit[1], 'r')\n",
    "\n",
    "plt.title(\"D={}\".format(cool[\"D\"]))\n",
    "plt.ylabel('$С_{crit} / N$')\n",
    "plt.xlabel(\"ln L\")\n",
    "#plt.yscale(\"log\")\n",
    "plt.legend()\n",
    "plt.grid()"
   ]
  },
  {
   "cell_type": "code",
   "execution_count": null,
   "metadata": {},
   "outputs": [],
   "source": []
  },
  {
   "cell_type": "code",
   "execution_count": 8,
   "metadata": {},
   "outputs": [],
   "source": [
    "hc = {}\n",
    "E = {}\n",
    "BC = {}"
   ]
  },
  {
   "cell_type": "code",
   "execution_count": 9,
   "metadata": {},
   "outputs": [],
   "source": [
    "for i, x in enumerate(parameters):\n",
    "    heat, cool, st = parameters[i][\"heat\"], parameters[i][\"cool\"], parameters[i][\"stitched\"]\n",
    "    L = st['L']\n",
    "    N = L * L\n",
    "\n",
    "    hc[L] = {}\n",
    "    E[L] = {}\n",
    "    BC[L] = {}\n"
   ]
  },
  {
   "cell_type": "code",
   "execution_count": null,
   "metadata": {},
   "outputs": [],
   "source": []
  },
  {
   "cell_type": "code",
   "execution_count": 18,
   "metadata": {},
   "outputs": [
    {
     "data": {
      "application/vnd.jupyter.widget-view+json": {
       "model_id": "df9825d48d894581b42145f56ade7fa0",
       "version_major": 2,
       "version_minor": 0
      },
      "text/plain": [
       "HBox(children=(IntProgress(value=0, max=18), HTML(value='')))"
      ]
     },
     "metadata": {},
     "output_type": "display_data"
    },
    {
     "name": "stdout",
     "output_type": "stream",
     "text": [
      "\n"
     ]
    }
   ],
   "source": [
    "frames_list = list(zip(itertools.repeat(st), [x for x in np.linspace(0.3, 0.6, 20) if x not in hc[L]]))\n",
    "\n",
    "with Pool(3) as p:\n",
    "    pool_outputs = list(\n",
    "            p.map(calc_hc_tpl, tqdm(frames_list, total=len(frames_list)))\n",
    "    )\n",
    "\n",
    "# T, C, average E, BinderCumulant\n",
    "for tpl in pool_outputs:\n",
    "    T, x, y, z = tpl\n",
    "    hc[L][T], E[L][T], BC[L][T] = x, y, z"
   ]
  },
  {
   "cell_type": "code",
   "execution_count": 19,
   "metadata": {},
   "outputs": [
    {
     "data": {
      "image/png": "[encoded data removed]",
      "text/plain": [
       "<Figure size 1152x648 with 1 Axes>"
      ]
     },
     "metadata": {
      "needs_background": "light"
     },
     "output_type": "display_data"
    }
   ],
   "source": [
    "plt.figure(figsize=(16, 9))\n",
    "\n",
    "\n",
    "plt.plot([float(T) for T in hc[st[\"L\"]]], [c for T, c in hc[st[\"L\"]].items()], 'o', markerSize = 4)\n",
    "plt.grid()\n",
    "plt.title(\"$D={}$\".format(st[\"D\"]), fontsize=16)\n",
    "plt.ylabel('$BC$', fontsize=16)\n",
    "plt.xlabel('$T$', fontsize=16)\n",
    "plt.show()"
   ]
  },
  {
   "cell_type": "code",
   "execution_count": null,
   "metadata": {},
   "outputs": [],
   "source": []
  },
  {
   "cell_type": "code",
   "execution_count": null,
   "metadata": {},
   "outputs": [],
   "source": []
  },
  {
   "cell_type": "code",
   "execution_count": null,
   "metadata": {},
   "outputs": [],
   "source": []
  },
  {
   "cell_type": "code",
   "execution_count": null,
   "metadata": {},
   "outputs": [],
   "source": []
  },
  {
   "cell_type": "code",
   "execution_count": null,
   "metadata": {},
   "outputs": [],
   "source": []
  },
  {
   "cell_type": "code",
   "execution_count": null,
   "metadata": {},
   "outputs": [],
   "source": []
  },
  {
   "cell_type": "code",
   "execution_count": null,
   "metadata": {},
   "outputs": [],
   "source": []
  },
  {
   "cell_type": "code",
   "execution_count": null,
   "metadata": {},
   "outputs": [],
   "source": []
  },
  {
   "cell_type": "code",
   "execution_count": null,
   "metadata": {},
   "outputs": [],
   "source": []
  },
  {
   "cell_type": "code",
   "execution_count": null,
   "metadata": {},
   "outputs": [],
   "source": []
  },
  {
   "cell_type": "code",
   "execution_count": null,
   "metadata": {},
   "outputs": [],
   "source": []
  },
  {
   "cell_type": "code",
   "execution_count": null,
   "metadata": {},
   "outputs": [],
   "source": []
  },
  {
   "cell_type": "code",
   "execution_count": null,
   "metadata": {},
   "outputs": [],
   "source": []
  },
  {
   "cell_type": "code",
   "execution_count": null,
   "metadata": {},
   "outputs": [],
   "source": []
  },
  {
   "cell_type": "code",
   "execution_count": null,
   "metadata": {},
   "outputs": [],
   "source": []
  },
  {
   "cell_type": "code",
   "execution_count": null,
   "metadata": {},
   "outputs": [],
   "source": []
  },
  {
   "cell_type": "code",
   "execution_count": null,
   "metadata": {},
   "outputs": [],
   "source": []
  },
  {
   "cell_type": "code",
   "execution_count": null,
   "metadata": {},
   "outputs": [],
   "source": []
  },
  {
   "cell_type": "code",
   "execution_count": null,
   "metadata": {},
   "outputs": [],
   "source": []
  },
  {
   "cell_type": "code",
   "execution_count": null,
   "metadata": {},
   "outputs": [],
   "source": []
  }
 ],
 "metadata": {
  "kernelspec": {
   "display_name": "Python 3",
   "language": "python",
   "name": "python3"
  },
  "language_info": {
   "codemirror_mode": {
    "name": "ipython",
    "version": 3
   },
   "file_extension": ".py",
   "mimetype": "text/x-python",
   "name": "python",
   "nbconvert_exporter": "python",
   "pygments_lexer": "ipython3",
   "version": "3.7.4"
  }
 },
 "nbformat": 4,
 "nbformat_minor": 4
}
