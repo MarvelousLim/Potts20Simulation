{
 "cells": [
  {
   "cell_type": "code",
   "execution_count": 1,
   "metadata": {},
   "outputs": [],
   "source": [
    "import numpy as np, matplotlib.pyplot as plt\n",
    "from collections import OrderedDict as od\n",
    "from scipy.special import comb as C\n",
    "import json\n",
    "acc_score = od()"
   ]
  },
  {
   "cell_type": "code",
   "execution_count": 2,
   "metadata": {},
   "outputs": [],
   "source": [
    "def get_entropy_from_culling_factor(c):\n",
    "    S = od()\n",
    "    for E in range(-len(c), 1):\n",
    "        if E in c:\n",
    "            S[E] = np.log(c[E])\n",
    "        for E1 in c:\n",
    "            if (E1 > E):\n",
    "                S[E] += np.log(1 - c[E1])\n",
    "    return S\n",
    "\n",
    "def get_entropy_from_culling_factor_with_heat(c):\n",
    "    S = od()\n",
    "    for E in range(-len(c) + 1, 1):\n",
    "        if E in c:\n",
    "            S[E + 2] = np.log(c[E])\n",
    "        for E1 in c:\n",
    "            if (E1 < E):\n",
    "                S[E + 2] += np.log(1 - c[E1])\n",
    "    return S\n",
    "\n",
    "def get_entropy_from_culling_factor_v2(c):\n",
    "    S = od()\n",
    "    for E in c:\n",
    "        S[E] = np.log(c[E])\n",
    "        for E1 in c:\n",
    "            if (E1 > E):\n",
    "                S[E] += np.log(1 - c[E1])\n",
    "    return S\n",
    "\n",
    "def get_entropy_from_culling_factor_with_heat_v2(c):\n",
    "    S = od()\n",
    "    for E in c:\n",
    "        if E in c:\n",
    "            S[E] = np.log(c[E])\n",
    "        for E1 in c:\n",
    "            if (E1 < E):\n",
    "                S[E] += np.log(1 - c[E1])\n",
    "    return S"
   ]
  },
  {
   "cell_type": "code",
   "execution_count": 3,
   "metadata": {},
   "outputs": [],
   "source": [
    "def read_files(parameters):\n",
    "    q=parameters[\"q\"];\n",
    "    L=parameters[\"L\"];\n",
    "    R=parameters[\"R\"];\n",
    "    nSteps=parameters[\"nSteps\"];\n",
    "    seed=parameters[\"seed\"];\n",
    "    heat=parameters[\"heat\"];\n",
    "    N = L * L;\n",
    "    name = \"./datasets/2DPotts{}_q{}_N{}_R{}_nSteps{}_run{}X.txt\".format(\"Heating\" * heat, q, N, R, nSteps, seed)\n",
    "    print(name)\n",
    "    culling_factor = od()\n",
    "    print(N, R, nSteps, heat)\n",
    "    with open(name) as f:\n",
    "        for line in f:\n",
    "            E, c = map(float, line.split())\n",
    "            culling_factor[E] = c\n",
    "\n",
    "    parameters[\"culling_factor\"] = culling_factor\n",
    "    if not heat:\n",
    "        parameters[\"S\"] = get_entropy_from_culling_factor(culling_factor)\n",
    "    else:\n",
    "        parameters[\"S\"] = get_entropy_from_culling_factor_with_heat(culling_factor)\n",
    "    \n",
    "    return parameters\n",
    "\n",
    "def read_files_v2(parameters):\n",
    "    q=parameters[\"q\"];\n",
    "    L=parameters[\"L\"];\n",
    "    R=parameters[\"R\"];\n",
    "    D=parameters[\"D\"];\n",
    "    nSteps=parameters[\"nSteps\"];\n",
    "    seed=parameters[\"seed\"];\n",
    "    heat=parameters[\"heat\"];\n",
    "    N = L * L;\n",
    "    name = \"./datasets/2DBlume{}_q{}_D{}_N{}_R{}_nSteps{}_run{}X.txt\".format(\"Heating\" * heat, q, \"{0:07.6f}\".format(D), N, R, nSteps, seed)\n",
    "    print(name)\n",
    "    culling_factor = od()\n",
    "    print(N, R, nSteps, heat)\n",
    "    with open(name) as f:\n",
    "        for line in f:\n",
    "            E, c = map(float, line.split())\n",
    "            culling_factor[E] = c\n",
    "    parameters[\"culling_factor\"] = culling_factor\n",
    "    if not heat:\n",
    "        parameters[\"S\"] = get_entropy_from_culling_factor_v2(culling_factor)\n",
    "    else:\n",
    "        parameters[\"S\"] = get_entropy_from_culling_factor_with_heat_v2(culling_factor)\n",
    "    \n",
    "    return parameters"
   ]
  },
  {
   "cell_type": "code",
   "execution_count": 4,
   "metadata": {
    "scrolled": true
   },
   "outputs": [
    {
     "name": "stdout",
     "output_type": "stream",
     "text": [
      "./datasets/2DPotts_q3_N1024_R131072_nSteps10_run0X.txt\n",
      "1024 131072 10 False\n"
     ]
    },
    {
     "name": "stderr",
     "output_type": "stream",
     "text": [
      "C:\\ProgramData\\Anaconda3\\lib\\site-packages\\ipykernel_launcher.py:5: RuntimeWarning: divide by zero encountered in log\n",
      "  \"\"\"\n",
      "C:\\ProgramData\\Anaconda3\\lib\\site-packages\\ipykernel_launcher.py:8: RuntimeWarning: divide by zero encountered in log\n",
      "  \n"
     ]
    },
    {
     "name": "stdout",
     "output_type": "stream",
     "text": [
      "./datasets/2DPottsHeating_q3_N1024_R131072_nSteps10_run0X.txt\n",
      "1024 131072 10 True\n"
     ]
    },
    {
     "name": "stderr",
     "output_type": "stream",
     "text": [
      "C:\\ProgramData\\Anaconda3\\lib\\site-packages\\ipykernel_launcher.py:15: RuntimeWarning: divide by zero encountered in log\n",
      "  from ipykernel import kernelapp as app\n"
     ]
    },
    {
     "name": "stdout",
     "output_type": "stream",
     "text": [
      "./datasets/2DBlume_q3_D0.000000_N1024_R131072_nSteps10_run1X.txt\n",
      "1024 131072 10 False\n",
      "./datasets/2DBlumeHeating_q3_D0.000000_N1024_R131072_nSteps10_run1X.txt\n",
      "1024 131072 10 True\n"
     ]
    },
    {
     "name": "stderr",
     "output_type": "stream",
     "text": [
      "C:\\ProgramData\\Anaconda3\\lib\\site-packages\\ipykernel_launcher.py:18: RuntimeWarning: divide by zero encountered in log\n"
     ]
    }
   ],
   "source": [
    "cool, heat = {\n",
    "    \"q\": 3,\n",
    "    \"L\": 32,\n",
    "    \"R\" : 131072,\n",
    "    \"nSteps\" : 10,\n",
    "    \"seed\" : 0,\n",
    "    \"heat\": False\n",
    "}, {\n",
    "    \"q\": 3,\n",
    "    \"L\": 32,\n",
    "    \"R\" : 131072,\n",
    "    \"nSteps\" : 10,\n",
    "    \"seed\" : 0,\n",
    "    \"heat\": True\n",
    "}\n",
    "\n",
    "for parameters in [cool, heat]:\n",
    "    parameters = read_files(parameters)\n",
    "\n",
    "cool_v2, heat_v2 = {\n",
    "    \"q\": 3,\n",
    "    \"D\": 0.0,\n",
    "    \"L\": 32,\n",
    "    \"R\" : 131072,\n",
    "    \"nSteps\" : 10,\n",
    "    \"seed\" : 1,\n",
    "    \"heat\": False\n",
    "}, {\n",
    "    \"q\": 3,\n",
    "    \"D\": 0.0,\n",
    "    \"L\": 32,\n",
    "    \"R\" : 131072,\n",
    "    \"nSteps\" : 10,\n",
    "    \"seed\" : 1,\n",
    "    \"heat\": True\n",
    "}\n",
    "\n",
    "for parameters in [cool_v2, heat_v2]:\n",
    "    parameters = read_files_v2(parameters)"
   ]
  },
  {
   "cell_type": "code",
   "execution_count": null,
   "metadata": {},
   "outputs": [],
   "source": []
  },
  {
   "cell_type": "code",
   "execution_count": null,
   "metadata": {},
   "outputs": [],
   "source": []
  },
  {
   "cell_type": "code",
   "execution_count": null,
   "metadata": {},
   "outputs": [],
   "source": []
  },
  {
   "cell_type": "code",
   "execution_count": 5,
   "metadata": {},
   "outputs": [
    {
     "data": {
      "image/png": "[encoded data removed]",
      "text/plain": [
       "<Figure size 1152x648 with 1 Axes>"
      ]
     },
     "metadata": {
      "needs_background": "light"
     },
     "output_type": "display_data"
    }
   ],
   "source": [
    "plt.figure(figsize=(16, 9))\n",
    "\n",
    "#for L in lst:\n",
    "    \n",
    "plt.plot([E for E in cool[\"culling_factor\"]], [S for E, S in cool[\"culling_factor\"].items()]\n",
    "         , 'o', label=\"L={}; cool\".format(cool[\"L\"]))\n",
    "plt.plot([E for E in cool_v2[\"culling_factor\"]], [S + 0.005 for E, S in cool_v2[\"culling_factor\"].items()]\n",
    "         , 'o', label=\"L={}; cool_v2\".format(cool_v2[\"L\"]))\n",
    "\n",
    "plt.ylabel(\"$culling_factor(E)$\")\n",
    "plt.xlabel(\"E\")\n",
    "#plt.ylim([-200, -175])\n",
    "#plt.xlim([-216, -175])\n",
    "plt.legend()\n",
    "plt.grid()"
   ]
  },
  {
   "cell_type": "code",
   "execution_count": 6,
   "metadata": {},
   "outputs": [
    {
     "data": {
      "image/png": "[encoded data removed]",
      "text/plain": [
       "<Figure size 1152x648 with 1 Axes>"
      ]
     },
     "metadata": {
      "needs_background": "light"
     },
     "output_type": "display_data"
    }
   ],
   "source": [
    "plt.figure(figsize=(16, 9))\n",
    "\n",
    "#for L in lst:\n",
    "    \n",
    "plt.plot([E for E in heat[\"culling_factor\"]], [S for E, S in heat[\"culling_factor\"].items()]\n",
    "         , '--', label=\"L={}; heat\".format(heat[\"L\"]))\n",
    "plt.plot([E for E in heat_v2[\"culling_factor\"]], [S + 0.005 for E, S in heat_v2[\"culling_factor\"].items()]\n",
    "         , '--', label=\"L={}; heat_v2\".format(heat_v2[\"L\"]))\n",
    "\n",
    "plt.ylabel(\"$culling_factor(E)$\")\n",
    "plt.xlabel(\"E\")\n",
    "#plt.ylim([-200, -175])\n",
    "#plt.xlim([-216, -175])\n",
    "plt.legend()\n",
    "plt.grid()"
   ]
  },
  {
   "cell_type": "code",
   "execution_count": null,
   "metadata": {},
   "outputs": [],
   "source": []
  },
  {
   "cell_type": "code",
   "execution_count": null,
   "metadata": {},
   "outputs": [],
   "source": []
  },
  {
   "cell_type": "code",
   "execution_count": null,
   "metadata": {},
   "outputs": [],
   "source": []
  },
  {
   "cell_type": "code",
   "execution_count": null,
   "metadata": {},
   "outputs": [],
   "source": []
  },
  {
   "cell_type": "code",
   "execution_count": 9,
   "metadata": {},
   "outputs": [],
   "source": [
    "def stitch_S(heat, cool):\n",
    "    #not infinite values\n",
    "    niv = sorted( list({E for E, S in heat[\"S\"].items() if not np.isinf(S)} & {E for E, S in cool[\"S\"].items() if not np.isinf(S)}) )\n",
    "    #chosen not infinite values\n",
    "    cniv = niv[len(niv) // 3 : 2 * len(niv) // 3]\n",
    "    shift = 0\n",
    "    count = 0\n",
    "    for E in cniv:\n",
    "        shift += heat[\"S\"][E] - cool[\"S\"][E]\n",
    "        count += 1\n",
    "    shift /= count\n",
    "\n",
    "    result = od()\n",
    "    for E in range(- 2 * heat[\"L\"] ** 2, 1):\n",
    "        if E < max(cniv):\n",
    "            result[E] = cool[\"S\"][E]\n",
    "        elif E >= max(cniv):\n",
    "            result[E] = heat[\"S\"][E] - shift    \n",
    "    return {\"S\": result, \"L\": heat[\"L\"]}"
   ]
  },
  {
   "cell_type": "code",
   "execution_count": 10,
   "metadata": {},
   "outputs": [
    {
     "data": {
      "image/png": "[encoded data removed]",
      "text/plain": [
       "<Figure size 1152x648 with 1 Axes>"
      ]
     },
     "metadata": {
      "needs_background": "light"
     },
     "output_type": "display_data"
    }
   ],
   "source": [
    "plt.figure(figsize=(16, 9))\n",
    "\n",
    "st = stitch_S(heat, cool);\n",
    "\n",
    "plt.plot([E for E in st[\"S\"]],\n",
    "         [S for E, S in st[\"S\"].items()]\n",
    "         , 'o', label=\"stitched, L={}\".format(st[\"L\"]))\n",
    "plt.plot([E for E in cool_v2[\"S\"]],\n",
    "        [S + 5 for E, S in cool_v2[\"S\"].items()],\n",
    "        'o', label=\"L={}, new cool (+ 5 for visibility)\".format(cool_v2[\"L\"]))\n",
    "\n",
    "plt.plot([E for E in heat_v2[\"S\"]],\n",
    "    [S + 10 for E, S in heat_v2[\"S\"].items()],\n",
    "    'o', label=\"L={}, new heat (+ 10 for visibility)\".format(heat_v2[\"L\"]))\n",
    "\n",
    "#plt.ylabel(\"$g = e^{S(E)}$\")\n",
    "plt.ylabel(\"$S(E)$\")\n",
    "plt.xlabel(\"E\")\n",
    "#left\n",
    "#plt.ylim([-1150, -1050])\n",
    "#plt.xlim([-2060, -2000])\n",
    "#middle\n",
    "#plt.ylim([-100, 10])\n",
    "#plt.xlim([-900, -500])\n",
    "#right\n",
    "#plt.ylim([-800, -200])\n",
    "#plt.xlim([-100, 10])\n",
    "\n",
    "plt.legend()\n",
    "plt.grid()"
   ]
  },
  {
   "cell_type": "code",
   "execution_count": 9,
   "metadata": {},
   "outputs": [],
   "source": []
  },
  {
   "cell_type": "code",
   "execution_count": null,
   "metadata": {},
   "outputs": [],
   "source": []
  },
  {
   "cell_type": "code",
   "execution_count": null,
   "metadata": {},
   "outputs": [],
   "source": []
  },
  {
   "cell_type": "code",
   "execution_count": null,
   "metadata": {},
   "outputs": [],
   "source": []
  },
  {
   "cell_type": "code",
   "execution_count": null,
   "metadata": {},
   "outputs": [],
   "source": []
  },
  {
   "cell_type": "code",
   "execution_count": null,
   "metadata": {},
   "outputs": [],
   "source": []
  },
  {
   "cell_type": "code",
   "execution_count": null,
   "metadata": {},
   "outputs": [],
   "source": []
  },
  {
   "cell_type": "code",
   "execution_count": null,
   "metadata": {},
   "outputs": [],
   "source": []
  },
  {
   "cell_type": "code",
   "execution_count": null,
   "metadata": {},
   "outputs": [],
   "source": []
  },
  {
   "cell_type": "code",
   "execution_count": null,
   "metadata": {},
   "outputs": [],
   "source": []
  },
  {
   "cell_type": "code",
   "execution_count": null,
   "metadata": {},
   "outputs": [],
   "source": []
  },
  {
   "cell_type": "code",
   "execution_count": null,
   "metadata": {},
   "outputs": [],
   "source": []
  },
  {
   "cell_type": "code",
   "execution_count": null,
   "metadata": {},
   "outputs": [],
   "source": []
  },
  {
   "cell_type": "code",
   "execution_count": null,
   "metadata": {},
   "outputs": [],
   "source": []
  },
  {
   "cell_type": "code",
   "execution_count": null,
   "metadata": {},
   "outputs": [],
   "source": []
  },
  {
   "cell_type": "code",
   "execution_count": null,
   "metadata": {},
   "outputs": [],
   "source": []
  },
  {
   "cell_type": "code",
   "execution_count": null,
   "metadata": {},
   "outputs": [],
   "source": []
  },
  {
   "cell_type": "code",
   "execution_count": null,
   "metadata": {},
   "outputs": [],
   "source": []
  },
  {
   "cell_type": "code",
   "execution_count": null,
   "metadata": {},
   "outputs": [],
   "source": []
  },
  {
   "cell_type": "code",
   "execution_count": null,
   "metadata": {},
   "outputs": [],
   "source": []
  },
  {
   "cell_type": "code",
   "execution_count": null,
   "metadata": {},
   "outputs": [],
   "source": []
  },
  {
   "cell_type": "code",
   "execution_count": null,
   "metadata": {},
   "outputs": [],
   "source": []
  },
  {
   "cell_type": "code",
   "execution_count": null,
   "metadata": {},
   "outputs": [],
   "source": []
  },
  {
   "cell_type": "code",
   "execution_count": null,
   "metadata": {},
   "outputs": [],
   "source": []
  },
  {
   "cell_type": "code",
   "execution_count": null,
   "metadata": {},
   "outputs": [],
   "source": []
  },
  {
   "cell_type": "code",
   "execution_count": null,
   "metadata": {},
   "outputs": [],
   "source": []
  },
  {
   "cell_type": "code",
   "execution_count": null,
   "metadata": {},
   "outputs": [],
   "source": []
  },
  {
   "cell_type": "code",
   "execution_count": null,
   "metadata": {},
   "outputs": [],
   "source": []
  },
  {
   "cell_type": "code",
   "execution_count": null,
   "metadata": {},
   "outputs": [],
   "source": []
  },
  {
   "cell_type": "code",
   "execution_count": null,
   "metadata": {},
   "outputs": [],
   "source": []
  },
  {
   "cell_type": "code",
   "execution_count": null,
   "metadata": {},
   "outputs": [],
   "source": []
  }
 ],
 "metadata": {
  "kernelspec": {
   "display_name": "Python 3",
   "language": "python",
   "name": "python3"
  },
  "language_info": {
   "codemirror_mode": {
    "name": "ipython",
    "version": 3
   },
   "file_extension": ".py",
   "mimetype": "text/x-python",
   "name": "python",
   "nbconvert_exporter": "python",
   "pygments_lexer": "ipython3",
   "version": "3.7.4"
  }
 },
 "nbformat": 4,
 "nbformat_minor": 4
}
