{
 "cells": [
  {
   "cell_type": "code",
   "execution_count": 1,
   "metadata": {},
   "outputs": [
    {
     "name": "stdout",
     "output_type": "stream",
     "text": [
      "Mpmath settings:\n",
      "  mp.prec = 169               [default: 53]\n",
      "  mp.dps = 50                 [default: 15]\n",
      "  mp.trap_complex = False     [default: False]\n"
     ]
    }
   ],
   "source": [
    "import numpy as np, matplotlib.pyplot as plt\n",
    "from collections import OrderedDict as od\n",
    "from scipy.special import comb as C\n",
    "from scipy.stats import linregress\n",
    "from statistics import median\n",
    "from scipy.optimize import fminbound\n",
    "import json\n",
    "import itertools\n",
    "from tqdm.notebook import tqdm\n",
    "#from os import walk\n",
    "#import re\n",
    "\n",
    "import mpmath as mp\n",
    "mp.mp.dps = 50\n",
    "mp.mp.pretty = True\n",
    "print(mp.mp)"
   ]
  },
  {
   "cell_type": "code",
   "execution_count": 2,
   "metadata": {},
   "outputs": [
    {
     "ename": "NameError",
     "evalue": "name 'walk' is not defined",
     "output_type": "error",
     "traceback": [
      "\u001b[1;31m---------------------------------------------------------------------------\u001b[0m",
      "\u001b[1;31mNameError\u001b[0m                                 Traceback (most recent call last)",
      "\u001b[1;32m<ipython-input-2-70ad16459a71>\u001b[0m in \u001b[0;36m<module>\u001b[1;34m\u001b[0m\n\u001b[0;32m      1\u001b[0m \u001b[0mf\u001b[0m \u001b[1;33m=\u001b[0m \u001b[1;33m[\u001b[0m\u001b[1;33m]\u001b[0m\u001b[1;33m\u001b[0m\u001b[1;33m\u001b[0m\u001b[0m\n\u001b[0;32m      2\u001b[0m \u001b[0mmypath\u001b[0m \u001b[1;33m=\u001b[0m \u001b[1;34m'datasets/'\u001b[0m\u001b[1;33m\u001b[0m\u001b[1;33m\u001b[0m\u001b[0m\n\u001b[1;32m----> 3\u001b[1;33m \u001b[1;32mfor\u001b[0m \u001b[1;33m(\u001b[0m\u001b[0mdirpath\u001b[0m\u001b[1;33m,\u001b[0m \u001b[0mdirnames\u001b[0m\u001b[1;33m,\u001b[0m \u001b[0mfilenames\u001b[0m\u001b[1;33m)\u001b[0m \u001b[1;32min\u001b[0m \u001b[0mwalk\u001b[0m\u001b[1;33m(\u001b[0m\u001b[0mmypath\u001b[0m\u001b[1;33m)\u001b[0m\u001b[1;33m:\u001b[0m\u001b[1;33m\u001b[0m\u001b[1;33m\u001b[0m\u001b[0m\n\u001b[0m\u001b[0;32m      4\u001b[0m     \u001b[0mf\u001b[0m\u001b[1;33m.\u001b[0m\u001b[0mextend\u001b[0m\u001b[1;33m(\u001b[0m\u001b[0mfilenames\u001b[0m\u001b[1;33m)\u001b[0m\u001b[1;33m\u001b[0m\u001b[1;33m\u001b[0m\u001b[0m\n\u001b[0;32m      5\u001b[0m     \u001b[1;32mbreak\u001b[0m\u001b[1;33m\u001b[0m\u001b[1;33m\u001b[0m\u001b[0m\n",
      "\u001b[1;31mNameError\u001b[0m: name 'walk' is not defined"
     ]
    }
   ],
   "source": [
    "f = []\n",
    "mypath = 'datasets/'\n",
    "for (dirpath, dirnames, filenames) in walk(mypath):\n",
    "    f.extend(filenames)\n",
    "    break\n",
    "f"
   ]
  },
  {
   "cell_type": "code",
   "execution_count": null,
   "metadata": {},
   "outputs": [],
   "source": []
  },
  {
   "cell_type": "code",
   "execution_count": null,
   "metadata": {},
   "outputs": [],
   "source": []
  },
  {
   "cell_type": "code",
   "execution_count": 9,
   "metadata": {},
   "outputs": [],
   "source": [
    "def get_entropy_from_culling_factor_v2(c):\n",
    "    S = od()\n",
    "    sn = 0\n",
    "    for E in c:\n",
    "        S[E] = np.log(c[E])\n",
    "        S[E] += sn\n",
    "        sn += np.log(1 - c[E])\n",
    "    return S\n",
    "\n",
    "def get_entropy_from_culling_factor_with_heat_v2(c):\n",
    "    S = od()\n",
    "    sn = 0\n",
    "    for E in c:\n",
    "        S[E] = np.log(c[E])\n",
    "        S[E] += sn\n",
    "        sn += np.log(1 - c[E])\n",
    "    return S"
   ]
  },
  {
   "cell_type": "code",
   "execution_count": 10,
   "metadata": {},
   "outputs": [],
   "source": [
    "def read_files_v2(parameters):\n",
    "    q=parameters[\"q\"];\n",
    "    L=parameters[\"L\"];\n",
    "    R=parameters[\"R\"];\n",
    "    D=parameters[\"D\"];\n",
    "    nSteps=parameters[\"nSteps\"];\n",
    "    seed=parameters[\"seed\"];\n",
    "    heat=parameters[\"heat\"];\n",
    "    N = L * L;\n",
    "    name = \"./datasets/2DBlume{}_q{}_D{}_N{}_R{}_nSteps{}_run{}X.txt\".format(\"Heating\" * heat, q, \"{0:07.6f}\".format(D), N, R, nSteps, seed)\n",
    "    #print(name)\n",
    "    culling_factor = od()\n",
    "    #print(N, R, nSteps, heat)\n",
    "    with open(name) as f:\n",
    "        for line in f:\n",
    "            E, c = map(float, line.split())\n",
    "            culling_factor[E] = c\n",
    "    parameters[\"culling_factor\"] = culling_factor\n",
    "    if not heat:\n",
    "        parameters[\"S\"] = get_entropy_from_culling_factor_v2(culling_factor)\n",
    "    else:\n",
    "        parameters[\"S\"] = get_entropy_from_culling_factor_with_heat_v2(culling_factor)\n",
    "    \n",
    "    return parameters\n",
    "\n",
    "def read_tuple_files(tpl):\n",
    "    if tpl[1][\"heat\"]:\n",
    "        return {\n",
    "            \"cool\": read_files_v2(tpl[0]),\n",
    "            \"heat\": read_files_v2(tpl[1])\n",
    "        }\n",
    "\n",
    "def stitch_S(heat, cool):\n",
    "    #not infinite values\n",
    "    niv = sorted( list({E for E, S in heat[\"S\"].items() if not np.isinf(S)} &\n",
    "                       {E for E, S in cool[\"S\"].items() if not np.isinf(S)}) )\n",
    "    #chosen not infinite values\n",
    "    cniv = niv[len(niv) // 3 : 2 * len(niv) // 3]\n",
    "    #print(cniv)\n",
    "    shift = 0\n",
    "    count = 0\n",
    "    for E in cniv:\n",
    "        shift += heat[\"S\"][E] - cool[\"S\"][E]\n",
    "        count += 1\n",
    "    shift /= count\n",
    "\n",
    "    result = od()\n",
    "    for E in cool[\"S\"]:\n",
    "        if E < median(cniv):\n",
    "            result[E] = cool[\"S\"][E]\n",
    "    for E in heat[\"S\"]:\n",
    "        if E >= median(cniv):\n",
    "            result[E] = heat[\"S\"][E] - shift\n",
    "    return {\"S\": result, \"L\": heat[\"L\"], \"D\": heat[\"D\"]}\n",
    "\n",
    "def calc_hc(st, T):\n",
    "\n",
    "    fe = mp.mpf(1.0) * np.array([e for e, S in st['S'].items()])\n",
    "    fS = mp.mpf(1.0) * np.array([S for e, S in st['S'].items()])\n",
    "\n",
    "    exp = np.frompyfunc(mp.exp, 1, 1)\n",
    "    w = exp(fS - fe / T)\n",
    "\n",
    "    Z = w.sum()\n",
    "    E = (w * fe).sum()\n",
    "    E_sq = (w * fe * fe).sum()\n",
    "    E_qr = (w * fe * fe * fe * fe).sum()\n",
    "    avgE = E / Z;\n",
    "    avgE_sq = E_sq / Z;\n",
    "    avgE_qr = E_qr / Z;\n",
    "    # T, C, average E, BinderCumulant\n",
    "    return T, float( (avgE_sq - avgE * avgE) / (T * T) ), float( avgE ), float(1 - (avgE_qr / (3 * avgE_sq * avgE_sq)))\n"
   ]
  },
  {
   "cell_type": "code",
   "execution_count": null,
   "metadata": {},
   "outputs": [],
   "source": []
  },
  {
   "cell_type": "code",
   "execution_count": 122,
   "metadata": {
    "scrolled": true
   },
   "outputs": [],
   "source": [
    "T_crit = {}"
   ]
  },
  {
   "cell_type": "code",
   "execution_count": 171,
   "metadata": {},
   "outputs": [
    {
     "name": "stdout",
     "output_type": "stream",
     "text": [
      "D=1.99\n"
     ]
    },
    {
     "name": "stderr",
     "output_type": "stream",
     "text": [
      "C:\\ProgramData\\Anaconda3\\lib\\site-packages\\ipykernel_launcher.py:7: RuntimeWarning: divide by zero encountered in log\n",
      "  import sys\n",
      "C:\\ProgramData\\Anaconda3\\lib\\site-packages\\ipykernel_launcher.py:16: RuntimeWarning: divide by zero encountered in log\n",
      "  app.launch_new_instance()\n"
     ]
    },
    {
     "name": "stdout",
     "output_type": "stream",
     "text": [
      "L in 96\n"
     ]
    }
   ],
   "source": [
    "D = 1.99\n",
    "L = 96\n",
    "i = 0\n",
    "\n",
    "R = [32768, 131072][i]\n",
    "cool, heat = [{\n",
    "    \"q\": 3,\n",
    "    \"D\": D,\n",
    "    \"L\": L,\n",
    "    \"R\" : R,\n",
    "    \"nSteps\" : 10,\n",
    "    \"seed\" : 0,\n",
    "    \"heat\": False\n",
    "}], [{\n",
    "    \"q\": 3,\n",
    "    \"D\": D,\n",
    "    \"L\": L,\n",
    "    \"R\" : R,\n",
    "    \"nSteps\" : 10,\n",
    "    \"seed\" : 0,\n",
    "    \"heat\": True\n",
    "}]\n",
    "print('D={}'.format(D))\n",
    "\n",
    "parameters = []\n",
    "for x in zip(cool, heat):\n",
    "    #try:\n",
    "    parameters.append(read_tuple_files(x))\n",
    "    #except:\n",
    "    #    pass\n",
    "for i, x in enumerate(parameters):\n",
    "    parameters[i][\"stitched\"] = stitch_S(x[\"heat\"], x[\"cool\"])\n",
    "print('L in {}'.format(\", \".join([str(x[\"stitched\"][\"L\"]) for x in parameters]) ))\n"
   ]
  },
  {
   "cell_type": "code",
   "execution_count": null,
   "metadata": {},
   "outputs": [],
   "source": []
  },
  {
   "cell_type": "code",
   "execution_count": 172,
   "metadata": {},
   "outputs": [
    {
     "data": {
      "image/png": "[encoded data removed]",
      "text/plain": [
       "<Figure size 1152x648 with 1 Axes>"
      ]
     },
     "metadata": {
      "needs_background": "light"
     },
     "output_type": "display_data"
    }
   ],
   "source": [
    "cool, heat, st = parameters[0]['cool'], parameters[0]['heat'], parameters[0]['stitched']\n",
    "\n",
    "plt.figure(figsize=(16, 9))\n",
    "\n",
    "plt.plot([x for x in cool['culling_factor']], [y for x, y in cool['culling_factor'].items()], 'o')\n",
    "plt.plot([x for x in heat['culling_factor']], [y for x, y in heat['culling_factor'].items()], 'o')\n",
    "plt.grid()\n",
    "\n",
    "plt.title(\"$D={}; L={}$\".format(st[\"D\"], st[\"L\"]), fontsize=16)\n",
    "plt.ylabel('$culling\\_factor(E)$', fontsize=16)\n",
    "plt.xlabel('$E$', fontsize=16)\n",
    "plt.show()\n",
    "#plt.savefig(\"./images/BC(T)_D{}_L{}.png\".format(st[\"D\"], st[\"L\"]))\n"
   ]
  },
  {
   "cell_type": "code",
   "execution_count": 173,
   "metadata": {},
   "outputs": [
    {
     "data": {
      "image/png": "[encoded data removed]",
      "text/plain": [
       "<Figure size 1152x648 with 1 Axes>"
      ]
     },
     "metadata": {
      "needs_background": "light"
     },
     "output_type": "display_data"
    }
   ],
   "source": [
    "plt.figure(figsize=(16, 9))\n",
    "\n",
    "\n",
    "plt.plot([x for x in st['S']], [y for x, y in st['S'].items()], 'o')\n",
    "plt.grid()\n",
    "plt.title(\"$D={}; L={}$\".format(st[\"D\"], st[\"L\"]), fontsize=16)\n",
    "plt.ylabel('$S(E)$', fontsize=16)\n",
    "plt.xlabel('$E$', fontsize=16)\n",
    "#savefig(\"./images/S(E)_D{}_L{}.png\".format(st[\"D\"], st[\"L\"]))\n",
    "plt.show()"
   ]
  },
  {
   "cell_type": "code",
   "execution_count": null,
   "metadata": {},
   "outputs": [],
   "source": []
  },
  {
   "cell_type": "code",
   "execution_count": null,
   "metadata": {},
   "outputs": [],
   "source": []
  },
  {
   "cell_type": "code",
   "execution_count": null,
   "metadata": {},
   "outputs": [],
   "source": []
  },
  {
   "cell_type": "code",
   "execution_count": null,
   "metadata": {},
   "outputs": [],
   "source": []
  },
  {
   "cell_type": "code",
   "execution_count": 174,
   "metadata": {},
   "outputs": [
    {
     "data": {
      "text/plain": [
       "1.99"
      ]
     },
     "execution_count": 174,
     "metadata": {},
     "output_type": "execute_result"
    }
   ],
   "source": [
    "D"
   ]
  },
  {
   "cell_type": "code",
   "execution_count": 175,
   "metadata": {},
   "outputs": [
    {
     "name": "stdout",
     "output_type": "stream",
     "text": [
      "{8: {'T_crit': 0.5655586045276617, 'C_crit': 1.311721381576917}, 12: {'T_crit': 0.5295490122150894, 'C_crit': 1.459501858273613}, 16: {'T_crit': 0.5028587144719773, 'C_crit': 1.6375079399434418}, 20: {'T_crit': 0.4969348913435719, 'C_crit': 2.0554781655022585}, 24: {'T_crit': 0.5613394000761336, 'C_crit': 1.1073548139559888}, 32: {'T_crit': 0.5525217152119772, 'C_crit': 1.112629879058696}, 48: {'T_crit': 0.5546367819887159, 'C_crit': 1.1010537689904778}, 64: {'T_crit': 0.5695906178150822, 'C_crit': 1.1005252616412973}, 96: {'T_crit': 0.5644824433222894, 'C_crit': 1.1198069534718667}}\n"
     ]
    }
   ],
   "source": [
    "\n",
    "\n",
    "a = 0.3\n",
    "b = 1.2\n",
    "\n",
    "for x in parameters:\n",
    "    st = x[\"stitched\"]\n",
    "    L = st[\"L\"]\n",
    "    t, c, _, _ = fminbound(lambda T: -calc_hc(st, T)[1], a, b, maxfun=500, full_output=1, disp=False)\n",
    "    T_crit[L] = {\n",
    "        \"T_crit\": float(t),\n",
    "        \"C_crit\": float(-c / (L * L))\n",
    "    }\n",
    "\n",
    "print(T_crit)\n",
    "\n"
   ]
  },
  {
   "cell_type": "code",
   "execution_count": 176,
   "metadata": {},
   "outputs": [],
   "source": [
    "with open('./tmp/T_crit_D{}00000.txt'.format(D), 'w') as f:\n",
    "    json.dump(T_crit, f)"
   ]
  },
  {
   "cell_type": "code",
   "execution_count": 177,
   "metadata": {},
   "outputs": [
    {
     "name": "stdout",
     "output_type": "stream",
     "text": [
      "L & 8 & 12 & 16 & 20 & 24 & 32 & 48 & 64 & 96 \\\\\n",
      "$T_{crit}$ & 0.5655 & 0.5295 & 0.5028 & 0.4969 & 0.5613 & 0.5525 & 0.5546 & 0.5695 & 0.5644 \\\\\n",
      "$C_{crit}$ & 1.3117 & 1.4595 & 1.6375 & 2.0554 & 1.1073 & 1.1126 & 1.1010 & 1.1005 & 1.1198 \\\\\n"
     ]
    }
   ],
   "source": [
    "print('L & ' + ' & '.join([str(L) for L in T_crit]) + ' \\\\\\\\')\n",
    "print('$T_{crit}$ & ' + ' & '.join([str(T_crit[L]['T_crit'])[:6] for L in T_crit]) + ' \\\\\\\\')\n",
    "print('$C_{crit}$ & ' + ' & '.join([str(T_crit[L]['C_crit'])[:6] for L in T_crit]) + ' \\\\\\\\')"
   ]
  },
  {
   "cell_type": "code",
   "execution_count": 170,
   "metadata": {},
   "outputs": [
    {
     "name": "stdout",
     "output_type": "stream",
     "text": [
      "L & 8 & 12 & 16 & 20 & 24 & 32 & 48 & 64 \\\\\n"
     ]
    }
   ],
   "source": [
    "print('L & ' + ' & '.join([str(L) for L in T_crit]) + ' \\\\\\\\')"
   ]
  },
  {
   "cell_type": "code",
   "execution_count": 120,
   "metadata": {},
   "outputs": [],
   "source": [
    "with open('./tmp/T_crit_D{}.txt'.format(D), 'r') as f:\n",
    "    T_crit = json.load(f)"
   ]
  },
  {
   "cell_type": "code",
   "execution_count": 123,
   "metadata": {},
   "outputs": [
    {
     "data": {
      "text/plain": [
       "{}"
      ]
     },
     "execution_count": 123,
     "metadata": {},
     "output_type": "execute_result"
    }
   ],
   "source": [
    "T_crit"
   ]
  },
  {
   "cell_type": "code",
   "execution_count": 147,
   "metadata": {},
   "outputs": [
    {
     "data": {
      "application/vnd.jupyter.widget-view+json": {
       "model_id": "fd3eefc727fc431aa61c88f9a004813d",
       "version_major": 2,
       "version_minor": 0
      },
      "text/plain": [
       "HBox(children=(IntProgress(value=0), HTML(value='')))"
      ]
     },
     "metadata": {},
     "output_type": "display_data"
    },
    {
     "name": "stdout",
     "output_type": "stream",
     "text": [
      "\n"
     ]
    },
    {
     "data": {
      "image/png": "[encoded data removed]",
      "text/plain": [
       "<Figure size 1152x648 with 1 Axes>"
      ]
     },
     "metadata": {
      "needs_background": "light"
     },
     "output_type": "display_data"
    }
   ],
   "source": [
    "hc = {}\n",
    "E = {}\n",
    "BC = {}\n",
    "\n",
    "for i, x in enumerate(parameters):\n",
    "    heat, cool, st = parameters[i][\"heat\"], parameters[i][\"cool\"], parameters[i][\"stitched\"]\n",
    "    L = st['L']\n",
    "    N = L * L\n",
    "\n",
    "    hc[L] = {}\n",
    "    E[L] = {}\n",
    "    BC[L] = {}\n",
    "\n",
    "\n",
    "    T_list = np.linspace(0.1, 2.0, 100)\n",
    "    \n",
    "\n",
    "    # T, C, average E, BinderCumulant\n",
    "    for T in tqdm(T_list):\n",
    "        T, hc[L][T], E[L][T], BC[L][T] = calc_hc(st, T)\n",
    "\n",
    "\n",
    "    plt.figure(figsize=(16, 9))\n",
    "\n",
    "\n",
    "    plt.plot([float(T) for T in BC[st[\"L\"]]], [bc for T, bc in hc[st[\"L\"]].items()], 'o', markerSize = 4)\n",
    "    plt.grid()\n",
    "    plt.title(\"$D={}$\".format(st[\"D\"]), fontsize=16)\n",
    "    plt.ylabel('$C$', fontsize=16)\n",
    "    plt.xlabel('$T$', fontsize=16)w\n",
    "    plt.show()\n",
    "    #plt.savefig(\"./images/BC(T)_D{}_L{}.png\".format(st[\"D\"], st[\"L\"]))\n"
   ]
  },
  {
   "cell_type": "code",
   "execution_count": null,
   "metadata": {},
   "outputs": [],
   "source": []
  },
  {
   "cell_type": "code",
   "execution_count": null,
   "metadata": {},
   "outputs": [],
   "source": []
  },
  {
   "cell_type": "code",
   "execution_count": null,
   "metadata": {},
   "outputs": [],
   "source": []
  },
  {
   "cell_type": "code",
   "execution_count": 48,
   "metadata": {},
   "outputs": [
    {
     "data": {
      "application/vnd.jupyter.widget-view+json": {
       "model_id": "c504ab8d4fab42c79530b0d2c2191e39",
       "version_major": 2,
       "version_minor": 0
      },
      "text/plain": [
       "HBox(children=(IntProgress(value=0, max=1), HTML(value='')))"
      ]
     },
     "metadata": {},
     "output_type": "display_data"
    },
    {
     "name": "stdout",
     "output_type": "stream",
     "text": [
      "D=1.7\n"
     ]
    },
    {
     "name": "stderr",
     "output_type": "stream",
     "text": [
      "C:\\ProgramData\\Anaconda3\\lib\\site-packages\\ipykernel_launcher.py:7: RuntimeWarning: divide by zero encountered in log\n",
      "  import sys\n",
      "C:\\ProgramData\\Anaconda3\\lib\\site-packages\\ipykernel_launcher.py:16: RuntimeWarning: divide by zero encountered in log\n",
      "  app.launch_new_instance()\n"
     ]
    },
    {
     "data": {
      "application/vnd.jupyter.widget-view+json": {
       "model_id": "4503a94961f3419180166e44561711b3",
       "version_major": 2,
       "version_minor": 0
      },
      "text/plain": [
       "HBox(children=(IntProgress(value=0, max=8), HTML(value='')))"
      ]
     },
     "metadata": {},
     "output_type": "display_data"
    },
    {
     "name": "stdout",
     "output_type": "stream",
     "text": [
      "\n",
      "L in 8, 12, 16, 20, 24, 32, 48, 64\n"
     ]
    },
    {
     "data": {
      "application/vnd.jupyter.widget-view+json": {
       "model_id": "258916b0b7cb4e5a8790a390d766d3d3",
       "version_major": 2,
       "version_minor": 0
      },
      "text/plain": [
       "HBox(children=(IntProgress(value=0, max=8), HTML(value='')))"
      ]
     },
     "metadata": {},
     "output_type": "display_data"
    },
    {
     "name": "stdout",
     "output_type": "stream",
     "text": [
      "\n",
      "{8: {'T_crit': 0.8997000102968241, 'BC_crit': 0.001913845218095724}, 12: {'T_crit': 0.8945233494957207, 'BC_crit': 0.001024117261859618}, 16: {'T_crit': 0.8884446877668327, 'BC_crit': 0.00042617770142913854}, 20: {'T_crit': 0.8835937786506569, 'BC_crit': 0.00017874417777519614}, 24: {'T_crit': 0.8808014829277236, 'BC_crit': 0.0001012119981161728}, 32: {'T_crit': 0.8771318677982, 'BC_crit': 3.498610487813337e-05}, 48: {'T_crit': 0.8735246758421892, 'BC_crit': 1.2284986003110051e-05}, 64: {'T_crit': 0.8720304594384745, 'BC_crit': 3.1847576382048514e-06}}\n",
      "\n"
     ]
    }
   ],
   "source": [
    "for D in tqdm([0.0, 0.5, 1.0, 1.5, 1.75, 1.87, 1.9, 1.92, 1.95, 1.962]):\n",
    "    for L in tqdm([8, 12, 16, 20, 24, 32 48, 64]):\n",
    "        cool, heat = [{\n",
    "            \"q\": 3,\n",
    "            \"D\": D,\n",
    "            \"L\": L,\n",
    "            \"R\" : 131072,\n",
    "            \"nSteps\" : 10,\n",
    "            \"seed\" : 0,\n",
    "            \"heat\": False\n",
    "        }], [{\n",
    "            \"q\": 3,\n",
    "            \"D\": D,\n",
    "            \"L\": L,\n",
    "            \"R\" : 131072,\n",
    "            \"nSteps\" : 10,\n",
    "            \"seed\" : 0,\n",
    "            \"heat\": True\n",
    "        }]\n",
    "        print('D={}'.format(D))\n",
    "\n",
    "        parameters = []\n",
    "        for x in zip(cool, heat):\n",
    "            try:\n",
    "                parameters.append(read_tuple_files(x))\n",
    "            except:\n",
    "                pass\n",
    "        for i, x in enumerate(tqdm(parameters)):\n",
    "            parameters[i][\"stitched\"] = stitch_S(x[\"heat\"], x[\"cool\"])\n",
    "        print('L in {}'.format(\", \".join([str(x[\"stitched\"][\"L\"]) for x in parameters]) ))\n",
    "\n",
    "        a = 0.5\n",
    "        b = 2.0\n",
    "\n",
    "        T_crit = {}\n",
    "        for x in tqdm(parameters):\n",
    "            st = x[\"stitched\"]\n",
    "            L = st[\"L\"]\n",
    "            t, c, _, _ = fminbound(lambda T: calc_hc(st, T)[3], a, b, maxfun=500, full_output=1, disp=False)\n",
    "            T_crit[L] = {\n",
    "                \"T_crit\": float(t),\n",
    "                \"BC_crit\": float(-c / (L * L))\n",
    "            }\n",
    "\n",
    "        print(T_crit)\n",
    "\n",
    "        #with open(\"./tmp/BC_crit_D{}.txt\".format(D), 'w') as fp:\n",
    "        #    for L in T_crit:\n",
    "        #        fp.write('{}\\t{}\\t{}\\n'.format(L, T_crit[L]['T_crit'], T_crit[L]['BC_crit']))"
   ]
  },
  {
   "cell_type": "code",
   "execution_count": 3,
   "metadata": {},
   "outputs": [],
   "source": [
    "T_crit = {}"
   ]
  },
  {
   "cell_type": "code",
   "execution_count": 10,
   "metadata": {},
   "outputs": [
    {
     "name": "stderr",
     "output_type": "stream",
     "text": [
      "/var/folders/0v/2xxng9410rl0ldw3shz9xrzw3cbqpn/T/ipykernel_21118/167725292.py:7: RuntimeWarning: divide by zero encountered in log\n",
      "  sn += np.log(1 - c[E])\n",
      "/var/folders/0v/2xxng9410rl0ldw3shz9xrzw3cbqpn/T/ipykernel_21118/167725292.py:16: RuntimeWarning: divide by zero encountered in log\n",
      "  sn += np.log(1 - c[E])\n"
     ]
    },
    {
     "name": "stdout",
     "output_type": "stream",
     "text": [
      "L in 8\n",
      "{8: {'T_crit': 1.999994105576493, 'BC_crit': 0.5130703383817576}}\n",
      "8\t1.999994105576493\t0.5130703383817576\n",
      "\n"
     ]
    }
   ],
   "source": [
    "\n",
    "D = 0.0\n",
    "L = 8\n",
    "\n",
    "cool, heat = [{\n",
    "    \"q\": 3,\n",
    "    \"D\": D,\n",
    "    \"L\": L,\n",
    "    \"R\" : 131072,\n",
    "    \"nSteps\" : 10,\n",
    "    \"seed\" : 0,\n",
    "    \"heat\": False\n",
    "}], [{\n",
    "    \"q\": 3,\n",
    "    \"D\": D,\n",
    "    \"L\": L,\n",
    "    \"R\" : 131072,\n",
    "    \"nSteps\" : 10,\n",
    "    \"seed\" : 0,\n",
    "    \"heat\": True\n",
    "}]\n",
    "\n",
    "parameters = []\n",
    "for x in zip(cool, heat):\n",
    "    try:\n",
    "        parameters.append(read_tuple_files(x))\n",
    "    except:\n",
    "        pass\n",
    "for i, x in enumerate(parameters):\n",
    "    parameters[i][\"stitched\"] = stitch_S(x[\"heat\"], x[\"cool\"])\n",
    "print('L in {}'.format(\", \".join([str(x[\"stitched\"][\"L\"]) for x in parameters]) ))\n",
    "T_crit[L] = {}\n",
    "\n",
    "a = 0.4\n",
    "b = 2.0\n",
    "c = 0.7\n",
    "\n",
    "for x in parameters:\n",
    "    st = x[\"stitched\"]\n",
    "    L = st[\"L\"]\n",
    "    t, bc, _, _ = fminbound(lambda T: - calc_hc(st, T)[3], a, b, maxfun=500, full_output=1, disp=False)\n",
    "    T_crit[L] = {\n",
    "        \"T_crit\": float(t),\n",
    "        \"BC_crit\": float(bc)\n",
    "    }\n",
    "\n",
    "#for x in tqdm(parameters):\n",
    "#    st = x[\"stitched\"]\n",
    "#    L = st[\"L\"]\n",
    "#    t, bc, _, _ = fminbound(lambda T: calc_hc(st, T)[3], b, c, maxfun=500, full_output=1, disp=False)\n",
    "#    T_crit[L].update({\n",
    "#        \"T_crit_2\": float(t),\n",
    "#        \"BC_crit_2\": float(bc)\n",
    "#    })\n",
    "\n",
    "print(T_crit)\n",
    "print('{}\\t{}\\t{}\\n'.format(L, T_crit[L]['T_crit'], T_crit[L]['BC_crit']))\n",
    "#print('{}\\t{}\\t{}\\n'.format(L, T_crit[L]['T_crit_2'], T_crit[L]['BC_crit_2']))\n",
    "\n"
   ]
  },
  {
   "cell_type": "code",
   "execution_count": 19,
   "metadata": {},
   "outputs": [],
   "source": []
  },
  {
   "cell_type": "code",
   "execution_count": null,
   "metadata": {},
   "outputs": [],
   "source": []
  },
  {
   "cell_type": "code",
   "execution_count": null,
   "metadata": {},
   "outputs": [],
   "source": []
  },
  {
   "cell_type": "code",
   "execution_count": 47,
   "metadata": {},
   "outputs": [],
   "source": [
    "with open(\"./tmp/BC_crit_D{}.txt\".format(D), 'w') as fp:\n",
    "    for L in T_crit:\n",
    "        fp.write('{}\\t{}\\t{}\\n'.format(L, T_crit[L]['T_crit'], T_crit[L]['BC_crit']))"
   ]
  },
  {
   "cell_type": "code",
   "execution_count": 31,
   "metadata": {},
   "outputs": [],
   "source": [
    "from magic_functions import calc_hc_tpl"
   ]
  },
  {
   "cell_type": "code",
   "execution_count": null,
   "metadata": {},
   "outputs": [],
   "source": []
  },
  {
   "cell_type": "code",
   "execution_count": 4,
   "metadata": {},
   "outputs": [
    {
     "data": {
      "application/vnd.jupyter.widget-view+json": {
       "model_id": "00dd5c4ba3824e648b06856634c1146b",
       "version_major": 2,
       "version_minor": 0
      },
      "text/plain": [
       "HBox(children=(IntProgress(value=0, max=25), HTML(value='')))"
      ]
     },
     "metadata": {},
     "output_type": "display_data"
    },
    {
     "name": "stdout",
     "output_type": "stream",
     "text": [
      "\n"
     ]
    }
   ],
   "source": [
    "T_crit = {}\n",
    "C_crit = {}\n",
    "for D in tqdm([0.0, 0.5, 1.0, 1.5, 1.75, 1.8, 1.87,\n",
    "                        1.875, 1.9, 1.92, 1.9375, 1.95, 1.96,\n",
    "                        1.962, 1.963, 1.964, 1.965, 1.966, 1.967, 1.968, 1.96875, 1.969,\n",
    "                        1.97, 1.99,\n",
    "                        1.992]):\n",
    "#D = 0.0\n",
    "    T_crit[D] = {}\n",
    "    C_crit[D] = {}\n",
    "    with open(\"./tmp/T_crit_D{}.txt\".format(D), 'r') as fp:\n",
    "        for line in fp:\n",
    "            L, T, C = line.split()\n",
    "            T_crit[D][int(L)] = float(T)\n",
    "            C_crit[D][int(L)] = float(C)"
   ]
  },
  {
   "cell_type": "code",
   "execution_count": null,
   "metadata": {},
   "outputs": [],
   "source": []
  },
  {
   "cell_type": "code",
   "execution_count": 82,
   "metadata": {},
   "outputs": [
    {
     "data": {
      "image/png": "[encoded data removed]",
      "text/plain": [
       "<Figure size 1152x648 with 1 Axes>"
      ]
     },
     "metadata": {
      "needs_background": "light"
     },
     "output_type": "display_data"
    }
   ],
   "source": [
    "plt.figure(figsize=(16, 9))\n",
    "\n",
    "D = 1.6\n",
    "plt.plot([1/L for L in T_crit], [T_crit[L]['T_crit'] for L in T_crit], 'o', label=\"$D={}$\".format(D))\n",
    "#plt.yscale('log')\n",
    "#plt.xscale('log')\n",
    "#plt.title(\"$D={}$\".format(D), fontsize=16)\n",
    "plt.xlabel(r'$1/L$', fontsize=16)\n",
    "plt.ylabel(r\"$T_{crit}$\", fontsize=16)\n",
    "plt.legend()\n",
    "#plt.grid(True, which=\"both\")\n",
    "plt.show()"
   ]
  },
  {
   "cell_type": "code",
   "execution_count": 6,
   "metadata": {},
   "outputs": [
    {
     "data": {
      "text/plain": [
       "(array([0.015625  , 0.00694444, 0.00390625, 0.0025    , 0.00173611,\n",
       "        0.00097656, 0.00043403, 0.00024414, 0.00010851]),\n",
       " array([1.4088887 , 1.41137802, 1.41297188, 1.41008664, 1.41097004,\n",
       "        1.40549362, 1.40495908, 1.40321056, 1.40282392]))"
      ]
     },
     "execution_count": 6,
     "metadata": {},
     "output_type": "execute_result"
    }
   ],
   "source": []
  },
  {
   "cell_type": "code",
   "execution_count": 29,
   "metadata": {},
   "outputs": [
    {
     "name": "stdout",
     "output_type": "stream",
     "text": [
      "slope: \t-0.004890198743337357 +/-\n",
      "\t0.0005126887331833568\n",
      "shift: \t0.4729281908706351 +/-\n",
      "\t0.0017292439457423441\n"
     ]
    },
    {
     "data": {
      "image/png": "[encoded data removed]",
      "text/plain": [
       "<Figure size 1152x648 with 1 Axes>"
      ]
     },
     "metadata": {
      "needs_background": "light"
     },
     "output_type": "display_data"
    }
   ],
   "source": [
    "D = 0.5\n",
    "x = np.array([L for L in T_crit[D].keys()])\n",
    "y = np.array([T for L, T in T_crit[D].items()])\n",
    "\n",
    "l = 0\n",
    "fit = np.polyfit(np.log(x[l:]), np.log(y[l:]), 1, full=False)\n",
    "\n",
    "plt.figure(figsize=(16, 9))\n",
    "\n",
    "plt.scatter(x, y, label=\"$D={}$\".format(D))\n",
    "\n",
    "sample = np.linspace(3, 10, 20)\n",
    "plt.plot(np.exp(sample), np.exp(fit[0] * sample + fit[1]), 'r', label=\"$D={}$\".format(D))\n",
    "\n",
    "plt.xlabel(r'$L$', fontsize=16)\n",
    "plt.ylabel(r\"$T_{crit}$\", fontsize=16)\n",
    "plt.yscale(\"log\")\n",
    "plt.xscale(\"log\")\n",
    "plt.grid(True, which=\"both\")\n",
    "plt.legend()\n",
    "#plt.savefig(\"./finite_size_D{}.png\".format(D))\n",
    "\n",
    "p, V = np.polyfit(np.log(x[l:]), np.log(y[l:]), 1, cov=True)\n",
    "\n",
    "print(\"slope: \\t{} +/-\\n\\t{}\".format(p[0], np.sqrt(V[0][0])))\n",
    "print(\"shift: \\t{} +/-\\n\\t{}\".format(p[1], np.sqrt(V[1][1])))\n"
   ]
  },
  {
   "cell_type": "code",
   "execution_count": null,
   "metadata": {},
   "outputs": [],
   "source": []
  },
  {
   "cell_type": "code",
   "execution_count": null,
   "metadata": {},
   "outputs": [],
   "source": []
  },
  {
   "cell_type": "code",
   "execution_count": null,
   "metadata": {},
   "outputs": [],
   "source": []
  },
  {
   "cell_type": "code",
   "execution_count": null,
   "metadata": {},
   "outputs": [],
   "source": []
  },
  {
   "cell_type": "code",
   "execution_count": null,
   "metadata": {},
   "outputs": [],
   "source": []
  },
  {
   "cell_type": "code",
   "execution_count": null,
   "metadata": {},
   "outputs": [],
   "source": []
  },
  {
   "cell_type": "code",
   "execution_count": null,
   "metadata": {},
   "outputs": [],
   "source": []
  },
  {
   "cell_type": "code",
   "execution_count": null,
   "metadata": {},
   "outputs": [],
   "source": []
  },
  {
   "cell_type": "code",
   "execution_count": null,
   "metadata": {},
   "outputs": [],
   "source": []
  },
  {
   "cell_type": "code",
   "execution_count": null,
   "metadata": {},
   "outputs": [],
   "source": []
  },
  {
   "cell_type": "code",
   "execution_count": null,
   "metadata": {},
   "outputs": [],
   "source": []
  },
  {
   "cell_type": "code",
   "execution_count": null,
   "metadata": {},
   "outputs": [],
   "source": []
  },
  {
   "cell_type": "code",
   "execution_count": null,
   "metadata": {},
   "outputs": [],
   "source": []
  },
  {
   "cell_type": "code",
   "execution_count": null,
   "metadata": {},
   "outputs": [],
   "source": []
  },
  {
   "cell_type": "code",
   "execution_count": null,
   "metadata": {},
   "outputs": [],
   "source": []
  },
  {
   "cell_type": "code",
   "execution_count": null,
   "metadata": {},
   "outputs": [],
   "source": []
  },
  {
   "cell_type": "code",
   "execution_count": null,
   "metadata": {},
   "outputs": [],
   "source": []
  },
  {
   "cell_type": "code",
   "execution_count": null,
   "metadata": {},
   "outputs": [],
   "source": []
  },
  {
   "cell_type": "code",
   "execution_count": null,
   "metadata": {},
   "outputs": [],
   "source": []
  },
  {
   "cell_type": "code",
   "execution_count": null,
   "metadata": {},
   "outputs": [],
   "source": []
  },
  {
   "cell_type": "code",
   "execution_count": null,
   "metadata": {},
   "outputs": [],
   "source": []
  },
  {
   "cell_type": "code",
   "execution_count": null,
   "metadata": {},
   "outputs": [],
   "source": []
  },
  {
   "cell_type": "code",
   "execution_count": null,
   "metadata": {},
   "outputs": [],
   "source": []
  },
  {
   "cell_type": "code",
   "execution_count": null,
   "metadata": {},
   "outputs": [],
   "source": []
  },
  {
   "cell_type": "code",
   "execution_count": null,
   "metadata": {},
   "outputs": [],
   "source": []
  },
  {
   "cell_type": "code",
   "execution_count": null,
   "metadata": {},
   "outputs": [],
   "source": []
  },
  {
   "cell_type": "code",
   "execution_count": null,
   "metadata": {},
   "outputs": [],
   "source": []
  },
  {
   "cell_type": "code",
   "execution_count": null,
   "metadata": {},
   "outputs": [],
   "source": []
  },
  {
   "cell_type": "code",
   "execution_count": null,
   "metadata": {},
   "outputs": [],
   "source": []
  },
  {
   "cell_type": "code",
   "execution_count": null,
   "metadata": {},
   "outputs": [],
   "source": []
  },
  {
   "cell_type": "code",
   "execution_count": null,
   "metadata": {},
   "outputs": [],
   "source": []
  },
  {
   "cell_type": "code",
   "execution_count": null,
   "metadata": {},
   "outputs": [],
   "source": []
  },
  {
   "cell_type": "code",
   "execution_count": null,
   "metadata": {},
   "outputs": [],
   "source": []
  },
  {
   "cell_type": "code",
   "execution_count": null,
   "metadata": {},
   "outputs": [],
   "source": []
  },
  {
   "cell_type": "code",
   "execution_count": null,
   "metadata": {},
   "outputs": [],
   "source": []
  },
  {
   "cell_type": "code",
   "execution_count": null,
   "metadata": {},
   "outputs": [],
   "source": []
  },
  {
   "cell_type": "code",
   "execution_count": null,
   "metadata": {},
   "outputs": [],
   "source": []
  },
  {
   "cell_type": "code",
   "execution_count": null,
   "metadata": {},
   "outputs": [],
   "source": []
  },
  {
   "cell_type": "code",
   "execution_count": null,
   "metadata": {},
   "outputs": [],
   "source": []
  },
  {
   "cell_type": "code",
   "execution_count": null,
   "metadata": {},
   "outputs": [],
   "source": []
  },
  {
   "cell_type": "code",
   "execution_count": null,
   "metadata": {},
   "outputs": [],
   "source": []
  },
  {
   "cell_type": "code",
   "execution_count": null,
   "metadata": {},
   "outputs": [],
   "source": []
  },
  {
   "cell_type": "code",
   "execution_count": null,
   "metadata": {},
   "outputs": [],
   "source": []
  },
  {
   "cell_type": "code",
   "execution_count": null,
   "metadata": {},
   "outputs": [],
   "source": []
  },
  {
   "cell_type": "code",
   "execution_count": null,
   "metadata": {},
   "outputs": [],
   "source": []
  },
  {
   "cell_type": "code",
   "execution_count": null,
   "metadata": {},
   "outputs": [],
   "source": []
  },
  {
   "cell_type": "code",
   "execution_count": null,
   "metadata": {},
   "outputs": [],
   "source": []
  },
  {
   "cell_type": "code",
   "execution_count": null,
   "metadata": {},
   "outputs": [],
   "source": []
  },
  {
   "cell_type": "code",
   "execution_count": null,
   "metadata": {},
   "outputs": [],
   "source": []
  },
  {
   "cell_type": "code",
   "execution_count": null,
   "metadata": {},
   "outputs": [],
   "source": []
  },
  {
   "cell_type": "code",
   "execution_count": null,
   "metadata": {},
   "outputs": [],
   "source": []
  },
  {
   "cell_type": "code",
   "execution_count": null,
   "metadata": {},
   "outputs": [],
   "source": []
  },
  {
   "cell_type": "code",
   "execution_count": null,
   "metadata": {},
   "outputs": [],
   "source": []
  },
  {
   "cell_type": "code",
   "execution_count": null,
   "metadata": {},
   "outputs": [],
   "source": []
  },
  {
   "cell_type": "code",
   "execution_count": null,
   "metadata": {},
   "outputs": [],
   "source": []
  },
  {
   "cell_type": "code",
   "execution_count": null,
   "metadata": {},
   "outputs": [],
   "source": []
  },
  {
   "cell_type": "code",
   "execution_count": null,
   "metadata": {},
   "outputs": [],
   "source": []
  },
  {
   "cell_type": "code",
   "execution_count": null,
   "metadata": {},
   "outputs": [],
   "source": []
  },
  {
   "cell_type": "code",
   "execution_count": null,
   "metadata": {},
   "outputs": [],
   "source": []
  },
  {
   "cell_type": "code",
   "execution_count": null,
   "metadata": {},
   "outputs": [],
   "source": []
  },
  {
   "cell_type": "code",
   "execution_count": null,
   "metadata": {},
   "outputs": [],
   "source": []
  },
  {
   "cell_type": "code",
   "execution_count": null,
   "metadata": {},
   "outputs": [],
   "source": []
  },
  {
   "cell_type": "code",
   "execution_count": null,
   "metadata": {},
   "outputs": [],
   "source": []
  },
  {
   "cell_type": "code",
   "execution_count": null,
   "metadata": {},
   "outputs": [],
   "source": []
  },
  {
   "cell_type": "code",
   "execution_count": null,
   "metadata": {},
   "outputs": [],
   "source": []
  },
  {
   "cell_type": "code",
   "execution_count": null,
   "metadata": {},
   "outputs": [],
   "source": []
  },
  {
   "cell_type": "code",
   "execution_count": null,
   "metadata": {},
   "outputs": [],
   "source": []
  },
  {
   "cell_type": "code",
   "execution_count": null,
   "metadata": {},
   "outputs": [],
   "source": []
  }
 ],
 "metadata": {
  "kernelspec": {
   "display_name": "Python 3",
   "language": "python",
   "name": "python3"
  },
  "language_info": {
   "codemirror_mode": {
    "name": "ipython",
    "version": 3
   },
   "file_extension": ".py",
   "mimetype": "text/x-python",
   "name": "python",
   "nbconvert_exporter": "python",
   "pygments_lexer": "ipython3",
   "version": "3.7.4"
  }
 },
 "nbformat": 4,
 "nbformat_minor": 4
}
